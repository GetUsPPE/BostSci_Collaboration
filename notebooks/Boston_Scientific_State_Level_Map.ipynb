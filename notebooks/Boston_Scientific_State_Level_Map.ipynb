{
  "nbformat": 4,
  "nbformat_minor": 0,
  "metadata": {
    "colab": {
      "name": "Boston Scientific - State Level Map",
      "provenance": [],
      "collapsed_sections": []
    },
    "kernelspec": {
      "name": "python3",
      "display_name": "Python 3"
    }
  },
  "cells": [
    {
      "cell_type": "markdown",
      "metadata": {
        "id": "N4_fbWGC10gk",
        "colab_type": "text"
      },
      "source": [
        "### Import libraries"
      ]
    },
    {
      "cell_type": "code",
      "metadata": {
        "id": "DDH9rKs_H7Bt",
        "colab_type": "code",
        "colab": {}
      },
      "source": [
        "# import data and packages\n",
        "import json\n",
        "import requests\n",
        "import os, sys, time\n",
        "\n",
        "# import computing packages\n",
        "import pandas as pd\n",
        "import numpy as ny\n",
        "\n",
        "# plotting\n",
        "import plotly.graph_objects as go\n",
        "\n",
        "# Setup pandas display options\n",
        "pd.options.display.max_rows = 100\n",
        "pd.options.display.max_columns = 200"
      ],
      "execution_count": 0,
      "outputs": []
    },
    {
      "cell_type": "markdown",
      "metadata": {
        "id": "Zrx0ajGr1h0E",
        "colab_type": "text"
      },
      "source": [
        "### Custom Functions"
      ]
    },
    {
      "cell_type": "code",
      "metadata": {
        "id": "tJtai3Q9IzHa",
        "colab_type": "code",
        "colab": {}
      },
      "source": [
        "def download_data(url):\n",
        "    df = pd.read_csv(url)\n",
        "    return df\n",
        "\n",
        "def keep_states_only(us_state_abbrev, state):\n",
        "  # check if the state name is valid, and if yes return the state abbrev code\n",
        "  if state in us_state_abbrev.keys():\n",
        "    return us_state_abbrev[state]\n",
        "  else:\n",
        "    return None"
      ],
      "execution_count": 0,
      "outputs": []
    },
    {
      "cell_type": "markdown",
      "metadata": {
        "id": "y_hWU8_lvY9V",
        "colab_type": "text"
      },
      "source": [
        "### State Code Lookup Table"
      ]
    },
    {
      "cell_type": "code",
      "metadata": {
        "id": "WfDOas7cKmW-",
        "colab_type": "code",
        "colab": {}
      },
      "source": [
        "us_state_abbrev = {\n",
        "    'Alabama': 'AL',\n",
        "    'Alaska': 'AK',\n",
        "    'American Samoa': 'AS',\n",
        "    'Arizona': 'AZ',\n",
        "    'Arkansas': 'AR',\n",
        "    'California': 'CA',\n",
        "    'Colorado': 'CO',\n",
        "    'Connecticut': 'CT',\n",
        "    'Delaware': 'DE',\n",
        "    'District of Columbia': 'DC',\n",
        "    'Florida': 'FL',\n",
        "    'Georgia': 'GA',\n",
        "    'Guam': 'GU',\n",
        "    'Hawaii': 'HI',\n",
        "    'Idaho': 'ID',\n",
        "    'Illinois': 'IL',\n",
        "    'Indiana': 'IN',\n",
        "    'Iowa': 'IA',\n",
        "    'Kansas': 'KS',\n",
        "    'Kentucky': 'KY',\n",
        "    'Louisiana': 'LA',\n",
        "    'Maine': 'ME',\n",
        "    'Maryland': 'MD',\n",
        "    'Massachusetts': 'MA',\n",
        "    'Michigan': 'MI',\n",
        "    'Minnesota': 'MN',\n",
        "    'Mississippi': 'MS',\n",
        "    'Missouri': 'MO',\n",
        "    'Montana': 'MT',\n",
        "    'Nebraska': 'NE',\n",
        "    'Nevada': 'NV',\n",
        "    'New Hampshire': 'NH',\n",
        "    'New Jersey': 'NJ',\n",
        "    'New Mexico': 'NM',\n",
        "    'New York': 'NY',\n",
        "    'North Carolina': 'NC',\n",
        "    'North Dakota': 'ND',\n",
        "    'Northern Mariana Islands':'MP',\n",
        "    'Ohio': 'OH',\n",
        "    'Oklahoma': 'OK',\n",
        "    'Oregon': 'OR',\n",
        "    'Pennsylvania': 'PA',\n",
        "    'Puerto Rico': 'PR',\n",
        "    'Rhode Island': 'RI',\n",
        "    'South Carolina': 'SC',\n",
        "    'South Dakota': 'SD',\n",
        "    'Tennessee': 'TN',\n",
        "    'Texas': 'TX',\n",
        "    'Utah': 'UT',\n",
        "    'Vermont': 'VT',\n",
        "    'Virgin Islands': 'VI',\n",
        "    'Virginia': 'VA',\n",
        "    'Washington': 'WA',\n",
        "    'West Virginia': 'WV',\n",
        "    'Wisconsin': 'WI',\n",
        "    'Wyoming': 'WY',\n",
        "    'Washington DC':'DC'\n",
        "}"
      ],
      "execution_count": 0,
      "outputs": []
    },
    {
      "cell_type": "markdown",
      "metadata": {
        "id": "egqV9wgD17AW",
        "colab_type": "text"
      },
      "source": [
        "### Download Boston Scientic Donation Data"
      ]
    },
    {
      "cell_type": "code",
      "metadata": {
        "id": "EVaTEiQ5I2Dz",
        "colab_type": "code",
        "outputId": "426736bc-43ca-4514-f70f-70b148af5e0c",
        "colab": {
          "base_uri": "https://localhost:8080/",
          "height": 212
        }
      },
      "source": [
        "# Define google sheets url for download\n",
        "sheet_uuid= '1xr6SKzLMqnMvdTggzra4ov90q2DMNo-CtiZli72HWWY'\n",
        "\n",
        "# Use string comprehension to replace %s with the above sheet_uuid\n",
        "# this url below converts google sheet to csv\n",
        "url = ('https://docs.google.com/spreadsheet/ccc?key=%s&output=csv' \\\n",
        "  % (sheet_uuid) ) \n",
        "print ('Downloand URL for dataframe import: %s' % url) \n",
        "\n",
        "# convert url to the dataframe\n",
        "df = download_data(url)\n",
        "\n",
        "# Visualize the data\n",
        "df.head(5)"
      ],
      "execution_count": 4,
      "outputs": [
        {
          "output_type": "stream",
          "text": [
            "Downloand URL for dataframe import: https://docs.google.com/spreadsheet/ccc?key=1xr6SKzLMqnMvdTggzra4ov90q2DMNo-CtiZli72HWWY&output=csv\n"
          ],
          "name": "stdout"
        },
        {
          "output_type": "execute_result",
          "data": {
            "text/html": [
              "<div>\n",
              "<style scoped>\n",
              "    .dataframe tbody tr th:only-of-type {\n",
              "        vertical-align: middle;\n",
              "    }\n",
              "\n",
              "    .dataframe tbody tr th {\n",
              "        vertical-align: top;\n",
              "    }\n",
              "\n",
              "    .dataframe thead th {\n",
              "        text-align: right;\n",
              "    }\n",
              "</style>\n",
              "<table border=\"1\" class=\"dataframe\">\n",
              "  <thead>\n",
              "    <tr style=\"text-align: right;\">\n",
              "      <th></th>\n",
              "      <th>State</th>\n",
              "      <th>Face Shield</th>\n",
              "    </tr>\n",
              "  </thead>\n",
              "  <tbody>\n",
              "    <tr>\n",
              "      <th>0</th>\n",
              "      <td>California</td>\n",
              "      <td>117,900</td>\n",
              "    </tr>\n",
              "    <tr>\n",
              "      <th>1</th>\n",
              "      <td>Puerto Rico</td>\n",
              "      <td>50,000</td>\n",
              "    </tr>\n",
              "    <tr>\n",
              "      <th>2</th>\n",
              "      <td>Michigan</td>\n",
              "      <td>50,000</td>\n",
              "    </tr>\n",
              "    <tr>\n",
              "      <th>3</th>\n",
              "      <td>Texas</td>\n",
              "      <td>59,000</td>\n",
              "    </tr>\n",
              "    <tr>\n",
              "      <th>4</th>\n",
              "      <td>Minnesota</td>\n",
              "      <td>45,000</td>\n",
              "    </tr>\n",
              "  </tbody>\n",
              "</table>\n",
              "</div>"
            ],
            "text/plain": [
              "         State Face Shield\n",
              "0   California     117,900\n",
              "1  Puerto Rico      50,000\n",
              "2     Michigan      50,000\n",
              "3        Texas      59,000\n",
              "4    Minnesota      45,000"
            ]
          },
          "metadata": {
            "tags": []
          },
          "execution_count": 4
        }
      ]
    },
    {
      "cell_type": "markdown",
      "metadata": {
        "id": "YVV4K1Cr6rQA",
        "colab_type": "text"
      },
      "source": [
        "### Processing the data"
      ]
    },
    {
      "cell_type": "code",
      "metadata": {
        "id": "Z1nxOEP5I2Ma",
        "colab_type": "code",
        "outputId": "ccf1f5cc-f6b7-46bd-90ee-cc801051d3df",
        "colab": {
          "base_uri": "https://localhost:8080/",
          "height": 84
        }
      },
      "source": [
        "# Sort values by Face Shields\n",
        "df.sort_values(by=['Face Shield'], ascending=False, inplace=True)\n",
        "\n",
        "# Map to state code\n",
        "df['state_code']= df.apply(\n",
        "    lambda row: (keep_states_only(us_state_abbrev, row['State'])),axis=1\n",
        ")\n",
        "\n",
        "df.dropna(inplace=True)\n",
        "df.nunique()\n",
        "\n",
        "# Remove all commas\n",
        "df = df.replace(',','', regex=True)\n",
        "\n",
        "# print breakdown\n",
        "df.nunique()"
      ],
      "execution_count": 5,
      "outputs": [
        {
          "output_type": "execute_result",
          "data": {
            "text/plain": [
              "State          29\n",
              "Face Shield    21\n",
              "state_code     29\n",
              "dtype: int64"
            ]
          },
          "metadata": {
            "tags": []
          },
          "execution_count": 5
        }
      ]
    },
    {
      "cell_type": "code",
      "metadata": {
        "id": "zyfQhrYyI2SA",
        "colab_type": "code",
        "outputId": "1267329c-dda3-45eb-bd32-e571ce615df4",
        "colab": {
          "base_uri": "https://localhost:8080/",
          "height": 542
        }
      },
      "source": [
        "# Create bar plot graph of the face shield deliveries between states\n",
        "x=df['state_code']\n",
        "y=df['Face Shield']\n",
        "\n",
        "# TODO: Figure out how to plot this in descending order by quantity of 'Face Shield'\n",
        "\n",
        "\n",
        "fig = go.Figure(data=[go.Bar(\n",
        "            x=x, y=y,\n",
        "            text=y,\n",
        "            textposition='auto',\n",
        "        )])\n",
        "fig.update_layout(\n",
        "    title='Face Shields Produced+Donated by Boston Scientific - April 26th, 2020', xaxis={'categoryorder':'total descending'}\n",
        ")\n",
        "\n",
        "fig.show()"
      ],
      "execution_count": 6,
      "outputs": [
        {
          "output_type": "display_data",
          "data": {
            "text/html": [
              "<html>\n",
              "<head><meta charset=\"utf-8\" /></head>\n",
              "<body>\n",
              "    <div>\n",
              "            <script src=\"https://cdnjs.cloudflare.com/ajax/libs/mathjax/2.7.5/MathJax.js?config=TeX-AMS-MML_SVG\"></script><script type=\"text/javascript\">if (window.MathJax) {MathJax.Hub.Config({SVG: {font: \"STIX-Web\"}});}</script>\n",
              "                <script type=\"text/javascript\">window.PlotlyConfig = {MathJaxConfig: 'local'};</script>\n",
              "        <script src=\"https://cdn.plot.ly/plotly-latest.min.js\"></script>    \n",
              "            <div id=\"eb5a4137-84a6-47cc-8788-47b8f27d048f\" class=\"plotly-graph-div\" style=\"height:525px; width:100%;\"></div>\n",
              "            <script type=\"text/javascript\">\n",
              "                \n",
              "                    window.PLOTLYENV=window.PLOTLYENV || {};\n",
              "                    \n",
              "                if (document.getElementById(\"eb5a4137-84a6-47cc-8788-47b8f27d048f\")) {\n",
              "                    Plotly.newPlot(\n",
              "                        'eb5a4137-84a6-47cc-8788-47b8f27d048f',\n",
              "                        [{\"text\": [\"8000\", \"8000\", \"6000\", \"6000\", \"59000\", \"50000\", \"50000\", \"5000\", \"5000\", \"5000\", \"45000\", \"44000\", \"37300\", \"37000\", \"32000\", \"3000\", \"3000\", \"28500\", \"24800\", \"24000\", \"18000\", \"16000\", \"16000\", \"15500\", \"13000\", \"12000\", \"12000\", \"117900\", \"10000\"], \"textposition\": \"auto\", \"type\": \"bar\", \"x\": [\"SC\", \"LA\", \"OH\", \"CO\", \"TX\", \"MI\", \"PR\", \"AZ\", \"GA\", \"OR\", \"MN\", \"DC\", \"NY\", \"IL\", \"TN\", \"VA\", \"RI\", \"NJ\", \"MA\", \"NE\", \"WA\", \"FL\", \"IN\", \"PA\", \"MD\", \"DE\", \"MO\", \"CA\", \"OK\"], \"y\": [\"8000\", \"8000\", \"6000\", \"6000\", \"59000\", \"50000\", \"50000\", \"5000\", \"5000\", \"5000\", \"45000\", \"44000\", \"37300\", \"37000\", \"32000\", \"3000\", \"3000\", \"28500\", \"24800\", \"24000\", \"18000\", \"16000\", \"16000\", \"15500\", \"13000\", \"12000\", \"12000\", \"117900\", \"10000\"]}],\n",
              "                        {\"template\": {\"data\": {\"bar\": [{\"error_x\": {\"color\": \"#2a3f5f\"}, \"error_y\": {\"color\": \"#2a3f5f\"}, \"marker\": {\"line\": {\"color\": \"#E5ECF6\", \"width\": 0.5}}, \"type\": \"bar\"}], \"barpolar\": [{\"marker\": {\"line\": {\"color\": \"#E5ECF6\", \"width\": 0.5}}, \"type\": \"barpolar\"}], \"carpet\": [{\"aaxis\": {\"endlinecolor\": \"#2a3f5f\", \"gridcolor\": \"white\", \"linecolor\": \"white\", \"minorgridcolor\": \"white\", \"startlinecolor\": \"#2a3f5f\"}, \"baxis\": {\"endlinecolor\": \"#2a3f5f\", \"gridcolor\": \"white\", \"linecolor\": \"white\", \"minorgridcolor\": \"white\", \"startlinecolor\": \"#2a3f5f\"}, \"type\": \"carpet\"}], \"choropleth\": [{\"colorbar\": {\"outlinewidth\": 0, \"ticks\": \"\"}, \"type\": \"choropleth\"}], \"contour\": [{\"colorbar\": {\"outlinewidth\": 0, \"ticks\": \"\"}, \"colorscale\": [[0.0, \"#0d0887\"], [0.1111111111111111, \"#46039f\"], [0.2222222222222222, \"#7201a8\"], [0.3333333333333333, \"#9c179e\"], [0.4444444444444444, \"#bd3786\"], [0.5555555555555556, \"#d8576b\"], [0.6666666666666666, \"#ed7953\"], [0.7777777777777778, \"#fb9f3a\"], [0.8888888888888888, \"#fdca26\"], [1.0, \"#f0f921\"]], \"type\": \"contour\"}], \"contourcarpet\": [{\"colorbar\": {\"outlinewidth\": 0, \"ticks\": \"\"}, \"type\": \"contourcarpet\"}], \"heatmap\": [{\"colorbar\": {\"outlinewidth\": 0, \"ticks\": \"\"}, \"colorscale\": [[0.0, \"#0d0887\"], [0.1111111111111111, \"#46039f\"], [0.2222222222222222, \"#7201a8\"], [0.3333333333333333, \"#9c179e\"], [0.4444444444444444, \"#bd3786\"], [0.5555555555555556, \"#d8576b\"], [0.6666666666666666, \"#ed7953\"], [0.7777777777777778, \"#fb9f3a\"], [0.8888888888888888, \"#fdca26\"], [1.0, \"#f0f921\"]], \"type\": \"heatmap\"}], \"heatmapgl\": [{\"colorbar\": {\"outlinewidth\": 0, \"ticks\": \"\"}, \"colorscale\": [[0.0, \"#0d0887\"], [0.1111111111111111, \"#46039f\"], [0.2222222222222222, \"#7201a8\"], [0.3333333333333333, \"#9c179e\"], [0.4444444444444444, \"#bd3786\"], [0.5555555555555556, \"#d8576b\"], [0.6666666666666666, \"#ed7953\"], [0.7777777777777778, \"#fb9f3a\"], [0.8888888888888888, \"#fdca26\"], [1.0, \"#f0f921\"]], \"type\": \"heatmapgl\"}], \"histogram\": [{\"marker\": {\"colorbar\": {\"outlinewidth\": 0, \"ticks\": \"\"}}, \"type\": \"histogram\"}], \"histogram2d\": [{\"colorbar\": {\"outlinewidth\": 0, \"ticks\": \"\"}, \"colorscale\": [[0.0, \"#0d0887\"], [0.1111111111111111, \"#46039f\"], [0.2222222222222222, \"#7201a8\"], [0.3333333333333333, \"#9c179e\"], [0.4444444444444444, \"#bd3786\"], [0.5555555555555556, \"#d8576b\"], [0.6666666666666666, \"#ed7953\"], [0.7777777777777778, \"#fb9f3a\"], [0.8888888888888888, \"#fdca26\"], [1.0, \"#f0f921\"]], \"type\": \"histogram2d\"}], \"histogram2dcontour\": [{\"colorbar\": {\"outlinewidth\": 0, \"ticks\": \"\"}, \"colorscale\": [[0.0, \"#0d0887\"], [0.1111111111111111, \"#46039f\"], [0.2222222222222222, \"#7201a8\"], [0.3333333333333333, \"#9c179e\"], [0.4444444444444444, \"#bd3786\"], [0.5555555555555556, \"#d8576b\"], [0.6666666666666666, \"#ed7953\"], [0.7777777777777778, \"#fb9f3a\"], [0.8888888888888888, \"#fdca26\"], [1.0, \"#f0f921\"]], \"type\": \"histogram2dcontour\"}], \"mesh3d\": [{\"colorbar\": {\"outlinewidth\": 0, \"ticks\": \"\"}, \"type\": \"mesh3d\"}], \"parcoords\": [{\"line\": {\"colorbar\": {\"outlinewidth\": 0, \"ticks\": \"\"}}, \"type\": \"parcoords\"}], \"pie\": [{\"automargin\": true, \"type\": \"pie\"}], \"scatter\": [{\"marker\": {\"colorbar\": {\"outlinewidth\": 0, \"ticks\": \"\"}}, \"type\": \"scatter\"}], \"scatter3d\": [{\"line\": {\"colorbar\": {\"outlinewidth\": 0, \"ticks\": \"\"}}, \"marker\": {\"colorbar\": {\"outlinewidth\": 0, \"ticks\": \"\"}}, \"type\": \"scatter3d\"}], \"scattercarpet\": [{\"marker\": {\"colorbar\": {\"outlinewidth\": 0, \"ticks\": \"\"}}, \"type\": \"scattercarpet\"}], \"scattergeo\": [{\"marker\": {\"colorbar\": {\"outlinewidth\": 0, \"ticks\": \"\"}}, \"type\": \"scattergeo\"}], \"scattergl\": [{\"marker\": {\"colorbar\": {\"outlinewidth\": 0, \"ticks\": \"\"}}, \"type\": \"scattergl\"}], \"scattermapbox\": [{\"marker\": {\"colorbar\": {\"outlinewidth\": 0, \"ticks\": \"\"}}, \"type\": \"scattermapbox\"}], \"scatterpolar\": [{\"marker\": {\"colorbar\": {\"outlinewidth\": 0, \"ticks\": \"\"}}, \"type\": \"scatterpolar\"}], \"scatterpolargl\": [{\"marker\": {\"colorbar\": {\"outlinewidth\": 0, \"ticks\": \"\"}}, \"type\": \"scatterpolargl\"}], \"scatterternary\": [{\"marker\": {\"colorbar\": {\"outlinewidth\": 0, \"ticks\": \"\"}}, \"type\": \"scatterternary\"}], \"surface\": [{\"colorbar\": {\"outlinewidth\": 0, \"ticks\": \"\"}, \"colorscale\": [[0.0, \"#0d0887\"], [0.1111111111111111, \"#46039f\"], [0.2222222222222222, \"#7201a8\"], [0.3333333333333333, \"#9c179e\"], [0.4444444444444444, \"#bd3786\"], [0.5555555555555556, \"#d8576b\"], [0.6666666666666666, \"#ed7953\"], [0.7777777777777778, \"#fb9f3a\"], [0.8888888888888888, \"#fdca26\"], [1.0, \"#f0f921\"]], \"type\": \"surface\"}], \"table\": [{\"cells\": {\"fill\": {\"color\": \"#EBF0F8\"}, \"line\": {\"color\": \"white\"}}, \"header\": {\"fill\": {\"color\": \"#C8D4E3\"}, \"line\": {\"color\": \"white\"}}, \"type\": \"table\"}]}, \"layout\": {\"annotationdefaults\": {\"arrowcolor\": \"#2a3f5f\", \"arrowhead\": 0, \"arrowwidth\": 1}, \"coloraxis\": {\"colorbar\": {\"outlinewidth\": 0, \"ticks\": \"\"}}, \"colorscale\": {\"diverging\": [[0, \"#8e0152\"], [0.1, \"#c51b7d\"], [0.2, \"#de77ae\"], [0.3, \"#f1b6da\"], [0.4, \"#fde0ef\"], [0.5, \"#f7f7f7\"], [0.6, \"#e6f5d0\"], [0.7, \"#b8e186\"], [0.8, \"#7fbc41\"], [0.9, \"#4d9221\"], [1, \"#276419\"]], \"sequential\": [[0.0, \"#0d0887\"], [0.1111111111111111, \"#46039f\"], [0.2222222222222222, \"#7201a8\"], [0.3333333333333333, \"#9c179e\"], [0.4444444444444444, \"#bd3786\"], [0.5555555555555556, \"#d8576b\"], [0.6666666666666666, \"#ed7953\"], [0.7777777777777778, \"#fb9f3a\"], [0.8888888888888888, \"#fdca26\"], [1.0, \"#f0f921\"]], \"sequentialminus\": [[0.0, \"#0d0887\"], [0.1111111111111111, \"#46039f\"], [0.2222222222222222, \"#7201a8\"], [0.3333333333333333, \"#9c179e\"], [0.4444444444444444, \"#bd3786\"], [0.5555555555555556, \"#d8576b\"], [0.6666666666666666, \"#ed7953\"], [0.7777777777777778, \"#fb9f3a\"], [0.8888888888888888, \"#fdca26\"], [1.0, \"#f0f921\"]]}, \"colorway\": [\"#636efa\", \"#EF553B\", \"#00cc96\", \"#ab63fa\", \"#FFA15A\", \"#19d3f3\", \"#FF6692\", \"#B6E880\", \"#FF97FF\", \"#FECB52\"], \"font\": {\"color\": \"#2a3f5f\"}, \"geo\": {\"bgcolor\": \"white\", \"lakecolor\": \"white\", \"landcolor\": \"#E5ECF6\", \"showlakes\": true, \"showland\": true, \"subunitcolor\": \"white\"}, \"hoverlabel\": {\"align\": \"left\"}, \"hovermode\": \"closest\", \"mapbox\": {\"style\": \"light\"}, \"paper_bgcolor\": \"white\", \"plot_bgcolor\": \"#E5ECF6\", \"polar\": {\"angularaxis\": {\"gridcolor\": \"white\", \"linecolor\": \"white\", \"ticks\": \"\"}, \"bgcolor\": \"#E5ECF6\", \"radialaxis\": {\"gridcolor\": \"white\", \"linecolor\": \"white\", \"ticks\": \"\"}}, \"scene\": {\"xaxis\": {\"backgroundcolor\": \"#E5ECF6\", \"gridcolor\": \"white\", \"gridwidth\": 2, \"linecolor\": \"white\", \"showbackground\": true, \"ticks\": \"\", \"zerolinecolor\": \"white\"}, \"yaxis\": {\"backgroundcolor\": \"#E5ECF6\", \"gridcolor\": \"white\", \"gridwidth\": 2, \"linecolor\": \"white\", \"showbackground\": true, \"ticks\": \"\", \"zerolinecolor\": \"white\"}, \"zaxis\": {\"backgroundcolor\": \"#E5ECF6\", \"gridcolor\": \"white\", \"gridwidth\": 2, \"linecolor\": \"white\", \"showbackground\": true, \"ticks\": \"\", \"zerolinecolor\": \"white\"}}, \"shapedefaults\": {\"line\": {\"color\": \"#2a3f5f\"}}, \"ternary\": {\"aaxis\": {\"gridcolor\": \"white\", \"linecolor\": \"white\", \"ticks\": \"\"}, \"baxis\": {\"gridcolor\": \"white\", \"linecolor\": \"white\", \"ticks\": \"\"}, \"bgcolor\": \"#E5ECF6\", \"caxis\": {\"gridcolor\": \"white\", \"linecolor\": \"white\", \"ticks\": \"\"}}, \"title\": {\"x\": 0.05}, \"xaxis\": {\"automargin\": true, \"gridcolor\": \"white\", \"linecolor\": \"white\", \"ticks\": \"\", \"title\": {\"standoff\": 15}, \"zerolinecolor\": \"white\", \"zerolinewidth\": 2}, \"yaxis\": {\"automargin\": true, \"gridcolor\": \"white\", \"linecolor\": \"white\", \"ticks\": \"\", \"title\": {\"standoff\": 15}, \"zerolinecolor\": \"white\", \"zerolinewidth\": 2}}}, \"title\": {\"text\": \"Face Shields Produced+Donated by Boston Scientific - April 26th, 2020\"}, \"xaxis\": {\"categoryorder\": \"total descending\"}},\n",
              "                        {\"responsive\": true}\n",
              "                    ).then(function(){\n",
              "                            \n",
              "var gd = document.getElementById('eb5a4137-84a6-47cc-8788-47b8f27d048f');\n",
              "var x = new MutationObserver(function (mutations, observer) {{\n",
              "        var display = window.getComputedStyle(gd).display;\n",
              "        if (!display || display === 'none') {{\n",
              "            console.log([gd, 'removed!']);\n",
              "            Plotly.purge(gd);\n",
              "            observer.disconnect();\n",
              "        }}\n",
              "}});\n",
              "\n",
              "// Listen for the removal of the full notebook cells\n",
              "var notebookContainer = gd.closest('#notebook-container');\n",
              "if (notebookContainer) {{\n",
              "    x.observe(notebookContainer, {childList: true});\n",
              "}}\n",
              "\n",
              "// Listen for the clearing of the current output cell\n",
              "var outputEl = gd.closest('.output');\n",
              "if (outputEl) {{\n",
              "    x.observe(outputEl, {childList: true});\n",
              "}}\n",
              "\n",
              "                        })\n",
              "                };\n",
              "                \n",
              "            </script>\n",
              "        </div>\n",
              "</body>\n",
              "</html>"
            ]
          },
          "metadata": {
            "tags": []
          }
        }
      ]
    },
    {
      "cell_type": "markdown",
      "metadata": {
        "id": "1gpDtKNu9BdQ",
        "colab_type": "text"
      },
      "source": [
        "### Download state populations"
      ]
    },
    {
      "cell_type": "code",
      "metadata": {
        "id": "Y7nCZXqKI2PH",
        "colab_type": "code",
        "outputId": "2854fec2-3387-4f68-97cc-96ebb55d7839",
        "colab": {
          "base_uri": "https://localhost:8080/",
          "height": 84
        }
      },
      "source": [
        "# Define google sheets url for download\n",
        "sheet_uuid= '1bTl8A0hdLN0z-xvXYRwlpZ_X3kTa619riFn4PYMTjJ0'\n",
        "\n",
        "# Use string comprehension to replace %s with the above sheet_uuid\n",
        "# this url below converts google sheet to csv\n",
        "url = ('https://docs.google.com/spreadsheet/ccc?key=%s&output=csv' \\\n",
        "  % (sheet_uuid) ) \n",
        "print ('Downloand URL for dataframe import: %s' % url) \n",
        "\n",
        "# convert url to the dataframe\n",
        "pop_df = download_data(url)\n",
        "\n",
        "# Visualize the data\n",
        "pop_df.nunique()"
      ],
      "execution_count": 7,
      "outputs": [
        {
          "output_type": "stream",
          "text": [
            "Downloand URL for dataframe import: https://docs.google.com/spreadsheet/ccc?key=1bTl8A0hdLN0z-xvXYRwlpZ_X3kTa619riFn4PYMTjJ0&output=csv\n"
          ],
          "name": "stdout"
        },
        {
          "output_type": "execute_result",
          "data": {
            "text/plain": [
              "State         57\n",
              "Population    57\n",
              "dtype: int64"
            ]
          },
          "metadata": {
            "tags": []
          },
          "execution_count": 7
        }
      ]
    },
    {
      "cell_type": "code",
      "metadata": {
        "id": "e_NqVTLTunR7",
        "colab_type": "code",
        "colab": {}
      },
      "source": [
        "pop_df['state_code']=pop_df.apply(\n",
        "    lambda row: (keep_states_only(us_state_abbrev, row['State'])),axis=1\n",
        ")\n",
        "\n",
        "pop_df.dropna(inplace=True)"
      ],
      "execution_count": 0,
      "outputs": []
    },
    {
      "cell_type": "markdown",
      "metadata": {
        "id": "Oe0mS8gHUSgs",
        "colab_type": "text"
      },
      "source": [
        "### Add empty state columns to boston sci df\n",
        "TODO: Make idempotent (i.e. run twice without causing error)"
      ]
    },
    {
      "cell_type": "code",
      "metadata": {
        "id": "0Rt7P4TVUYRm",
        "colab_type": "code",
        "outputId": "c60d8358-c828-41f3-f0b7-3f0195dafe04",
        "colab": {
          "base_uri": "https://localhost:8080/",
          "height": 118
        }
      },
      "source": [
        "# Inner Join\n",
        "df = pop_df[['state_code','State','Population']].join(\n",
        "    df[['state_code','Face Shield']].set_index('state_code'),\n",
        "    on='state_code',  how='left')\n",
        "\n",
        "# Remove all commas\n",
        "df = df.replace(',','', regex=True)\n",
        "\n",
        "# Fill NAs\n",
        "df.fillna(0,inplace=True)\n",
        "\n",
        "# Add text column\n",
        "df['text'] = df['State'].astype(str) + '<br>' + \\\n",
        "    'Face Shields: ' + df['Face Shield'].astype(str) + '<br>'\n",
        "\n",
        "df.nunique()"
      ],
      "execution_count": 9,
      "outputs": [
        {
          "output_type": "execute_result",
          "data": {
            "text/plain": [
              "state_code     52\n",
              "State          52\n",
              "Population     52\n",
              "Face Shield    22\n",
              "text           52\n",
              "dtype: int64"
            ]
          },
          "metadata": {
            "tags": []
          },
          "execution_count": 9
        }
      ]
    },
    {
      "cell_type": "markdown",
      "metadata": {
        "id": "eBNDHd7_vqHd",
        "colab_type": "text"
      },
      "source": [
        "### Combine Boston Scientific Data into pop_df - Create merged_df"
      ]
    },
    {
      "cell_type": "code",
      "metadata": {
        "id": "e4jp9mwdv0cB",
        "colab_type": "code",
        "outputId": "bb95b05a-cee1-4926-e505-652775023671",
        "colab": {
          "base_uri": "https://localhost:8080/",
          "height": 153
        }
      },
      "source": [
        "# Inner Join\n",
        "merged_df = pop_df.join(\n",
        "    df[['state_code','Face Shield']].set_index('state_code'),\n",
        "    on='state_code',  how='left')\n",
        "\n",
        "# Remove all commas\n",
        "merged_df = merged_df.replace(',','', regex=True)\n",
        "\n",
        "# Fill NAs\n",
        "merged_df.fillna(0,inplace=True)\n",
        "\n",
        "# Convert to numeric values\n",
        "merged_df[['Face Shield','Population']] = merged_df[['Face Shield','Population']].astype(int)\n",
        "\n",
        "# get normalized face shield counts\n",
        "merged_df['normalized_face_shield']=merged_df.apply(\n",
        "    lambda row: (row['Face Shield'] / row['Population']),axis=1\n",
        ")\n",
        "merged_df['normalized_face_shield_per_100k']=merged_df.apply(\n",
        "    lambda row: (row['Face Shield'] / row['Population'] * 100000),axis=1\n",
        ")\n",
        "\n",
        "# round out the normalized columns\n",
        "merged_df['normalized_face_shield'] = merged_df['normalized_face_shield'].round(6)\n",
        "merged_df['normalized_face_shield_per_100k'] = merged_df['normalized_face_shield_per_100k'].round(1)\n",
        "\n",
        "# Add text column\n",
        "merged_df['text'] = merged_df['State'].astype(str) + '<br>' + \\\n",
        "    'Face Shields Per 100k: ' + merged_df['normalized_face_shield_per_100k'].astype(str) + '<br><br>' + \\\n",
        "    'Population: ' + merged_df['Population'].astype(str) + '<br>' + \\\n",
        "    'Face Shields: ' + merged_df['Face Shield'].astype(str) + '<br>'\n",
        "\n",
        "# print example out\n",
        "print (len(merged_df.index))\n",
        "merged_df.head(3)\n",
        "\n"
      ],
      "execution_count": 10,
      "outputs": [
        {
          "output_type": "stream",
          "text": [
            "52\n"
          ],
          "name": "stdout"
        },
        {
          "output_type": "execute_result",
          "data": {
            "text/html": [
              "<div>\n",
              "<style scoped>\n",
              "    .dataframe tbody tr th:only-of-type {\n",
              "        vertical-align: middle;\n",
              "    }\n",
              "\n",
              "    .dataframe tbody tr th {\n",
              "        vertical-align: top;\n",
              "    }\n",
              "\n",
              "    .dataframe thead th {\n",
              "        text-align: right;\n",
              "    }\n",
              "</style>\n",
              "<table border=\"1\" class=\"dataframe\">\n",
              "  <thead>\n",
              "    <tr style=\"text-align: right;\">\n",
              "      <th></th>\n",
              "      <th>State</th>\n",
              "      <th>Population</th>\n",
              "      <th>state_code</th>\n",
              "      <th>Face Shield</th>\n",
              "      <th>normalized_face_shield</th>\n",
              "      <th>normalized_face_shield_per_100k</th>\n",
              "      <th>text</th>\n",
              "    </tr>\n",
              "  </thead>\n",
              "  <tbody>\n",
              "    <tr>\n",
              "      <th>5</th>\n",
              "      <td>Alabama</td>\n",
              "      <td>4903185</td>\n",
              "      <td>AL</td>\n",
              "      <td>0</td>\n",
              "      <td>0.000000</td>\n",
              "      <td>0.0</td>\n",
              "      <td>Alabama&lt;br&gt;Face Shields Per 100k: 0.0&lt;br&gt;&lt;br&gt;P...</td>\n",
              "    </tr>\n",
              "    <tr>\n",
              "      <th>6</th>\n",
              "      <td>Alaska</td>\n",
              "      <td>731545</td>\n",
              "      <td>AK</td>\n",
              "      <td>0</td>\n",
              "      <td>0.000000</td>\n",
              "      <td>0.0</td>\n",
              "      <td>Alaska&lt;br&gt;Face Shields Per 100k: 0.0&lt;br&gt;&lt;br&gt;Po...</td>\n",
              "    </tr>\n",
              "    <tr>\n",
              "      <th>7</th>\n",
              "      <td>Arizona</td>\n",
              "      <td>7278717</td>\n",
              "      <td>AZ</td>\n",
              "      <td>5000</td>\n",
              "      <td>0.000687</td>\n",
              "      <td>68.7</td>\n",
              "      <td>Arizona&lt;br&gt;Face Shields Per 100k: 68.7&lt;br&gt;&lt;br&gt;...</td>\n",
              "    </tr>\n",
              "  </tbody>\n",
              "</table>\n",
              "</div>"
            ],
            "text/plain": [
              "     State  Population state_code  Face Shield  normalized_face_shield  \\\n",
              "5  Alabama     4903185         AL            0                0.000000   \n",
              "6   Alaska      731545         AK            0                0.000000   \n",
              "7  Arizona     7278717         AZ         5000                0.000687   \n",
              "\n",
              "   normalized_face_shield_per_100k  \\\n",
              "5                              0.0   \n",
              "6                              0.0   \n",
              "7                             68.7   \n",
              "\n",
              "                                                text  \n",
              "5  Alabama<br>Face Shields Per 100k: 0.0<br><br>P...  \n",
              "6  Alaska<br>Face Shields Per 100k: 0.0<br><br>Po...  \n",
              "7  Arizona<br>Face Shields Per 100k: 68.7<br><br>...  "
            ]
          },
          "metadata": {
            "tags": []
          },
          "execution_count": 10
        }
      ]
    },
    {
      "cell_type": "markdown",
      "metadata": {
        "id": "1ifFDyOt94fM",
        "colab_type": "text"
      },
      "source": [
        "### Map Raw Face Shield Donations"
      ]
    },
    {
      "cell_type": "code",
      "metadata": {
        "id": "sSl58wnV94uX",
        "colab_type": "code",
        "outputId": "c02e351b-cc33-4bcc-a1f7-0638825e05f8",
        "colab": {
          "base_uri": "https://localhost:8080/",
          "height": 542
        }
      },
      "source": [
        "# Make the figure\n",
        "fig = go.Figure(data=go.Choropleth(\n",
        "    locations=df['state_code'], # Spatial coordinates\n",
        "    z = df['Face Shield'].astype(float), # Data to be color-coded\n",
        "    locationmode = 'USA-states', # set of locations match entries in `locations`\n",
        "    colorscale = 'blues',\n",
        "    text=df['text'], # hover text\n",
        "    colorbar_title = \"Face Shields >\",\n",
        "    hoverinfo='text',\n",
        "    marker_line_color='Grey', # line markers between states\n",
        "    marker_opacity=0.8, \n",
        "    zmin=0,\n",
        "    zmax=50000,\n",
        "    marker_line_width=0.5,\n",
        "))\n",
        "\n",
        "fig.update_layout(\n",
        "    title_text='Face Shields Produced+Donated by Boston Scientific - April 26th, 2020',\n",
        "    geo = dict(\n",
        "        scope='usa',\n",
        "        projection=go.layout.geo.Projection(type = 'albers usa'),\n",
        "        showlakes=True, # lakes\n",
        "        lakecolor='rgb(255, 255, 255)'),\n",
        ")\n",
        "\n",
        "fig.show()"
      ],
      "execution_count": 11,
      "outputs": [
        {
          "output_type": "display_data",
          "data": {
            "text/html": [
              "<html>\n",
              "<head><meta charset=\"utf-8\" /></head>\n",
              "<body>\n",
              "    <div>\n",
              "            <script src=\"https://cdnjs.cloudflare.com/ajax/libs/mathjax/2.7.5/MathJax.js?config=TeX-AMS-MML_SVG\"></script><script type=\"text/javascript\">if (window.MathJax) {MathJax.Hub.Config({SVG: {font: \"STIX-Web\"}});}</script>\n",
              "                <script type=\"text/javascript\">window.PlotlyConfig = {MathJaxConfig: 'local'};</script>\n",
              "        <script src=\"https://cdn.plot.ly/plotly-latest.min.js\"></script>    \n",
              "            <div id=\"0b95d46d-a985-462d-8c6a-1c893c6a1cac\" class=\"plotly-graph-div\" style=\"height:525px; width:100%;\"></div>\n",
              "            <script type=\"text/javascript\">\n",
              "                \n",
              "                    window.PLOTLYENV=window.PLOTLYENV || {};\n",
              "                    \n",
              "                if (document.getElementById(\"0b95d46d-a985-462d-8c6a-1c893c6a1cac\")) {\n",
              "                    Plotly.newPlot(\n",
              "                        '0b95d46d-a985-462d-8c6a-1c893c6a1cac',\n",
              "                        [{\"colorbar\": {\"title\": {\"text\": \"Face Shields >\"}}, \"colorscale\": [[0.0, \"rgb(247,251,255)\"], [0.125, \"rgb(222,235,247)\"], [0.25, \"rgb(198,219,239)\"], [0.375, \"rgb(158,202,225)\"], [0.5, \"rgb(107,174,214)\"], [0.625, \"rgb(66,146,198)\"], [0.75, \"rgb(33,113,181)\"], [0.875, \"rgb(8,81,156)\"], [1.0, \"rgb(8,48,107)\"]], \"hoverinfo\": \"text\", \"locationmode\": \"USA-states\", \"locations\": [\"AL\", \"AK\", \"AZ\", \"AR\", \"CA\", \"CO\", \"CT\", \"DE\", \"DC\", \"FL\", \"GA\", \"HI\", \"ID\", \"IL\", \"IN\", \"IA\", \"KS\", \"KY\", \"LA\", \"ME\", \"MD\", \"MA\", \"MI\", \"MN\", \"MS\", \"MO\", \"MT\", \"NE\", \"NV\", \"NH\", \"NJ\", \"NM\", \"NY\", \"NC\", \"ND\", \"OH\", \"OK\", \"OR\", \"PA\", \"RI\", \"SC\", \"SD\", \"TN\", \"TX\", \"UT\", \"VT\", \"VA\", \"WA\", \"WV\", \"WI\", \"WY\", \"PR\"], \"marker\": {\"line\": {\"color\": \"Grey\", \"width\": 0.5}, \"opacity\": 0.8}, \"text\": [\"Alabama<br>Face Shields: 0<br>\", \"Alaska<br>Face Shields: 0<br>\", \"Arizona<br>Face Shields: 5000<br>\", \"Arkansas<br>Face Shields: 0<br>\", \"California<br>Face Shields: 117900<br>\", \"Colorado<br>Face Shields: 6000<br>\", \"Connecticut<br>Face Shields: 0<br>\", \"Delaware<br>Face Shields: 12000<br>\", \"District of Columbia<br>Face Shields: 44000<br>\", \"Florida<br>Face Shields: 16000<br>\", \"Georgia<br>Face Shields: 5000<br>\", \"Hawaii<br>Face Shields: 0<br>\", \"Idaho<br>Face Shields: 0<br>\", \"Illinois<br>Face Shields: 37000<br>\", \"Indiana<br>Face Shields: 16000<br>\", \"Iowa<br>Face Shields: 0<br>\", \"Kansas<br>Face Shields: 0<br>\", \"Kentucky<br>Face Shields: 0<br>\", \"Louisiana<br>Face Shields: 8000<br>\", \"Maine<br>Face Shields: 0<br>\", \"Maryland<br>Face Shields: 13000<br>\", \"Massachusetts<br>Face Shields: 24800<br>\", \"Michigan<br>Face Shields: 50000<br>\", \"Minnesota<br>Face Shields: 45000<br>\", \"Mississippi<br>Face Shields: 0<br>\", \"Missouri<br>Face Shields: 12000<br>\", \"Montana<br>Face Shields: 0<br>\", \"Nebraska<br>Face Shields: 24000<br>\", \"Nevada<br>Face Shields: 0<br>\", \"New Hampshire<br>Face Shields: 0<br>\", \"New Jersey<br>Face Shields: 28500<br>\", \"New Mexico<br>Face Shields: 0<br>\", \"New York<br>Face Shields: 37300<br>\", \"North Carolina<br>Face Shields: 0<br>\", \"North Dakota<br>Face Shields: 0<br>\", \"Ohio<br>Face Shields: 6000<br>\", \"Oklahoma<br>Face Shields: 10000<br>\", \"Oregon<br>Face Shields: 5000<br>\", \"Pennsylvania<br>Face Shields: 15500<br>\", \"Rhode Island<br>Face Shields: 3000<br>\", \"South Carolina<br>Face Shields: 8000<br>\", \"South Dakota<br>Face Shields: 0<br>\", \"Tennessee<br>Face Shields: 32000<br>\", \"Texas<br>Face Shields: 59000<br>\", \"Utah<br>Face Shields: 0<br>\", \"Vermont<br>Face Shields: 0<br>\", \"Virginia<br>Face Shields: 3000<br>\", \"Washington<br>Face Shields: 18000<br>\", \"West Virginia<br>Face Shields: 0<br>\", \"Wisconsin<br>Face Shields: 0<br>\", \"Wyoming<br>Face Shields: 0<br>\", \"Puerto Rico<br>Face Shields: 50000<br>\"], \"type\": \"choropleth\", \"z\": [0.0, 0.0, 5000.0, 0.0, 117900.0, 6000.0, 0.0, 12000.0, 44000.0, 16000.0, 5000.0, 0.0, 0.0, 37000.0, 16000.0, 0.0, 0.0, 0.0, 8000.0, 0.0, 13000.0, 24800.0, 50000.0, 45000.0, 0.0, 12000.0, 0.0, 24000.0, 0.0, 0.0, 28500.0, 0.0, 37300.0, 0.0, 0.0, 6000.0, 10000.0, 5000.0, 15500.0, 3000.0, 8000.0, 0.0, 32000.0, 59000.0, 0.0, 0.0, 3000.0, 18000.0, 0.0, 0.0, 0.0, 50000.0], \"zmax\": 50000, \"zmin\": 0}],\n",
              "                        {\"geo\": {\"lakecolor\": \"rgb(255, 255, 255)\", \"projection\": {\"type\": \"albers usa\"}, \"scope\": \"usa\", \"showlakes\": true}, \"template\": {\"data\": {\"bar\": [{\"error_x\": {\"color\": \"#2a3f5f\"}, \"error_y\": {\"color\": \"#2a3f5f\"}, \"marker\": {\"line\": {\"color\": \"#E5ECF6\", \"width\": 0.5}}, \"type\": \"bar\"}], \"barpolar\": [{\"marker\": {\"line\": {\"color\": \"#E5ECF6\", \"width\": 0.5}}, \"type\": \"barpolar\"}], \"carpet\": [{\"aaxis\": {\"endlinecolor\": \"#2a3f5f\", \"gridcolor\": \"white\", \"linecolor\": \"white\", \"minorgridcolor\": \"white\", \"startlinecolor\": \"#2a3f5f\"}, \"baxis\": {\"endlinecolor\": \"#2a3f5f\", \"gridcolor\": \"white\", \"linecolor\": \"white\", \"minorgridcolor\": \"white\", \"startlinecolor\": \"#2a3f5f\"}, \"type\": \"carpet\"}], \"choropleth\": [{\"colorbar\": {\"outlinewidth\": 0, \"ticks\": \"\"}, \"type\": \"choropleth\"}], \"contour\": [{\"colorbar\": {\"outlinewidth\": 0, \"ticks\": \"\"}, \"colorscale\": [[0.0, \"#0d0887\"], [0.1111111111111111, \"#46039f\"], [0.2222222222222222, \"#7201a8\"], [0.3333333333333333, \"#9c179e\"], [0.4444444444444444, \"#bd3786\"], [0.5555555555555556, \"#d8576b\"], [0.6666666666666666, \"#ed7953\"], [0.7777777777777778, \"#fb9f3a\"], [0.8888888888888888, \"#fdca26\"], [1.0, \"#f0f921\"]], \"type\": \"contour\"}], \"contourcarpet\": [{\"colorbar\": {\"outlinewidth\": 0, \"ticks\": \"\"}, \"type\": \"contourcarpet\"}], \"heatmap\": [{\"colorbar\": {\"outlinewidth\": 0, \"ticks\": \"\"}, \"colorscale\": [[0.0, \"#0d0887\"], [0.1111111111111111, \"#46039f\"], [0.2222222222222222, \"#7201a8\"], [0.3333333333333333, \"#9c179e\"], [0.4444444444444444, \"#bd3786\"], [0.5555555555555556, \"#d8576b\"], [0.6666666666666666, \"#ed7953\"], [0.7777777777777778, \"#fb9f3a\"], [0.8888888888888888, \"#fdca26\"], [1.0, \"#f0f921\"]], \"type\": \"heatmap\"}], \"heatmapgl\": [{\"colorbar\": {\"outlinewidth\": 0, \"ticks\": \"\"}, \"colorscale\": [[0.0, \"#0d0887\"], [0.1111111111111111, \"#46039f\"], [0.2222222222222222, \"#7201a8\"], [0.3333333333333333, \"#9c179e\"], [0.4444444444444444, \"#bd3786\"], [0.5555555555555556, \"#d8576b\"], [0.6666666666666666, \"#ed7953\"], [0.7777777777777778, \"#fb9f3a\"], [0.8888888888888888, \"#fdca26\"], [1.0, \"#f0f921\"]], \"type\": \"heatmapgl\"}], \"histogram\": [{\"marker\": {\"colorbar\": {\"outlinewidth\": 0, \"ticks\": \"\"}}, \"type\": \"histogram\"}], \"histogram2d\": [{\"colorbar\": {\"outlinewidth\": 0, \"ticks\": \"\"}, \"colorscale\": [[0.0, \"#0d0887\"], [0.1111111111111111, \"#46039f\"], [0.2222222222222222, \"#7201a8\"], [0.3333333333333333, \"#9c179e\"], [0.4444444444444444, \"#bd3786\"], [0.5555555555555556, \"#d8576b\"], [0.6666666666666666, \"#ed7953\"], [0.7777777777777778, \"#fb9f3a\"], [0.8888888888888888, \"#fdca26\"], [1.0, \"#f0f921\"]], \"type\": \"histogram2d\"}], \"histogram2dcontour\": [{\"colorbar\": {\"outlinewidth\": 0, \"ticks\": \"\"}, \"colorscale\": [[0.0, \"#0d0887\"], [0.1111111111111111, \"#46039f\"], [0.2222222222222222, \"#7201a8\"], [0.3333333333333333, \"#9c179e\"], [0.4444444444444444, \"#bd3786\"], [0.5555555555555556, \"#d8576b\"], [0.6666666666666666, \"#ed7953\"], [0.7777777777777778, \"#fb9f3a\"], [0.8888888888888888, \"#fdca26\"], [1.0, \"#f0f921\"]], \"type\": \"histogram2dcontour\"}], \"mesh3d\": [{\"colorbar\": {\"outlinewidth\": 0, \"ticks\": \"\"}, \"type\": \"mesh3d\"}], \"parcoords\": [{\"line\": {\"colorbar\": {\"outlinewidth\": 0, \"ticks\": \"\"}}, \"type\": \"parcoords\"}], \"pie\": [{\"automargin\": true, \"type\": \"pie\"}], \"scatter\": [{\"marker\": {\"colorbar\": {\"outlinewidth\": 0, \"ticks\": \"\"}}, \"type\": \"scatter\"}], \"scatter3d\": [{\"line\": {\"colorbar\": {\"outlinewidth\": 0, \"ticks\": \"\"}}, \"marker\": {\"colorbar\": {\"outlinewidth\": 0, \"ticks\": \"\"}}, \"type\": \"scatter3d\"}], \"scattercarpet\": [{\"marker\": {\"colorbar\": {\"outlinewidth\": 0, \"ticks\": \"\"}}, \"type\": \"scattercarpet\"}], \"scattergeo\": [{\"marker\": {\"colorbar\": {\"outlinewidth\": 0, \"ticks\": \"\"}}, \"type\": \"scattergeo\"}], \"scattergl\": [{\"marker\": {\"colorbar\": {\"outlinewidth\": 0, \"ticks\": \"\"}}, \"type\": \"scattergl\"}], \"scattermapbox\": [{\"marker\": {\"colorbar\": {\"outlinewidth\": 0, \"ticks\": \"\"}}, \"type\": \"scattermapbox\"}], \"scatterpolar\": [{\"marker\": {\"colorbar\": {\"outlinewidth\": 0, \"ticks\": \"\"}}, \"type\": \"scatterpolar\"}], \"scatterpolargl\": [{\"marker\": {\"colorbar\": {\"outlinewidth\": 0, \"ticks\": \"\"}}, \"type\": \"scatterpolargl\"}], \"scatterternary\": [{\"marker\": {\"colorbar\": {\"outlinewidth\": 0, \"ticks\": \"\"}}, \"type\": \"scatterternary\"}], \"surface\": [{\"colorbar\": {\"outlinewidth\": 0, \"ticks\": \"\"}, \"colorscale\": [[0.0, \"#0d0887\"], [0.1111111111111111, \"#46039f\"], [0.2222222222222222, \"#7201a8\"], [0.3333333333333333, \"#9c179e\"], [0.4444444444444444, \"#bd3786\"], [0.5555555555555556, \"#d8576b\"], [0.6666666666666666, \"#ed7953\"], [0.7777777777777778, \"#fb9f3a\"], [0.8888888888888888, \"#fdca26\"], [1.0, \"#f0f921\"]], \"type\": \"surface\"}], \"table\": [{\"cells\": {\"fill\": {\"color\": \"#EBF0F8\"}, \"line\": {\"color\": \"white\"}}, \"header\": {\"fill\": {\"color\": \"#C8D4E3\"}, \"line\": {\"color\": \"white\"}}, \"type\": \"table\"}]}, \"layout\": {\"annotationdefaults\": {\"arrowcolor\": \"#2a3f5f\", \"arrowhead\": 0, \"arrowwidth\": 1}, \"coloraxis\": {\"colorbar\": {\"outlinewidth\": 0, \"ticks\": \"\"}}, \"colorscale\": {\"diverging\": [[0, \"#8e0152\"], [0.1, \"#c51b7d\"], [0.2, \"#de77ae\"], [0.3, \"#f1b6da\"], [0.4, \"#fde0ef\"], [0.5, \"#f7f7f7\"], [0.6, \"#e6f5d0\"], [0.7, \"#b8e186\"], [0.8, \"#7fbc41\"], [0.9, \"#4d9221\"], [1, \"#276419\"]], \"sequential\": [[0.0, \"#0d0887\"], [0.1111111111111111, \"#46039f\"], [0.2222222222222222, \"#7201a8\"], [0.3333333333333333, \"#9c179e\"], [0.4444444444444444, \"#bd3786\"], [0.5555555555555556, \"#d8576b\"], [0.6666666666666666, \"#ed7953\"], [0.7777777777777778, \"#fb9f3a\"], [0.8888888888888888, \"#fdca26\"], [1.0, \"#f0f921\"]], \"sequentialminus\": [[0.0, \"#0d0887\"], [0.1111111111111111, \"#46039f\"], [0.2222222222222222, \"#7201a8\"], [0.3333333333333333, \"#9c179e\"], [0.4444444444444444, \"#bd3786\"], [0.5555555555555556, \"#d8576b\"], [0.6666666666666666, \"#ed7953\"], [0.7777777777777778, \"#fb9f3a\"], [0.8888888888888888, \"#fdca26\"], [1.0, \"#f0f921\"]]}, \"colorway\": [\"#636efa\", \"#EF553B\", \"#00cc96\", \"#ab63fa\", \"#FFA15A\", \"#19d3f3\", \"#FF6692\", \"#B6E880\", \"#FF97FF\", \"#FECB52\"], \"font\": {\"color\": \"#2a3f5f\"}, \"geo\": {\"bgcolor\": \"white\", \"lakecolor\": \"white\", \"landcolor\": \"#E5ECF6\", \"showlakes\": true, \"showland\": true, \"subunitcolor\": \"white\"}, \"hoverlabel\": {\"align\": \"left\"}, \"hovermode\": \"closest\", \"mapbox\": {\"style\": \"light\"}, \"paper_bgcolor\": \"white\", \"plot_bgcolor\": \"#E5ECF6\", \"polar\": {\"angularaxis\": {\"gridcolor\": \"white\", \"linecolor\": \"white\", \"ticks\": \"\"}, \"bgcolor\": \"#E5ECF6\", \"radialaxis\": {\"gridcolor\": \"white\", \"linecolor\": \"white\", \"ticks\": \"\"}}, \"scene\": {\"xaxis\": {\"backgroundcolor\": \"#E5ECF6\", \"gridcolor\": \"white\", \"gridwidth\": 2, \"linecolor\": \"white\", \"showbackground\": true, \"ticks\": \"\", \"zerolinecolor\": \"white\"}, \"yaxis\": {\"backgroundcolor\": \"#E5ECF6\", \"gridcolor\": \"white\", \"gridwidth\": 2, \"linecolor\": \"white\", \"showbackground\": true, \"ticks\": \"\", \"zerolinecolor\": \"white\"}, \"zaxis\": {\"backgroundcolor\": \"#E5ECF6\", \"gridcolor\": \"white\", \"gridwidth\": 2, \"linecolor\": \"white\", \"showbackground\": true, \"ticks\": \"\", \"zerolinecolor\": \"white\"}}, \"shapedefaults\": {\"line\": {\"color\": \"#2a3f5f\"}}, \"ternary\": {\"aaxis\": {\"gridcolor\": \"white\", \"linecolor\": \"white\", \"ticks\": \"\"}, \"baxis\": {\"gridcolor\": \"white\", \"linecolor\": \"white\", \"ticks\": \"\"}, \"bgcolor\": \"#E5ECF6\", \"caxis\": {\"gridcolor\": \"white\", \"linecolor\": \"white\", \"ticks\": \"\"}}, \"title\": {\"x\": 0.05}, \"xaxis\": {\"automargin\": true, \"gridcolor\": \"white\", \"linecolor\": \"white\", \"ticks\": \"\", \"title\": {\"standoff\": 15}, \"zerolinecolor\": \"white\", \"zerolinewidth\": 2}, \"yaxis\": {\"automargin\": true, \"gridcolor\": \"white\", \"linecolor\": \"white\", \"ticks\": \"\", \"title\": {\"standoff\": 15}, \"zerolinecolor\": \"white\", \"zerolinewidth\": 2}}}, \"title\": {\"text\": \"Face Shields Produced+Donated by Boston Scientific - April 26th, 2020\"}},\n",
              "                        {\"responsive\": true}\n",
              "                    ).then(function(){\n",
              "                            \n",
              "var gd = document.getElementById('0b95d46d-a985-462d-8c6a-1c893c6a1cac');\n",
              "var x = new MutationObserver(function (mutations, observer) {{\n",
              "        var display = window.getComputedStyle(gd).display;\n",
              "        if (!display || display === 'none') {{\n",
              "            console.log([gd, 'removed!']);\n",
              "            Plotly.purge(gd);\n",
              "            observer.disconnect();\n",
              "        }}\n",
              "}});\n",
              "\n",
              "// Listen for the removal of the full notebook cells\n",
              "var notebookContainer = gd.closest('#notebook-container');\n",
              "if (notebookContainer) {{\n",
              "    x.observe(notebookContainer, {childList: true});\n",
              "}}\n",
              "\n",
              "// Listen for the clearing of the current output cell\n",
              "var outputEl = gd.closest('.output');\n",
              "if (outputEl) {{\n",
              "    x.observe(outputEl, {childList: true});\n",
              "}}\n",
              "\n",
              "                        })\n",
              "                };\n",
              "                \n",
              "            </script>\n",
              "        </div>\n",
              "</body>\n",
              "</html>"
            ]
          },
          "metadata": {
            "tags": []
          }
        }
      ]
    },
    {
      "cell_type": "markdown",
      "metadata": {
        "id": "3e-5i-ZI0ZUK",
        "colab_type": "text"
      },
      "source": [
        "### Map the normalized face shields"
      ]
    },
    {
      "cell_type": "code",
      "metadata": {
        "id": "ZmsISs3Vvo4E",
        "colab_type": "code",
        "outputId": "e8598503-028d-4eb2-970f-15633fe93379",
        "colab": {
          "base_uri": "https://localhost:8080/",
          "height": 542
        }
      },
      "source": [
        "# Make the figure\n",
        "fig = go.Figure(data=go.Choropleth(\n",
        "    locations=merged_df['state_code'], # Spatial coordinates\n",
        "    z = merged_df['normalized_face_shield_per_100k'], # Data to be color-coded\n",
        "    locationmode = 'USA-states', # set of locations match entries in `locations`\n",
        "    colorscale = 'blues',\n",
        "    text=merged_df['text'], # hover text\n",
        "    colorbar_title = \">Shields Per 100k\",\n",
        "    hoverinfo='text',\n",
        "    marker_line_color='Grey', # line markers between states\n",
        "    marker_opacity=0.8, \n",
        "    zmin=0,\n",
        "    zmax=500,\n",
        "    marker_line_width=0.5,\n",
        "))\n",
        "\n",
        "fig.update_layout(\n",
        "    title_text='Face Shields Produced+Donated by Boston Scientific (Normalized to Population) - April 26th, 2020',\n",
        "    geo = dict(\n",
        "        scope='usa',\n",
        "        projection=go.layout.geo.Projection(type = 'albers usa'),\n",
        "        showlakes=True, # lakes\n",
        "        lakecolor='rgb(255, 255, 255)'),\n",
        ")\n",
        "\n",
        "fig.show()"
      ],
      "execution_count": 12,
      "outputs": [
        {
          "output_type": "display_data",
          "data": {
            "text/html": [
              "<html>\n",
              "<head><meta charset=\"utf-8\" /></head>\n",
              "<body>\n",
              "    <div>\n",
              "            <script src=\"https://cdnjs.cloudflare.com/ajax/libs/mathjax/2.7.5/MathJax.js?config=TeX-AMS-MML_SVG\"></script><script type=\"text/javascript\">if (window.MathJax) {MathJax.Hub.Config({SVG: {font: \"STIX-Web\"}});}</script>\n",
              "                <script type=\"text/javascript\">window.PlotlyConfig = {MathJaxConfig: 'local'};</script>\n",
              "        <script src=\"https://cdn.plot.ly/plotly-latest.min.js\"></script>    \n",
              "            <div id=\"3fdb44af-c947-41e5-8dde-7d433934222e\" class=\"plotly-graph-div\" style=\"height:525px; width:100%;\"></div>\n",
              "            <script type=\"text/javascript\">\n",
              "                \n",
              "                    window.PLOTLYENV=window.PLOTLYENV || {};\n",
              "                    \n",
              "                if (document.getElementById(\"3fdb44af-c947-41e5-8dde-7d433934222e\")) {\n",
              "                    Plotly.newPlot(\n",
              "                        '3fdb44af-c947-41e5-8dde-7d433934222e',\n",
              "                        [{\"colorbar\": {\"title\": {\"text\": \">Shields Per 100k\"}}, \"colorscale\": [[0.0, \"rgb(247,251,255)\"], [0.125, \"rgb(222,235,247)\"], [0.25, \"rgb(198,219,239)\"], [0.375, \"rgb(158,202,225)\"], [0.5, \"rgb(107,174,214)\"], [0.625, \"rgb(66,146,198)\"], [0.75, \"rgb(33,113,181)\"], [0.875, \"rgb(8,81,156)\"], [1.0, \"rgb(8,48,107)\"]], \"hoverinfo\": \"text\", \"locationmode\": \"USA-states\", \"locations\": [\"AL\", \"AK\", \"AZ\", \"AR\", \"CA\", \"CO\", \"CT\", \"DE\", \"DC\", \"FL\", \"GA\", \"HI\", \"ID\", \"IL\", \"IN\", \"IA\", \"KS\", \"KY\", \"LA\", \"ME\", \"MD\", \"MA\", \"MI\", \"MN\", \"MS\", \"MO\", \"MT\", \"NE\", \"NV\", \"NH\", \"NJ\", \"NM\", \"NY\", \"NC\", \"ND\", \"OH\", \"OK\", \"OR\", \"PA\", \"RI\", \"SC\", \"SD\", \"TN\", \"TX\", \"UT\", \"VT\", \"VA\", \"WA\", \"WV\", \"WI\", \"WY\", \"PR\"], \"marker\": {\"line\": {\"color\": \"Grey\", \"width\": 0.5}, \"opacity\": 0.8}, \"text\": [\"Alabama<br>Face Shields Per 100k: 0.0<br><br>Population: 4903185<br>Face Shields: 0<br>\", \"Alaska<br>Face Shields Per 100k: 0.0<br><br>Population: 731545<br>Face Shields: 0<br>\", \"Arizona<br>Face Shields Per 100k: 68.7<br><br>Population: 7278717<br>Face Shields: 5000<br>\", \"Arkansas<br>Face Shields Per 100k: 0.0<br><br>Population: 3017804<br>Face Shields: 0<br>\", \"California<br>Face Shields Per 100k: 298.4<br><br>Population: 39512223<br>Face Shields: 117900<br>\", \"Colorado<br>Face Shields Per 100k: 104.2<br><br>Population: 5758736<br>Face Shields: 6000<br>\", \"Connecticut<br>Face Shields Per 100k: 0.0<br><br>Population: 3565287<br>Face Shields: 0<br>\", \"Delaware<br>Face Shields Per 100k: 1232.3<br><br>Population: 973764<br>Face Shields: 12000<br>\", \"District of Columbia<br>Face Shields Per 100k: 6234.5<br><br>Population: 705749<br>Face Shields: 44000<br>\", \"Florida<br>Face Shields Per 100k: 74.5<br><br>Population: 21477737<br>Face Shields: 16000<br>\", \"Georgia<br>Face Shields Per 100k: 47.1<br><br>Population: 10617423<br>Face Shields: 5000<br>\", \"Hawaii<br>Face Shields Per 100k: 0.0<br><br>Population: 1415872<br>Face Shields: 0<br>\", \"Idaho<br>Face Shields Per 100k: 0.0<br><br>Population: 1787065<br>Face Shields: 0<br>\", \"Illinois<br>Face Shields Per 100k: 292.0<br><br>Population: 12671821<br>Face Shields: 37000<br>\", \"Indiana<br>Face Shields Per 100k: 237.7<br><br>Population: 6732219<br>Face Shields: 16000<br>\", \"Iowa<br>Face Shields Per 100k: 0.0<br><br>Population: 3155070<br>Face Shields: 0<br>\", \"Kansas<br>Face Shields Per 100k: 0.0<br><br>Population: 2913314<br>Face Shields: 0<br>\", \"Kentucky<br>Face Shields Per 100k: 0.0<br><br>Population: 4467673<br>Face Shields: 0<br>\", \"Louisiana<br>Face Shields Per 100k: 172.1<br><br>Population: 4648794<br>Face Shields: 8000<br>\", \"Maine<br>Face Shields Per 100k: 0.0<br><br>Population: 1344212<br>Face Shields: 0<br>\", \"Maryland<br>Face Shields Per 100k: 215.0<br><br>Population: 6045680<br>Face Shields: 13000<br>\", \"Massachusetts<br>Face Shields Per 100k: 359.8<br><br>Population: 6892503<br>Face Shields: 24800<br>\", \"Michigan<br>Face Shields Per 100k: 500.7<br><br>Population: 9986857<br>Face Shields: 50000<br>\", \"Minnesota<br>Face Shields Per 100k: 797.9<br><br>Population: 5639632<br>Face Shields: 45000<br>\", \"Mississippi<br>Face Shields Per 100k: 0.0<br><br>Population: 2976149<br>Face Shields: 0<br>\", \"Missouri<br>Face Shields Per 100k: 195.5<br><br>Population: 6137428<br>Face Shields: 12000<br>\", \"Montana<br>Face Shields Per 100k: 0.0<br><br>Population: 1068778<br>Face Shields: 0<br>\", \"Nebraska<br>Face Shields Per 100k: 1240.7<br><br>Population: 1934408<br>Face Shields: 24000<br>\", \"Nevada<br>Face Shields Per 100k: 0.0<br><br>Population: 3080156<br>Face Shields: 0<br>\", \"New Hampshire<br>Face Shields Per 100k: 0.0<br><br>Population: 1359711<br>Face Shields: 0<br>\", \"New Jersey<br>Face Shields Per 100k: 320.9<br><br>Population: 8882190<br>Face Shields: 28500<br>\", \"New Mexico<br>Face Shields Per 100k: 0.0<br><br>Population: 2096829<br>Face Shields: 0<br>\", \"New York<br>Face Shields Per 100k: 191.7<br><br>Population: 19453561<br>Face Shields: 37300<br>\", \"North Carolina<br>Face Shields Per 100k: 0.0<br><br>Population: 10488084<br>Face Shields: 0<br>\", \"North Dakota<br>Face Shields Per 100k: 0.0<br><br>Population: 762062<br>Face Shields: 0<br>\", \"Ohio<br>Face Shields Per 100k: 51.3<br><br>Population: 11689100<br>Face Shields: 6000<br>\", \"Oklahoma<br>Face Shields Per 100k: 252.7<br><br>Population: 3956971<br>Face Shields: 10000<br>\", \"Oregon<br>Face Shields Per 100k: 118.5<br><br>Population: 4217737<br>Face Shields: 5000<br>\", \"Pennsylvania<br>Face Shields Per 100k: 121.1<br><br>Population: 12801989<br>Face Shields: 15500<br>\", \"Rhode Island<br>Face Shields Per 100k: 283.2<br><br>Population: 1059361<br>Face Shields: 3000<br>\", \"South Carolina<br>Face Shields Per 100k: 155.4<br><br>Population: 5148714<br>Face Shields: 8000<br>\", \"South Dakota<br>Face Shields Per 100k: 0.0<br><br>Population: 884659<br>Face Shields: 0<br>\", \"Tennessee<br>Face Shields Per 100k: 468.6<br><br>Population: 6829174<br>Face Shields: 32000<br>\", \"Texas<br>Face Shields Per 100k: 203.5<br><br>Population: 28995881<br>Face Shields: 59000<br>\", \"Utah<br>Face Shields Per 100k: 0.0<br><br>Population: 3205958<br>Face Shields: 0<br>\", \"Vermont<br>Face Shields Per 100k: 0.0<br><br>Population: 623989<br>Face Shields: 0<br>\", \"Virginia<br>Face Shields Per 100k: 35.1<br><br>Population: 8535519<br>Face Shields: 3000<br>\", \"Washington<br>Face Shields Per 100k: 236.4<br><br>Population: 7614893<br>Face Shields: 18000<br>\", \"West Virginia<br>Face Shields Per 100k: 0.0<br><br>Population: 1792147<br>Face Shields: 0<br>\", \"Wisconsin<br>Face Shields Per 100k: 0.0<br><br>Population: 5822434<br>Face Shields: 0<br>\", \"Wyoming<br>Face Shields Per 100k: 0.0<br><br>Population: 578759<br>Face Shields: 0<br>\", \"Puerto Rico<br>Face Shields Per 100k: 1565.6<br><br>Population: 3193694<br>Face Shields: 50000<br>\"], \"type\": \"choropleth\", \"z\": [0.0, 0.0, 68.7, 0.0, 298.4, 104.2, 0.0, 1232.3, 6234.5, 74.5, 47.1, 0.0, 0.0, 292.0, 237.7, 0.0, 0.0, 0.0, 172.1, 0.0, 215.0, 359.8, 500.7, 797.9, 0.0, 195.5, 0.0, 1240.7, 0.0, 0.0, 320.9, 0.0, 191.7, 0.0, 0.0, 51.3, 252.7, 118.5, 121.1, 283.2, 155.4, 0.0, 468.6, 203.5, 0.0, 0.0, 35.1, 236.4, 0.0, 0.0, 0.0, 1565.6], \"zmax\": 500, \"zmin\": 0}],\n",
              "                        {\"geo\": {\"lakecolor\": \"rgb(255, 255, 255)\", \"projection\": {\"type\": \"albers usa\"}, \"scope\": \"usa\", \"showlakes\": true}, \"template\": {\"data\": {\"bar\": [{\"error_x\": {\"color\": \"#2a3f5f\"}, \"error_y\": {\"color\": \"#2a3f5f\"}, \"marker\": {\"line\": {\"color\": \"#E5ECF6\", \"width\": 0.5}}, \"type\": \"bar\"}], \"barpolar\": [{\"marker\": {\"line\": {\"color\": \"#E5ECF6\", \"width\": 0.5}}, \"type\": \"barpolar\"}], \"carpet\": [{\"aaxis\": {\"endlinecolor\": \"#2a3f5f\", \"gridcolor\": \"white\", \"linecolor\": \"white\", \"minorgridcolor\": \"white\", \"startlinecolor\": \"#2a3f5f\"}, \"baxis\": {\"endlinecolor\": \"#2a3f5f\", \"gridcolor\": \"white\", \"linecolor\": \"white\", \"minorgridcolor\": \"white\", \"startlinecolor\": \"#2a3f5f\"}, \"type\": \"carpet\"}], \"choropleth\": [{\"colorbar\": {\"outlinewidth\": 0, \"ticks\": \"\"}, \"type\": \"choropleth\"}], \"contour\": [{\"colorbar\": {\"outlinewidth\": 0, \"ticks\": \"\"}, \"colorscale\": [[0.0, \"#0d0887\"], [0.1111111111111111, \"#46039f\"], [0.2222222222222222, \"#7201a8\"], [0.3333333333333333, \"#9c179e\"], [0.4444444444444444, \"#bd3786\"], [0.5555555555555556, \"#d8576b\"], [0.6666666666666666, \"#ed7953\"], [0.7777777777777778, \"#fb9f3a\"], [0.8888888888888888, \"#fdca26\"], [1.0, \"#f0f921\"]], \"type\": \"contour\"}], \"contourcarpet\": [{\"colorbar\": {\"outlinewidth\": 0, \"ticks\": \"\"}, \"type\": \"contourcarpet\"}], \"heatmap\": [{\"colorbar\": {\"outlinewidth\": 0, \"ticks\": \"\"}, \"colorscale\": [[0.0, \"#0d0887\"], [0.1111111111111111, \"#46039f\"], [0.2222222222222222, \"#7201a8\"], [0.3333333333333333, \"#9c179e\"], [0.4444444444444444, \"#bd3786\"], [0.5555555555555556, \"#d8576b\"], [0.6666666666666666, \"#ed7953\"], [0.7777777777777778, \"#fb9f3a\"], [0.8888888888888888, \"#fdca26\"], [1.0, \"#f0f921\"]], \"type\": \"heatmap\"}], \"heatmapgl\": [{\"colorbar\": {\"outlinewidth\": 0, \"ticks\": \"\"}, \"colorscale\": [[0.0, \"#0d0887\"], [0.1111111111111111, \"#46039f\"], [0.2222222222222222, \"#7201a8\"], [0.3333333333333333, \"#9c179e\"], [0.4444444444444444, \"#bd3786\"], [0.5555555555555556, \"#d8576b\"], [0.6666666666666666, \"#ed7953\"], [0.7777777777777778, \"#fb9f3a\"], [0.8888888888888888, \"#fdca26\"], [1.0, \"#f0f921\"]], \"type\": \"heatmapgl\"}], \"histogram\": [{\"marker\": {\"colorbar\": {\"outlinewidth\": 0, \"ticks\": \"\"}}, \"type\": \"histogram\"}], \"histogram2d\": [{\"colorbar\": {\"outlinewidth\": 0, \"ticks\": \"\"}, \"colorscale\": [[0.0, \"#0d0887\"], [0.1111111111111111, \"#46039f\"], [0.2222222222222222, \"#7201a8\"], [0.3333333333333333, \"#9c179e\"], [0.4444444444444444, \"#bd3786\"], [0.5555555555555556, \"#d8576b\"], [0.6666666666666666, \"#ed7953\"], [0.7777777777777778, \"#fb9f3a\"], [0.8888888888888888, \"#fdca26\"], [1.0, \"#f0f921\"]], \"type\": \"histogram2d\"}], \"histogram2dcontour\": [{\"colorbar\": {\"outlinewidth\": 0, \"ticks\": \"\"}, \"colorscale\": [[0.0, \"#0d0887\"], [0.1111111111111111, \"#46039f\"], [0.2222222222222222, \"#7201a8\"], [0.3333333333333333, \"#9c179e\"], [0.4444444444444444, \"#bd3786\"], [0.5555555555555556, \"#d8576b\"], [0.6666666666666666, \"#ed7953\"], [0.7777777777777778, \"#fb9f3a\"], [0.8888888888888888, \"#fdca26\"], [1.0, \"#f0f921\"]], \"type\": \"histogram2dcontour\"}], \"mesh3d\": [{\"colorbar\": {\"outlinewidth\": 0, \"ticks\": \"\"}, \"type\": \"mesh3d\"}], \"parcoords\": [{\"line\": {\"colorbar\": {\"outlinewidth\": 0, \"ticks\": \"\"}}, \"type\": \"parcoords\"}], \"pie\": [{\"automargin\": true, \"type\": \"pie\"}], \"scatter\": [{\"marker\": {\"colorbar\": {\"outlinewidth\": 0, \"ticks\": \"\"}}, \"type\": \"scatter\"}], \"scatter3d\": [{\"line\": {\"colorbar\": {\"outlinewidth\": 0, \"ticks\": \"\"}}, \"marker\": {\"colorbar\": {\"outlinewidth\": 0, \"ticks\": \"\"}}, \"type\": \"scatter3d\"}], \"scattercarpet\": [{\"marker\": {\"colorbar\": {\"outlinewidth\": 0, \"ticks\": \"\"}}, \"type\": \"scattercarpet\"}], \"scattergeo\": [{\"marker\": {\"colorbar\": {\"outlinewidth\": 0, \"ticks\": \"\"}}, \"type\": \"scattergeo\"}], \"scattergl\": [{\"marker\": {\"colorbar\": {\"outlinewidth\": 0, \"ticks\": \"\"}}, \"type\": \"scattergl\"}], \"scattermapbox\": [{\"marker\": {\"colorbar\": {\"outlinewidth\": 0, \"ticks\": \"\"}}, \"type\": \"scattermapbox\"}], \"scatterpolar\": [{\"marker\": {\"colorbar\": {\"outlinewidth\": 0, \"ticks\": \"\"}}, \"type\": \"scatterpolar\"}], \"scatterpolargl\": [{\"marker\": {\"colorbar\": {\"outlinewidth\": 0, \"ticks\": \"\"}}, \"type\": \"scatterpolargl\"}], \"scatterternary\": [{\"marker\": {\"colorbar\": {\"outlinewidth\": 0, \"ticks\": \"\"}}, \"type\": \"scatterternary\"}], \"surface\": [{\"colorbar\": {\"outlinewidth\": 0, \"ticks\": \"\"}, \"colorscale\": [[0.0, \"#0d0887\"], [0.1111111111111111, \"#46039f\"], [0.2222222222222222, \"#7201a8\"], [0.3333333333333333, \"#9c179e\"], [0.4444444444444444, \"#bd3786\"], [0.5555555555555556, \"#d8576b\"], [0.6666666666666666, \"#ed7953\"], [0.7777777777777778, \"#fb9f3a\"], [0.8888888888888888, \"#fdca26\"], [1.0, \"#f0f921\"]], \"type\": \"surface\"}], \"table\": [{\"cells\": {\"fill\": {\"color\": \"#EBF0F8\"}, \"line\": {\"color\": \"white\"}}, \"header\": {\"fill\": {\"color\": \"#C8D4E3\"}, \"line\": {\"color\": \"white\"}}, \"type\": \"table\"}]}, \"layout\": {\"annotationdefaults\": {\"arrowcolor\": \"#2a3f5f\", \"arrowhead\": 0, \"arrowwidth\": 1}, \"coloraxis\": {\"colorbar\": {\"outlinewidth\": 0, \"ticks\": \"\"}}, \"colorscale\": {\"diverging\": [[0, \"#8e0152\"], [0.1, \"#c51b7d\"], [0.2, \"#de77ae\"], [0.3, \"#f1b6da\"], [0.4, \"#fde0ef\"], [0.5, \"#f7f7f7\"], [0.6, \"#e6f5d0\"], [0.7, \"#b8e186\"], [0.8, \"#7fbc41\"], [0.9, \"#4d9221\"], [1, \"#276419\"]], \"sequential\": [[0.0, \"#0d0887\"], [0.1111111111111111, \"#46039f\"], [0.2222222222222222, \"#7201a8\"], [0.3333333333333333, \"#9c179e\"], [0.4444444444444444, \"#bd3786\"], [0.5555555555555556, \"#d8576b\"], [0.6666666666666666, \"#ed7953\"], [0.7777777777777778, \"#fb9f3a\"], [0.8888888888888888, \"#fdca26\"], [1.0, \"#f0f921\"]], \"sequentialminus\": [[0.0, \"#0d0887\"], [0.1111111111111111, \"#46039f\"], [0.2222222222222222, \"#7201a8\"], [0.3333333333333333, \"#9c179e\"], [0.4444444444444444, \"#bd3786\"], [0.5555555555555556, \"#d8576b\"], [0.6666666666666666, \"#ed7953\"], [0.7777777777777778, \"#fb9f3a\"], [0.8888888888888888, \"#fdca26\"], [1.0, \"#f0f921\"]]}, \"colorway\": [\"#636efa\", \"#EF553B\", \"#00cc96\", \"#ab63fa\", \"#FFA15A\", \"#19d3f3\", \"#FF6692\", \"#B6E880\", \"#FF97FF\", \"#FECB52\"], \"font\": {\"color\": \"#2a3f5f\"}, \"geo\": {\"bgcolor\": \"white\", \"lakecolor\": \"white\", \"landcolor\": \"#E5ECF6\", \"showlakes\": true, \"showland\": true, \"subunitcolor\": \"white\"}, \"hoverlabel\": {\"align\": \"left\"}, \"hovermode\": \"closest\", \"mapbox\": {\"style\": \"light\"}, \"paper_bgcolor\": \"white\", \"plot_bgcolor\": \"#E5ECF6\", \"polar\": {\"angularaxis\": {\"gridcolor\": \"white\", \"linecolor\": \"white\", \"ticks\": \"\"}, \"bgcolor\": \"#E5ECF6\", \"radialaxis\": {\"gridcolor\": \"white\", \"linecolor\": \"white\", \"ticks\": \"\"}}, \"scene\": {\"xaxis\": {\"backgroundcolor\": \"#E5ECF6\", \"gridcolor\": \"white\", \"gridwidth\": 2, \"linecolor\": \"white\", \"showbackground\": true, \"ticks\": \"\", \"zerolinecolor\": \"white\"}, \"yaxis\": {\"backgroundcolor\": \"#E5ECF6\", \"gridcolor\": \"white\", \"gridwidth\": 2, \"linecolor\": \"white\", \"showbackground\": true, \"ticks\": \"\", \"zerolinecolor\": \"white\"}, \"zaxis\": {\"backgroundcolor\": \"#E5ECF6\", \"gridcolor\": \"white\", \"gridwidth\": 2, \"linecolor\": \"white\", \"showbackground\": true, \"ticks\": \"\", \"zerolinecolor\": \"white\"}}, \"shapedefaults\": {\"line\": {\"color\": \"#2a3f5f\"}}, \"ternary\": {\"aaxis\": {\"gridcolor\": \"white\", \"linecolor\": \"white\", \"ticks\": \"\"}, \"baxis\": {\"gridcolor\": \"white\", \"linecolor\": \"white\", \"ticks\": \"\"}, \"bgcolor\": \"#E5ECF6\", \"caxis\": {\"gridcolor\": \"white\", \"linecolor\": \"white\", \"ticks\": \"\"}}, \"title\": {\"x\": 0.05}, \"xaxis\": {\"automargin\": true, \"gridcolor\": \"white\", \"linecolor\": \"white\", \"ticks\": \"\", \"title\": {\"standoff\": 15}, \"zerolinecolor\": \"white\", \"zerolinewidth\": 2}, \"yaxis\": {\"automargin\": true, \"gridcolor\": \"white\", \"linecolor\": \"white\", \"ticks\": \"\", \"title\": {\"standoff\": 15}, \"zerolinecolor\": \"white\", \"zerolinewidth\": 2}}}, \"title\": {\"text\": \"Face Shields Produced+Donated by Boston Scientific (Normalized to Population) - April 26th, 2020\"}},\n",
              "                        {\"responsive\": true}\n",
              "                    ).then(function(){\n",
              "                            \n",
              "var gd = document.getElementById('3fdb44af-c947-41e5-8dde-7d433934222e');\n",
              "var x = new MutationObserver(function (mutations, observer) {{\n",
              "        var display = window.getComputedStyle(gd).display;\n",
              "        if (!display || display === 'none') {{\n",
              "            console.log([gd, 'removed!']);\n",
              "            Plotly.purge(gd);\n",
              "            observer.disconnect();\n",
              "        }}\n",
              "}});\n",
              "\n",
              "// Listen for the removal of the full notebook cells\n",
              "var notebookContainer = gd.closest('#notebook-container');\n",
              "if (notebookContainer) {{\n",
              "    x.observe(notebookContainer, {childList: true});\n",
              "}}\n",
              "\n",
              "// Listen for the clearing of the current output cell\n",
              "var outputEl = gd.closest('.output');\n",
              "if (outputEl) {{\n",
              "    x.observe(outputEl, {childList: true});\n",
              "}}\n",
              "\n",
              "                        })\n",
              "                };\n",
              "                \n",
              "            </script>\n",
              "        </div>\n",
              "</body>\n",
              "</html>"
            ]
          },
          "metadata": {
            "tags": []
          }
        }
      ]
    },
    {
      "cell_type": "markdown",
      "metadata": {
        "id": "dWSNXBilAr4h",
        "colab_type": "text"
      },
      "source": [
        "### Download the figure"
      ]
    },
    {
      "cell_type": "code",
      "metadata": {
        "id": "Fw0QAUl094w8",
        "colab_type": "code",
        "colab": {}
      },
      "source": [
        "# Download the figure\n",
        "go.Figure.write_html(fig, file='N95s Delivered by HHS by April 3rd - 2020.html',\n",
        "                     config={'responsive': True}, include_plotlyjs='cdn')"
      ],
      "execution_count": 0,
      "outputs": []
    },
    {
      "cell_type": "markdown",
      "metadata": {
        "id": "gbVPDWpWB_5F",
        "colab_type": "text"
      },
      "source": [
        "### GOAL: Shields per covid case"
      ]
    },
    {
      "cell_type": "code",
      "metadata": {
        "id": "JE0nBUvXlrTS",
        "colab_type": "code",
        "colab": {}
      },
      "source": [
        "### Download NYTimes State level data "
      ],
      "execution_count": 0,
      "outputs": []
    },
    {
      "cell_type": "code",
      "metadata": {
        "id": "StvJ5ZHVlrZo",
        "colab_type": "code",
        "colab": {}
      },
      "source": [
        "def download_nytimes_data(url, date):\n",
        "    covid_df = pd.read_csv(url)\n",
        "    covid_df = covid_df.loc[covid_df['date'] == date]\n",
        "    return covid_df"
      ],
      "execution_count": 0,
      "outputs": []
    },
    {
      "cell_type": "code",
      "metadata": {
        "id": "-N9WaYZBlrck",
        "colab_type": "code",
        "outputId": "bfd6e4b3-3fd6-442f-ce26-15ab54d4e52a",
        "colab": {
          "base_uri": "https://localhost:8080/",
          "height": 118
        }
      },
      "source": [
        "date = \"2020-04-25\"\n",
        "url = \"https://github.com/nytimes/covid-19-data/raw/master/us-states.csv\"\n",
        "\n",
        "covid_df =  download_nytimes_data(url, date)\n",
        "covid_df.nunique()"
      ],
      "execution_count": 16,
      "outputs": [
        {
          "output_type": "execute_result",
          "data": {
            "text/plain": [
              "date       1\n",
              "state     55\n",
              "fips      55\n",
              "cases     55\n",
              "deaths    52\n",
              "dtype: int64"
            ]
          },
          "metadata": {
            "tags": []
          },
          "execution_count": 16
        }
      ]
    },
    {
      "cell_type": "markdown",
      "metadata": {
        "id": "yuu5Ch9Ml9sC",
        "colab_type": "text"
      },
      "source": [
        "### Process NYtimes data"
      ]
    },
    {
      "cell_type": "code",
      "metadata": {
        "id": "WzXeRFwVl9uU",
        "colab_type": "code",
        "outputId": "3e0818c5-7ca2-4751-f731-43242fd10849",
        "colab": {
          "base_uri": "https://localhost:8080/",
          "height": 134
        }
      },
      "source": [
        "# Sort values by Face Shields\n",
        "covid_df.sort_values(by=['cases'], ascending=False, inplace=True)\n",
        "\n",
        "covid_df['state_code']=covid_df.apply(\n",
        "    lambda row: (keep_states_only(us_state_abbrev, row['state'])),axis=1\n",
        ")\n",
        "\n",
        "# Remove all commas\n",
        "covid_df = covid_df.replace(',','', regex=True)\n",
        "\n",
        "# dropna\n",
        "covid_df.dropna(inplace=True)\n",
        "\n",
        "# print breakdown\n",
        "covid_df.nunique()"
      ],
      "execution_count": 17,
      "outputs": [
        {
          "output_type": "execute_result",
          "data": {
            "text/plain": [
              "date           1\n",
              "state         55\n",
              "fips          55\n",
              "cases         55\n",
              "deaths        52\n",
              "state_code    55\n",
              "dtype: int64"
            ]
          },
          "metadata": {
            "tags": []
          },
          "execution_count": 17
        }
      ]
    },
    {
      "cell_type": "code",
      "metadata": {
        "id": "0jwxwLtRsFU7",
        "colab_type": "code",
        "colab": {}
      },
      "source": [
        "# TODO: Put all the others in per state\n",
        "covid_df['text'] = covid_df['state'].astype(str) + '<br>' + \\\n",
        "    'Cases: ' + covid_df['cases'].astype(str) + '<br>' + \\\n",
        "    'Deaths: ' + covid_df['deaths'].astype(str) + '<br>'"
      ],
      "execution_count": 0,
      "outputs": []
    },
    {
      "cell_type": "markdown",
      "metadata": {
        "id": "QqREHNmlrpk_",
        "colab_type": "text"
      },
      "source": [
        "### Make the Covid state map"
      ]
    },
    {
      "cell_type": "code",
      "metadata": {
        "id": "oIIcMKGnl9w3",
        "colab_type": "code",
        "outputId": "2bbcc53d-072b-4041-9cdb-5f0092fe0701",
        "colab": {
          "base_uri": "https://localhost:8080/",
          "height": 542
        }
      },
      "source": [
        "# Make the figure\n",
        "fig = go.Figure(data=go.Choropleth(\n",
        "    locations=covid_df['state_code'], # Spatial coordinates\n",
        "    z = covid_df['cases'].astype(float), # Data to be color-coded\n",
        "    locationmode = 'USA-states', # set of locations match entries in `locations`\n",
        "    colorscale = 'reds',\n",
        "    text=covid_df['text'], # hover text\n",
        "    colorbar_title = \">COVID19 Caes\",\n",
        "    hoverinfo='text',\n",
        "    marker_line_color='Black', # line markers between states\n",
        "    marker_opacity=0.8, \n",
        "    zmin=0,\n",
        "    zmax=100000,\n",
        "    marker_line_width=0.5,\n",
        "))\n",
        "\n",
        "fig.update_layout(\n",
        "    title_text='COVID19 Cases by State - April 26th, 2020',\n",
        "    geo = dict(\n",
        "        scope='usa',\n",
        "        projection=go.layout.geo.Projection(type = 'albers usa'),\n",
        "        showlakes=True, # lakes\n",
        "        lakecolor='rgb(255, 255, 255)'),\n",
        ")\n",
        "\n",
        "fig.show()"
      ],
      "execution_count": 19,
      "outputs": [
        {
          "output_type": "display_data",
          "data": {
            "text/html": [
              "<html>\n",
              "<head><meta charset=\"utf-8\" /></head>\n",
              "<body>\n",
              "    <div>\n",
              "            <script src=\"https://cdnjs.cloudflare.com/ajax/libs/mathjax/2.7.5/MathJax.js?config=TeX-AMS-MML_SVG\"></script><script type=\"text/javascript\">if (window.MathJax) {MathJax.Hub.Config({SVG: {font: \"STIX-Web\"}});}</script>\n",
              "                <script type=\"text/javascript\">window.PlotlyConfig = {MathJaxConfig: 'local'};</script>\n",
              "        <script src=\"https://cdn.plot.ly/plotly-latest.min.js\"></script>    \n",
              "            <div id=\"0e645344-97d6-4746-add6-3f9dc9758259\" class=\"plotly-graph-div\" style=\"height:525px; width:100%;\"></div>\n",
              "            <script type=\"text/javascript\">\n",
              "                \n",
              "                    window.PLOTLYENV=window.PLOTLYENV || {};\n",
              "                    \n",
              "                if (document.getElementById(\"0e645344-97d6-4746-add6-3f9dc9758259\")) {\n",
              "                    Plotly.newPlot(\n",
              "                        '0e645344-97d6-4746-add6-3f9dc9758259',\n",
              "                        [{\"colorbar\": {\"title\": {\"text\": \">COVID19 Caes\"}}, \"colorscale\": [[0.0, \"rgb(255,245,240)\"], [0.125, \"rgb(254,224,210)\"], [0.25, \"rgb(252,187,161)\"], [0.375, \"rgb(252,146,114)\"], [0.5, \"rgb(251,106,74)\"], [0.625, \"rgb(239,59,44)\"], [0.75, \"rgb(203,24,29)\"], [0.875, \"rgb(165,15,21)\"], [1.0, \"rgb(103,0,13)\"]], \"hoverinfo\": \"text\", \"locationmode\": \"USA-states\", \"locations\": [\"NY\", \"NJ\", \"MA\", \"CA\", \"IL\", \"PA\", \"MI\", \"FL\", \"LA\", \"CT\", \"TX\", \"GA\", \"MD\", \"OH\", \"IN\", \"WA\", \"CO\", \"VA\", \"TN\", \"NC\", \"RI\", \"MO\", \"AZ\", \"AL\", \"MS\", \"WI\", \"SC\", \"IA\", \"NV\", \"UT\", \"KY\", \"DC\", \"DE\", \"MN\", \"OK\", \"KS\", \"AR\", \"NE\", \"NM\", \"OR\", \"SD\", \"NH\", \"ID\", \"PR\", \"WV\", \"GU\", \"ME\", \"VT\", \"ND\", \"HI\", \"MT\", \"WY\", \"AK\", \"VI\", \"MP\"], \"marker\": {\"line\": {\"color\": \"Black\", \"width\": 0.5}, \"opacity\": 0.8}, \"text\": [\"New York<br>Cases: 282174<br>Deaths: 16599<br>\", \"New Jersey<br>Cases: 105523<br>Deaths: 5863<br>\", \"Massachusetts<br>Cases: 53348<br>Deaths: 2730<br>\", \"California<br>Cases: 42347<br>Deaths: 1677<br>\", \"Illinois<br>Cases: 41777<br>Deaths: 1884<br>\", \"Pennsylvania<br>Cases: 41626<br>Deaths: 1842<br>\", \"Michigan<br>Cases: 37184<br>Deaths: 3273<br>\", \"Florida<br>Cases: 30831<br>Deaths: 1054<br>\", \"Louisiana<br>Cases: 26512<br>Deaths: 1644<br>\", \"Connecticut<br>Cases: 24582<br>Deaths: 1862<br>\", \"Texas<br>Cases: 24494<br>Deaths: 662<br>\", \"Georgia<br>Cases: 22225<br>Deaths: 897<br>\", \"Maryland<br>Cases: 17766<br>Deaths: 797<br>\", \"Ohio<br>Cases: 15587<br>Deaths: 711<br>\", \"Indiana<br>Cases: 14395<br>Deaths: 785<br>\", \"Washington<br>Cases: 13484<br>Deaths: 743<br>\", \"Colorado<br>Cases: 12968<br>Deaths: 670<br>\", \"Virginia<br>Cases: 12366<br>Deaths: 436<br>\", \"Tennessee<br>Cases: 8977<br>Deaths: 187<br>\", \"North Carolina<br>Cases: 8623<br>Deaths: 300<br>\", \"Rhode Island<br>Cases: 7129<br>Deaths: 215<br>\", \"Missouri<br>Cases: 6826<br>Deaths: 280<br>\", \"Arizona<br>Cases: 6280<br>Deaths: 275<br>\", \"Alabama<br>Cases: 6213<br>Deaths: 213<br>\", \"Mississippi<br>Cases: 5718<br>Deaths: 221<br>\", \"Wisconsin<br>Cases: 5687<br>Deaths: 266<br>\", \"South Carolina<br>Cases: 5253<br>Deaths: 166<br>\", \"Iowa<br>Cases: 5109<br>Deaths: 112<br>\", \"Nevada<br>Cases: 4539<br>Deaths: 206<br>\", \"Utah<br>Cases: 3950<br>Deaths: 41<br>\", \"Kentucky<br>Cases: 3905<br>Deaths: 208<br>\", \"District of Columbia<br>Cases: 3699<br>Deaths: 165<br>\", \"Delaware<br>Cases: 3576<br>Deaths: 112<br>\", \"Minnesota<br>Cases: 3446<br>Deaths: 244<br>\", \"Oklahoma<br>Cases: 3193<br>Deaths: 194<br>\", \"Kansas<br>Cases: 3081<br>Deaths: 119<br>\", \"Arkansas<br>Cases: 2909<br>Deaths: 48<br>\", \"Nebraska<br>Cases: 2902<br>Deaths: 53<br>\", \"New Mexico<br>Cases: 2662<br>Deaths: 93<br>\", \"Oregon<br>Cases: 2253<br>Deaths: 87<br>\", \"South Dakota<br>Cases: 2147<br>Deaths: 10<br>\", \"New Hampshire<br>Cases: 1793<br>Deaths: 60<br>\", \"Idaho<br>Cases: 1760<br>Deaths: 56<br>\", \"Puerto Rico<br>Cases: 1307<br>Deaths: 52<br>\", \"West Virginia<br>Cases: 1025<br>Deaths: 33<br>\", \"Guam<br>Cases: 993<br>Deaths: 6<br>\", \"Maine<br>Cases: 990<br>Deaths: 50<br>\", \"Vermont<br>Cases: 843<br>Deaths: 46<br>\", \"North Dakota<br>Cases: 803<br>Deaths: 16<br>\", \"Hawaii<br>Cases: 597<br>Deaths: 14<br>\", \"Montana<br>Cases: 445<br>Deaths: 14<br>\", \"Wyoming<br>Cases: 362<br>Deaths: 7<br>\", \"Alaska<br>Cases: 337<br>Deaths: 7<br>\", \"Virgin Islands<br>Cases: 55<br>Deaths: 3<br>\", \"Northern Mariana Islands<br>Cases: 14<br>Deaths: 2<br>\"], \"type\": \"choropleth\", \"z\": [282174.0, 105523.0, 53348.0, 42347.0, 41777.0, 41626.0, 37184.0, 30831.0, 26512.0, 24582.0, 24494.0, 22225.0, 17766.0, 15587.0, 14395.0, 13484.0, 12968.0, 12366.0, 8977.0, 8623.0, 7129.0, 6826.0, 6280.0, 6213.0, 5718.0, 5687.0, 5253.0, 5109.0, 4539.0, 3950.0, 3905.0, 3699.0, 3576.0, 3446.0, 3193.0, 3081.0, 2909.0, 2902.0, 2662.0, 2253.0, 2147.0, 1793.0, 1760.0, 1307.0, 1025.0, 993.0, 990.0, 843.0, 803.0, 597.0, 445.0, 362.0, 337.0, 55.0, 14.0], \"zmax\": 100000, \"zmin\": 0}],\n",
              "                        {\"geo\": {\"lakecolor\": \"rgb(255, 255, 255)\", \"projection\": {\"type\": \"albers usa\"}, \"scope\": \"usa\", \"showlakes\": true}, \"template\": {\"data\": {\"bar\": [{\"error_x\": {\"color\": \"#2a3f5f\"}, \"error_y\": {\"color\": \"#2a3f5f\"}, \"marker\": {\"line\": {\"color\": \"#E5ECF6\", \"width\": 0.5}}, \"type\": \"bar\"}], \"barpolar\": [{\"marker\": {\"line\": {\"color\": \"#E5ECF6\", \"width\": 0.5}}, \"type\": \"barpolar\"}], \"carpet\": [{\"aaxis\": {\"endlinecolor\": \"#2a3f5f\", \"gridcolor\": \"white\", \"linecolor\": \"white\", \"minorgridcolor\": \"white\", \"startlinecolor\": \"#2a3f5f\"}, \"baxis\": {\"endlinecolor\": \"#2a3f5f\", \"gridcolor\": \"white\", \"linecolor\": \"white\", \"minorgridcolor\": \"white\", \"startlinecolor\": \"#2a3f5f\"}, \"type\": \"carpet\"}], \"choropleth\": [{\"colorbar\": {\"outlinewidth\": 0, \"ticks\": \"\"}, \"type\": \"choropleth\"}], \"contour\": [{\"colorbar\": {\"outlinewidth\": 0, \"ticks\": \"\"}, \"colorscale\": [[0.0, \"#0d0887\"], [0.1111111111111111, \"#46039f\"], [0.2222222222222222, \"#7201a8\"], [0.3333333333333333, \"#9c179e\"], [0.4444444444444444, \"#bd3786\"], [0.5555555555555556, \"#d8576b\"], [0.6666666666666666, \"#ed7953\"], [0.7777777777777778, \"#fb9f3a\"], [0.8888888888888888, \"#fdca26\"], [1.0, \"#f0f921\"]], \"type\": \"contour\"}], \"contourcarpet\": [{\"colorbar\": {\"outlinewidth\": 0, \"ticks\": \"\"}, \"type\": \"contourcarpet\"}], \"heatmap\": [{\"colorbar\": {\"outlinewidth\": 0, \"ticks\": \"\"}, \"colorscale\": [[0.0, \"#0d0887\"], [0.1111111111111111, \"#46039f\"], [0.2222222222222222, \"#7201a8\"], [0.3333333333333333, \"#9c179e\"], [0.4444444444444444, \"#bd3786\"], [0.5555555555555556, \"#d8576b\"], [0.6666666666666666, \"#ed7953\"], [0.7777777777777778, \"#fb9f3a\"], [0.8888888888888888, \"#fdca26\"], [1.0, \"#f0f921\"]], \"type\": \"heatmap\"}], \"heatmapgl\": [{\"colorbar\": {\"outlinewidth\": 0, \"ticks\": \"\"}, \"colorscale\": [[0.0, \"#0d0887\"], [0.1111111111111111, \"#46039f\"], [0.2222222222222222, \"#7201a8\"], [0.3333333333333333, \"#9c179e\"], [0.4444444444444444, \"#bd3786\"], [0.5555555555555556, \"#d8576b\"], [0.6666666666666666, \"#ed7953\"], [0.7777777777777778, \"#fb9f3a\"], [0.8888888888888888, \"#fdca26\"], [1.0, \"#f0f921\"]], \"type\": \"heatmapgl\"}], \"histogram\": [{\"marker\": {\"colorbar\": {\"outlinewidth\": 0, \"ticks\": \"\"}}, \"type\": \"histogram\"}], \"histogram2d\": [{\"colorbar\": {\"outlinewidth\": 0, \"ticks\": \"\"}, \"colorscale\": [[0.0, \"#0d0887\"], [0.1111111111111111, \"#46039f\"], [0.2222222222222222, \"#7201a8\"], [0.3333333333333333, \"#9c179e\"], [0.4444444444444444, \"#bd3786\"], [0.5555555555555556, \"#d8576b\"], [0.6666666666666666, \"#ed7953\"], [0.7777777777777778, \"#fb9f3a\"], [0.8888888888888888, \"#fdca26\"], [1.0, \"#f0f921\"]], \"type\": \"histogram2d\"}], \"histogram2dcontour\": [{\"colorbar\": {\"outlinewidth\": 0, \"ticks\": \"\"}, \"colorscale\": [[0.0, \"#0d0887\"], [0.1111111111111111, \"#46039f\"], [0.2222222222222222, \"#7201a8\"], [0.3333333333333333, \"#9c179e\"], [0.4444444444444444, \"#bd3786\"], [0.5555555555555556, \"#d8576b\"], [0.6666666666666666, \"#ed7953\"], [0.7777777777777778, \"#fb9f3a\"], [0.8888888888888888, \"#fdca26\"], [1.0, \"#f0f921\"]], \"type\": \"histogram2dcontour\"}], \"mesh3d\": [{\"colorbar\": {\"outlinewidth\": 0, \"ticks\": \"\"}, \"type\": \"mesh3d\"}], \"parcoords\": [{\"line\": {\"colorbar\": {\"outlinewidth\": 0, \"ticks\": \"\"}}, \"type\": \"parcoords\"}], \"pie\": [{\"automargin\": true, \"type\": \"pie\"}], \"scatter\": [{\"marker\": {\"colorbar\": {\"outlinewidth\": 0, \"ticks\": \"\"}}, \"type\": \"scatter\"}], \"scatter3d\": [{\"line\": {\"colorbar\": {\"outlinewidth\": 0, \"ticks\": \"\"}}, \"marker\": {\"colorbar\": {\"outlinewidth\": 0, \"ticks\": \"\"}}, \"type\": \"scatter3d\"}], \"scattercarpet\": [{\"marker\": {\"colorbar\": {\"outlinewidth\": 0, \"ticks\": \"\"}}, \"type\": \"scattercarpet\"}], \"scattergeo\": [{\"marker\": {\"colorbar\": {\"outlinewidth\": 0, \"ticks\": \"\"}}, \"type\": \"scattergeo\"}], \"scattergl\": [{\"marker\": {\"colorbar\": {\"outlinewidth\": 0, \"ticks\": \"\"}}, \"type\": \"scattergl\"}], \"scattermapbox\": [{\"marker\": {\"colorbar\": {\"outlinewidth\": 0, \"ticks\": \"\"}}, \"type\": \"scattermapbox\"}], \"scatterpolar\": [{\"marker\": {\"colorbar\": {\"outlinewidth\": 0, \"ticks\": \"\"}}, \"type\": \"scatterpolar\"}], \"scatterpolargl\": [{\"marker\": {\"colorbar\": {\"outlinewidth\": 0, \"ticks\": \"\"}}, \"type\": \"scatterpolargl\"}], \"scatterternary\": [{\"marker\": {\"colorbar\": {\"outlinewidth\": 0, \"ticks\": \"\"}}, \"type\": \"scatterternary\"}], \"surface\": [{\"colorbar\": {\"outlinewidth\": 0, \"ticks\": \"\"}, \"colorscale\": [[0.0, \"#0d0887\"], [0.1111111111111111, \"#46039f\"], [0.2222222222222222, \"#7201a8\"], [0.3333333333333333, \"#9c179e\"], [0.4444444444444444, \"#bd3786\"], [0.5555555555555556, \"#d8576b\"], [0.6666666666666666, \"#ed7953\"], [0.7777777777777778, \"#fb9f3a\"], [0.8888888888888888, \"#fdca26\"], [1.0, \"#f0f921\"]], \"type\": \"surface\"}], \"table\": [{\"cells\": {\"fill\": {\"color\": \"#EBF0F8\"}, \"line\": {\"color\": \"white\"}}, \"header\": {\"fill\": {\"color\": \"#C8D4E3\"}, \"line\": {\"color\": \"white\"}}, \"type\": \"table\"}]}, \"layout\": {\"annotationdefaults\": {\"arrowcolor\": \"#2a3f5f\", \"arrowhead\": 0, \"arrowwidth\": 1}, \"coloraxis\": {\"colorbar\": {\"outlinewidth\": 0, \"ticks\": \"\"}}, \"colorscale\": {\"diverging\": [[0, \"#8e0152\"], [0.1, \"#c51b7d\"], [0.2, \"#de77ae\"], [0.3, \"#f1b6da\"], [0.4, \"#fde0ef\"], [0.5, \"#f7f7f7\"], [0.6, \"#e6f5d0\"], [0.7, \"#b8e186\"], [0.8, \"#7fbc41\"], [0.9, \"#4d9221\"], [1, \"#276419\"]], \"sequential\": [[0.0, \"#0d0887\"], [0.1111111111111111, \"#46039f\"], [0.2222222222222222, \"#7201a8\"], [0.3333333333333333, \"#9c179e\"], [0.4444444444444444, \"#bd3786\"], [0.5555555555555556, \"#d8576b\"], [0.6666666666666666, \"#ed7953\"], [0.7777777777777778, \"#fb9f3a\"], [0.8888888888888888, \"#fdca26\"], [1.0, \"#f0f921\"]], \"sequentialminus\": [[0.0, \"#0d0887\"], [0.1111111111111111, \"#46039f\"], [0.2222222222222222, \"#7201a8\"], [0.3333333333333333, \"#9c179e\"], [0.4444444444444444, \"#bd3786\"], [0.5555555555555556, \"#d8576b\"], [0.6666666666666666, \"#ed7953\"], [0.7777777777777778, \"#fb9f3a\"], [0.8888888888888888, \"#fdca26\"], [1.0, \"#f0f921\"]]}, \"colorway\": [\"#636efa\", \"#EF553B\", \"#00cc96\", \"#ab63fa\", \"#FFA15A\", \"#19d3f3\", \"#FF6692\", \"#B6E880\", \"#FF97FF\", \"#FECB52\"], \"font\": {\"color\": \"#2a3f5f\"}, \"geo\": {\"bgcolor\": \"white\", \"lakecolor\": \"white\", \"landcolor\": \"#E5ECF6\", \"showlakes\": true, \"showland\": true, \"subunitcolor\": \"white\"}, \"hoverlabel\": {\"align\": \"left\"}, \"hovermode\": \"closest\", \"mapbox\": {\"style\": \"light\"}, \"paper_bgcolor\": \"white\", \"plot_bgcolor\": \"#E5ECF6\", \"polar\": {\"angularaxis\": {\"gridcolor\": \"white\", \"linecolor\": \"white\", \"ticks\": \"\"}, \"bgcolor\": \"#E5ECF6\", \"radialaxis\": {\"gridcolor\": \"white\", \"linecolor\": \"white\", \"ticks\": \"\"}}, \"scene\": {\"xaxis\": {\"backgroundcolor\": \"#E5ECF6\", \"gridcolor\": \"white\", \"gridwidth\": 2, \"linecolor\": \"white\", \"showbackground\": true, \"ticks\": \"\", \"zerolinecolor\": \"white\"}, \"yaxis\": {\"backgroundcolor\": \"#E5ECF6\", \"gridcolor\": \"white\", \"gridwidth\": 2, \"linecolor\": \"white\", \"showbackground\": true, \"ticks\": \"\", \"zerolinecolor\": \"white\"}, \"zaxis\": {\"backgroundcolor\": \"#E5ECF6\", \"gridcolor\": \"white\", \"gridwidth\": 2, \"linecolor\": \"white\", \"showbackground\": true, \"ticks\": \"\", \"zerolinecolor\": \"white\"}}, \"shapedefaults\": {\"line\": {\"color\": \"#2a3f5f\"}}, \"ternary\": {\"aaxis\": {\"gridcolor\": \"white\", \"linecolor\": \"white\", \"ticks\": \"\"}, \"baxis\": {\"gridcolor\": \"white\", \"linecolor\": \"white\", \"ticks\": \"\"}, \"bgcolor\": \"#E5ECF6\", \"caxis\": {\"gridcolor\": \"white\", \"linecolor\": \"white\", \"ticks\": \"\"}}, \"title\": {\"x\": 0.05}, \"xaxis\": {\"automargin\": true, \"gridcolor\": \"white\", \"linecolor\": \"white\", \"ticks\": \"\", \"title\": {\"standoff\": 15}, \"zerolinecolor\": \"white\", \"zerolinewidth\": 2}, \"yaxis\": {\"automargin\": true, \"gridcolor\": \"white\", \"linecolor\": \"white\", \"ticks\": \"\", \"title\": {\"standoff\": 15}, \"zerolinecolor\": \"white\", \"zerolinewidth\": 2}}}, \"title\": {\"text\": \"COVID19 Cases by State - April 26th, 2020\"}},\n",
              "                        {\"responsive\": true}\n",
              "                    ).then(function(){\n",
              "                            \n",
              "var gd = document.getElementById('0e645344-97d6-4746-add6-3f9dc9758259');\n",
              "var x = new MutationObserver(function (mutations, observer) {{\n",
              "        var display = window.getComputedStyle(gd).display;\n",
              "        if (!display || display === 'none') {{\n",
              "            console.log([gd, 'removed!']);\n",
              "            Plotly.purge(gd);\n",
              "            observer.disconnect();\n",
              "        }}\n",
              "}});\n",
              "\n",
              "// Listen for the removal of the full notebook cells\n",
              "var notebookContainer = gd.closest('#notebook-container');\n",
              "if (notebookContainer) {{\n",
              "    x.observe(notebookContainer, {childList: true});\n",
              "}}\n",
              "\n",
              "// Listen for the clearing of the current output cell\n",
              "var outputEl = gd.closest('.output');\n",
              "if (outputEl) {{\n",
              "    x.observe(outputEl, {childList: true});\n",
              "}}\n",
              "\n",
              "                        })\n",
              "                };\n",
              "                \n",
              "            </script>\n",
              "        </div>\n",
              "</body>\n",
              "</html>"
            ]
          },
          "metadata": {
            "tags": []
          }
        }
      ]
    },
    {
      "cell_type": "markdown",
      "metadata": {
        "id": "fGcXMHgCl9zI",
        "colab_type": "text"
      },
      "source": [
        "### Merge nytimes data into boston scientific and population information"
      ]
    },
    {
      "cell_type": "code",
      "metadata": {
        "id": "oobiG2LOl91U",
        "colab_type": "code",
        "outputId": "a9363336-866a-4615-cc78-6b0f85fb233e",
        "colab": {
          "base_uri": "https://localhost:8080/",
          "height": 290
        }
      },
      "source": [
        "# Inner Join\n",
        "merged_full_df = merged_df.join(\n",
        "    covid_df[['state_code','cases','deaths']].set_index('state_code'),\n",
        "    on='state_code',  how='left')\n",
        "\n",
        "# Remove all commas\n",
        "merged_full_df = merged_full_df.replace(',','', regex=True)\n",
        "\n",
        "# Fill NAs\n",
        "merged_full_df.fillna(0,inplace=True)\n",
        "\n",
        "# Convert to numeric values\n",
        "merged_full_df[['cases','deaths']] = merged_full_df[\n",
        "    ['cases','deaths']].astype(int)\n",
        "\n",
        "# get normalized cases counts\n",
        "merged_full_df['normalized_cases']=merged_full_df.apply(\n",
        "    lambda row: (row['cases'] / row['Population']),axis=1\n",
        ")\n",
        "merged_full_df['normalized_cases_per_100k']=merged_full_df.apply(\n",
        "    lambda row: (row['cases'] / row['Population'] * 100000),axis=1\n",
        ")\n",
        "\n",
        "# KEY LOGIC\n",
        "# Shields donated per covid case\n",
        "merged_full_df['shields_donated_per_covid_case']=merged_full_df.apply(\n",
        "    lambda row: (row['Face Shield'] / row['cases']),axis=1\n",
        ")\n",
        "\n",
        "# round out the normalized columns\n",
        "merged_full_df['normalized_cases'] = merged_full_df['normalized_cases'].round(6)\n",
        "merged_full_df['normalized_cases_per_100k'] = merged_full_df['normalized_cases_per_100k'].round(1)\n",
        "merged_full_df['shields_donated_per_covid_case'] = merged_full_df['shields_donated_per_covid_case'].round(2)\n",
        "\n",
        "\n",
        "\n",
        "# Add text column\n",
        "merged_full_df['text'] = merged_full_df['State'].astype(str) + '<br>' + \\\n",
        "    'Face Shields Per Covid Case: ' + merged_full_df['shields_donated_per_covid_case'].astype(str) + '<br><br>' + \\\n",
        "    'COVID19 Cases: ' + merged_full_df['cases'].astype(str) + '<br>' + \\\n",
        "    'COVID19 Death: ' + merged_full_df['deaths'].astype(str) + '<br>' + \\\n",
        "    'Face Shields: ' + merged_full_df['Face Shield'].astype(str) + '<br>' + \\\n",
        "    'Population: ' + merged_full_df['Population'].astype(str)\n",
        "\n",
        "# Add text column for nomalized Covid19 Cases\n",
        "merged_full_df['text2'] = merged_full_df['State'].astype(str) + '<br>' + \\\n",
        "    'COVID19 Cases Per 100K: ' + merged_full_df['normalized_cases_per_100k'].astype(str) + '<br><br>' + \\\n",
        "    'COVID19 Cases: ' + merged_full_df['cases'].astype(str) + '<br>' + \\\n",
        "    'COVID19 Death: ' + merged_full_df['deaths'].astype(str) + '<br>' + \\\n",
        "    'Face Shields: ' + merged_full_df['Face Shield'].astype(str) + '<br>' + \\\n",
        "    'Face Shields Per Covid Case: ' + merged_full_df['shields_donated_per_covid_case'].astype(str) + '<br>' + \\\n",
        "    'Population: ' + merged_full_df['Population'].astype(str)\n",
        "    \n",
        "\n",
        "# print example out\n",
        "print (len(merged_full_df.index))\n",
        "merged_full_df.head(3)"
      ],
      "execution_count": 40,
      "outputs": [
        {
          "output_type": "stream",
          "text": [
            "52\n"
          ],
          "name": "stdout"
        },
        {
          "output_type": "execute_result",
          "data": {
            "text/html": [
              "<div>\n",
              "<style scoped>\n",
              "    .dataframe tbody tr th:only-of-type {\n",
              "        vertical-align: middle;\n",
              "    }\n",
              "\n",
              "    .dataframe tbody tr th {\n",
              "        vertical-align: top;\n",
              "    }\n",
              "\n",
              "    .dataframe thead th {\n",
              "        text-align: right;\n",
              "    }\n",
              "</style>\n",
              "<table border=\"1\" class=\"dataframe\">\n",
              "  <thead>\n",
              "    <tr style=\"text-align: right;\">\n",
              "      <th></th>\n",
              "      <th>State</th>\n",
              "      <th>Population</th>\n",
              "      <th>state_code</th>\n",
              "      <th>Face Shield</th>\n",
              "      <th>normalized_face_shield</th>\n",
              "      <th>normalized_face_shield_per_100k</th>\n",
              "      <th>text</th>\n",
              "      <th>cases</th>\n",
              "      <th>deaths</th>\n",
              "      <th>normalized_cases</th>\n",
              "      <th>normalized_cases_per_100k</th>\n",
              "      <th>shields_donated_per_covid_case</th>\n",
              "      <th>text2</th>\n",
              "    </tr>\n",
              "  </thead>\n",
              "  <tbody>\n",
              "    <tr>\n",
              "      <th>5</th>\n",
              "      <td>Alabama</td>\n",
              "      <td>4903185</td>\n",
              "      <td>AL</td>\n",
              "      <td>0</td>\n",
              "      <td>0.000000</td>\n",
              "      <td>0.0</td>\n",
              "      <td>Alabama&lt;br&gt;Face Shields Per Covid Case: 0.0&lt;br...</td>\n",
              "      <td>6213</td>\n",
              "      <td>213</td>\n",
              "      <td>0.001267</td>\n",
              "      <td>126.7</td>\n",
              "      <td>0.0</td>\n",
              "      <td>Alabama&lt;br&gt;COVID19 Cases Per 100K: 126.7&lt;br&gt;&lt;b...</td>\n",
              "    </tr>\n",
              "    <tr>\n",
              "      <th>6</th>\n",
              "      <td>Alaska</td>\n",
              "      <td>731545</td>\n",
              "      <td>AK</td>\n",
              "      <td>0</td>\n",
              "      <td>0.000000</td>\n",
              "      <td>0.0</td>\n",
              "      <td>Alaska&lt;br&gt;Face Shields Per Covid Case: 0.0&lt;br&gt;...</td>\n",
              "      <td>337</td>\n",
              "      <td>7</td>\n",
              "      <td>0.000461</td>\n",
              "      <td>46.1</td>\n",
              "      <td>0.0</td>\n",
              "      <td>Alaska&lt;br&gt;COVID19 Cases Per 100K: 46.1&lt;br&gt;&lt;br&gt;...</td>\n",
              "    </tr>\n",
              "    <tr>\n",
              "      <th>7</th>\n",
              "      <td>Arizona</td>\n",
              "      <td>7278717</td>\n",
              "      <td>AZ</td>\n",
              "      <td>5000</td>\n",
              "      <td>0.000687</td>\n",
              "      <td>68.7</td>\n",
              "      <td>Arizona&lt;br&gt;Face Shields Per Covid Case: 0.8&lt;br...</td>\n",
              "      <td>6280</td>\n",
              "      <td>275</td>\n",
              "      <td>0.000863</td>\n",
              "      <td>86.3</td>\n",
              "      <td>0.8</td>\n",
              "      <td>Arizona&lt;br&gt;COVID19 Cases Per 100K: 86.3&lt;br&gt;&lt;br...</td>\n",
              "    </tr>\n",
              "  </tbody>\n",
              "</table>\n",
              "</div>"
            ],
            "text/plain": [
              "     State  Population state_code  Face Shield  normalized_face_shield  \\\n",
              "5  Alabama     4903185         AL            0                0.000000   \n",
              "6   Alaska      731545         AK            0                0.000000   \n",
              "7  Arizona     7278717         AZ         5000                0.000687   \n",
              "\n",
              "   normalized_face_shield_per_100k  \\\n",
              "5                              0.0   \n",
              "6                              0.0   \n",
              "7                             68.7   \n",
              "\n",
              "                                                text  cases  deaths  \\\n",
              "5  Alabama<br>Face Shields Per Covid Case: 0.0<br...   6213     213   \n",
              "6  Alaska<br>Face Shields Per Covid Case: 0.0<br>...    337       7   \n",
              "7  Arizona<br>Face Shields Per Covid Case: 0.8<br...   6280     275   \n",
              "\n",
              "   normalized_cases  normalized_cases_per_100k  \\\n",
              "5          0.001267                      126.7   \n",
              "6          0.000461                       46.1   \n",
              "7          0.000863                       86.3   \n",
              "\n",
              "   shields_donated_per_covid_case  \\\n",
              "5                             0.0   \n",
              "6                             0.0   \n",
              "7                             0.8   \n",
              "\n",
              "                                               text2  \n",
              "5  Alabama<br>COVID19 Cases Per 100K: 126.7<br><b...  \n",
              "6  Alaska<br>COVID19 Cases Per 100K: 46.1<br><br>...  \n",
              "7  Arizona<br>COVID19 Cases Per 100K: 86.3<br><br...  "
            ]
          },
          "metadata": {
            "tags": []
          },
          "execution_count": 40
        }
      ]
    },
    {
      "cell_type": "markdown",
      "metadata": {
        "id": "OFEB1HJtJGSE",
        "colab_type": "text"
      },
      "source": [
        "### Plot of normalized cases per 100k people"
      ]
    },
    {
      "cell_type": "code",
      "metadata": {
        "id": "DeMushwmJGoV",
        "colab_type": "code",
        "outputId": "17788bbf-4031-4ebc-b70e-26580ac9da64",
        "colab": {
          "base_uri": "https://localhost:8080/",
          "height": 542
        }
      },
      "source": [
        "fig = go.Figure(data=go.Choropleth(\n",
        "    locations=merged_full_df['state_code'], # Spatial coordinates\n",
        "    z = merged_full_df['normalized_cases_per_100k'].astype(float), # Data to be color-coded\n",
        "    locationmode = 'USA-states', # set of locations match entries in `locations`\n",
        "    colorscale = 'reds',\n",
        "    text=merged_full_df['text2'], # hover text\n",
        "    colorbar_title = \"COVID19 cases per 100k\",\n",
        "    hoverinfo='text',\n",
        "    marker_line_color='Black', # line markers between states\n",
        "    marker_opacity=0.8, \n",
        "    zmin=0,\n",
        "    zmax=1000,\n",
        "    marker_line_width=0.5,\n",
        "))\n",
        "\n",
        "fig.update_layout(\n",
        "    title_text='COVID19 Cases by State (Normalized to Population) - April 26th, 2020',\n",
        "    geo = dict(\n",
        "        scope='usa',\n",
        "        projection=go.layout.geo.Projection(type = 'albers usa'),\n",
        "        showlakes=True, # lakes\n",
        "        lakecolor='rgb(255, 255, 255)'),\n",
        ")\n",
        "\n",
        "fig.show()"
      ],
      "execution_count": 41,
      "outputs": [
        {
          "output_type": "display_data",
          "data": {
            "text/html": [
              "<html>\n",
              "<head><meta charset=\"utf-8\" /></head>\n",
              "<body>\n",
              "    <div>\n",
              "            <script src=\"https://cdnjs.cloudflare.com/ajax/libs/mathjax/2.7.5/MathJax.js?config=TeX-AMS-MML_SVG\"></script><script type=\"text/javascript\">if (window.MathJax) {MathJax.Hub.Config({SVG: {font: \"STIX-Web\"}});}</script>\n",
              "                <script type=\"text/javascript\">window.PlotlyConfig = {MathJaxConfig: 'local'};</script>\n",
              "        <script src=\"https://cdn.plot.ly/plotly-latest.min.js\"></script>    \n",
              "            <div id=\"3688840c-badd-4cb7-bc09-8fd6e2cf9b6c\" class=\"plotly-graph-div\" style=\"height:525px; width:100%;\"></div>\n",
              "            <script type=\"text/javascript\">\n",
              "                \n",
              "                    window.PLOTLYENV=window.PLOTLYENV || {};\n",
              "                    \n",
              "                if (document.getElementById(\"3688840c-badd-4cb7-bc09-8fd6e2cf9b6c\")) {\n",
              "                    Plotly.newPlot(\n",
              "                        '3688840c-badd-4cb7-bc09-8fd6e2cf9b6c',\n",
              "                        [{\"colorbar\": {\"title\": {\"text\": \"COVID19 cases per 100k\"}}, \"colorscale\": [[0.0, \"rgb(255,245,240)\"], [0.125, \"rgb(254,224,210)\"], [0.25, \"rgb(252,187,161)\"], [0.375, \"rgb(252,146,114)\"], [0.5, \"rgb(251,106,74)\"], [0.625, \"rgb(239,59,44)\"], [0.75, \"rgb(203,24,29)\"], [0.875, \"rgb(165,15,21)\"], [1.0, \"rgb(103,0,13)\"]], \"hoverinfo\": \"text\", \"locationmode\": \"USA-states\", \"locations\": [\"AL\", \"AK\", \"AZ\", \"AR\", \"CA\", \"CO\", \"CT\", \"DE\", \"DC\", \"FL\", \"GA\", \"HI\", \"ID\", \"IL\", \"IN\", \"IA\", \"KS\", \"KY\", \"LA\", \"ME\", \"MD\", \"MA\", \"MI\", \"MN\", \"MS\", \"MO\", \"MT\", \"NE\", \"NV\", \"NH\", \"NJ\", \"NM\", \"NY\", \"NC\", \"ND\", \"OH\", \"OK\", \"OR\", \"PA\", \"RI\", \"SC\", \"SD\", \"TN\", \"TX\", \"UT\", \"VT\", \"VA\", \"WA\", \"WV\", \"WI\", \"WY\", \"PR\"], \"marker\": {\"line\": {\"color\": \"Black\", \"width\": 0.5}, \"opacity\": 0.8}, \"text\": [\"Alabama<br>COVID19 Cases Per 100K: 126.7<br><br>COVID19 Cases: 6213<br>COVID19 Death: 213<br>Face Shields: 0<br>Face Shields Per Covid Case: 0.0<br>Population: 4903185\", \"Alaska<br>COVID19 Cases Per 100K: 46.1<br><br>COVID19 Cases: 337<br>COVID19 Death: 7<br>Face Shields: 0<br>Face Shields Per Covid Case: 0.0<br>Population: 731545\", \"Arizona<br>COVID19 Cases Per 100K: 86.3<br><br>COVID19 Cases: 6280<br>COVID19 Death: 275<br>Face Shields: 5000<br>Face Shields Per Covid Case: 0.8<br>Population: 7278717\", \"Arkansas<br>COVID19 Cases Per 100K: 96.4<br><br>COVID19 Cases: 2909<br>COVID19 Death: 48<br>Face Shields: 0<br>Face Shields Per Covid Case: 0.0<br>Population: 3017804\", \"California<br>COVID19 Cases Per 100K: 107.2<br><br>COVID19 Cases: 42347<br>COVID19 Death: 1677<br>Face Shields: 117900<br>Face Shields Per Covid Case: 2.78<br>Population: 39512223\", \"Colorado<br>COVID19 Cases Per 100K: 225.2<br><br>COVID19 Cases: 12968<br>COVID19 Death: 670<br>Face Shields: 6000<br>Face Shields Per Covid Case: 0.46<br>Population: 5758736\", \"Connecticut<br>COVID19 Cases Per 100K: 689.5<br><br>COVID19 Cases: 24582<br>COVID19 Death: 1862<br>Face Shields: 0<br>Face Shields Per Covid Case: 0.0<br>Population: 3565287\", \"Delaware<br>COVID19 Cases Per 100K: 367.2<br><br>COVID19 Cases: 3576<br>COVID19 Death: 112<br>Face Shields: 12000<br>Face Shields Per Covid Case: 3.36<br>Population: 973764\", \"District of Columbia<br>COVID19 Cases Per 100K: 524.1<br><br>COVID19 Cases: 3699<br>COVID19 Death: 165<br>Face Shields: 44000<br>Face Shields Per Covid Case: 11.9<br>Population: 705749\", \"Florida<br>COVID19 Cases Per 100K: 143.5<br><br>COVID19 Cases: 30831<br>COVID19 Death: 1054<br>Face Shields: 16000<br>Face Shields Per Covid Case: 0.52<br>Population: 21477737\", \"Georgia<br>COVID19 Cases Per 100K: 209.3<br><br>COVID19 Cases: 22225<br>COVID19 Death: 897<br>Face Shields: 5000<br>Face Shields Per Covid Case: 0.22<br>Population: 10617423\", \"Hawaii<br>COVID19 Cases Per 100K: 42.2<br><br>COVID19 Cases: 597<br>COVID19 Death: 14<br>Face Shields: 0<br>Face Shields Per Covid Case: 0.0<br>Population: 1415872\", \"Idaho<br>COVID19 Cases Per 100K: 98.5<br><br>COVID19 Cases: 1760<br>COVID19 Death: 56<br>Face Shields: 0<br>Face Shields Per Covid Case: 0.0<br>Population: 1787065\", \"Illinois<br>COVID19 Cases Per 100K: 329.7<br><br>COVID19 Cases: 41777<br>COVID19 Death: 1884<br>Face Shields: 37000<br>Face Shields Per Covid Case: 0.89<br>Population: 12671821\", \"Indiana<br>COVID19 Cases Per 100K: 213.8<br><br>COVID19 Cases: 14395<br>COVID19 Death: 785<br>Face Shields: 16000<br>Face Shields Per Covid Case: 1.11<br>Population: 6732219\", \"Iowa<br>COVID19 Cases Per 100K: 161.9<br><br>COVID19 Cases: 5109<br>COVID19 Death: 112<br>Face Shields: 0<br>Face Shields Per Covid Case: 0.0<br>Population: 3155070\", \"Kansas<br>COVID19 Cases Per 100K: 105.8<br><br>COVID19 Cases: 3081<br>COVID19 Death: 119<br>Face Shields: 0<br>Face Shields Per Covid Case: 0.0<br>Population: 2913314\", \"Kentucky<br>COVID19 Cases Per 100K: 87.4<br><br>COVID19 Cases: 3905<br>COVID19 Death: 208<br>Face Shields: 0<br>Face Shields Per Covid Case: 0.0<br>Population: 4467673\", \"Louisiana<br>COVID19 Cases Per 100K: 570.3<br><br>COVID19 Cases: 26512<br>COVID19 Death: 1644<br>Face Shields: 8000<br>Face Shields Per Covid Case: 0.3<br>Population: 4648794\", \"Maine<br>COVID19 Cases Per 100K: 73.6<br><br>COVID19 Cases: 990<br>COVID19 Death: 50<br>Face Shields: 0<br>Face Shields Per Covid Case: 0.0<br>Population: 1344212\", \"Maryland<br>COVID19 Cases Per 100K: 293.9<br><br>COVID19 Cases: 17766<br>COVID19 Death: 797<br>Face Shields: 13000<br>Face Shields Per Covid Case: 0.73<br>Population: 6045680\", \"Massachusetts<br>COVID19 Cases Per 100K: 774.0<br><br>COVID19 Cases: 53348<br>COVID19 Death: 2730<br>Face Shields: 24800<br>Face Shields Per Covid Case: 0.46<br>Population: 6892503\", \"Michigan<br>COVID19 Cases Per 100K: 372.3<br><br>COVID19 Cases: 37184<br>COVID19 Death: 3273<br>Face Shields: 50000<br>Face Shields Per Covid Case: 1.34<br>Population: 9986857\", \"Minnesota<br>COVID19 Cases Per 100K: 61.1<br><br>COVID19 Cases: 3446<br>COVID19 Death: 244<br>Face Shields: 45000<br>Face Shields Per Covid Case: 13.06<br>Population: 5639632\", \"Mississippi<br>COVID19 Cases Per 100K: 192.1<br><br>COVID19 Cases: 5718<br>COVID19 Death: 221<br>Face Shields: 0<br>Face Shields Per Covid Case: 0.0<br>Population: 2976149\", \"Missouri<br>COVID19 Cases Per 100K: 111.2<br><br>COVID19 Cases: 6826<br>COVID19 Death: 280<br>Face Shields: 12000<br>Face Shields Per Covid Case: 1.76<br>Population: 6137428\", \"Montana<br>COVID19 Cases Per 100K: 41.6<br><br>COVID19 Cases: 445<br>COVID19 Death: 14<br>Face Shields: 0<br>Face Shields Per Covid Case: 0.0<br>Population: 1068778\", \"Nebraska<br>COVID19 Cases Per 100K: 150.0<br><br>COVID19 Cases: 2902<br>COVID19 Death: 53<br>Face Shields: 24000<br>Face Shields Per Covid Case: 8.27<br>Population: 1934408\", \"Nevada<br>COVID19 Cases Per 100K: 147.4<br><br>COVID19 Cases: 4539<br>COVID19 Death: 206<br>Face Shields: 0<br>Face Shields Per Covid Case: 0.0<br>Population: 3080156\", \"New Hampshire<br>COVID19 Cases Per 100K: 131.9<br><br>COVID19 Cases: 1793<br>COVID19 Death: 60<br>Face Shields: 0<br>Face Shields Per Covid Case: 0.0<br>Population: 1359711\", \"New Jersey<br>COVID19 Cases Per 100K: 1188.0<br><br>COVID19 Cases: 105523<br>COVID19 Death: 5863<br>Face Shields: 28500<br>Face Shields Per Covid Case: 0.27<br>Population: 8882190\", \"New Mexico<br>COVID19 Cases Per 100K: 127.0<br><br>COVID19 Cases: 2662<br>COVID19 Death: 93<br>Face Shields: 0<br>Face Shields Per Covid Case: 0.0<br>Population: 2096829\", \"New York<br>COVID19 Cases Per 100K: 1450.5<br><br>COVID19 Cases: 282174<br>COVID19 Death: 16599<br>Face Shields: 37300<br>Face Shields Per Covid Case: 0.13<br>Population: 19453561\", \"North Carolina<br>COVID19 Cases Per 100K: 82.2<br><br>COVID19 Cases: 8623<br>COVID19 Death: 300<br>Face Shields: 0<br>Face Shields Per Covid Case: 0.0<br>Population: 10488084\", \"North Dakota<br>COVID19 Cases Per 100K: 105.4<br><br>COVID19 Cases: 803<br>COVID19 Death: 16<br>Face Shields: 0<br>Face Shields Per Covid Case: 0.0<br>Population: 762062\", \"Ohio<br>COVID19 Cases Per 100K: 133.3<br><br>COVID19 Cases: 15587<br>COVID19 Death: 711<br>Face Shields: 6000<br>Face Shields Per Covid Case: 0.38<br>Population: 11689100\", \"Oklahoma<br>COVID19 Cases Per 100K: 80.7<br><br>COVID19 Cases: 3193<br>COVID19 Death: 194<br>Face Shields: 10000<br>Face Shields Per Covid Case: 3.13<br>Population: 3956971\", \"Oregon<br>COVID19 Cases Per 100K: 53.4<br><br>COVID19 Cases: 2253<br>COVID19 Death: 87<br>Face Shields: 5000<br>Face Shields Per Covid Case: 2.22<br>Population: 4217737\", \"Pennsylvania<br>COVID19 Cases Per 100K: 325.2<br><br>COVID19 Cases: 41626<br>COVID19 Death: 1842<br>Face Shields: 15500<br>Face Shields Per Covid Case: 0.37<br>Population: 12801989\", \"Rhode Island<br>COVID19 Cases Per 100K: 673.0<br><br>COVID19 Cases: 7129<br>COVID19 Death: 215<br>Face Shields: 3000<br>Face Shields Per Covid Case: 0.42<br>Population: 1059361\", \"South Carolina<br>COVID19 Cases Per 100K: 102.0<br><br>COVID19 Cases: 5253<br>COVID19 Death: 166<br>Face Shields: 8000<br>Face Shields Per Covid Case: 1.52<br>Population: 5148714\", \"South Dakota<br>COVID19 Cases Per 100K: 242.7<br><br>COVID19 Cases: 2147<br>COVID19 Death: 10<br>Face Shields: 0<br>Face Shields Per Covid Case: 0.0<br>Population: 884659\", \"Tennessee<br>COVID19 Cases Per 100K: 131.5<br><br>COVID19 Cases: 8977<br>COVID19 Death: 187<br>Face Shields: 32000<br>Face Shields Per Covid Case: 3.56<br>Population: 6829174\", \"Texas<br>COVID19 Cases Per 100K: 84.5<br><br>COVID19 Cases: 24494<br>COVID19 Death: 662<br>Face Shields: 59000<br>Face Shields Per Covid Case: 2.41<br>Population: 28995881\", \"Utah<br>COVID19 Cases Per 100K: 123.2<br><br>COVID19 Cases: 3950<br>COVID19 Death: 41<br>Face Shields: 0<br>Face Shields Per Covid Case: 0.0<br>Population: 3205958\", \"Vermont<br>COVID19 Cases Per 100K: 135.1<br><br>COVID19 Cases: 843<br>COVID19 Death: 46<br>Face Shields: 0<br>Face Shields Per Covid Case: 0.0<br>Population: 623989\", \"Virginia<br>COVID19 Cases Per 100K: 144.9<br><br>COVID19 Cases: 12366<br>COVID19 Death: 436<br>Face Shields: 3000<br>Face Shields Per Covid Case: 0.24<br>Population: 8535519\", \"Washington<br>COVID19 Cases Per 100K: 177.1<br><br>COVID19 Cases: 13484<br>COVID19 Death: 743<br>Face Shields: 18000<br>Face Shields Per Covid Case: 1.33<br>Population: 7614893\", \"West Virginia<br>COVID19 Cases Per 100K: 57.2<br><br>COVID19 Cases: 1025<br>COVID19 Death: 33<br>Face Shields: 0<br>Face Shields Per Covid Case: 0.0<br>Population: 1792147\", \"Wisconsin<br>COVID19 Cases Per 100K: 97.7<br><br>COVID19 Cases: 5687<br>COVID19 Death: 266<br>Face Shields: 0<br>Face Shields Per Covid Case: 0.0<br>Population: 5822434\", \"Wyoming<br>COVID19 Cases Per 100K: 62.5<br><br>COVID19 Cases: 362<br>COVID19 Death: 7<br>Face Shields: 0<br>Face Shields Per Covid Case: 0.0<br>Population: 578759\", \"Puerto Rico<br>COVID19 Cases Per 100K: 40.9<br><br>COVID19 Cases: 1307<br>COVID19 Death: 52<br>Face Shields: 50000<br>Face Shields Per Covid Case: 38.26<br>Population: 3193694\"], \"type\": \"choropleth\", \"z\": [126.7, 46.1, 86.3, 96.4, 107.2, 225.2, 689.5, 367.2, 524.1, 143.5, 209.3, 42.2, 98.5, 329.7, 213.8, 161.9, 105.8, 87.4, 570.3, 73.6, 293.9, 774.0, 372.3, 61.1, 192.1, 111.2, 41.6, 150.0, 147.4, 131.9, 1188.0, 127.0, 1450.5, 82.2, 105.4, 133.3, 80.7, 53.4, 325.2, 673.0, 102.0, 242.7, 131.5, 84.5, 123.2, 135.1, 144.9, 177.1, 57.2, 97.7, 62.5, 40.9], \"zmax\": 1000, \"zmin\": 0}],\n",
              "                        {\"geo\": {\"lakecolor\": \"rgb(255, 255, 255)\", \"projection\": {\"type\": \"albers usa\"}, \"scope\": \"usa\", \"showlakes\": true}, \"template\": {\"data\": {\"bar\": [{\"error_x\": {\"color\": \"#2a3f5f\"}, \"error_y\": {\"color\": \"#2a3f5f\"}, \"marker\": {\"line\": {\"color\": \"#E5ECF6\", \"width\": 0.5}}, \"type\": \"bar\"}], \"barpolar\": [{\"marker\": {\"line\": {\"color\": \"#E5ECF6\", \"width\": 0.5}}, \"type\": \"barpolar\"}], \"carpet\": [{\"aaxis\": {\"endlinecolor\": \"#2a3f5f\", \"gridcolor\": \"white\", \"linecolor\": \"white\", \"minorgridcolor\": \"white\", \"startlinecolor\": \"#2a3f5f\"}, \"baxis\": {\"endlinecolor\": \"#2a3f5f\", \"gridcolor\": \"white\", \"linecolor\": \"white\", \"minorgridcolor\": \"white\", \"startlinecolor\": \"#2a3f5f\"}, \"type\": \"carpet\"}], \"choropleth\": [{\"colorbar\": {\"outlinewidth\": 0, \"ticks\": \"\"}, \"type\": \"choropleth\"}], \"contour\": [{\"colorbar\": {\"outlinewidth\": 0, \"ticks\": \"\"}, \"colorscale\": [[0.0, \"#0d0887\"], [0.1111111111111111, \"#46039f\"], [0.2222222222222222, \"#7201a8\"], [0.3333333333333333, \"#9c179e\"], [0.4444444444444444, \"#bd3786\"], [0.5555555555555556, \"#d8576b\"], [0.6666666666666666, \"#ed7953\"], [0.7777777777777778, \"#fb9f3a\"], [0.8888888888888888, \"#fdca26\"], [1.0, \"#f0f921\"]], \"type\": \"contour\"}], \"contourcarpet\": [{\"colorbar\": {\"outlinewidth\": 0, \"ticks\": \"\"}, \"type\": \"contourcarpet\"}], \"heatmap\": [{\"colorbar\": {\"outlinewidth\": 0, \"ticks\": \"\"}, \"colorscale\": [[0.0, \"#0d0887\"], [0.1111111111111111, \"#46039f\"], [0.2222222222222222, \"#7201a8\"], [0.3333333333333333, \"#9c179e\"], [0.4444444444444444, \"#bd3786\"], [0.5555555555555556, \"#d8576b\"], [0.6666666666666666, \"#ed7953\"], [0.7777777777777778, \"#fb9f3a\"], [0.8888888888888888, \"#fdca26\"], [1.0, \"#f0f921\"]], \"type\": \"heatmap\"}], \"heatmapgl\": [{\"colorbar\": {\"outlinewidth\": 0, \"ticks\": \"\"}, \"colorscale\": [[0.0, \"#0d0887\"], [0.1111111111111111, \"#46039f\"], [0.2222222222222222, \"#7201a8\"], [0.3333333333333333, \"#9c179e\"], [0.4444444444444444, \"#bd3786\"], [0.5555555555555556, \"#d8576b\"], [0.6666666666666666, \"#ed7953\"], [0.7777777777777778, \"#fb9f3a\"], [0.8888888888888888, \"#fdca26\"], [1.0, \"#f0f921\"]], \"type\": \"heatmapgl\"}], \"histogram\": [{\"marker\": {\"colorbar\": {\"outlinewidth\": 0, \"ticks\": \"\"}}, \"type\": \"histogram\"}], \"histogram2d\": [{\"colorbar\": {\"outlinewidth\": 0, \"ticks\": \"\"}, \"colorscale\": [[0.0, \"#0d0887\"], [0.1111111111111111, \"#46039f\"], [0.2222222222222222, \"#7201a8\"], [0.3333333333333333, \"#9c179e\"], [0.4444444444444444, \"#bd3786\"], [0.5555555555555556, \"#d8576b\"], [0.6666666666666666, \"#ed7953\"], [0.7777777777777778, \"#fb9f3a\"], [0.8888888888888888, \"#fdca26\"], [1.0, \"#f0f921\"]], \"type\": \"histogram2d\"}], \"histogram2dcontour\": [{\"colorbar\": {\"outlinewidth\": 0, \"ticks\": \"\"}, \"colorscale\": [[0.0, \"#0d0887\"], [0.1111111111111111, \"#46039f\"], [0.2222222222222222, \"#7201a8\"], [0.3333333333333333, \"#9c179e\"], [0.4444444444444444, \"#bd3786\"], [0.5555555555555556, \"#d8576b\"], [0.6666666666666666, \"#ed7953\"], [0.7777777777777778, \"#fb9f3a\"], [0.8888888888888888, \"#fdca26\"], [1.0, \"#f0f921\"]], \"type\": \"histogram2dcontour\"}], \"mesh3d\": [{\"colorbar\": {\"outlinewidth\": 0, \"ticks\": \"\"}, \"type\": \"mesh3d\"}], \"parcoords\": [{\"line\": {\"colorbar\": {\"outlinewidth\": 0, \"ticks\": \"\"}}, \"type\": \"parcoords\"}], \"pie\": [{\"automargin\": true, \"type\": \"pie\"}], \"scatter\": [{\"marker\": {\"colorbar\": {\"outlinewidth\": 0, \"ticks\": \"\"}}, \"type\": \"scatter\"}], \"scatter3d\": [{\"line\": {\"colorbar\": {\"outlinewidth\": 0, \"ticks\": \"\"}}, \"marker\": {\"colorbar\": {\"outlinewidth\": 0, \"ticks\": \"\"}}, \"type\": \"scatter3d\"}], \"scattercarpet\": [{\"marker\": {\"colorbar\": {\"outlinewidth\": 0, \"ticks\": \"\"}}, \"type\": \"scattercarpet\"}], \"scattergeo\": [{\"marker\": {\"colorbar\": {\"outlinewidth\": 0, \"ticks\": \"\"}}, \"type\": \"scattergeo\"}], \"scattergl\": [{\"marker\": {\"colorbar\": {\"outlinewidth\": 0, \"ticks\": \"\"}}, \"type\": \"scattergl\"}], \"scattermapbox\": [{\"marker\": {\"colorbar\": {\"outlinewidth\": 0, \"ticks\": \"\"}}, \"type\": \"scattermapbox\"}], \"scatterpolar\": [{\"marker\": {\"colorbar\": {\"outlinewidth\": 0, \"ticks\": \"\"}}, \"type\": \"scatterpolar\"}], \"scatterpolargl\": [{\"marker\": {\"colorbar\": {\"outlinewidth\": 0, \"ticks\": \"\"}}, \"type\": \"scatterpolargl\"}], \"scatterternary\": [{\"marker\": {\"colorbar\": {\"outlinewidth\": 0, \"ticks\": \"\"}}, \"type\": \"scatterternary\"}], \"surface\": [{\"colorbar\": {\"outlinewidth\": 0, \"ticks\": \"\"}, \"colorscale\": [[0.0, \"#0d0887\"], [0.1111111111111111, \"#46039f\"], [0.2222222222222222, \"#7201a8\"], [0.3333333333333333, \"#9c179e\"], [0.4444444444444444, \"#bd3786\"], [0.5555555555555556, \"#d8576b\"], [0.6666666666666666, \"#ed7953\"], [0.7777777777777778, \"#fb9f3a\"], [0.8888888888888888, \"#fdca26\"], [1.0, \"#f0f921\"]], \"type\": \"surface\"}], \"table\": [{\"cells\": {\"fill\": {\"color\": \"#EBF0F8\"}, \"line\": {\"color\": \"white\"}}, \"header\": {\"fill\": {\"color\": \"#C8D4E3\"}, \"line\": {\"color\": \"white\"}}, \"type\": \"table\"}]}, \"layout\": {\"annotationdefaults\": {\"arrowcolor\": \"#2a3f5f\", \"arrowhead\": 0, \"arrowwidth\": 1}, \"coloraxis\": {\"colorbar\": {\"outlinewidth\": 0, \"ticks\": \"\"}}, \"colorscale\": {\"diverging\": [[0, \"#8e0152\"], [0.1, \"#c51b7d\"], [0.2, \"#de77ae\"], [0.3, \"#f1b6da\"], [0.4, \"#fde0ef\"], [0.5, \"#f7f7f7\"], [0.6, \"#e6f5d0\"], [0.7, \"#b8e186\"], [0.8, \"#7fbc41\"], [0.9, \"#4d9221\"], [1, \"#276419\"]], \"sequential\": [[0.0, \"#0d0887\"], [0.1111111111111111, \"#46039f\"], [0.2222222222222222, \"#7201a8\"], [0.3333333333333333, \"#9c179e\"], [0.4444444444444444, \"#bd3786\"], [0.5555555555555556, \"#d8576b\"], [0.6666666666666666, \"#ed7953\"], [0.7777777777777778, \"#fb9f3a\"], [0.8888888888888888, \"#fdca26\"], [1.0, \"#f0f921\"]], \"sequentialminus\": [[0.0, \"#0d0887\"], [0.1111111111111111, \"#46039f\"], [0.2222222222222222, \"#7201a8\"], [0.3333333333333333, \"#9c179e\"], [0.4444444444444444, \"#bd3786\"], [0.5555555555555556, \"#d8576b\"], [0.6666666666666666, \"#ed7953\"], [0.7777777777777778, \"#fb9f3a\"], [0.8888888888888888, \"#fdca26\"], [1.0, \"#f0f921\"]]}, \"colorway\": [\"#636efa\", \"#EF553B\", \"#00cc96\", \"#ab63fa\", \"#FFA15A\", \"#19d3f3\", \"#FF6692\", \"#B6E880\", \"#FF97FF\", \"#FECB52\"], \"font\": {\"color\": \"#2a3f5f\"}, \"geo\": {\"bgcolor\": \"white\", \"lakecolor\": \"white\", \"landcolor\": \"#E5ECF6\", \"showlakes\": true, \"showland\": true, \"subunitcolor\": \"white\"}, \"hoverlabel\": {\"align\": \"left\"}, \"hovermode\": \"closest\", \"mapbox\": {\"style\": \"light\"}, \"paper_bgcolor\": \"white\", \"plot_bgcolor\": \"#E5ECF6\", \"polar\": {\"angularaxis\": {\"gridcolor\": \"white\", \"linecolor\": \"white\", \"ticks\": \"\"}, \"bgcolor\": \"#E5ECF6\", \"radialaxis\": {\"gridcolor\": \"white\", \"linecolor\": \"white\", \"ticks\": \"\"}}, \"scene\": {\"xaxis\": {\"backgroundcolor\": \"#E5ECF6\", \"gridcolor\": \"white\", \"gridwidth\": 2, \"linecolor\": \"white\", \"showbackground\": true, \"ticks\": \"\", \"zerolinecolor\": \"white\"}, \"yaxis\": {\"backgroundcolor\": \"#E5ECF6\", \"gridcolor\": \"white\", \"gridwidth\": 2, \"linecolor\": \"white\", \"showbackground\": true, \"ticks\": \"\", \"zerolinecolor\": \"white\"}, \"zaxis\": {\"backgroundcolor\": \"#E5ECF6\", \"gridcolor\": \"white\", \"gridwidth\": 2, \"linecolor\": \"white\", \"showbackground\": true, \"ticks\": \"\", \"zerolinecolor\": \"white\"}}, \"shapedefaults\": {\"line\": {\"color\": \"#2a3f5f\"}}, \"ternary\": {\"aaxis\": {\"gridcolor\": \"white\", \"linecolor\": \"white\", \"ticks\": \"\"}, \"baxis\": {\"gridcolor\": \"white\", \"linecolor\": \"white\", \"ticks\": \"\"}, \"bgcolor\": \"#E5ECF6\", \"caxis\": {\"gridcolor\": \"white\", \"linecolor\": \"white\", \"ticks\": \"\"}}, \"title\": {\"x\": 0.05}, \"xaxis\": {\"automargin\": true, \"gridcolor\": \"white\", \"linecolor\": \"white\", \"ticks\": \"\", \"title\": {\"standoff\": 15}, \"zerolinecolor\": \"white\", \"zerolinewidth\": 2}, \"yaxis\": {\"automargin\": true, \"gridcolor\": \"white\", \"linecolor\": \"white\", \"ticks\": \"\", \"title\": {\"standoff\": 15}, \"zerolinecolor\": \"white\", \"zerolinewidth\": 2}}}, \"title\": {\"text\": \"COVID19 Cases by State (Normalized to Population) - April 26th, 2020\"}},\n",
              "                        {\"responsive\": true}\n",
              "                    ).then(function(){\n",
              "                            \n",
              "var gd = document.getElementById('3688840c-badd-4cb7-bc09-8fd6e2cf9b6c');\n",
              "var x = new MutationObserver(function (mutations, observer) {{\n",
              "        var display = window.getComputedStyle(gd).display;\n",
              "        if (!display || display === 'none') {{\n",
              "            console.log([gd, 'removed!']);\n",
              "            Plotly.purge(gd);\n",
              "            observer.disconnect();\n",
              "        }}\n",
              "}});\n",
              "\n",
              "// Listen for the removal of the full notebook cells\n",
              "var notebookContainer = gd.closest('#notebook-container');\n",
              "if (notebookContainer) {{\n",
              "    x.observe(notebookContainer, {childList: true});\n",
              "}}\n",
              "\n",
              "// Listen for the clearing of the current output cell\n",
              "var outputEl = gd.closest('.output');\n",
              "if (outputEl) {{\n",
              "    x.observe(outputEl, {childList: true});\n",
              "}}\n",
              "\n",
              "                        })\n",
              "                };\n",
              "                \n",
              "            </script>\n",
              "        </div>\n",
              "</body>\n",
              "</html>"
            ]
          },
          "metadata": {
            "tags": []
          }
        }
      ]
    },
    {
      "cell_type": "markdown",
      "metadata": {
        "id": "eTeM6PsWHqcL",
        "colab_type": "text"
      },
      "source": [
        "### Plot of face shield need (via shields donated per covid19 case)"
      ]
    },
    {
      "cell_type": "code",
      "metadata": {
        "id": "3k27NhA-Hm2_",
        "colab_type": "code",
        "outputId": "84cb1d15-bf2a-49d8-d172-2380c0114ee6",
        "colab": {
          "base_uri": "https://localhost:8080/",
          "height": 542
        }
      },
      "source": [
        "fig = go.Figure(data=go.Choropleth(\n",
        "    locations=merged_full_df['state_code'], # Spatial coordinates\n",
        "    z = merged_full_df['shields_donated_per_covid_case'].astype(float), # Data to be color-coded\n",
        "    locationmode = 'USA-states', # set of locations match entries in `locations`\n",
        "    colorscale = 'viridis',\n",
        "    text=merged_full_df['text'], # hover text\n",
        "    colorbar_title = \"Shields Per COVID19 Case\",\n",
        "    hoverinfo='text',\n",
        "    marker_line_color='Black', # line markers between states\n",
        "    marker_opacity=0.8, \n",
        "    zmin=0,\n",
        "    zmax=5,\n",
        "    marker_line_width=0.5,\n",
        "    reversescale=True\n",
        "))\n",
        "\n",
        "fig.update_layout(\n",
        "    title_text='Shields Donated Per COVID19 Case - April 26th, 2020',\n",
        "    geo = dict(\n",
        "        scope='usa',\n",
        "        projection=go.layout.geo.Projection(type = 'albers usa'),\n",
        "        showlakes=True, # lakes\n",
        "        lakecolor='rgb(255, 255, 255)'),\n",
        ")\n",
        "\n",
        "fig.show()"
      ],
      "execution_count": 42,
      "outputs": [
        {
          "output_type": "display_data",
          "data": {
            "text/html": [
              "<html>\n",
              "<head><meta charset=\"utf-8\" /></head>\n",
              "<body>\n",
              "    <div>\n",
              "            <script src=\"https://cdnjs.cloudflare.com/ajax/libs/mathjax/2.7.5/MathJax.js?config=TeX-AMS-MML_SVG\"></script><script type=\"text/javascript\">if (window.MathJax) {MathJax.Hub.Config({SVG: {font: \"STIX-Web\"}});}</script>\n",
              "                <script type=\"text/javascript\">window.PlotlyConfig = {MathJaxConfig: 'local'};</script>\n",
              "        <script src=\"https://cdn.plot.ly/plotly-latest.min.js\"></script>    \n",
              "            <div id=\"1db9514c-d614-4ef8-85cb-89c154b485a1\" class=\"plotly-graph-div\" style=\"height:525px; width:100%;\"></div>\n",
              "            <script type=\"text/javascript\">\n",
              "                \n",
              "                    window.PLOTLYENV=window.PLOTLYENV || {};\n",
              "                    \n",
              "                if (document.getElementById(\"1db9514c-d614-4ef8-85cb-89c154b485a1\")) {\n",
              "                    Plotly.newPlot(\n",
              "                        '1db9514c-d614-4ef8-85cb-89c154b485a1',\n",
              "                        [{\"colorbar\": {\"title\": {\"text\": \"Shields Per COVID19 Case\"}}, \"colorscale\": [[0.0, \"#440154\"], [0.1111111111111111, \"#482878\"], [0.2222222222222222, \"#3e4989\"], [0.3333333333333333, \"#31688e\"], [0.4444444444444444, \"#26828e\"], [0.5555555555555556, \"#1f9e89\"], [0.6666666666666666, \"#35b779\"], [0.7777777777777778, \"#6ece58\"], [0.8888888888888888, \"#b5de2b\"], [1.0, \"#fde725\"]], \"hoverinfo\": \"text\", \"locationmode\": \"USA-states\", \"locations\": [\"AL\", \"AK\", \"AZ\", \"AR\", \"CA\", \"CO\", \"CT\", \"DE\", \"DC\", \"FL\", \"GA\", \"HI\", \"ID\", \"IL\", \"IN\", \"IA\", \"KS\", \"KY\", \"LA\", \"ME\", \"MD\", \"MA\", \"MI\", \"MN\", \"MS\", \"MO\", \"MT\", \"NE\", \"NV\", \"NH\", \"NJ\", \"NM\", \"NY\", \"NC\", \"ND\", \"OH\", \"OK\", \"OR\", \"PA\", \"RI\", \"SC\", \"SD\", \"TN\", \"TX\", \"UT\", \"VT\", \"VA\", \"WA\", \"WV\", \"WI\", \"WY\", \"PR\"], \"marker\": {\"line\": {\"color\": \"Black\", \"width\": 0.5}, \"opacity\": 0.8}, \"reversescale\": true, \"text\": [\"Alabama<br>Face Shields Per Covid Case: 0.0<br><br>COVID19 Cases: 6213<br>COVID19 Death: 213<br>Face Shields: 0<br>Population: 4903185\", \"Alaska<br>Face Shields Per Covid Case: 0.0<br><br>COVID19 Cases: 337<br>COVID19 Death: 7<br>Face Shields: 0<br>Population: 731545\", \"Arizona<br>Face Shields Per Covid Case: 0.8<br><br>COVID19 Cases: 6280<br>COVID19 Death: 275<br>Face Shields: 5000<br>Population: 7278717\", \"Arkansas<br>Face Shields Per Covid Case: 0.0<br><br>COVID19 Cases: 2909<br>COVID19 Death: 48<br>Face Shields: 0<br>Population: 3017804\", \"California<br>Face Shields Per Covid Case: 2.78<br><br>COVID19 Cases: 42347<br>COVID19 Death: 1677<br>Face Shields: 117900<br>Population: 39512223\", \"Colorado<br>Face Shields Per Covid Case: 0.46<br><br>COVID19 Cases: 12968<br>COVID19 Death: 670<br>Face Shields: 6000<br>Population: 5758736\", \"Connecticut<br>Face Shields Per Covid Case: 0.0<br><br>COVID19 Cases: 24582<br>COVID19 Death: 1862<br>Face Shields: 0<br>Population: 3565287\", \"Delaware<br>Face Shields Per Covid Case: 3.36<br><br>COVID19 Cases: 3576<br>COVID19 Death: 112<br>Face Shields: 12000<br>Population: 973764\", \"District of Columbia<br>Face Shields Per Covid Case: 11.9<br><br>COVID19 Cases: 3699<br>COVID19 Death: 165<br>Face Shields: 44000<br>Population: 705749\", \"Florida<br>Face Shields Per Covid Case: 0.52<br><br>COVID19 Cases: 30831<br>COVID19 Death: 1054<br>Face Shields: 16000<br>Population: 21477737\", \"Georgia<br>Face Shields Per Covid Case: 0.22<br><br>COVID19 Cases: 22225<br>COVID19 Death: 897<br>Face Shields: 5000<br>Population: 10617423\", \"Hawaii<br>Face Shields Per Covid Case: 0.0<br><br>COVID19 Cases: 597<br>COVID19 Death: 14<br>Face Shields: 0<br>Population: 1415872\", \"Idaho<br>Face Shields Per Covid Case: 0.0<br><br>COVID19 Cases: 1760<br>COVID19 Death: 56<br>Face Shields: 0<br>Population: 1787065\", \"Illinois<br>Face Shields Per Covid Case: 0.89<br><br>COVID19 Cases: 41777<br>COVID19 Death: 1884<br>Face Shields: 37000<br>Population: 12671821\", \"Indiana<br>Face Shields Per Covid Case: 1.11<br><br>COVID19 Cases: 14395<br>COVID19 Death: 785<br>Face Shields: 16000<br>Population: 6732219\", \"Iowa<br>Face Shields Per Covid Case: 0.0<br><br>COVID19 Cases: 5109<br>COVID19 Death: 112<br>Face Shields: 0<br>Population: 3155070\", \"Kansas<br>Face Shields Per Covid Case: 0.0<br><br>COVID19 Cases: 3081<br>COVID19 Death: 119<br>Face Shields: 0<br>Population: 2913314\", \"Kentucky<br>Face Shields Per Covid Case: 0.0<br><br>COVID19 Cases: 3905<br>COVID19 Death: 208<br>Face Shields: 0<br>Population: 4467673\", \"Louisiana<br>Face Shields Per Covid Case: 0.3<br><br>COVID19 Cases: 26512<br>COVID19 Death: 1644<br>Face Shields: 8000<br>Population: 4648794\", \"Maine<br>Face Shields Per Covid Case: 0.0<br><br>COVID19 Cases: 990<br>COVID19 Death: 50<br>Face Shields: 0<br>Population: 1344212\", \"Maryland<br>Face Shields Per Covid Case: 0.73<br><br>COVID19 Cases: 17766<br>COVID19 Death: 797<br>Face Shields: 13000<br>Population: 6045680\", \"Massachusetts<br>Face Shields Per Covid Case: 0.46<br><br>COVID19 Cases: 53348<br>COVID19 Death: 2730<br>Face Shields: 24800<br>Population: 6892503\", \"Michigan<br>Face Shields Per Covid Case: 1.34<br><br>COVID19 Cases: 37184<br>COVID19 Death: 3273<br>Face Shields: 50000<br>Population: 9986857\", \"Minnesota<br>Face Shields Per Covid Case: 13.06<br><br>COVID19 Cases: 3446<br>COVID19 Death: 244<br>Face Shields: 45000<br>Population: 5639632\", \"Mississippi<br>Face Shields Per Covid Case: 0.0<br><br>COVID19 Cases: 5718<br>COVID19 Death: 221<br>Face Shields: 0<br>Population: 2976149\", \"Missouri<br>Face Shields Per Covid Case: 1.76<br><br>COVID19 Cases: 6826<br>COVID19 Death: 280<br>Face Shields: 12000<br>Population: 6137428\", \"Montana<br>Face Shields Per Covid Case: 0.0<br><br>COVID19 Cases: 445<br>COVID19 Death: 14<br>Face Shields: 0<br>Population: 1068778\", \"Nebraska<br>Face Shields Per Covid Case: 8.27<br><br>COVID19 Cases: 2902<br>COVID19 Death: 53<br>Face Shields: 24000<br>Population: 1934408\", \"Nevada<br>Face Shields Per Covid Case: 0.0<br><br>COVID19 Cases: 4539<br>COVID19 Death: 206<br>Face Shields: 0<br>Population: 3080156\", \"New Hampshire<br>Face Shields Per Covid Case: 0.0<br><br>COVID19 Cases: 1793<br>COVID19 Death: 60<br>Face Shields: 0<br>Population: 1359711\", \"New Jersey<br>Face Shields Per Covid Case: 0.27<br><br>COVID19 Cases: 105523<br>COVID19 Death: 5863<br>Face Shields: 28500<br>Population: 8882190\", \"New Mexico<br>Face Shields Per Covid Case: 0.0<br><br>COVID19 Cases: 2662<br>COVID19 Death: 93<br>Face Shields: 0<br>Population: 2096829\", \"New York<br>Face Shields Per Covid Case: 0.13<br><br>COVID19 Cases: 282174<br>COVID19 Death: 16599<br>Face Shields: 37300<br>Population: 19453561\", \"North Carolina<br>Face Shields Per Covid Case: 0.0<br><br>COVID19 Cases: 8623<br>COVID19 Death: 300<br>Face Shields: 0<br>Population: 10488084\", \"North Dakota<br>Face Shields Per Covid Case: 0.0<br><br>COVID19 Cases: 803<br>COVID19 Death: 16<br>Face Shields: 0<br>Population: 762062\", \"Ohio<br>Face Shields Per Covid Case: 0.38<br><br>COVID19 Cases: 15587<br>COVID19 Death: 711<br>Face Shields: 6000<br>Population: 11689100\", \"Oklahoma<br>Face Shields Per Covid Case: 3.13<br><br>COVID19 Cases: 3193<br>COVID19 Death: 194<br>Face Shields: 10000<br>Population: 3956971\", \"Oregon<br>Face Shields Per Covid Case: 2.22<br><br>COVID19 Cases: 2253<br>COVID19 Death: 87<br>Face Shields: 5000<br>Population: 4217737\", \"Pennsylvania<br>Face Shields Per Covid Case: 0.37<br><br>COVID19 Cases: 41626<br>COVID19 Death: 1842<br>Face Shields: 15500<br>Population: 12801989\", \"Rhode Island<br>Face Shields Per Covid Case: 0.42<br><br>COVID19 Cases: 7129<br>COVID19 Death: 215<br>Face Shields: 3000<br>Population: 1059361\", \"South Carolina<br>Face Shields Per Covid Case: 1.52<br><br>COVID19 Cases: 5253<br>COVID19 Death: 166<br>Face Shields: 8000<br>Population: 5148714\", \"South Dakota<br>Face Shields Per Covid Case: 0.0<br><br>COVID19 Cases: 2147<br>COVID19 Death: 10<br>Face Shields: 0<br>Population: 884659\", \"Tennessee<br>Face Shields Per Covid Case: 3.56<br><br>COVID19 Cases: 8977<br>COVID19 Death: 187<br>Face Shields: 32000<br>Population: 6829174\", \"Texas<br>Face Shields Per Covid Case: 2.41<br><br>COVID19 Cases: 24494<br>COVID19 Death: 662<br>Face Shields: 59000<br>Population: 28995881\", \"Utah<br>Face Shields Per Covid Case: 0.0<br><br>COVID19 Cases: 3950<br>COVID19 Death: 41<br>Face Shields: 0<br>Population: 3205958\", \"Vermont<br>Face Shields Per Covid Case: 0.0<br><br>COVID19 Cases: 843<br>COVID19 Death: 46<br>Face Shields: 0<br>Population: 623989\", \"Virginia<br>Face Shields Per Covid Case: 0.24<br><br>COVID19 Cases: 12366<br>COVID19 Death: 436<br>Face Shields: 3000<br>Population: 8535519\", \"Washington<br>Face Shields Per Covid Case: 1.33<br><br>COVID19 Cases: 13484<br>COVID19 Death: 743<br>Face Shields: 18000<br>Population: 7614893\", \"West Virginia<br>Face Shields Per Covid Case: 0.0<br><br>COVID19 Cases: 1025<br>COVID19 Death: 33<br>Face Shields: 0<br>Population: 1792147\", \"Wisconsin<br>Face Shields Per Covid Case: 0.0<br><br>COVID19 Cases: 5687<br>COVID19 Death: 266<br>Face Shields: 0<br>Population: 5822434\", \"Wyoming<br>Face Shields Per Covid Case: 0.0<br><br>COVID19 Cases: 362<br>COVID19 Death: 7<br>Face Shields: 0<br>Population: 578759\", \"Puerto Rico<br>Face Shields Per Covid Case: 38.26<br><br>COVID19 Cases: 1307<br>COVID19 Death: 52<br>Face Shields: 50000<br>Population: 3193694\"], \"type\": \"choropleth\", \"z\": [0.0, 0.0, 0.8, 0.0, 2.78, 0.46, 0.0, 3.36, 11.9, 0.52, 0.22, 0.0, 0.0, 0.89, 1.11, 0.0, 0.0, 0.0, 0.3, 0.0, 0.73, 0.46, 1.34, 13.06, 0.0, 1.76, 0.0, 8.27, 0.0, 0.0, 0.27, 0.0, 0.13, 0.0, 0.0, 0.38, 3.13, 2.22, 0.37, 0.42, 1.52, 0.0, 3.56, 2.41, 0.0, 0.0, 0.24, 1.33, 0.0, 0.0, 0.0, 38.26], \"zmax\": 5, \"zmin\": 0}],\n",
              "                        {\"geo\": {\"lakecolor\": \"rgb(255, 255, 255)\", \"projection\": {\"type\": \"albers usa\"}, \"scope\": \"usa\", \"showlakes\": true}, \"template\": {\"data\": {\"bar\": [{\"error_x\": {\"color\": \"#2a3f5f\"}, \"error_y\": {\"color\": \"#2a3f5f\"}, \"marker\": {\"line\": {\"color\": \"#E5ECF6\", \"width\": 0.5}}, \"type\": \"bar\"}], \"barpolar\": [{\"marker\": {\"line\": {\"color\": \"#E5ECF6\", \"width\": 0.5}}, \"type\": \"barpolar\"}], \"carpet\": [{\"aaxis\": {\"endlinecolor\": \"#2a3f5f\", \"gridcolor\": \"white\", \"linecolor\": \"white\", \"minorgridcolor\": \"white\", \"startlinecolor\": \"#2a3f5f\"}, \"baxis\": {\"endlinecolor\": \"#2a3f5f\", \"gridcolor\": \"white\", \"linecolor\": \"white\", \"minorgridcolor\": \"white\", \"startlinecolor\": \"#2a3f5f\"}, \"type\": \"carpet\"}], \"choropleth\": [{\"colorbar\": {\"outlinewidth\": 0, \"ticks\": \"\"}, \"type\": \"choropleth\"}], \"contour\": [{\"colorbar\": {\"outlinewidth\": 0, \"ticks\": \"\"}, \"colorscale\": [[0.0, \"#0d0887\"], [0.1111111111111111, \"#46039f\"], [0.2222222222222222, \"#7201a8\"], [0.3333333333333333, \"#9c179e\"], [0.4444444444444444, \"#bd3786\"], [0.5555555555555556, \"#d8576b\"], [0.6666666666666666, \"#ed7953\"], [0.7777777777777778, \"#fb9f3a\"], [0.8888888888888888, \"#fdca26\"], [1.0, \"#f0f921\"]], \"type\": \"contour\"}], \"contourcarpet\": [{\"colorbar\": {\"outlinewidth\": 0, \"ticks\": \"\"}, \"type\": \"contourcarpet\"}], \"heatmap\": [{\"colorbar\": {\"outlinewidth\": 0, \"ticks\": \"\"}, \"colorscale\": [[0.0, \"#0d0887\"], [0.1111111111111111, \"#46039f\"], [0.2222222222222222, \"#7201a8\"], [0.3333333333333333, \"#9c179e\"], [0.4444444444444444, \"#bd3786\"], [0.5555555555555556, \"#d8576b\"], [0.6666666666666666, \"#ed7953\"], [0.7777777777777778, \"#fb9f3a\"], [0.8888888888888888, \"#fdca26\"], [1.0, \"#f0f921\"]], \"type\": \"heatmap\"}], \"heatmapgl\": [{\"colorbar\": {\"outlinewidth\": 0, \"ticks\": \"\"}, \"colorscale\": [[0.0, \"#0d0887\"], [0.1111111111111111, \"#46039f\"], [0.2222222222222222, \"#7201a8\"], [0.3333333333333333, \"#9c179e\"], [0.4444444444444444, \"#bd3786\"], [0.5555555555555556, \"#d8576b\"], [0.6666666666666666, \"#ed7953\"], [0.7777777777777778, \"#fb9f3a\"], [0.8888888888888888, \"#fdca26\"], [1.0, \"#f0f921\"]], \"type\": \"heatmapgl\"}], \"histogram\": [{\"marker\": {\"colorbar\": {\"outlinewidth\": 0, \"ticks\": \"\"}}, \"type\": \"histogram\"}], \"histogram2d\": [{\"colorbar\": {\"outlinewidth\": 0, \"ticks\": \"\"}, \"colorscale\": [[0.0, \"#0d0887\"], [0.1111111111111111, \"#46039f\"], [0.2222222222222222, \"#7201a8\"], [0.3333333333333333, \"#9c179e\"], [0.4444444444444444, \"#bd3786\"], [0.5555555555555556, \"#d8576b\"], [0.6666666666666666, \"#ed7953\"], [0.7777777777777778, \"#fb9f3a\"], [0.8888888888888888, \"#fdca26\"], [1.0, \"#f0f921\"]], \"type\": \"histogram2d\"}], \"histogram2dcontour\": [{\"colorbar\": {\"outlinewidth\": 0, \"ticks\": \"\"}, \"colorscale\": [[0.0, \"#0d0887\"], [0.1111111111111111, \"#46039f\"], [0.2222222222222222, \"#7201a8\"], [0.3333333333333333, \"#9c179e\"], [0.4444444444444444, \"#bd3786\"], [0.5555555555555556, \"#d8576b\"], [0.6666666666666666, \"#ed7953\"], [0.7777777777777778, \"#fb9f3a\"], [0.8888888888888888, \"#fdca26\"], [1.0, \"#f0f921\"]], \"type\": \"histogram2dcontour\"}], \"mesh3d\": [{\"colorbar\": {\"outlinewidth\": 0, \"ticks\": \"\"}, \"type\": \"mesh3d\"}], \"parcoords\": [{\"line\": {\"colorbar\": {\"outlinewidth\": 0, \"ticks\": \"\"}}, \"type\": \"parcoords\"}], \"pie\": [{\"automargin\": true, \"type\": \"pie\"}], \"scatter\": [{\"marker\": {\"colorbar\": {\"outlinewidth\": 0, \"ticks\": \"\"}}, \"type\": \"scatter\"}], \"scatter3d\": [{\"line\": {\"colorbar\": {\"outlinewidth\": 0, \"ticks\": \"\"}}, \"marker\": {\"colorbar\": {\"outlinewidth\": 0, \"ticks\": \"\"}}, \"type\": \"scatter3d\"}], \"scattercarpet\": [{\"marker\": {\"colorbar\": {\"outlinewidth\": 0, \"ticks\": \"\"}}, \"type\": \"scattercarpet\"}], \"scattergeo\": [{\"marker\": {\"colorbar\": {\"outlinewidth\": 0, \"ticks\": \"\"}}, \"type\": \"scattergeo\"}], \"scattergl\": [{\"marker\": {\"colorbar\": {\"outlinewidth\": 0, \"ticks\": \"\"}}, \"type\": \"scattergl\"}], \"scattermapbox\": [{\"marker\": {\"colorbar\": {\"outlinewidth\": 0, \"ticks\": \"\"}}, \"type\": \"scattermapbox\"}], \"scatterpolar\": [{\"marker\": {\"colorbar\": {\"outlinewidth\": 0, \"ticks\": \"\"}}, \"type\": \"scatterpolar\"}], \"scatterpolargl\": [{\"marker\": {\"colorbar\": {\"outlinewidth\": 0, \"ticks\": \"\"}}, \"type\": \"scatterpolargl\"}], \"scatterternary\": [{\"marker\": {\"colorbar\": {\"outlinewidth\": 0, \"ticks\": \"\"}}, \"type\": \"scatterternary\"}], \"surface\": [{\"colorbar\": {\"outlinewidth\": 0, \"ticks\": \"\"}, \"colorscale\": [[0.0, \"#0d0887\"], [0.1111111111111111, \"#46039f\"], [0.2222222222222222, \"#7201a8\"], [0.3333333333333333, \"#9c179e\"], [0.4444444444444444, \"#bd3786\"], [0.5555555555555556, \"#d8576b\"], [0.6666666666666666, \"#ed7953\"], [0.7777777777777778, \"#fb9f3a\"], [0.8888888888888888, \"#fdca26\"], [1.0, \"#f0f921\"]], \"type\": \"surface\"}], \"table\": [{\"cells\": {\"fill\": {\"color\": \"#EBF0F8\"}, \"line\": {\"color\": \"white\"}}, \"header\": {\"fill\": {\"color\": \"#C8D4E3\"}, \"line\": {\"color\": \"white\"}}, \"type\": \"table\"}]}, \"layout\": {\"annotationdefaults\": {\"arrowcolor\": \"#2a3f5f\", \"arrowhead\": 0, \"arrowwidth\": 1}, \"coloraxis\": {\"colorbar\": {\"outlinewidth\": 0, \"ticks\": \"\"}}, \"colorscale\": {\"diverging\": [[0, \"#8e0152\"], [0.1, \"#c51b7d\"], [0.2, \"#de77ae\"], [0.3, \"#f1b6da\"], [0.4, \"#fde0ef\"], [0.5, \"#f7f7f7\"], [0.6, \"#e6f5d0\"], [0.7, \"#b8e186\"], [0.8, \"#7fbc41\"], [0.9, \"#4d9221\"], [1, \"#276419\"]], \"sequential\": [[0.0, \"#0d0887\"], [0.1111111111111111, \"#46039f\"], [0.2222222222222222, \"#7201a8\"], [0.3333333333333333, \"#9c179e\"], [0.4444444444444444, \"#bd3786\"], [0.5555555555555556, \"#d8576b\"], [0.6666666666666666, \"#ed7953\"], [0.7777777777777778, \"#fb9f3a\"], [0.8888888888888888, \"#fdca26\"], [1.0, \"#f0f921\"]], \"sequentialminus\": [[0.0, \"#0d0887\"], [0.1111111111111111, \"#46039f\"], [0.2222222222222222, \"#7201a8\"], [0.3333333333333333, \"#9c179e\"], [0.4444444444444444, \"#bd3786\"], [0.5555555555555556, \"#d8576b\"], [0.6666666666666666, \"#ed7953\"], [0.7777777777777778, \"#fb9f3a\"], [0.8888888888888888, \"#fdca26\"], [1.0, \"#f0f921\"]]}, \"colorway\": [\"#636efa\", \"#EF553B\", \"#00cc96\", \"#ab63fa\", \"#FFA15A\", \"#19d3f3\", \"#FF6692\", \"#B6E880\", \"#FF97FF\", \"#FECB52\"], \"font\": {\"color\": \"#2a3f5f\"}, \"geo\": {\"bgcolor\": \"white\", \"lakecolor\": \"white\", \"landcolor\": \"#E5ECF6\", \"showlakes\": true, \"showland\": true, \"subunitcolor\": \"white\"}, \"hoverlabel\": {\"align\": \"left\"}, \"hovermode\": \"closest\", \"mapbox\": {\"style\": \"light\"}, \"paper_bgcolor\": \"white\", \"plot_bgcolor\": \"#E5ECF6\", \"polar\": {\"angularaxis\": {\"gridcolor\": \"white\", \"linecolor\": \"white\", \"ticks\": \"\"}, \"bgcolor\": \"#E5ECF6\", \"radialaxis\": {\"gridcolor\": \"white\", \"linecolor\": \"white\", \"ticks\": \"\"}}, \"scene\": {\"xaxis\": {\"backgroundcolor\": \"#E5ECF6\", \"gridcolor\": \"white\", \"gridwidth\": 2, \"linecolor\": \"white\", \"showbackground\": true, \"ticks\": \"\", \"zerolinecolor\": \"white\"}, \"yaxis\": {\"backgroundcolor\": \"#E5ECF6\", \"gridcolor\": \"white\", \"gridwidth\": 2, \"linecolor\": \"white\", \"showbackground\": true, \"ticks\": \"\", \"zerolinecolor\": \"white\"}, \"zaxis\": {\"backgroundcolor\": \"#E5ECF6\", \"gridcolor\": \"white\", \"gridwidth\": 2, \"linecolor\": \"white\", \"showbackground\": true, \"ticks\": \"\", \"zerolinecolor\": \"white\"}}, \"shapedefaults\": {\"line\": {\"color\": \"#2a3f5f\"}}, \"ternary\": {\"aaxis\": {\"gridcolor\": \"white\", \"linecolor\": \"white\", \"ticks\": \"\"}, \"baxis\": {\"gridcolor\": \"white\", \"linecolor\": \"white\", \"ticks\": \"\"}, \"bgcolor\": \"#E5ECF6\", \"caxis\": {\"gridcolor\": \"white\", \"linecolor\": \"white\", \"ticks\": \"\"}}, \"title\": {\"x\": 0.05}, \"xaxis\": {\"automargin\": true, \"gridcolor\": \"white\", \"linecolor\": \"white\", \"ticks\": \"\", \"title\": {\"standoff\": 15}, \"zerolinecolor\": \"white\", \"zerolinewidth\": 2}, \"yaxis\": {\"automargin\": true, \"gridcolor\": \"white\", \"linecolor\": \"white\", \"ticks\": \"\", \"title\": {\"standoff\": 15}, \"zerolinecolor\": \"white\", \"zerolinewidth\": 2}}}, \"title\": {\"text\": \"Shields Donated Per COVID19 Case - April 26th, 2020\"}},\n",
              "                        {\"responsive\": true}\n",
              "                    ).then(function(){\n",
              "                            \n",
              "var gd = document.getElementById('1db9514c-d614-4ef8-85cb-89c154b485a1');\n",
              "var x = new MutationObserver(function (mutations, observer) {{\n",
              "        var display = window.getComputedStyle(gd).display;\n",
              "        if (!display || display === 'none') {{\n",
              "            console.log([gd, 'removed!']);\n",
              "            Plotly.purge(gd);\n",
              "            observer.disconnect();\n",
              "        }}\n",
              "}});\n",
              "\n",
              "// Listen for the removal of the full notebook cells\n",
              "var notebookContainer = gd.closest('#notebook-container');\n",
              "if (notebookContainer) {{\n",
              "    x.observe(notebookContainer, {childList: true});\n",
              "}}\n",
              "\n",
              "// Listen for the clearing of the current output cell\n",
              "var outputEl = gd.closest('.output');\n",
              "if (outputEl) {{\n",
              "    x.observe(outputEl, {childList: true});\n",
              "}}\n",
              "\n",
              "                        })\n",
              "                };\n",
              "                \n",
              "            </script>\n",
              "        </div>\n",
              "</body>\n",
              "</html>"
            ]
          },
          "metadata": {
            "tags": []
          }
        }
      ]
    },
    {
      "cell_type": "markdown",
      "metadata": {
        "id": "wNHjxBAUHm5p",
        "colab_type": "text"
      },
      "source": [
        "### Create priority list for remaining Boston Scientific Face Shields"
      ]
    },
    {
      "cell_type": "code",
      "metadata": {
        "id": "tYunf9ZCHm9Q",
        "colab_type": "code",
        "outputId": "cf8d36c6-208c-463e-875b-625e89aa58d9",
        "colab": {
          "base_uri": "https://localhost:8080/",
          "height": 1000
        }
      },
      "source": [
        "# select columns of interest\n",
        "output_df = merged_full_df[[\n",
        "    'State',\n",
        "    'Face Shield',\n",
        "    'normalized_cases_per_100k',\n",
        "    'shields_donated_per_covid_case']]\t\n",
        "output_df = output_df.rename(columns={\n",
        "    'Face Shield':'Face Shields Donated',\n",
        "    'normalized_cases_per_100k':'COVID19 Cases Per 100K Population',\n",
        "    'shields_donated_per_covid_case': 'Shields Donated Per COVID19 Case'\n",
        "})\n",
        "\n",
        "output_df.sort_values(by=['Shields Donated Per COVID19 Case', \n",
        "    'COVID19 Cases Per 100K Population'], ascending=[True,False],inplace=True)\n",
        "\n",
        "output_df.head(55)"
      ],
      "execution_count": 43,
      "outputs": [
        {
          "output_type": "execute_result",
          "data": {
            "text/html": [
              "<div>\n",
              "<style scoped>\n",
              "    .dataframe tbody tr th:only-of-type {\n",
              "        vertical-align: middle;\n",
              "    }\n",
              "\n",
              "    .dataframe tbody tr th {\n",
              "        vertical-align: top;\n",
              "    }\n",
              "\n",
              "    .dataframe thead th {\n",
              "        text-align: right;\n",
              "    }\n",
              "</style>\n",
              "<table border=\"1\" class=\"dataframe\">\n",
              "  <thead>\n",
              "    <tr style=\"text-align: right;\">\n",
              "      <th></th>\n",
              "      <th>State</th>\n",
              "      <th>Face Shields Donated</th>\n",
              "      <th>COVID19 Cases Per 100K Population</th>\n",
              "      <th>Shields Donated Per COVID19 Case</th>\n",
              "    </tr>\n",
              "  </thead>\n",
              "  <tbody>\n",
              "    <tr>\n",
              "      <th>11</th>\n",
              "      <td>Connecticut</td>\n",
              "      <td>0</td>\n",
              "      <td>689.5</td>\n",
              "      <td>0.00</td>\n",
              "    </tr>\n",
              "    <tr>\n",
              "      <th>46</th>\n",
              "      <td>South Dakota</td>\n",
              "      <td>0</td>\n",
              "      <td>242.7</td>\n",
              "      <td>0.00</td>\n",
              "    </tr>\n",
              "    <tr>\n",
              "      <th>29</th>\n",
              "      <td>Mississippi</td>\n",
              "      <td>0</td>\n",
              "      <td>192.1</td>\n",
              "      <td>0.00</td>\n",
              "    </tr>\n",
              "    <tr>\n",
              "      <th>20</th>\n",
              "      <td>Iowa</td>\n",
              "      <td>0</td>\n",
              "      <td>161.9</td>\n",
              "      <td>0.00</td>\n",
              "    </tr>\n",
              "    <tr>\n",
              "      <th>33</th>\n",
              "      <td>Nevada</td>\n",
              "      <td>0</td>\n",
              "      <td>147.4</td>\n",
              "      <td>0.00</td>\n",
              "    </tr>\n",
              "    <tr>\n",
              "      <th>50</th>\n",
              "      <td>Vermont</td>\n",
              "      <td>0</td>\n",
              "      <td>135.1</td>\n",
              "      <td>0.00</td>\n",
              "    </tr>\n",
              "    <tr>\n",
              "      <th>34</th>\n",
              "      <td>New Hampshire</td>\n",
              "      <td>0</td>\n",
              "      <td>131.9</td>\n",
              "      <td>0.00</td>\n",
              "    </tr>\n",
              "    <tr>\n",
              "      <th>36</th>\n",
              "      <td>New Mexico</td>\n",
              "      <td>0</td>\n",
              "      <td>127.0</td>\n",
              "      <td>0.00</td>\n",
              "    </tr>\n",
              "    <tr>\n",
              "      <th>5</th>\n",
              "      <td>Alabama</td>\n",
              "      <td>0</td>\n",
              "      <td>126.7</td>\n",
              "      <td>0.00</td>\n",
              "    </tr>\n",
              "    <tr>\n",
              "      <th>49</th>\n",
              "      <td>Utah</td>\n",
              "      <td>0</td>\n",
              "      <td>123.2</td>\n",
              "      <td>0.00</td>\n",
              "    </tr>\n",
              "    <tr>\n",
              "      <th>21</th>\n",
              "      <td>Kansas</td>\n",
              "      <td>0</td>\n",
              "      <td>105.8</td>\n",
              "      <td>0.00</td>\n",
              "    </tr>\n",
              "    <tr>\n",
              "      <th>39</th>\n",
              "      <td>North Dakota</td>\n",
              "      <td>0</td>\n",
              "      <td>105.4</td>\n",
              "      <td>0.00</td>\n",
              "    </tr>\n",
              "    <tr>\n",
              "      <th>17</th>\n",
              "      <td>Idaho</td>\n",
              "      <td>0</td>\n",
              "      <td>98.5</td>\n",
              "      <td>0.00</td>\n",
              "    </tr>\n",
              "    <tr>\n",
              "      <th>54</th>\n",
              "      <td>Wisconsin</td>\n",
              "      <td>0</td>\n",
              "      <td>97.7</td>\n",
              "      <td>0.00</td>\n",
              "    </tr>\n",
              "    <tr>\n",
              "      <th>8</th>\n",
              "      <td>Arkansas</td>\n",
              "      <td>0</td>\n",
              "      <td>96.4</td>\n",
              "      <td>0.00</td>\n",
              "    </tr>\n",
              "    <tr>\n",
              "      <th>22</th>\n",
              "      <td>Kentucky</td>\n",
              "      <td>0</td>\n",
              "      <td>87.4</td>\n",
              "      <td>0.00</td>\n",
              "    </tr>\n",
              "    <tr>\n",
              "      <th>38</th>\n",
              "      <td>North Carolina</td>\n",
              "      <td>0</td>\n",
              "      <td>82.2</td>\n",
              "      <td>0.00</td>\n",
              "    </tr>\n",
              "    <tr>\n",
              "      <th>24</th>\n",
              "      <td>Maine</td>\n",
              "      <td>0</td>\n",
              "      <td>73.6</td>\n",
              "      <td>0.00</td>\n",
              "    </tr>\n",
              "    <tr>\n",
              "      <th>55</th>\n",
              "      <td>Wyoming</td>\n",
              "      <td>0</td>\n",
              "      <td>62.5</td>\n",
              "      <td>0.00</td>\n",
              "    </tr>\n",
              "    <tr>\n",
              "      <th>53</th>\n",
              "      <td>West Virginia</td>\n",
              "      <td>0</td>\n",
              "      <td>57.2</td>\n",
              "      <td>0.00</td>\n",
              "    </tr>\n",
              "    <tr>\n",
              "      <th>6</th>\n",
              "      <td>Alaska</td>\n",
              "      <td>0</td>\n",
              "      <td>46.1</td>\n",
              "      <td>0.00</td>\n",
              "    </tr>\n",
              "    <tr>\n",
              "      <th>16</th>\n",
              "      <td>Hawaii</td>\n",
              "      <td>0</td>\n",
              "      <td>42.2</td>\n",
              "      <td>0.00</td>\n",
              "    </tr>\n",
              "    <tr>\n",
              "      <th>31</th>\n",
              "      <td>Montana</td>\n",
              "      <td>0</td>\n",
              "      <td>41.6</td>\n",
              "      <td>0.00</td>\n",
              "    </tr>\n",
              "    <tr>\n",
              "      <th>37</th>\n",
              "      <td>New York</td>\n",
              "      <td>37300</td>\n",
              "      <td>1450.5</td>\n",
              "      <td>0.13</td>\n",
              "    </tr>\n",
              "    <tr>\n",
              "      <th>15</th>\n",
              "      <td>Georgia</td>\n",
              "      <td>5000</td>\n",
              "      <td>209.3</td>\n",
              "      <td>0.22</td>\n",
              "    </tr>\n",
              "    <tr>\n",
              "      <th>51</th>\n",
              "      <td>Virginia</td>\n",
              "      <td>3000</td>\n",
              "      <td>144.9</td>\n",
              "      <td>0.24</td>\n",
              "    </tr>\n",
              "    <tr>\n",
              "      <th>35</th>\n",
              "      <td>New Jersey</td>\n",
              "      <td>28500</td>\n",
              "      <td>1188.0</td>\n",
              "      <td>0.27</td>\n",
              "    </tr>\n",
              "    <tr>\n",
              "      <th>23</th>\n",
              "      <td>Louisiana</td>\n",
              "      <td>8000</td>\n",
              "      <td>570.3</td>\n",
              "      <td>0.30</td>\n",
              "    </tr>\n",
              "    <tr>\n",
              "      <th>43</th>\n",
              "      <td>Pennsylvania</td>\n",
              "      <td>15500</td>\n",
              "      <td>325.2</td>\n",
              "      <td>0.37</td>\n",
              "    </tr>\n",
              "    <tr>\n",
              "      <th>40</th>\n",
              "      <td>Ohio</td>\n",
              "      <td>6000</td>\n",
              "      <td>133.3</td>\n",
              "      <td>0.38</td>\n",
              "    </tr>\n",
              "    <tr>\n",
              "      <th>44</th>\n",
              "      <td>Rhode Island</td>\n",
              "      <td>3000</td>\n",
              "      <td>673.0</td>\n",
              "      <td>0.42</td>\n",
              "    </tr>\n",
              "    <tr>\n",
              "      <th>26</th>\n",
              "      <td>Massachusetts</td>\n",
              "      <td>24800</td>\n",
              "      <td>774.0</td>\n",
              "      <td>0.46</td>\n",
              "    </tr>\n",
              "    <tr>\n",
              "      <th>10</th>\n",
              "      <td>Colorado</td>\n",
              "      <td>6000</td>\n",
              "      <td>225.2</td>\n",
              "      <td>0.46</td>\n",
              "    </tr>\n",
              "    <tr>\n",
              "      <th>14</th>\n",
              "      <td>Florida</td>\n",
              "      <td>16000</td>\n",
              "      <td>143.5</td>\n",
              "      <td>0.52</td>\n",
              "    </tr>\n",
              "    <tr>\n",
              "      <th>25</th>\n",
              "      <td>Maryland</td>\n",
              "      <td>13000</td>\n",
              "      <td>293.9</td>\n",
              "      <td>0.73</td>\n",
              "    </tr>\n",
              "    <tr>\n",
              "      <th>7</th>\n",
              "      <td>Arizona</td>\n",
              "      <td>5000</td>\n",
              "      <td>86.3</td>\n",
              "      <td>0.80</td>\n",
              "    </tr>\n",
              "    <tr>\n",
              "      <th>18</th>\n",
              "      <td>Illinois</td>\n",
              "      <td>37000</td>\n",
              "      <td>329.7</td>\n",
              "      <td>0.89</td>\n",
              "    </tr>\n",
              "    <tr>\n",
              "      <th>19</th>\n",
              "      <td>Indiana</td>\n",
              "      <td>16000</td>\n",
              "      <td>213.8</td>\n",
              "      <td>1.11</td>\n",
              "    </tr>\n",
              "    <tr>\n",
              "      <th>52</th>\n",
              "      <td>Washington</td>\n",
              "      <td>18000</td>\n",
              "      <td>177.1</td>\n",
              "      <td>1.33</td>\n",
              "    </tr>\n",
              "    <tr>\n",
              "      <th>27</th>\n",
              "      <td>Michigan</td>\n",
              "      <td>50000</td>\n",
              "      <td>372.3</td>\n",
              "      <td>1.34</td>\n",
              "    </tr>\n",
              "    <tr>\n",
              "      <th>45</th>\n",
              "      <td>South Carolina</td>\n",
              "      <td>8000</td>\n",
              "      <td>102.0</td>\n",
              "      <td>1.52</td>\n",
              "    </tr>\n",
              "    <tr>\n",
              "      <th>30</th>\n",
              "      <td>Missouri</td>\n",
              "      <td>12000</td>\n",
              "      <td>111.2</td>\n",
              "      <td>1.76</td>\n",
              "    </tr>\n",
              "    <tr>\n",
              "      <th>42</th>\n",
              "      <td>Oregon</td>\n",
              "      <td>5000</td>\n",
              "      <td>53.4</td>\n",
              "      <td>2.22</td>\n",
              "    </tr>\n",
              "    <tr>\n",
              "      <th>48</th>\n",
              "      <td>Texas</td>\n",
              "      <td>59000</td>\n",
              "      <td>84.5</td>\n",
              "      <td>2.41</td>\n",
              "    </tr>\n",
              "    <tr>\n",
              "      <th>9</th>\n",
              "      <td>California</td>\n",
              "      <td>117900</td>\n",
              "      <td>107.2</td>\n",
              "      <td>2.78</td>\n",
              "    </tr>\n",
              "    <tr>\n",
              "      <th>41</th>\n",
              "      <td>Oklahoma</td>\n",
              "      <td>10000</td>\n",
              "      <td>80.7</td>\n",
              "      <td>3.13</td>\n",
              "    </tr>\n",
              "    <tr>\n",
              "      <th>12</th>\n",
              "      <td>Delaware</td>\n",
              "      <td>12000</td>\n",
              "      <td>367.2</td>\n",
              "      <td>3.36</td>\n",
              "    </tr>\n",
              "    <tr>\n",
              "      <th>47</th>\n",
              "      <td>Tennessee</td>\n",
              "      <td>32000</td>\n",
              "      <td>131.5</td>\n",
              "      <td>3.56</td>\n",
              "    </tr>\n",
              "    <tr>\n",
              "      <th>32</th>\n",
              "      <td>Nebraska</td>\n",
              "      <td>24000</td>\n",
              "      <td>150.0</td>\n",
              "      <td>8.27</td>\n",
              "    </tr>\n",
              "    <tr>\n",
              "      <th>13</th>\n",
              "      <td>District of Columbia</td>\n",
              "      <td>44000</td>\n",
              "      <td>524.1</td>\n",
              "      <td>11.90</td>\n",
              "    </tr>\n",
              "    <tr>\n",
              "      <th>28</th>\n",
              "      <td>Minnesota</td>\n",
              "      <td>45000</td>\n",
              "      <td>61.1</td>\n",
              "      <td>13.06</td>\n",
              "    </tr>\n",
              "    <tr>\n",
              "      <th>56</th>\n",
              "      <td>Puerto Rico</td>\n",
              "      <td>50000</td>\n",
              "      <td>40.9</td>\n",
              "      <td>38.26</td>\n",
              "    </tr>\n",
              "  </tbody>\n",
              "</table>\n",
              "</div>"
            ],
            "text/plain": [
              "                   State  Face Shields Donated  \\\n",
              "11           Connecticut                     0   \n",
              "46          South Dakota                     0   \n",
              "29           Mississippi                     0   \n",
              "20                  Iowa                     0   \n",
              "33                Nevada                     0   \n",
              "50               Vermont                     0   \n",
              "34         New Hampshire                     0   \n",
              "36            New Mexico                     0   \n",
              "5                Alabama                     0   \n",
              "49                  Utah                     0   \n",
              "21                Kansas                     0   \n",
              "39          North Dakota                     0   \n",
              "17                 Idaho                     0   \n",
              "54             Wisconsin                     0   \n",
              "8               Arkansas                     0   \n",
              "22              Kentucky                     0   \n",
              "38        North Carolina                     0   \n",
              "24                 Maine                     0   \n",
              "55               Wyoming                     0   \n",
              "53         West Virginia                     0   \n",
              "6                 Alaska                     0   \n",
              "16                Hawaii                     0   \n",
              "31               Montana                     0   \n",
              "37              New York                 37300   \n",
              "15               Georgia                  5000   \n",
              "51              Virginia                  3000   \n",
              "35            New Jersey                 28500   \n",
              "23             Louisiana                  8000   \n",
              "43          Pennsylvania                 15500   \n",
              "40                  Ohio                  6000   \n",
              "44          Rhode Island                  3000   \n",
              "26         Massachusetts                 24800   \n",
              "10              Colorado                  6000   \n",
              "14               Florida                 16000   \n",
              "25              Maryland                 13000   \n",
              "7                Arizona                  5000   \n",
              "18              Illinois                 37000   \n",
              "19               Indiana                 16000   \n",
              "52            Washington                 18000   \n",
              "27              Michigan                 50000   \n",
              "45        South Carolina                  8000   \n",
              "30              Missouri                 12000   \n",
              "42                Oregon                  5000   \n",
              "48                 Texas                 59000   \n",
              "9             California                117900   \n",
              "41              Oklahoma                 10000   \n",
              "12              Delaware                 12000   \n",
              "47             Tennessee                 32000   \n",
              "32              Nebraska                 24000   \n",
              "13  District of Columbia                 44000   \n",
              "28             Minnesota                 45000   \n",
              "56           Puerto Rico                 50000   \n",
              "\n",
              "    COVID19 Cases Per 100K Population  Shields Donated Per COVID19 Case  \n",
              "11                              689.5                              0.00  \n",
              "46                              242.7                              0.00  \n",
              "29                              192.1                              0.00  \n",
              "20                              161.9                              0.00  \n",
              "33                              147.4                              0.00  \n",
              "50                              135.1                              0.00  \n",
              "34                              131.9                              0.00  \n",
              "36                              127.0                              0.00  \n",
              "5                               126.7                              0.00  \n",
              "49                              123.2                              0.00  \n",
              "21                              105.8                              0.00  \n",
              "39                              105.4                              0.00  \n",
              "17                               98.5                              0.00  \n",
              "54                               97.7                              0.00  \n",
              "8                                96.4                              0.00  \n",
              "22                               87.4                              0.00  \n",
              "38                               82.2                              0.00  \n",
              "24                               73.6                              0.00  \n",
              "55                               62.5                              0.00  \n",
              "53                               57.2                              0.00  \n",
              "6                                46.1                              0.00  \n",
              "16                               42.2                              0.00  \n",
              "31                               41.6                              0.00  \n",
              "37                             1450.5                              0.13  \n",
              "15                              209.3                              0.22  \n",
              "51                              144.9                              0.24  \n",
              "35                             1188.0                              0.27  \n",
              "23                              570.3                              0.30  \n",
              "43                              325.2                              0.37  \n",
              "40                              133.3                              0.38  \n",
              "44                              673.0                              0.42  \n",
              "26                              774.0                              0.46  \n",
              "10                              225.2                              0.46  \n",
              "14                              143.5                              0.52  \n",
              "25                              293.9                              0.73  \n",
              "7                                86.3                              0.80  \n",
              "18                              329.7                              0.89  \n",
              "19                              213.8                              1.11  \n",
              "52                              177.1                              1.33  \n",
              "27                              372.3                              1.34  \n",
              "45                              102.0                              1.52  \n",
              "30                              111.2                              1.76  \n",
              "42                               53.4                              2.22  \n",
              "48                               84.5                              2.41  \n",
              "9                               107.2                              2.78  \n",
              "41                               80.7                              3.13  \n",
              "12                              367.2                              3.36  \n",
              "47                              131.5                              3.56  \n",
              "32                              150.0                              8.27  \n",
              "13                              524.1                             11.90  \n",
              "28                               61.1                             13.06  \n",
              "56                               40.9                             38.26  "
            ]
          },
          "metadata": {
            "tags": []
          },
          "execution_count": 43
        }
      ]
    },
    {
      "cell_type": "markdown",
      "metadata": {
        "id": "Ox2ZRvnTl93y",
        "colab_type": "text"
      },
      "source": [
        "### Create a map with all traces"
      ]
    },
    {
      "cell_type": "code",
      "metadata": {
        "id": "DV_7iMAJPvPw",
        "colab_type": "code",
        "outputId": "1ea213f6-67c9-4e9c-9f9e-20ed18ca8e23",
        "colab": {
          "base_uri": "https://localhost:8080/",
          "height": 542
        }
      },
      "source": [
        "fig = go.Figure()\n",
        "\n",
        "# First trace\n",
        "fig = fig.add_trace(go.Choropleth(\n",
        "    locations=df['state_code'], # Spatial coordinates\n",
        "    z = df['Face Shield'].astype(float), # Data to be color-coded\n",
        "    locationmode = 'USA-states', # set of locations match entries in `locations`\n",
        "    colorscale = 'blues',\n",
        "    text=df['text'], # hover text\n",
        "    colorbar_title = \"Face Shields >\",\n",
        "    hoverinfo='text',\n",
        "    marker_line_color='Grey', # line markers between states\n",
        "    marker_opacity=0.8, \n",
        "    zmin=0,\n",
        "    zmax=50000,\n",
        "    marker_line_width=0.5,\n",
        "))\n",
        "\n",
        "# Second trace\n",
        "fig = fig.add_trace(go.Choropleth(\n",
        "    locations=merged_full_df['state_code'], # Spatial coordinates\n",
        "    z = merged_full_df['normalized_cases_per_100k'].astype(float), # Data to be color-coded\n",
        "    locationmode = 'USA-states', # set of locations match entries in `locations`\n",
        "    colorscale = 'reds',\n",
        "    text=merged_full_df['text2'], # hover text\n",
        "    colorbar_title = \"COVID19 cases per 100k\",\n",
        "    hoverinfo='text',\n",
        "    marker_line_color='Black', # line markers between states\n",
        "    marker_opacity=0.8, \n",
        "    zmin=0,\n",
        "    zmax=1000,\n",
        "    marker_line_width=0.5,\n",
        "    visible=False\n",
        "))\n",
        "\n",
        "# Third trace\n",
        "fig = fig.add_trace(go.Choropleth(\n",
        "    locations=merged_full_df['state_code'], # Spatial coordinates\n",
        "    z = merged_full_df['shields_donated_per_covid_case'].astype(float), # Data to be color-coded\n",
        "    locationmode = 'USA-states', # set of locations match entries in `locations`\n",
        "    colorscale = 'RdBu',\n",
        "    text=merged_full_df['text'], # hover text\n",
        "    colorbar_title = \"Shields Per COVID19 Case\",\n",
        "    hoverinfo='text',\n",
        "    marker_line_color='Black', # line markers between states\n",
        "    marker_opacity=0.8, \n",
        "    zmin=0,\n",
        "    zmax=2,\n",
        "    marker_line_width=0.5,\n",
        "    visible=False\n",
        "))\n",
        "\n",
        "\n",
        "# Create button list\n",
        "buttons_list=list([\n",
        "    dict(label='Face Shields', method=\"update\",\n",
        "          args=[{\"visible\": ([True,False,False])},\n",
        "                {\"title\": 'Boston Scientific - Face Shields Produced for Donation - 4/26/20'}]),\n",
        "    dict(label='COVID19 Cases', method=\"update\",\n",
        "          args=[{\"visible\": ([False,True,False])},\n",
        "                {\"title\": \"COVID19 Cases per 100,000 Poeple - 4/26/20\"}]),\n",
        "    dict(label='Shields Per COVID19 Case', method=\"update\",\n",
        "          args=[{\"visible\": ([False,False,True])},\n",
        "                {\"title\": \"Boston Scientific - Face Shields Produced Per COVID19 Case - 4/26/20\"}]),\n",
        "    \n",
        "\n",
        "    ])\n",
        "\n",
        "# Add buttons\n",
        "fig.update_layout(\n",
        "    updatemenus=list([\n",
        "        dict(\n",
        "            type = \"buttons\",\n",
        "            active=0,\n",
        "            showactive=True,\n",
        "            direction=\"right\",\n",
        "            pad={\"l\":75,\"t\": -40},\n",
        "            yanchor=\"top\",\n",
        "            xanchor=\"left\",\n",
        "            buttons=buttons_list,\n",
        "        )])\n",
        ")\n",
        "\n",
        "# Update layout\n",
        "fig.update_layout(\n",
        "  title_text='Boston Scientific - 700K Face Shields Produced for Donation - 4/26/20',\n",
        "  geo = dict(\n",
        "      scope='usa',\n",
        "      projection=go.layout.geo.Projection(type = 'albers usa'),\n",
        "      showlakes=True, # lakes\n",
        "      lakecolor='rgb(255, 255, 255)')\n",
        ")\n",
        "\n",
        "# show figure\n",
        "fig.show()\n",
        "\n",
        "# Download the figure From Sunny Mui\n",
        "go.Figure.write_html(fig,\n",
        "    file='index_boston_scientic_face_shields_covid19_cases_normalized.html', \n",
        "    config={'responsive': True}, include_plotlyjs='cdn')"
      ],
      "execution_count": 44,
      "outputs": [
        {
          "output_type": "display_data",
          "data": {
            "text/html": [
              "<html>\n",
              "<head><meta charset=\"utf-8\" /></head>\n",
              "<body>\n",
              "    <div>\n",
              "            <script src=\"https://cdnjs.cloudflare.com/ajax/libs/mathjax/2.7.5/MathJax.js?config=TeX-AMS-MML_SVG\"></script><script type=\"text/javascript\">if (window.MathJax) {MathJax.Hub.Config({SVG: {font: \"STIX-Web\"}});}</script>\n",
              "                <script type=\"text/javascript\">window.PlotlyConfig = {MathJaxConfig: 'local'};</script>\n",
              "        <script src=\"https://cdn.plot.ly/plotly-latest.min.js\"></script>    \n",
              "            <div id=\"0d66ec5b-ae8f-4079-a126-7c3f7d99b305\" class=\"plotly-graph-div\" style=\"height:525px; width:100%;\"></div>\n",
              "            <script type=\"text/javascript\">\n",
              "                \n",
              "                    window.PLOTLYENV=window.PLOTLYENV || {};\n",
              "                    \n",
              "                if (document.getElementById(\"0d66ec5b-ae8f-4079-a126-7c3f7d99b305\")) {\n",
              "                    Plotly.newPlot(\n",
              "                        '0d66ec5b-ae8f-4079-a126-7c3f7d99b305',\n",
              "                        [{\"colorbar\": {\"title\": {\"text\": \"Face Shields >\"}}, \"colorscale\": [[0.0, \"rgb(247,251,255)\"], [0.125, \"rgb(222,235,247)\"], [0.25, \"rgb(198,219,239)\"], [0.375, \"rgb(158,202,225)\"], [0.5, \"rgb(107,174,214)\"], [0.625, \"rgb(66,146,198)\"], [0.75, \"rgb(33,113,181)\"], [0.875, \"rgb(8,81,156)\"], [1.0, \"rgb(8,48,107)\"]], \"hoverinfo\": \"text\", \"locationmode\": \"USA-states\", \"locations\": [\"AL\", \"AK\", \"AZ\", \"AR\", \"CA\", \"CO\", \"CT\", \"DE\", \"DC\", \"FL\", \"GA\", \"HI\", \"ID\", \"IL\", \"IN\", \"IA\", \"KS\", \"KY\", \"LA\", \"ME\", \"MD\", \"MA\", \"MI\", \"MN\", \"MS\", \"MO\", \"MT\", \"NE\", \"NV\", \"NH\", \"NJ\", \"NM\", \"NY\", \"NC\", \"ND\", \"OH\", \"OK\", \"OR\", \"PA\", \"RI\", \"SC\", \"SD\", \"TN\", \"TX\", \"UT\", \"VT\", \"VA\", \"WA\", \"WV\", \"WI\", \"WY\", \"PR\"], \"marker\": {\"line\": {\"color\": \"Grey\", \"width\": 0.5}, \"opacity\": 0.8}, \"text\": [\"Alabama<br>Face Shields: 0<br>\", \"Alaska<br>Face Shields: 0<br>\", \"Arizona<br>Face Shields: 5000<br>\", \"Arkansas<br>Face Shields: 0<br>\", \"California<br>Face Shields: 117900<br>\", \"Colorado<br>Face Shields: 6000<br>\", \"Connecticut<br>Face Shields: 0<br>\", \"Delaware<br>Face Shields: 12000<br>\", \"District of Columbia<br>Face Shields: 44000<br>\", \"Florida<br>Face Shields: 16000<br>\", \"Georgia<br>Face Shields: 5000<br>\", \"Hawaii<br>Face Shields: 0<br>\", \"Idaho<br>Face Shields: 0<br>\", \"Illinois<br>Face Shields: 37000<br>\", \"Indiana<br>Face Shields: 16000<br>\", \"Iowa<br>Face Shields: 0<br>\", \"Kansas<br>Face Shields: 0<br>\", \"Kentucky<br>Face Shields: 0<br>\", \"Louisiana<br>Face Shields: 8000<br>\", \"Maine<br>Face Shields: 0<br>\", \"Maryland<br>Face Shields: 13000<br>\", \"Massachusetts<br>Face Shields: 24800<br>\", \"Michigan<br>Face Shields: 50000<br>\", \"Minnesota<br>Face Shields: 45000<br>\", \"Mississippi<br>Face Shields: 0<br>\", \"Missouri<br>Face Shields: 12000<br>\", \"Montana<br>Face Shields: 0<br>\", \"Nebraska<br>Face Shields: 24000<br>\", \"Nevada<br>Face Shields: 0<br>\", \"New Hampshire<br>Face Shields: 0<br>\", \"New Jersey<br>Face Shields: 28500<br>\", \"New Mexico<br>Face Shields: 0<br>\", \"New York<br>Face Shields: 37300<br>\", \"North Carolina<br>Face Shields: 0<br>\", \"North Dakota<br>Face Shields: 0<br>\", \"Ohio<br>Face Shields: 6000<br>\", \"Oklahoma<br>Face Shields: 10000<br>\", \"Oregon<br>Face Shields: 5000<br>\", \"Pennsylvania<br>Face Shields: 15500<br>\", \"Rhode Island<br>Face Shields: 3000<br>\", \"South Carolina<br>Face Shields: 8000<br>\", \"South Dakota<br>Face Shields: 0<br>\", \"Tennessee<br>Face Shields: 32000<br>\", \"Texas<br>Face Shields: 59000<br>\", \"Utah<br>Face Shields: 0<br>\", \"Vermont<br>Face Shields: 0<br>\", \"Virginia<br>Face Shields: 3000<br>\", \"Washington<br>Face Shields: 18000<br>\", \"West Virginia<br>Face Shields: 0<br>\", \"Wisconsin<br>Face Shields: 0<br>\", \"Wyoming<br>Face Shields: 0<br>\", \"Puerto Rico<br>Face Shields: 50000<br>\"], \"type\": \"choropleth\", \"z\": [0.0, 0.0, 5000.0, 0.0, 117900.0, 6000.0, 0.0, 12000.0, 44000.0, 16000.0, 5000.0, 0.0, 0.0, 37000.0, 16000.0, 0.0, 0.0, 0.0, 8000.0, 0.0, 13000.0, 24800.0, 50000.0, 45000.0, 0.0, 12000.0, 0.0, 24000.0, 0.0, 0.0, 28500.0, 0.0, 37300.0, 0.0, 0.0, 6000.0, 10000.0, 5000.0, 15500.0, 3000.0, 8000.0, 0.0, 32000.0, 59000.0, 0.0, 0.0, 3000.0, 18000.0, 0.0, 0.0, 0.0, 50000.0], \"zmax\": 50000, \"zmin\": 0}, {\"colorbar\": {\"title\": {\"text\": \"COVID19 cases per 100k\"}}, \"colorscale\": [[0.0, \"rgb(255,245,240)\"], [0.125, \"rgb(254,224,210)\"], [0.25, \"rgb(252,187,161)\"], [0.375, \"rgb(252,146,114)\"], [0.5, \"rgb(251,106,74)\"], [0.625, \"rgb(239,59,44)\"], [0.75, \"rgb(203,24,29)\"], [0.875, \"rgb(165,15,21)\"], [1.0, \"rgb(103,0,13)\"]], \"hoverinfo\": \"text\", \"locationmode\": \"USA-states\", \"locations\": [\"AL\", \"AK\", \"AZ\", \"AR\", \"CA\", \"CO\", \"CT\", \"DE\", \"DC\", \"FL\", \"GA\", \"HI\", \"ID\", \"IL\", \"IN\", \"IA\", \"KS\", \"KY\", \"LA\", \"ME\", \"MD\", \"MA\", \"MI\", \"MN\", \"MS\", \"MO\", \"MT\", \"NE\", \"NV\", \"NH\", \"NJ\", \"NM\", \"NY\", \"NC\", \"ND\", \"OH\", \"OK\", \"OR\", \"PA\", \"RI\", \"SC\", \"SD\", \"TN\", \"TX\", \"UT\", \"VT\", \"VA\", \"WA\", \"WV\", \"WI\", \"WY\", \"PR\"], \"marker\": {\"line\": {\"color\": \"Black\", \"width\": 0.5}, \"opacity\": 0.8}, \"text\": [\"Alabama<br>COVID19 Cases Per 100K: 126.7<br><br>COVID19 Cases: 6213<br>COVID19 Death: 213<br>Face Shields: 0<br>Face Shields Per Covid Case: 0.0<br>Population: 4903185\", \"Alaska<br>COVID19 Cases Per 100K: 46.1<br><br>COVID19 Cases: 337<br>COVID19 Death: 7<br>Face Shields: 0<br>Face Shields Per Covid Case: 0.0<br>Population: 731545\", \"Arizona<br>COVID19 Cases Per 100K: 86.3<br><br>COVID19 Cases: 6280<br>COVID19 Death: 275<br>Face Shields: 5000<br>Face Shields Per Covid Case: 0.8<br>Population: 7278717\", \"Arkansas<br>COVID19 Cases Per 100K: 96.4<br><br>COVID19 Cases: 2909<br>COVID19 Death: 48<br>Face Shields: 0<br>Face Shields Per Covid Case: 0.0<br>Population: 3017804\", \"California<br>COVID19 Cases Per 100K: 107.2<br><br>COVID19 Cases: 42347<br>COVID19 Death: 1677<br>Face Shields: 117900<br>Face Shields Per Covid Case: 2.78<br>Population: 39512223\", \"Colorado<br>COVID19 Cases Per 100K: 225.2<br><br>COVID19 Cases: 12968<br>COVID19 Death: 670<br>Face Shields: 6000<br>Face Shields Per Covid Case: 0.46<br>Population: 5758736\", \"Connecticut<br>COVID19 Cases Per 100K: 689.5<br><br>COVID19 Cases: 24582<br>COVID19 Death: 1862<br>Face Shields: 0<br>Face Shields Per Covid Case: 0.0<br>Population: 3565287\", \"Delaware<br>COVID19 Cases Per 100K: 367.2<br><br>COVID19 Cases: 3576<br>COVID19 Death: 112<br>Face Shields: 12000<br>Face Shields Per Covid Case: 3.36<br>Population: 973764\", \"District of Columbia<br>COVID19 Cases Per 100K: 524.1<br><br>COVID19 Cases: 3699<br>COVID19 Death: 165<br>Face Shields: 44000<br>Face Shields Per Covid Case: 11.9<br>Population: 705749\", \"Florida<br>COVID19 Cases Per 100K: 143.5<br><br>COVID19 Cases: 30831<br>COVID19 Death: 1054<br>Face Shields: 16000<br>Face Shields Per Covid Case: 0.52<br>Population: 21477737\", \"Georgia<br>COVID19 Cases Per 100K: 209.3<br><br>COVID19 Cases: 22225<br>COVID19 Death: 897<br>Face Shields: 5000<br>Face Shields Per Covid Case: 0.22<br>Population: 10617423\", \"Hawaii<br>COVID19 Cases Per 100K: 42.2<br><br>COVID19 Cases: 597<br>COVID19 Death: 14<br>Face Shields: 0<br>Face Shields Per Covid Case: 0.0<br>Population: 1415872\", \"Idaho<br>COVID19 Cases Per 100K: 98.5<br><br>COVID19 Cases: 1760<br>COVID19 Death: 56<br>Face Shields: 0<br>Face Shields Per Covid Case: 0.0<br>Population: 1787065\", \"Illinois<br>COVID19 Cases Per 100K: 329.7<br><br>COVID19 Cases: 41777<br>COVID19 Death: 1884<br>Face Shields: 37000<br>Face Shields Per Covid Case: 0.89<br>Population: 12671821\", \"Indiana<br>COVID19 Cases Per 100K: 213.8<br><br>COVID19 Cases: 14395<br>COVID19 Death: 785<br>Face Shields: 16000<br>Face Shields Per Covid Case: 1.11<br>Population: 6732219\", \"Iowa<br>COVID19 Cases Per 100K: 161.9<br><br>COVID19 Cases: 5109<br>COVID19 Death: 112<br>Face Shields: 0<br>Face Shields Per Covid Case: 0.0<br>Population: 3155070\", \"Kansas<br>COVID19 Cases Per 100K: 105.8<br><br>COVID19 Cases: 3081<br>COVID19 Death: 119<br>Face Shields: 0<br>Face Shields Per Covid Case: 0.0<br>Population: 2913314\", \"Kentucky<br>COVID19 Cases Per 100K: 87.4<br><br>COVID19 Cases: 3905<br>COVID19 Death: 208<br>Face Shields: 0<br>Face Shields Per Covid Case: 0.0<br>Population: 4467673\", \"Louisiana<br>COVID19 Cases Per 100K: 570.3<br><br>COVID19 Cases: 26512<br>COVID19 Death: 1644<br>Face Shields: 8000<br>Face Shields Per Covid Case: 0.3<br>Population: 4648794\", \"Maine<br>COVID19 Cases Per 100K: 73.6<br><br>COVID19 Cases: 990<br>COVID19 Death: 50<br>Face Shields: 0<br>Face Shields Per Covid Case: 0.0<br>Population: 1344212\", \"Maryland<br>COVID19 Cases Per 100K: 293.9<br><br>COVID19 Cases: 17766<br>COVID19 Death: 797<br>Face Shields: 13000<br>Face Shields Per Covid Case: 0.73<br>Population: 6045680\", \"Massachusetts<br>COVID19 Cases Per 100K: 774.0<br><br>COVID19 Cases: 53348<br>COVID19 Death: 2730<br>Face Shields: 24800<br>Face Shields Per Covid Case: 0.46<br>Population: 6892503\", \"Michigan<br>COVID19 Cases Per 100K: 372.3<br><br>COVID19 Cases: 37184<br>COVID19 Death: 3273<br>Face Shields: 50000<br>Face Shields Per Covid Case: 1.34<br>Population: 9986857\", \"Minnesota<br>COVID19 Cases Per 100K: 61.1<br><br>COVID19 Cases: 3446<br>COVID19 Death: 244<br>Face Shields: 45000<br>Face Shields Per Covid Case: 13.06<br>Population: 5639632\", \"Mississippi<br>COVID19 Cases Per 100K: 192.1<br><br>COVID19 Cases: 5718<br>COVID19 Death: 221<br>Face Shields: 0<br>Face Shields Per Covid Case: 0.0<br>Population: 2976149\", \"Missouri<br>COVID19 Cases Per 100K: 111.2<br><br>COVID19 Cases: 6826<br>COVID19 Death: 280<br>Face Shields: 12000<br>Face Shields Per Covid Case: 1.76<br>Population: 6137428\", \"Montana<br>COVID19 Cases Per 100K: 41.6<br><br>COVID19 Cases: 445<br>COVID19 Death: 14<br>Face Shields: 0<br>Face Shields Per Covid Case: 0.0<br>Population: 1068778\", \"Nebraska<br>COVID19 Cases Per 100K: 150.0<br><br>COVID19 Cases: 2902<br>COVID19 Death: 53<br>Face Shields: 24000<br>Face Shields Per Covid Case: 8.27<br>Population: 1934408\", \"Nevada<br>COVID19 Cases Per 100K: 147.4<br><br>COVID19 Cases: 4539<br>COVID19 Death: 206<br>Face Shields: 0<br>Face Shields Per Covid Case: 0.0<br>Population: 3080156\", \"New Hampshire<br>COVID19 Cases Per 100K: 131.9<br><br>COVID19 Cases: 1793<br>COVID19 Death: 60<br>Face Shields: 0<br>Face Shields Per Covid Case: 0.0<br>Population: 1359711\", \"New Jersey<br>COVID19 Cases Per 100K: 1188.0<br><br>COVID19 Cases: 105523<br>COVID19 Death: 5863<br>Face Shields: 28500<br>Face Shields Per Covid Case: 0.27<br>Population: 8882190\", \"New Mexico<br>COVID19 Cases Per 100K: 127.0<br><br>COVID19 Cases: 2662<br>COVID19 Death: 93<br>Face Shields: 0<br>Face Shields Per Covid Case: 0.0<br>Population: 2096829\", \"New York<br>COVID19 Cases Per 100K: 1450.5<br><br>COVID19 Cases: 282174<br>COVID19 Death: 16599<br>Face Shields: 37300<br>Face Shields Per Covid Case: 0.13<br>Population: 19453561\", \"North Carolina<br>COVID19 Cases Per 100K: 82.2<br><br>COVID19 Cases: 8623<br>COVID19 Death: 300<br>Face Shields: 0<br>Face Shields Per Covid Case: 0.0<br>Population: 10488084\", \"North Dakota<br>COVID19 Cases Per 100K: 105.4<br><br>COVID19 Cases: 803<br>COVID19 Death: 16<br>Face Shields: 0<br>Face Shields Per Covid Case: 0.0<br>Population: 762062\", \"Ohio<br>COVID19 Cases Per 100K: 133.3<br><br>COVID19 Cases: 15587<br>COVID19 Death: 711<br>Face Shields: 6000<br>Face Shields Per Covid Case: 0.38<br>Population: 11689100\", \"Oklahoma<br>COVID19 Cases Per 100K: 80.7<br><br>COVID19 Cases: 3193<br>COVID19 Death: 194<br>Face Shields: 10000<br>Face Shields Per Covid Case: 3.13<br>Population: 3956971\", \"Oregon<br>COVID19 Cases Per 100K: 53.4<br><br>COVID19 Cases: 2253<br>COVID19 Death: 87<br>Face Shields: 5000<br>Face Shields Per Covid Case: 2.22<br>Population: 4217737\", \"Pennsylvania<br>COVID19 Cases Per 100K: 325.2<br><br>COVID19 Cases: 41626<br>COVID19 Death: 1842<br>Face Shields: 15500<br>Face Shields Per Covid Case: 0.37<br>Population: 12801989\", \"Rhode Island<br>COVID19 Cases Per 100K: 673.0<br><br>COVID19 Cases: 7129<br>COVID19 Death: 215<br>Face Shields: 3000<br>Face Shields Per Covid Case: 0.42<br>Population: 1059361\", \"South Carolina<br>COVID19 Cases Per 100K: 102.0<br><br>COVID19 Cases: 5253<br>COVID19 Death: 166<br>Face Shields: 8000<br>Face Shields Per Covid Case: 1.52<br>Population: 5148714\", \"South Dakota<br>COVID19 Cases Per 100K: 242.7<br><br>COVID19 Cases: 2147<br>COVID19 Death: 10<br>Face Shields: 0<br>Face Shields Per Covid Case: 0.0<br>Population: 884659\", \"Tennessee<br>COVID19 Cases Per 100K: 131.5<br><br>COVID19 Cases: 8977<br>COVID19 Death: 187<br>Face Shields: 32000<br>Face Shields Per Covid Case: 3.56<br>Population: 6829174\", \"Texas<br>COVID19 Cases Per 100K: 84.5<br><br>COVID19 Cases: 24494<br>COVID19 Death: 662<br>Face Shields: 59000<br>Face Shields Per Covid Case: 2.41<br>Population: 28995881\", \"Utah<br>COVID19 Cases Per 100K: 123.2<br><br>COVID19 Cases: 3950<br>COVID19 Death: 41<br>Face Shields: 0<br>Face Shields Per Covid Case: 0.0<br>Population: 3205958\", \"Vermont<br>COVID19 Cases Per 100K: 135.1<br><br>COVID19 Cases: 843<br>COVID19 Death: 46<br>Face Shields: 0<br>Face Shields Per Covid Case: 0.0<br>Population: 623989\", \"Virginia<br>COVID19 Cases Per 100K: 144.9<br><br>COVID19 Cases: 12366<br>COVID19 Death: 436<br>Face Shields: 3000<br>Face Shields Per Covid Case: 0.24<br>Population: 8535519\", \"Washington<br>COVID19 Cases Per 100K: 177.1<br><br>COVID19 Cases: 13484<br>COVID19 Death: 743<br>Face Shields: 18000<br>Face Shields Per Covid Case: 1.33<br>Population: 7614893\", \"West Virginia<br>COVID19 Cases Per 100K: 57.2<br><br>COVID19 Cases: 1025<br>COVID19 Death: 33<br>Face Shields: 0<br>Face Shields Per Covid Case: 0.0<br>Population: 1792147\", \"Wisconsin<br>COVID19 Cases Per 100K: 97.7<br><br>COVID19 Cases: 5687<br>COVID19 Death: 266<br>Face Shields: 0<br>Face Shields Per Covid Case: 0.0<br>Population: 5822434\", \"Wyoming<br>COVID19 Cases Per 100K: 62.5<br><br>COVID19 Cases: 362<br>COVID19 Death: 7<br>Face Shields: 0<br>Face Shields Per Covid Case: 0.0<br>Population: 578759\", \"Puerto Rico<br>COVID19 Cases Per 100K: 40.9<br><br>COVID19 Cases: 1307<br>COVID19 Death: 52<br>Face Shields: 50000<br>Face Shields Per Covid Case: 38.26<br>Population: 3193694\"], \"type\": \"choropleth\", \"visible\": false, \"z\": [126.7, 46.1, 86.3, 96.4, 107.2, 225.2, 689.5, 367.2, 524.1, 143.5, 209.3, 42.2, 98.5, 329.7, 213.8, 161.9, 105.8, 87.4, 570.3, 73.6, 293.9, 774.0, 372.3, 61.1, 192.1, 111.2, 41.6, 150.0, 147.4, 131.9, 1188.0, 127.0, 1450.5, 82.2, 105.4, 133.3, 80.7, 53.4, 325.2, 673.0, 102.0, 242.7, 131.5, 84.5, 123.2, 135.1, 144.9, 177.1, 57.2, 97.7, 62.5, 40.9], \"zmax\": 1000, \"zmin\": 0}, {\"colorbar\": {\"title\": {\"text\": \"Shields Per COVID19 Case\"}}, \"colorscale\": [[0.0, \"rgb(103,0,31)\"], [0.1, \"rgb(178,24,43)\"], [0.2, \"rgb(214,96,77)\"], [0.3, \"rgb(244,165,130)\"], [0.4, \"rgb(253,219,199)\"], [0.5, \"rgb(247,247,247)\"], [0.6, \"rgb(209,229,240)\"], [0.7, \"rgb(146,197,222)\"], [0.8, \"rgb(67,147,195)\"], [0.9, \"rgb(33,102,172)\"], [1.0, \"rgb(5,48,97)\"]], \"hoverinfo\": \"text\", \"locationmode\": \"USA-states\", \"locations\": [\"AL\", \"AK\", \"AZ\", \"AR\", \"CA\", \"CO\", \"CT\", \"DE\", \"DC\", \"FL\", \"GA\", \"HI\", \"ID\", \"IL\", \"IN\", \"IA\", \"KS\", \"KY\", \"LA\", \"ME\", \"MD\", \"MA\", \"MI\", \"MN\", \"MS\", \"MO\", \"MT\", \"NE\", \"NV\", \"NH\", \"NJ\", \"NM\", \"NY\", \"NC\", \"ND\", \"OH\", \"OK\", \"OR\", \"PA\", \"RI\", \"SC\", \"SD\", \"TN\", \"TX\", \"UT\", \"VT\", \"VA\", \"WA\", \"WV\", \"WI\", \"WY\", \"PR\"], \"marker\": {\"line\": {\"color\": \"Black\", \"width\": 0.5}, \"opacity\": 0.8}, \"text\": [\"Alabama<br>Face Shields Per Covid Case: 0.0<br><br>COVID19 Cases: 6213<br>COVID19 Death: 213<br>Face Shields: 0<br>Population: 4903185\", \"Alaska<br>Face Shields Per Covid Case: 0.0<br><br>COVID19 Cases: 337<br>COVID19 Death: 7<br>Face Shields: 0<br>Population: 731545\", \"Arizona<br>Face Shields Per Covid Case: 0.8<br><br>COVID19 Cases: 6280<br>COVID19 Death: 275<br>Face Shields: 5000<br>Population: 7278717\", \"Arkansas<br>Face Shields Per Covid Case: 0.0<br><br>COVID19 Cases: 2909<br>COVID19 Death: 48<br>Face Shields: 0<br>Population: 3017804\", \"California<br>Face Shields Per Covid Case: 2.78<br><br>COVID19 Cases: 42347<br>COVID19 Death: 1677<br>Face Shields: 117900<br>Population: 39512223\", \"Colorado<br>Face Shields Per Covid Case: 0.46<br><br>COVID19 Cases: 12968<br>COVID19 Death: 670<br>Face Shields: 6000<br>Population: 5758736\", \"Connecticut<br>Face Shields Per Covid Case: 0.0<br><br>COVID19 Cases: 24582<br>COVID19 Death: 1862<br>Face Shields: 0<br>Population: 3565287\", \"Delaware<br>Face Shields Per Covid Case: 3.36<br><br>COVID19 Cases: 3576<br>COVID19 Death: 112<br>Face Shields: 12000<br>Population: 973764\", \"District of Columbia<br>Face Shields Per Covid Case: 11.9<br><br>COVID19 Cases: 3699<br>COVID19 Death: 165<br>Face Shields: 44000<br>Population: 705749\", \"Florida<br>Face Shields Per Covid Case: 0.52<br><br>COVID19 Cases: 30831<br>COVID19 Death: 1054<br>Face Shields: 16000<br>Population: 21477737\", \"Georgia<br>Face Shields Per Covid Case: 0.22<br><br>COVID19 Cases: 22225<br>COVID19 Death: 897<br>Face Shields: 5000<br>Population: 10617423\", \"Hawaii<br>Face Shields Per Covid Case: 0.0<br><br>COVID19 Cases: 597<br>COVID19 Death: 14<br>Face Shields: 0<br>Population: 1415872\", \"Idaho<br>Face Shields Per Covid Case: 0.0<br><br>COVID19 Cases: 1760<br>COVID19 Death: 56<br>Face Shields: 0<br>Population: 1787065\", \"Illinois<br>Face Shields Per Covid Case: 0.89<br><br>COVID19 Cases: 41777<br>COVID19 Death: 1884<br>Face Shields: 37000<br>Population: 12671821\", \"Indiana<br>Face Shields Per Covid Case: 1.11<br><br>COVID19 Cases: 14395<br>COVID19 Death: 785<br>Face Shields: 16000<br>Population: 6732219\", \"Iowa<br>Face Shields Per Covid Case: 0.0<br><br>COVID19 Cases: 5109<br>COVID19 Death: 112<br>Face Shields: 0<br>Population: 3155070\", \"Kansas<br>Face Shields Per Covid Case: 0.0<br><br>COVID19 Cases: 3081<br>COVID19 Death: 119<br>Face Shields: 0<br>Population: 2913314\", \"Kentucky<br>Face Shields Per Covid Case: 0.0<br><br>COVID19 Cases: 3905<br>COVID19 Death: 208<br>Face Shields: 0<br>Population: 4467673\", \"Louisiana<br>Face Shields Per Covid Case: 0.3<br><br>COVID19 Cases: 26512<br>COVID19 Death: 1644<br>Face Shields: 8000<br>Population: 4648794\", \"Maine<br>Face Shields Per Covid Case: 0.0<br><br>COVID19 Cases: 990<br>COVID19 Death: 50<br>Face Shields: 0<br>Population: 1344212\", \"Maryland<br>Face Shields Per Covid Case: 0.73<br><br>COVID19 Cases: 17766<br>COVID19 Death: 797<br>Face Shields: 13000<br>Population: 6045680\", \"Massachusetts<br>Face Shields Per Covid Case: 0.46<br><br>COVID19 Cases: 53348<br>COVID19 Death: 2730<br>Face Shields: 24800<br>Population: 6892503\", \"Michigan<br>Face Shields Per Covid Case: 1.34<br><br>COVID19 Cases: 37184<br>COVID19 Death: 3273<br>Face Shields: 50000<br>Population: 9986857\", \"Minnesota<br>Face Shields Per Covid Case: 13.06<br><br>COVID19 Cases: 3446<br>COVID19 Death: 244<br>Face Shields: 45000<br>Population: 5639632\", \"Mississippi<br>Face Shields Per Covid Case: 0.0<br><br>COVID19 Cases: 5718<br>COVID19 Death: 221<br>Face Shields: 0<br>Population: 2976149\", \"Missouri<br>Face Shields Per Covid Case: 1.76<br><br>COVID19 Cases: 6826<br>COVID19 Death: 280<br>Face Shields: 12000<br>Population: 6137428\", \"Montana<br>Face Shields Per Covid Case: 0.0<br><br>COVID19 Cases: 445<br>COVID19 Death: 14<br>Face Shields: 0<br>Population: 1068778\", \"Nebraska<br>Face Shields Per Covid Case: 8.27<br><br>COVID19 Cases: 2902<br>COVID19 Death: 53<br>Face Shields: 24000<br>Population: 1934408\", \"Nevada<br>Face Shields Per Covid Case: 0.0<br><br>COVID19 Cases: 4539<br>COVID19 Death: 206<br>Face Shields: 0<br>Population: 3080156\", \"New Hampshire<br>Face Shields Per Covid Case: 0.0<br><br>COVID19 Cases: 1793<br>COVID19 Death: 60<br>Face Shields: 0<br>Population: 1359711\", \"New Jersey<br>Face Shields Per Covid Case: 0.27<br><br>COVID19 Cases: 105523<br>COVID19 Death: 5863<br>Face Shields: 28500<br>Population: 8882190\", \"New Mexico<br>Face Shields Per Covid Case: 0.0<br><br>COVID19 Cases: 2662<br>COVID19 Death: 93<br>Face Shields: 0<br>Population: 2096829\", \"New York<br>Face Shields Per Covid Case: 0.13<br><br>COVID19 Cases: 282174<br>COVID19 Death: 16599<br>Face Shields: 37300<br>Population: 19453561\", \"North Carolina<br>Face Shields Per Covid Case: 0.0<br><br>COVID19 Cases: 8623<br>COVID19 Death: 300<br>Face Shields: 0<br>Population: 10488084\", \"North Dakota<br>Face Shields Per Covid Case: 0.0<br><br>COVID19 Cases: 803<br>COVID19 Death: 16<br>Face Shields: 0<br>Population: 762062\", \"Ohio<br>Face Shields Per Covid Case: 0.38<br><br>COVID19 Cases: 15587<br>COVID19 Death: 711<br>Face Shields: 6000<br>Population: 11689100\", \"Oklahoma<br>Face Shields Per Covid Case: 3.13<br><br>COVID19 Cases: 3193<br>COVID19 Death: 194<br>Face Shields: 10000<br>Population: 3956971\", \"Oregon<br>Face Shields Per Covid Case: 2.22<br><br>COVID19 Cases: 2253<br>COVID19 Death: 87<br>Face Shields: 5000<br>Population: 4217737\", \"Pennsylvania<br>Face Shields Per Covid Case: 0.37<br><br>COVID19 Cases: 41626<br>COVID19 Death: 1842<br>Face Shields: 15500<br>Population: 12801989\", \"Rhode Island<br>Face Shields Per Covid Case: 0.42<br><br>COVID19 Cases: 7129<br>COVID19 Death: 215<br>Face Shields: 3000<br>Population: 1059361\", \"South Carolina<br>Face Shields Per Covid Case: 1.52<br><br>COVID19 Cases: 5253<br>COVID19 Death: 166<br>Face Shields: 8000<br>Population: 5148714\", \"South Dakota<br>Face Shields Per Covid Case: 0.0<br><br>COVID19 Cases: 2147<br>COVID19 Death: 10<br>Face Shields: 0<br>Population: 884659\", \"Tennessee<br>Face Shields Per Covid Case: 3.56<br><br>COVID19 Cases: 8977<br>COVID19 Death: 187<br>Face Shields: 32000<br>Population: 6829174\", \"Texas<br>Face Shields Per Covid Case: 2.41<br><br>COVID19 Cases: 24494<br>COVID19 Death: 662<br>Face Shields: 59000<br>Population: 28995881\", \"Utah<br>Face Shields Per Covid Case: 0.0<br><br>COVID19 Cases: 3950<br>COVID19 Death: 41<br>Face Shields: 0<br>Population: 3205958\", \"Vermont<br>Face Shields Per Covid Case: 0.0<br><br>COVID19 Cases: 843<br>COVID19 Death: 46<br>Face Shields: 0<br>Population: 623989\", \"Virginia<br>Face Shields Per Covid Case: 0.24<br><br>COVID19 Cases: 12366<br>COVID19 Death: 436<br>Face Shields: 3000<br>Population: 8535519\", \"Washington<br>Face Shields Per Covid Case: 1.33<br><br>COVID19 Cases: 13484<br>COVID19 Death: 743<br>Face Shields: 18000<br>Population: 7614893\", \"West Virginia<br>Face Shields Per Covid Case: 0.0<br><br>COVID19 Cases: 1025<br>COVID19 Death: 33<br>Face Shields: 0<br>Population: 1792147\", \"Wisconsin<br>Face Shields Per Covid Case: 0.0<br><br>COVID19 Cases: 5687<br>COVID19 Death: 266<br>Face Shields: 0<br>Population: 5822434\", \"Wyoming<br>Face Shields Per Covid Case: 0.0<br><br>COVID19 Cases: 362<br>COVID19 Death: 7<br>Face Shields: 0<br>Population: 578759\", \"Puerto Rico<br>Face Shields Per Covid Case: 38.26<br><br>COVID19 Cases: 1307<br>COVID19 Death: 52<br>Face Shields: 50000<br>Population: 3193694\"], \"type\": \"choropleth\", \"visible\": false, \"z\": [0.0, 0.0, 0.8, 0.0, 2.78, 0.46, 0.0, 3.36, 11.9, 0.52, 0.22, 0.0, 0.0, 0.89, 1.11, 0.0, 0.0, 0.0, 0.3, 0.0, 0.73, 0.46, 1.34, 13.06, 0.0, 1.76, 0.0, 8.27, 0.0, 0.0, 0.27, 0.0, 0.13, 0.0, 0.0, 0.38, 3.13, 2.22, 0.37, 0.42, 1.52, 0.0, 3.56, 2.41, 0.0, 0.0, 0.24, 1.33, 0.0, 0.0, 0.0, 38.26], \"zmax\": 2, \"zmin\": 0}],\n",
              "                        {\"geo\": {\"lakecolor\": \"rgb(255, 255, 255)\", \"projection\": {\"type\": \"albers usa\"}, \"scope\": \"usa\", \"showlakes\": true}, \"template\": {\"data\": {\"bar\": [{\"error_x\": {\"color\": \"#2a3f5f\"}, \"error_y\": {\"color\": \"#2a3f5f\"}, \"marker\": {\"line\": {\"color\": \"#E5ECF6\", \"width\": 0.5}}, \"type\": \"bar\"}], \"barpolar\": [{\"marker\": {\"line\": {\"color\": \"#E5ECF6\", \"width\": 0.5}}, \"type\": \"barpolar\"}], \"carpet\": [{\"aaxis\": {\"endlinecolor\": \"#2a3f5f\", \"gridcolor\": \"white\", \"linecolor\": \"white\", \"minorgridcolor\": \"white\", \"startlinecolor\": \"#2a3f5f\"}, \"baxis\": {\"endlinecolor\": \"#2a3f5f\", \"gridcolor\": \"white\", \"linecolor\": \"white\", \"minorgridcolor\": \"white\", \"startlinecolor\": \"#2a3f5f\"}, \"type\": \"carpet\"}], \"choropleth\": [{\"colorbar\": {\"outlinewidth\": 0, \"ticks\": \"\"}, \"type\": \"choropleth\"}], \"contour\": [{\"colorbar\": {\"outlinewidth\": 0, \"ticks\": \"\"}, \"colorscale\": [[0.0, \"#0d0887\"], [0.1111111111111111, \"#46039f\"], [0.2222222222222222, \"#7201a8\"], [0.3333333333333333, \"#9c179e\"], [0.4444444444444444, \"#bd3786\"], [0.5555555555555556, \"#d8576b\"], [0.6666666666666666, \"#ed7953\"], [0.7777777777777778, \"#fb9f3a\"], [0.8888888888888888, \"#fdca26\"], [1.0, \"#f0f921\"]], \"type\": \"contour\"}], \"contourcarpet\": [{\"colorbar\": {\"outlinewidth\": 0, \"ticks\": \"\"}, \"type\": \"contourcarpet\"}], \"heatmap\": [{\"colorbar\": {\"outlinewidth\": 0, \"ticks\": \"\"}, \"colorscale\": [[0.0, \"#0d0887\"], [0.1111111111111111, \"#46039f\"], [0.2222222222222222, \"#7201a8\"], [0.3333333333333333, \"#9c179e\"], [0.4444444444444444, \"#bd3786\"], [0.5555555555555556, \"#d8576b\"], [0.6666666666666666, \"#ed7953\"], [0.7777777777777778, \"#fb9f3a\"], [0.8888888888888888, \"#fdca26\"], [1.0, \"#f0f921\"]], \"type\": \"heatmap\"}], \"heatmapgl\": [{\"colorbar\": {\"outlinewidth\": 0, \"ticks\": \"\"}, \"colorscale\": [[0.0, \"#0d0887\"], [0.1111111111111111, \"#46039f\"], [0.2222222222222222, \"#7201a8\"], [0.3333333333333333, \"#9c179e\"], [0.4444444444444444, \"#bd3786\"], [0.5555555555555556, \"#d8576b\"], [0.6666666666666666, \"#ed7953\"], [0.7777777777777778, \"#fb9f3a\"], [0.8888888888888888, \"#fdca26\"], [1.0, \"#f0f921\"]], \"type\": \"heatmapgl\"}], \"histogram\": [{\"marker\": {\"colorbar\": {\"outlinewidth\": 0, \"ticks\": \"\"}}, \"type\": \"histogram\"}], \"histogram2d\": [{\"colorbar\": {\"outlinewidth\": 0, \"ticks\": \"\"}, \"colorscale\": [[0.0, \"#0d0887\"], [0.1111111111111111, \"#46039f\"], [0.2222222222222222, \"#7201a8\"], [0.3333333333333333, \"#9c179e\"], [0.4444444444444444, \"#bd3786\"], [0.5555555555555556, \"#d8576b\"], [0.6666666666666666, \"#ed7953\"], [0.7777777777777778, \"#fb9f3a\"], [0.8888888888888888, \"#fdca26\"], [1.0, \"#f0f921\"]], \"type\": \"histogram2d\"}], \"histogram2dcontour\": [{\"colorbar\": {\"outlinewidth\": 0, \"ticks\": \"\"}, \"colorscale\": [[0.0, \"#0d0887\"], [0.1111111111111111, \"#46039f\"], [0.2222222222222222, \"#7201a8\"], [0.3333333333333333, \"#9c179e\"], [0.4444444444444444, \"#bd3786\"], [0.5555555555555556, \"#d8576b\"], [0.6666666666666666, \"#ed7953\"], [0.7777777777777778, \"#fb9f3a\"], [0.8888888888888888, \"#fdca26\"], [1.0, \"#f0f921\"]], \"type\": \"histogram2dcontour\"}], \"mesh3d\": [{\"colorbar\": {\"outlinewidth\": 0, \"ticks\": \"\"}, \"type\": \"mesh3d\"}], \"parcoords\": [{\"line\": {\"colorbar\": {\"outlinewidth\": 0, \"ticks\": \"\"}}, \"type\": \"parcoords\"}], \"pie\": [{\"automargin\": true, \"type\": \"pie\"}], \"scatter\": [{\"marker\": {\"colorbar\": {\"outlinewidth\": 0, \"ticks\": \"\"}}, \"type\": \"scatter\"}], \"scatter3d\": [{\"line\": {\"colorbar\": {\"outlinewidth\": 0, \"ticks\": \"\"}}, \"marker\": {\"colorbar\": {\"outlinewidth\": 0, \"ticks\": \"\"}}, \"type\": \"scatter3d\"}], \"scattercarpet\": [{\"marker\": {\"colorbar\": {\"outlinewidth\": 0, \"ticks\": \"\"}}, \"type\": \"scattercarpet\"}], \"scattergeo\": [{\"marker\": {\"colorbar\": {\"outlinewidth\": 0, \"ticks\": \"\"}}, \"type\": \"scattergeo\"}], \"scattergl\": [{\"marker\": {\"colorbar\": {\"outlinewidth\": 0, \"ticks\": \"\"}}, \"type\": \"scattergl\"}], \"scattermapbox\": [{\"marker\": {\"colorbar\": {\"outlinewidth\": 0, \"ticks\": \"\"}}, \"type\": \"scattermapbox\"}], \"scatterpolar\": [{\"marker\": {\"colorbar\": {\"outlinewidth\": 0, \"ticks\": \"\"}}, \"type\": \"scatterpolar\"}], \"scatterpolargl\": [{\"marker\": {\"colorbar\": {\"outlinewidth\": 0, \"ticks\": \"\"}}, \"type\": \"scatterpolargl\"}], \"scatterternary\": [{\"marker\": {\"colorbar\": {\"outlinewidth\": 0, \"ticks\": \"\"}}, \"type\": \"scatterternary\"}], \"surface\": [{\"colorbar\": {\"outlinewidth\": 0, \"ticks\": \"\"}, \"colorscale\": [[0.0, \"#0d0887\"], [0.1111111111111111, \"#46039f\"], [0.2222222222222222, \"#7201a8\"], [0.3333333333333333, \"#9c179e\"], [0.4444444444444444, \"#bd3786\"], [0.5555555555555556, \"#d8576b\"], [0.6666666666666666, \"#ed7953\"], [0.7777777777777778, \"#fb9f3a\"], [0.8888888888888888, \"#fdca26\"], [1.0, \"#f0f921\"]], \"type\": \"surface\"}], \"table\": [{\"cells\": {\"fill\": {\"color\": \"#EBF0F8\"}, \"line\": {\"color\": \"white\"}}, \"header\": {\"fill\": {\"color\": \"#C8D4E3\"}, \"line\": {\"color\": \"white\"}}, \"type\": \"table\"}]}, \"layout\": {\"annotationdefaults\": {\"arrowcolor\": \"#2a3f5f\", \"arrowhead\": 0, \"arrowwidth\": 1}, \"coloraxis\": {\"colorbar\": {\"outlinewidth\": 0, \"ticks\": \"\"}}, \"colorscale\": {\"diverging\": [[0, \"#8e0152\"], [0.1, \"#c51b7d\"], [0.2, \"#de77ae\"], [0.3, \"#f1b6da\"], [0.4, \"#fde0ef\"], [0.5, \"#f7f7f7\"], [0.6, \"#e6f5d0\"], [0.7, \"#b8e186\"], [0.8, \"#7fbc41\"], [0.9, \"#4d9221\"], [1, \"#276419\"]], \"sequential\": [[0.0, \"#0d0887\"], [0.1111111111111111, \"#46039f\"], [0.2222222222222222, \"#7201a8\"], [0.3333333333333333, \"#9c179e\"], [0.4444444444444444, \"#bd3786\"], [0.5555555555555556, \"#d8576b\"], [0.6666666666666666, \"#ed7953\"], [0.7777777777777778, \"#fb9f3a\"], [0.8888888888888888, \"#fdca26\"], [1.0, \"#f0f921\"]], \"sequentialminus\": [[0.0, \"#0d0887\"], [0.1111111111111111, \"#46039f\"], [0.2222222222222222, \"#7201a8\"], [0.3333333333333333, \"#9c179e\"], [0.4444444444444444, \"#bd3786\"], [0.5555555555555556, \"#d8576b\"], [0.6666666666666666, \"#ed7953\"], [0.7777777777777778, \"#fb9f3a\"], [0.8888888888888888, \"#fdca26\"], [1.0, \"#f0f921\"]]}, \"colorway\": [\"#636efa\", \"#EF553B\", \"#00cc96\", \"#ab63fa\", \"#FFA15A\", \"#19d3f3\", \"#FF6692\", \"#B6E880\", \"#FF97FF\", \"#FECB52\"], \"font\": {\"color\": \"#2a3f5f\"}, \"geo\": {\"bgcolor\": \"white\", \"lakecolor\": \"white\", \"landcolor\": \"#E5ECF6\", \"showlakes\": true, \"showland\": true, \"subunitcolor\": \"white\"}, \"hoverlabel\": {\"align\": \"left\"}, \"hovermode\": \"closest\", \"mapbox\": {\"style\": \"light\"}, \"paper_bgcolor\": \"white\", \"plot_bgcolor\": \"#E5ECF6\", \"polar\": {\"angularaxis\": {\"gridcolor\": \"white\", \"linecolor\": \"white\", \"ticks\": \"\"}, \"bgcolor\": \"#E5ECF6\", \"radialaxis\": {\"gridcolor\": \"white\", \"linecolor\": \"white\", \"ticks\": \"\"}}, \"scene\": {\"xaxis\": {\"backgroundcolor\": \"#E5ECF6\", \"gridcolor\": \"white\", \"gridwidth\": 2, \"linecolor\": \"white\", \"showbackground\": true, \"ticks\": \"\", \"zerolinecolor\": \"white\"}, \"yaxis\": {\"backgroundcolor\": \"#E5ECF6\", \"gridcolor\": \"white\", \"gridwidth\": 2, \"linecolor\": \"white\", \"showbackground\": true, \"ticks\": \"\", \"zerolinecolor\": \"white\"}, \"zaxis\": {\"backgroundcolor\": \"#E5ECF6\", \"gridcolor\": \"white\", \"gridwidth\": 2, \"linecolor\": \"white\", \"showbackground\": true, \"ticks\": \"\", \"zerolinecolor\": \"white\"}}, \"shapedefaults\": {\"line\": {\"color\": \"#2a3f5f\"}}, \"ternary\": {\"aaxis\": {\"gridcolor\": \"white\", \"linecolor\": \"white\", \"ticks\": \"\"}, \"baxis\": {\"gridcolor\": \"white\", \"linecolor\": \"white\", \"ticks\": \"\"}, \"bgcolor\": \"#E5ECF6\", \"caxis\": {\"gridcolor\": \"white\", \"linecolor\": \"white\", \"ticks\": \"\"}}, \"title\": {\"x\": 0.05}, \"xaxis\": {\"automargin\": true, \"gridcolor\": \"white\", \"linecolor\": \"white\", \"ticks\": \"\", \"title\": {\"standoff\": 15}, \"zerolinecolor\": \"white\", \"zerolinewidth\": 2}, \"yaxis\": {\"automargin\": true, \"gridcolor\": \"white\", \"linecolor\": \"white\", \"ticks\": \"\", \"title\": {\"standoff\": 15}, \"zerolinecolor\": \"white\", \"zerolinewidth\": 2}}}, \"title\": {\"text\": \"Boston Scientific - 700K Face Shields Produced for Donation - 4/26/20\"}, \"updatemenus\": [{\"active\": 0, \"buttons\": [{\"args\": [{\"visible\": [true, false, false]}, {\"title\": \"Boston Scientific - Face Shields Produced for Donation - 4/26/20\"}], \"label\": \"Face Shields\", \"method\": \"update\"}, {\"args\": [{\"visible\": [false, true, false]}, {\"title\": \"COVID19 Cases per 100,000 Poeple - 4/26/20\"}], \"label\": \"COVID19 Cases\", \"method\": \"update\"}, {\"args\": [{\"visible\": [false, false, true]}, {\"title\": \"Boston Scientific - Face Shields Produced Per COVID19 Case - 4/26/20\"}], \"label\": \"Shields Per COVID19 Case\", \"method\": \"update\"}], \"direction\": \"right\", \"pad\": {\"l\": 75, \"t\": -40}, \"showactive\": true, \"type\": \"buttons\", \"xanchor\": \"left\", \"yanchor\": \"top\"}]},\n",
              "                        {\"responsive\": true}\n",
              "                    ).then(function(){\n",
              "                            \n",
              "var gd = document.getElementById('0d66ec5b-ae8f-4079-a126-7c3f7d99b305');\n",
              "var x = new MutationObserver(function (mutations, observer) {{\n",
              "        var display = window.getComputedStyle(gd).display;\n",
              "        if (!display || display === 'none') {{\n",
              "            console.log([gd, 'removed!']);\n",
              "            Plotly.purge(gd);\n",
              "            observer.disconnect();\n",
              "        }}\n",
              "}});\n",
              "\n",
              "// Listen for the removal of the full notebook cells\n",
              "var notebookContainer = gd.closest('#notebook-container');\n",
              "if (notebookContainer) {{\n",
              "    x.observe(notebookContainer, {childList: true});\n",
              "}}\n",
              "\n",
              "// Listen for the clearing of the current output cell\n",
              "var outputEl = gd.closest('.output');\n",
              "if (outputEl) {{\n",
              "    x.observe(outputEl, {childList: true});\n",
              "}}\n",
              "\n",
              "                        })\n",
              "                };\n",
              "                \n",
              "            </script>\n",
              "        </div>\n",
              "</body>\n",
              "</html>"
            ]
          },
          "metadata": {
            "tags": []
          }
        }
      ]
    },
    {
      "cell_type": "code",
      "metadata": {
        "id": "6K6k9DzSb1kE",
        "colab_type": "code",
        "colab": {}
      },
      "source": [
        ""
      ],
      "execution_count": 0,
      "outputs": []
    }
  ]
}