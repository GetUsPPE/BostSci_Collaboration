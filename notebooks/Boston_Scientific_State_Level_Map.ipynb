{
  "nbformat": 4,
  "nbformat_minor": 0,
  "metadata": {
    "colab": {
      "name": "Boston Scientific - State Level Map",
      "provenance": [],
      "collapsed_sections": []
    },
    "kernelspec": {
      "name": "python3",
      "display_name": "Python 3"
    }
  },
  "cells": [
    {
      "cell_type": "markdown",
      "metadata": {
        "id": "N4_fbWGC10gk",
        "colab_type": "text"
      },
      "source": [
        "### Import libraries"
      ]
    },
    {
      "cell_type": "code",
      "metadata": {
        "id": "DDH9rKs_H7Bt",
        "colab_type": "code",
        "colab": {}
      },
      "source": [
        "# import data and packages\n",
        "import json\n",
        "import requests\n",
        "import os, sys, time\n",
        "\n",
        "# import computing packages\n",
        "import pandas as pd\n",
        "import numpy as ny\n",
        "\n",
        "# plotting\n",
        "import plotly.graph_objects as go\n",
        "\n",
        "# Setup pandas display options\n",
        "pd.options.display.max_rows = 100\n",
        "pd.options.display.max_columns = 200"
      ],
      "execution_count": 0,
      "outputs": []
    },
    {
      "cell_type": "markdown",
      "metadata": {
        "id": "Zrx0ajGr1h0E",
        "colab_type": "text"
      },
      "source": [
        "### Custom Functions"
      ]
    },
    {
      "cell_type": "code",
      "metadata": {
        "id": "tJtai3Q9IzHa",
        "colab_type": "code",
        "colab": {}
      },
      "source": [
        "def download_data(url):\n",
        "    df = pd.read_csv(url)\n",
        "    return df\n",
        "\n",
        "def keep_states_only(us_state_abbrev, state):\n",
        "  # check if the state name is valid, and if yes return the state abbrev code\n",
        "  if state in us_state_abbrev.keys():\n",
        "    return us_state_abbrev[state]\n",
        "  else:\n",
        "    return None"
      ],
      "execution_count": 0,
      "outputs": []
    },
    {
      "cell_type": "markdown",
      "metadata": {
        "id": "y_hWU8_lvY9V",
        "colab_type": "text"
      },
      "source": [
        "### State Code Lookup Table"
      ]
    },
    {
      "cell_type": "code",
      "metadata": {
        "id": "WfDOas7cKmW-",
        "colab_type": "code",
        "colab": {}
      },
      "source": [
        "us_state_abbrev = {\n",
        "    'Alabama': 'AL',\n",
        "    'Alaska': 'AK',\n",
        "    'American Samoa': 'AS',\n",
        "    'Arizona': 'AZ',\n",
        "    'Arkansas': 'AR',\n",
        "    'California': 'CA',\n",
        "    'Colorado': 'CO',\n",
        "    'Connecticut': 'CT',\n",
        "    'Delaware': 'DE',\n",
        "    'District of Columbia': 'DC',\n",
        "    'Florida': 'FL',\n",
        "    'Georgia': 'GA',\n",
        "    'Guam': 'GU',\n",
        "    'Hawaii': 'HI',\n",
        "    'Idaho': 'ID',\n",
        "    'Illinois': 'IL',\n",
        "    'Indiana': 'IN',\n",
        "    'Iowa': 'IA',\n",
        "    'Kansas': 'KS',\n",
        "    'Kentucky': 'KY',\n",
        "    'Louisiana': 'LA',\n",
        "    'Maine': 'ME',\n",
        "    'Maryland': 'MD',\n",
        "    'Massachusetts': 'MA',\n",
        "    'Michigan': 'MI',\n",
        "    'Minnesota': 'MN',\n",
        "    'Mississippi': 'MS',\n",
        "    'Missouri': 'MO',\n",
        "    'Montana': 'MT',\n",
        "    'Nebraska': 'NE',\n",
        "    'Nevada': 'NV',\n",
        "    'New Hampshire': 'NH',\n",
        "    'New Jersey': 'NJ',\n",
        "    'New Mexico': 'NM',\n",
        "    'New York': 'NY',\n",
        "    'North Carolina': 'NC',\n",
        "    'North Dakota': 'ND',\n",
        "    'Northern Mariana Islands':'MP',\n",
        "    'Ohio': 'OH',\n",
        "    'Oklahoma': 'OK',\n",
        "    'Oregon': 'OR',\n",
        "    'Pennsylvania': 'PA',\n",
        "    'Puerto Rico': 'PR',\n",
        "    'Rhode Island': 'RI',\n",
        "    'South Carolina': 'SC',\n",
        "    'South Dakota': 'SD',\n",
        "    'Tennessee': 'TN',\n",
        "    'Texas': 'TX',\n",
        "    'Utah': 'UT',\n",
        "    'Vermont': 'VT',\n",
        "    'Virgin Islands': 'VI',\n",
        "    'Virginia': 'VA',\n",
        "    'Washington': 'WA',\n",
        "    'West Virginia': 'WV',\n",
        "    'Wisconsin': 'WI',\n",
        "    'Wyoming': 'WY',\n",
        "    'Washington DC':'DC'\n",
        "}"
      ],
      "execution_count": 0,
      "outputs": []
    },
    {
      "cell_type": "markdown",
      "metadata": {
        "id": "egqV9wgD17AW",
        "colab_type": "text"
      },
      "source": [
        "### Download Boston Scientic Donation Data"
      ]
    },
    {
      "cell_type": "code",
      "metadata": {
        "id": "EVaTEiQ5I2Dz",
        "colab_type": "code",
        "outputId": "ae21ce78-db5b-414a-a156-7dd75cbcfc69",
        "colab": {
          "base_uri": "https://localhost:8080/",
          "height": 212
        }
      },
      "source": [
        "# Define google sheets url for download\n",
        "sheet_uuid= '1xr6SKzLMqnMvdTggzra4ov90q2DMNo-CtiZli72HWWY'\n",
        "\n",
        "# Use string comprehension to replace %s with the above sheet_uuid\n",
        "# this url below converts google sheet to csv\n",
        "url = ('https://docs.google.com/spreadsheet/ccc?key=%s&output=csv' \\\n",
        "  % (sheet_uuid) ) \n",
        "print ('Downloand URL for dataframe import: %s' % url) \n",
        "\n",
        "# convert url to the dataframe\n",
        "df = download_data(url)\n",
        "\n",
        "# Visualize the data\n",
        "df.head(5)"
      ],
      "execution_count": 65,
      "outputs": [
        {
          "output_type": "stream",
          "text": [
            "Downloand URL for dataframe import: https://docs.google.com/spreadsheet/ccc?key=1xr6SKzLMqnMvdTggzra4ov90q2DMNo-CtiZli72HWWY&output=csv\n"
          ],
          "name": "stdout"
        },
        {
          "output_type": "execute_result",
          "data": {
            "text/html": [
              "<div>\n",
              "<style scoped>\n",
              "    .dataframe tbody tr th:only-of-type {\n",
              "        vertical-align: middle;\n",
              "    }\n",
              "\n",
              "    .dataframe tbody tr th {\n",
              "        vertical-align: top;\n",
              "    }\n",
              "\n",
              "    .dataframe thead th {\n",
              "        text-align: right;\n",
              "    }\n",
              "</style>\n",
              "<table border=\"1\" class=\"dataframe\">\n",
              "  <thead>\n",
              "    <tr style=\"text-align: right;\">\n",
              "      <th></th>\n",
              "      <th>State</th>\n",
              "      <th>Face Shield</th>\n",
              "    </tr>\n",
              "  </thead>\n",
              "  <tbody>\n",
              "    <tr>\n",
              "      <th>0</th>\n",
              "      <td>California</td>\n",
              "      <td>180,300</td>\n",
              "    </tr>\n",
              "    <tr>\n",
              "      <th>1</th>\n",
              "      <td>Illinois</td>\n",
              "      <td>79,800</td>\n",
              "    </tr>\n",
              "    <tr>\n",
              "      <th>2</th>\n",
              "      <td>Michigan</td>\n",
              "      <td>54,500</td>\n",
              "    </tr>\n",
              "    <tr>\n",
              "      <th>3</th>\n",
              "      <td>Puerto Rico</td>\n",
              "      <td>51,400</td>\n",
              "    </tr>\n",
              "    <tr>\n",
              "      <th>4</th>\n",
              "      <td>Minnesota</td>\n",
              "      <td>51,000</td>\n",
              "    </tr>\n",
              "  </tbody>\n",
              "</table>\n",
              "</div>"
            ],
            "text/plain": [
              "         State Face Shield\n",
              "0   California     180,300\n",
              "1     Illinois      79,800\n",
              "2     Michigan      54,500\n",
              "3  Puerto Rico      51,400\n",
              "4    Minnesota      51,000"
            ]
          },
          "metadata": {
            "tags": []
          },
          "execution_count": 65
        }
      ]
    },
    {
      "cell_type": "markdown",
      "metadata": {
        "id": "YVV4K1Cr6rQA",
        "colab_type": "text"
      },
      "source": [
        "### Processing the data"
      ]
    },
    {
      "cell_type": "code",
      "metadata": {
        "id": "Z1nxOEP5I2Ma",
        "colab_type": "code",
        "outputId": "50dceac5-fd85-487c-aa51-a1bee5459b97",
        "colab": {
          "base_uri": "https://localhost:8080/",
          "height": 84
        }
      },
      "source": [
        "# Sort values by Face Shields\n",
        "df.sort_values(by=['Face Shield'], ascending=False, inplace=True)\n",
        "\n",
        "# Map to state code\n",
        "df['state_code']= df.apply(\n",
        "    lambda row: (keep_states_only(us_state_abbrev, row['State'])),axis=1\n",
        ")\n",
        "\n",
        "df.dropna(inplace=True)\n",
        "df.nunique()\n",
        "\n",
        "# Remove all commas\n",
        "df = df.replace(',','', regex=True)\n",
        "\n",
        "# print breakdown\n",
        "df.nunique()"
      ],
      "execution_count": 66,
      "outputs": [
        {
          "output_type": "execute_result",
          "data": {
            "text/plain": [
              "State          39\n",
              "Face Shield    35\n",
              "state_code     39\n",
              "dtype: int64"
            ]
          },
          "metadata": {
            "tags": []
          },
          "execution_count": 66
        }
      ]
    },
    {
      "cell_type": "code",
      "metadata": {
        "id": "zyfQhrYyI2SA",
        "colab_type": "code",
        "outputId": "301553bc-decf-4939-ce46-4aa986de0828",
        "colab": {
          "base_uri": "https://localhost:8080/",
          "height": 542
        }
      },
      "source": [
        "# Create bar plot graph of the face shield deliveries between states\n",
        "x=df['state_code']\n",
        "y=df['Face Shield']\n",
        "\n",
        "# TODO: Figure out how to plot this in descending order by quantity of 'Face Shield'\n",
        "\n",
        "\n",
        "fig = go.Figure(data=[go.Bar(\n",
        "            x=x, y=y,\n",
        "            text=y,\n",
        "            textposition='auto',\n",
        "        )])\n",
        "fig.update_layout(\n",
        "    title='Face Shields Produced+Donated by Boston Scientific - April 26th, 2020', xaxis={'categoryorder':'total descending'}\n",
        ")\n",
        "\n",
        "fig.show()"
      ],
      "execution_count": 67,
      "outputs": [
        {
          "output_type": "display_data",
          "data": {
            "text/html": [
              "<html>\n",
              "<head><meta charset=\"utf-8\" /></head>\n",
              "<body>\n",
              "    <div>\n",
              "            <script src=\"https://cdnjs.cloudflare.com/ajax/libs/mathjax/2.7.5/MathJax.js?config=TeX-AMS-MML_SVG\"></script><script type=\"text/javascript\">if (window.MathJax) {MathJax.Hub.Config({SVG: {font: \"STIX-Web\"}});}</script>\n",
              "                <script type=\"text/javascript\">window.PlotlyConfig = {MathJaxConfig: 'local'};</script>\n",
              "        <script src=\"https://cdn.plot.ly/plotly-latest.min.js\"></script>    \n",
              "            <div id=\"69159b9e-a157-4757-a094-ebdc9707eae9\" class=\"plotly-graph-div\" style=\"height:525px; width:100%;\"></div>\n",
              "            <script type=\"text/javascript\">\n",
              "                \n",
              "                    window.PLOTLYENV=window.PLOTLYENV || {};\n",
              "                    \n",
              "                if (document.getElementById(\"69159b9e-a157-4757-a094-ebdc9707eae9\")) {\n",
              "                    Plotly.newPlot(\n",
              "                        '69159b9e-a157-4757-a094-ebdc9707eae9',\n",
              "                        [{\"text\": [\"9000\", \"8000\", \"79800\", \"7500\", \"54500\", \"51400\", \"51000\", \"5500\", \"5200\", \"47900\", \"46000\", \"44000\", \"43500\", \"4900\", \"4000\", \"37800\", \"3000\", \"27200\", \"24000\", \"22000\", \"2800\", \"2500\", \"2000\", \"19000\", \"19000\", \"180300\", \"18000\", \"17000\", \"16500\", \"16000\", \"15500\", \"13800\", \"13000\", \"12000\", \"12000\", \"12000\", \"12000\", \"10000\", \"1000\"], \"textposition\": \"auto\", \"type\": \"bar\", \"x\": [\"RI\", \"SC\", \"IL\", \"NV\", \"MI\", \"PR\", \"MN\", \"PA\", \"AZ\", \"MA\", \"TX\", \"DC\", \"NJ\", \"CT\", \"SD\", \"NY\", \"VA\", \"MO\", \"NE\", \"IN\", \"NH\", \"AL\", \"UT\", \"OH\", \"MD\", \"CA\", \"WA\", \"TN\", \"IA\", \"FL\", \"MS\", \"LA\", \"OR\", \"WI\", \"GA\", \"CO\", \"DE\", \"OK\", \"KS\"], \"y\": [\"9000\", \"8000\", \"79800\", \"7500\", \"54500\", \"51400\", \"51000\", \"5500\", \"5200\", \"47900\", \"46000\", \"44000\", \"43500\", \"4900\", \"4000\", \"37800\", \"3000\", \"27200\", \"24000\", \"22000\", \"2800\", \"2500\", \"2000\", \"19000\", \"19000\", \"180300\", \"18000\", \"17000\", \"16500\", \"16000\", \"15500\", \"13800\", \"13000\", \"12000\", \"12000\", \"12000\", \"12000\", \"10000\", \"1000\"]}],\n",
              "                        {\"template\": {\"data\": {\"bar\": [{\"error_x\": {\"color\": \"#2a3f5f\"}, \"error_y\": {\"color\": \"#2a3f5f\"}, \"marker\": {\"line\": {\"color\": \"#E5ECF6\", \"width\": 0.5}}, \"type\": \"bar\"}], \"barpolar\": [{\"marker\": {\"line\": {\"color\": \"#E5ECF6\", \"width\": 0.5}}, \"type\": \"barpolar\"}], \"carpet\": [{\"aaxis\": {\"endlinecolor\": \"#2a3f5f\", \"gridcolor\": \"white\", \"linecolor\": \"white\", \"minorgridcolor\": \"white\", \"startlinecolor\": \"#2a3f5f\"}, \"baxis\": {\"endlinecolor\": \"#2a3f5f\", \"gridcolor\": \"white\", \"linecolor\": \"white\", \"minorgridcolor\": \"white\", \"startlinecolor\": \"#2a3f5f\"}, \"type\": \"carpet\"}], \"choropleth\": [{\"colorbar\": {\"outlinewidth\": 0, \"ticks\": \"\"}, \"type\": \"choropleth\"}], \"contour\": [{\"colorbar\": {\"outlinewidth\": 0, \"ticks\": \"\"}, \"colorscale\": [[0.0, \"#0d0887\"], [0.1111111111111111, \"#46039f\"], [0.2222222222222222, \"#7201a8\"], [0.3333333333333333, \"#9c179e\"], [0.4444444444444444, \"#bd3786\"], [0.5555555555555556, \"#d8576b\"], [0.6666666666666666, \"#ed7953\"], [0.7777777777777778, \"#fb9f3a\"], [0.8888888888888888, \"#fdca26\"], [1.0, \"#f0f921\"]], \"type\": \"contour\"}], \"contourcarpet\": [{\"colorbar\": {\"outlinewidth\": 0, \"ticks\": \"\"}, \"type\": \"contourcarpet\"}], \"heatmap\": [{\"colorbar\": {\"outlinewidth\": 0, \"ticks\": \"\"}, \"colorscale\": [[0.0, \"#0d0887\"], [0.1111111111111111, \"#46039f\"], [0.2222222222222222, \"#7201a8\"], [0.3333333333333333, \"#9c179e\"], [0.4444444444444444, \"#bd3786\"], [0.5555555555555556, \"#d8576b\"], [0.6666666666666666, \"#ed7953\"], [0.7777777777777778, \"#fb9f3a\"], [0.8888888888888888, \"#fdca26\"], [1.0, \"#f0f921\"]], \"type\": \"heatmap\"}], \"heatmapgl\": [{\"colorbar\": {\"outlinewidth\": 0, \"ticks\": \"\"}, \"colorscale\": [[0.0, \"#0d0887\"], [0.1111111111111111, \"#46039f\"], [0.2222222222222222, \"#7201a8\"], [0.3333333333333333, \"#9c179e\"], [0.4444444444444444, \"#bd3786\"], [0.5555555555555556, \"#d8576b\"], [0.6666666666666666, \"#ed7953\"], [0.7777777777777778, \"#fb9f3a\"], [0.8888888888888888, \"#fdca26\"], [1.0, \"#f0f921\"]], \"type\": \"heatmapgl\"}], \"histogram\": [{\"marker\": {\"colorbar\": {\"outlinewidth\": 0, \"ticks\": \"\"}}, \"type\": \"histogram\"}], \"histogram2d\": [{\"colorbar\": {\"outlinewidth\": 0, \"ticks\": \"\"}, \"colorscale\": [[0.0, \"#0d0887\"], [0.1111111111111111, \"#46039f\"], [0.2222222222222222, \"#7201a8\"], [0.3333333333333333, \"#9c179e\"], [0.4444444444444444, \"#bd3786\"], [0.5555555555555556, \"#d8576b\"], [0.6666666666666666, \"#ed7953\"], [0.7777777777777778, \"#fb9f3a\"], [0.8888888888888888, \"#fdca26\"], [1.0, \"#f0f921\"]], \"type\": \"histogram2d\"}], \"histogram2dcontour\": [{\"colorbar\": {\"outlinewidth\": 0, \"ticks\": \"\"}, \"colorscale\": [[0.0, \"#0d0887\"], [0.1111111111111111, \"#46039f\"], [0.2222222222222222, \"#7201a8\"], [0.3333333333333333, \"#9c179e\"], [0.4444444444444444, \"#bd3786\"], [0.5555555555555556, \"#d8576b\"], [0.6666666666666666, \"#ed7953\"], [0.7777777777777778, \"#fb9f3a\"], [0.8888888888888888, \"#fdca26\"], [1.0, \"#f0f921\"]], \"type\": \"histogram2dcontour\"}], \"mesh3d\": [{\"colorbar\": {\"outlinewidth\": 0, \"ticks\": \"\"}, \"type\": \"mesh3d\"}], \"parcoords\": [{\"line\": {\"colorbar\": {\"outlinewidth\": 0, \"ticks\": \"\"}}, \"type\": \"parcoords\"}], \"pie\": [{\"automargin\": true, \"type\": \"pie\"}], \"scatter\": [{\"marker\": {\"colorbar\": {\"outlinewidth\": 0, \"ticks\": \"\"}}, \"type\": \"scatter\"}], \"scatter3d\": [{\"line\": {\"colorbar\": {\"outlinewidth\": 0, \"ticks\": \"\"}}, \"marker\": {\"colorbar\": {\"outlinewidth\": 0, \"ticks\": \"\"}}, \"type\": \"scatter3d\"}], \"scattercarpet\": [{\"marker\": {\"colorbar\": {\"outlinewidth\": 0, \"ticks\": \"\"}}, \"type\": \"scattercarpet\"}], \"scattergeo\": [{\"marker\": {\"colorbar\": {\"outlinewidth\": 0, \"ticks\": \"\"}}, \"type\": \"scattergeo\"}], \"scattergl\": [{\"marker\": {\"colorbar\": {\"outlinewidth\": 0, \"ticks\": \"\"}}, \"type\": \"scattergl\"}], \"scattermapbox\": [{\"marker\": {\"colorbar\": {\"outlinewidth\": 0, \"ticks\": \"\"}}, \"type\": \"scattermapbox\"}], \"scatterpolar\": [{\"marker\": {\"colorbar\": {\"outlinewidth\": 0, \"ticks\": \"\"}}, \"type\": \"scatterpolar\"}], \"scatterpolargl\": [{\"marker\": {\"colorbar\": {\"outlinewidth\": 0, \"ticks\": \"\"}}, \"type\": \"scatterpolargl\"}], \"scatterternary\": [{\"marker\": {\"colorbar\": {\"outlinewidth\": 0, \"ticks\": \"\"}}, \"type\": \"scatterternary\"}], \"surface\": [{\"colorbar\": {\"outlinewidth\": 0, \"ticks\": \"\"}, \"colorscale\": [[0.0, \"#0d0887\"], [0.1111111111111111, \"#46039f\"], [0.2222222222222222, \"#7201a8\"], [0.3333333333333333, \"#9c179e\"], [0.4444444444444444, \"#bd3786\"], [0.5555555555555556, \"#d8576b\"], [0.6666666666666666, \"#ed7953\"], [0.7777777777777778, \"#fb9f3a\"], [0.8888888888888888, \"#fdca26\"], [1.0, \"#f0f921\"]], \"type\": \"surface\"}], \"table\": [{\"cells\": {\"fill\": {\"color\": \"#EBF0F8\"}, \"line\": {\"color\": \"white\"}}, \"header\": {\"fill\": {\"color\": \"#C8D4E3\"}, \"line\": {\"color\": \"white\"}}, \"type\": \"table\"}]}, \"layout\": {\"annotationdefaults\": {\"arrowcolor\": \"#2a3f5f\", \"arrowhead\": 0, \"arrowwidth\": 1}, \"coloraxis\": {\"colorbar\": {\"outlinewidth\": 0, \"ticks\": \"\"}}, \"colorscale\": {\"diverging\": [[0, \"#8e0152\"], [0.1, \"#c51b7d\"], [0.2, \"#de77ae\"], [0.3, \"#f1b6da\"], [0.4, \"#fde0ef\"], [0.5, \"#f7f7f7\"], [0.6, \"#e6f5d0\"], [0.7, \"#b8e186\"], [0.8, \"#7fbc41\"], [0.9, \"#4d9221\"], [1, \"#276419\"]], \"sequential\": [[0.0, \"#0d0887\"], [0.1111111111111111, \"#46039f\"], [0.2222222222222222, \"#7201a8\"], [0.3333333333333333, \"#9c179e\"], [0.4444444444444444, \"#bd3786\"], [0.5555555555555556, \"#d8576b\"], [0.6666666666666666, \"#ed7953\"], [0.7777777777777778, \"#fb9f3a\"], [0.8888888888888888, \"#fdca26\"], [1.0, \"#f0f921\"]], \"sequentialminus\": [[0.0, \"#0d0887\"], [0.1111111111111111, \"#46039f\"], [0.2222222222222222, \"#7201a8\"], [0.3333333333333333, \"#9c179e\"], [0.4444444444444444, \"#bd3786\"], [0.5555555555555556, \"#d8576b\"], [0.6666666666666666, \"#ed7953\"], [0.7777777777777778, \"#fb9f3a\"], [0.8888888888888888, \"#fdca26\"], [1.0, \"#f0f921\"]]}, \"colorway\": [\"#636efa\", \"#EF553B\", \"#00cc96\", \"#ab63fa\", \"#FFA15A\", \"#19d3f3\", \"#FF6692\", \"#B6E880\", \"#FF97FF\", \"#FECB52\"], \"font\": {\"color\": \"#2a3f5f\"}, \"geo\": {\"bgcolor\": \"white\", \"lakecolor\": \"white\", \"landcolor\": \"#E5ECF6\", \"showlakes\": true, \"showland\": true, \"subunitcolor\": \"white\"}, \"hoverlabel\": {\"align\": \"left\"}, \"hovermode\": \"closest\", \"mapbox\": {\"style\": \"light\"}, \"paper_bgcolor\": \"white\", \"plot_bgcolor\": \"#E5ECF6\", \"polar\": {\"angularaxis\": {\"gridcolor\": \"white\", \"linecolor\": \"white\", \"ticks\": \"\"}, \"bgcolor\": \"#E5ECF6\", \"radialaxis\": {\"gridcolor\": \"white\", \"linecolor\": \"white\", \"ticks\": \"\"}}, \"scene\": {\"xaxis\": {\"backgroundcolor\": \"#E5ECF6\", \"gridcolor\": \"white\", \"gridwidth\": 2, \"linecolor\": \"white\", \"showbackground\": true, \"ticks\": \"\", \"zerolinecolor\": \"white\"}, \"yaxis\": {\"backgroundcolor\": \"#E5ECF6\", \"gridcolor\": \"white\", \"gridwidth\": 2, \"linecolor\": \"white\", \"showbackground\": true, \"ticks\": \"\", \"zerolinecolor\": \"white\"}, \"zaxis\": {\"backgroundcolor\": \"#E5ECF6\", \"gridcolor\": \"white\", \"gridwidth\": 2, \"linecolor\": \"white\", \"showbackground\": true, \"ticks\": \"\", \"zerolinecolor\": \"white\"}}, \"shapedefaults\": {\"line\": {\"color\": \"#2a3f5f\"}}, \"ternary\": {\"aaxis\": {\"gridcolor\": \"white\", \"linecolor\": \"white\", \"ticks\": \"\"}, \"baxis\": {\"gridcolor\": \"white\", \"linecolor\": \"white\", \"ticks\": \"\"}, \"bgcolor\": \"#E5ECF6\", \"caxis\": {\"gridcolor\": \"white\", \"linecolor\": \"white\", \"ticks\": \"\"}}, \"title\": {\"x\": 0.05}, \"xaxis\": {\"automargin\": true, \"gridcolor\": \"white\", \"linecolor\": \"white\", \"ticks\": \"\", \"title\": {\"standoff\": 15}, \"zerolinecolor\": \"white\", \"zerolinewidth\": 2}, \"yaxis\": {\"automargin\": true, \"gridcolor\": \"white\", \"linecolor\": \"white\", \"ticks\": \"\", \"title\": {\"standoff\": 15}, \"zerolinecolor\": \"white\", \"zerolinewidth\": 2}}}, \"title\": {\"text\": \"Face Shields Produced+Donated by Boston Scientific - April 26th, 2020\"}, \"xaxis\": {\"categoryorder\": \"total descending\"}},\n",
              "                        {\"responsive\": true}\n",
              "                    ).then(function(){\n",
              "                            \n",
              "var gd = document.getElementById('69159b9e-a157-4757-a094-ebdc9707eae9');\n",
              "var x = new MutationObserver(function (mutations, observer) {{\n",
              "        var display = window.getComputedStyle(gd).display;\n",
              "        if (!display || display === 'none') {{\n",
              "            console.log([gd, 'removed!']);\n",
              "            Plotly.purge(gd);\n",
              "            observer.disconnect();\n",
              "        }}\n",
              "}});\n",
              "\n",
              "// Listen for the removal of the full notebook cells\n",
              "var notebookContainer = gd.closest('#notebook-container');\n",
              "if (notebookContainer) {{\n",
              "    x.observe(notebookContainer, {childList: true});\n",
              "}}\n",
              "\n",
              "// Listen for the clearing of the current output cell\n",
              "var outputEl = gd.closest('.output');\n",
              "if (outputEl) {{\n",
              "    x.observe(outputEl, {childList: true});\n",
              "}}\n",
              "\n",
              "                        })\n",
              "                };\n",
              "                \n",
              "            </script>\n",
              "        </div>\n",
              "</body>\n",
              "</html>"
            ]
          },
          "metadata": {
            "tags": []
          }
        }
      ]
    },
    {
      "cell_type": "markdown",
      "metadata": {
        "id": "1gpDtKNu9BdQ",
        "colab_type": "text"
      },
      "source": [
        "### Download state populations"
      ]
    },
    {
      "cell_type": "code",
      "metadata": {
        "id": "Y7nCZXqKI2PH",
        "colab_type": "code",
        "outputId": "de0c152f-05c0-48bd-c5ff-4c0b37176756",
        "colab": {
          "base_uri": "https://localhost:8080/",
          "height": 84
        }
      },
      "source": [
        "# Define google sheets url for download\n",
        "sheet_uuid= '1bTl8A0hdLN0z-xvXYRwlpZ_X3kTa619riFn4PYMTjJ0'\n",
        "\n",
        "# Use string comprehension to replace %s with the above sheet_uuid\n",
        "# this url below converts google sheet to csv\n",
        "url = ('https://docs.google.com/spreadsheet/ccc?key=%s&output=csv' \\\n",
        "  % (sheet_uuid) ) \n",
        "print ('Downloand URL for dataframe import: %s' % url) \n",
        "\n",
        "# convert url to the dataframe\n",
        "pop_df = download_data(url)\n",
        "\n",
        "# Visualize the data\n",
        "pop_df.nunique()"
      ],
      "execution_count": 68,
      "outputs": [
        {
          "output_type": "stream",
          "text": [
            "Downloand URL for dataframe import: https://docs.google.com/spreadsheet/ccc?key=1bTl8A0hdLN0z-xvXYRwlpZ_X3kTa619riFn4PYMTjJ0&output=csv\n"
          ],
          "name": "stdout"
        },
        {
          "output_type": "execute_result",
          "data": {
            "text/plain": [
              "State         57\n",
              "Population    57\n",
              "dtype: int64"
            ]
          },
          "metadata": {
            "tags": []
          },
          "execution_count": 68
        }
      ]
    },
    {
      "cell_type": "code",
      "metadata": {
        "id": "e_NqVTLTunR7",
        "colab_type": "code",
        "colab": {}
      },
      "source": [
        "pop_df['state_code']=pop_df.apply(\n",
        "    lambda row: (keep_states_only(us_state_abbrev, row['State'])),axis=1\n",
        ")\n",
        "\n",
        "pop_df.dropna(inplace=True)"
      ],
      "execution_count": 0,
      "outputs": []
    },
    {
      "cell_type": "markdown",
      "metadata": {
        "id": "Oe0mS8gHUSgs",
        "colab_type": "text"
      },
      "source": [
        "### Add empty state columns to boston sci df\n",
        "TODO: Make idempotent (i.e. run twice without causing error)"
      ]
    },
    {
      "cell_type": "code",
      "metadata": {
        "id": "0Rt7P4TVUYRm",
        "colab_type": "code",
        "outputId": "cb25ffe2-20c1-46f3-dcf4-d87830394248",
        "colab": {
          "base_uri": "https://localhost:8080/",
          "height": 118
        }
      },
      "source": [
        "# Inner Join\n",
        "df = pop_df[['state_code','State','Population']].join(\n",
        "    df[['state_code','Face Shield']].set_index('state_code'),\n",
        "    on='state_code',  how='left')\n",
        "\n",
        "# Remove all commas\n",
        "df = df.replace(',','', regex=True)\n",
        "\n",
        "# Fill NAs\n",
        "df.fillna(0,inplace=True)\n",
        "\n",
        "# Add text column\n",
        "df['text'] = df['State'].astype(str) + '<br>' + \\\n",
        "    'Face Shields: ' + df['Face Shield'].astype(str) + '<br>'\n",
        "\n",
        "df.nunique()"
      ],
      "execution_count": 70,
      "outputs": [
        {
          "output_type": "execute_result",
          "data": {
            "text/plain": [
              "state_code     52\n",
              "State          52\n",
              "Population     52\n",
              "Face Shield    36\n",
              "text           52\n",
              "dtype: int64"
            ]
          },
          "metadata": {
            "tags": []
          },
          "execution_count": 70
        }
      ]
    },
    {
      "cell_type": "markdown",
      "metadata": {
        "id": "eBNDHd7_vqHd",
        "colab_type": "text"
      },
      "source": [
        "### Combine Boston Scientific Data into pop_df - Create merged_df"
      ]
    },
    {
      "cell_type": "code",
      "metadata": {
        "id": "e4jp9mwdv0cB",
        "colab_type": "code",
        "outputId": "1ad4fbd2-2c3a-473f-88c5-6204ce41976b",
        "colab": {
          "base_uri": "https://localhost:8080/",
          "height": 153
        }
      },
      "source": [
        "# Inner Join\n",
        "merged_df = pop_df.join(\n",
        "    df[['state_code','Face Shield']].set_index('state_code'),\n",
        "    on='state_code',  how='left')\n",
        "\n",
        "# Remove all commas\n",
        "merged_df = merged_df.replace(',','', regex=True)\n",
        "\n",
        "# Fill NAs\n",
        "merged_df.fillna(0,inplace=True)\n",
        "\n",
        "# Convert to numeric values\n",
        "merged_df[['Face Shield','Population']] = merged_df[['Face Shield','Population']].astype(int)\n",
        "\n",
        "# get normalized face shield counts\n",
        "merged_df['normalized_face_shield']=merged_df.apply(\n",
        "    lambda row: (row['Face Shield'] / row['Population']),axis=1\n",
        ")\n",
        "merged_df['normalized_face_shield_per_100k']=merged_df.apply(\n",
        "    lambda row: (row['Face Shield'] / row['Population'] * 100000),axis=1\n",
        ")\n",
        "\n",
        "# round out the normalized columns\n",
        "merged_df['normalized_face_shield'] = merged_df['normalized_face_shield'].round(6)\n",
        "merged_df['normalized_face_shield_per_100k'] = merged_df['normalized_face_shield_per_100k'].round(1)\n",
        "\n",
        "# Add text column\n",
        "merged_df['text'] = merged_df['State'].astype(str) + '<br>' + \\\n",
        "    'Face Shields Per 100k: ' + merged_df['normalized_face_shield_per_100k'].astype(str) + '<br><br>' + \\\n",
        "    'Population: ' + merged_df['Population'].astype(str) + '<br>' + \\\n",
        "    'Face Shields: ' + merged_df['Face Shield'].astype(str) + '<br>'\n",
        "\n",
        "# print example out\n",
        "print (len(merged_df.index))\n",
        "merged_df.head(3)\n",
        "\n"
      ],
      "execution_count": 72,
      "outputs": [
        {
          "output_type": "stream",
          "text": [
            "52\n"
          ],
          "name": "stdout"
        },
        {
          "output_type": "execute_result",
          "data": {
            "text/html": [
              "<div>\n",
              "<style scoped>\n",
              "    .dataframe tbody tr th:only-of-type {\n",
              "        vertical-align: middle;\n",
              "    }\n",
              "\n",
              "    .dataframe tbody tr th {\n",
              "        vertical-align: top;\n",
              "    }\n",
              "\n",
              "    .dataframe thead th {\n",
              "        text-align: right;\n",
              "    }\n",
              "</style>\n",
              "<table border=\"1\" class=\"dataframe\">\n",
              "  <thead>\n",
              "    <tr style=\"text-align: right;\">\n",
              "      <th></th>\n",
              "      <th>State</th>\n",
              "      <th>Population</th>\n",
              "      <th>state_code</th>\n",
              "      <th>Face Shield</th>\n",
              "      <th>normalized_face_shield</th>\n",
              "      <th>normalized_face_shield_per_100k</th>\n",
              "      <th>text</th>\n",
              "    </tr>\n",
              "  </thead>\n",
              "  <tbody>\n",
              "    <tr>\n",
              "      <th>5</th>\n",
              "      <td>Alabama</td>\n",
              "      <td>4903185</td>\n",
              "      <td>AL</td>\n",
              "      <td>2500</td>\n",
              "      <td>0.000510</td>\n",
              "      <td>51.0</td>\n",
              "      <td>Alabama&lt;br&gt;Face Shields Per 100k: 51.0&lt;br&gt;&lt;br&gt;...</td>\n",
              "    </tr>\n",
              "    <tr>\n",
              "      <th>6</th>\n",
              "      <td>Alaska</td>\n",
              "      <td>731545</td>\n",
              "      <td>AK</td>\n",
              "      <td>0</td>\n",
              "      <td>0.000000</td>\n",
              "      <td>0.0</td>\n",
              "      <td>Alaska&lt;br&gt;Face Shields Per 100k: 0.0&lt;br&gt;&lt;br&gt;Po...</td>\n",
              "    </tr>\n",
              "    <tr>\n",
              "      <th>7</th>\n",
              "      <td>Arizona</td>\n",
              "      <td>7278717</td>\n",
              "      <td>AZ</td>\n",
              "      <td>5200</td>\n",
              "      <td>0.000714</td>\n",
              "      <td>71.4</td>\n",
              "      <td>Arizona&lt;br&gt;Face Shields Per 100k: 71.4&lt;br&gt;&lt;br&gt;...</td>\n",
              "    </tr>\n",
              "  </tbody>\n",
              "</table>\n",
              "</div>"
            ],
            "text/plain": [
              "     State  Population state_code  Face Shield  normalized_face_shield  \\\n",
              "5  Alabama     4903185         AL         2500                0.000510   \n",
              "6   Alaska      731545         AK            0                0.000000   \n",
              "7  Arizona     7278717         AZ         5200                0.000714   \n",
              "\n",
              "   normalized_face_shield_per_100k  \\\n",
              "5                             51.0   \n",
              "6                              0.0   \n",
              "7                             71.4   \n",
              "\n",
              "                                                text  \n",
              "5  Alabama<br>Face Shields Per 100k: 51.0<br><br>...  \n",
              "6  Alaska<br>Face Shields Per 100k: 0.0<br><br>Po...  \n",
              "7  Arizona<br>Face Shields Per 100k: 71.4<br><br>...  "
            ]
          },
          "metadata": {
            "tags": []
          },
          "execution_count": 72
        }
      ]
    },
    {
      "cell_type": "markdown",
      "metadata": {
        "id": "1ifFDyOt94fM",
        "colab_type": "text"
      },
      "source": [
        "### Map Raw Face Shield Donations"
      ]
    },
    {
      "cell_type": "code",
      "metadata": {
        "id": "sSl58wnV94uX",
        "colab_type": "code",
        "outputId": "7bbfd884-c03c-487e-fbf0-cd16b2b84365",
        "colab": {
          "base_uri": "https://localhost:8080/",
          "height": 542
        }
      },
      "source": [
        "# Make the figure\n",
        "fig = go.Figure(data=go.Choropleth(\n",
        "    locations=df['state_code'], # Spatial coordinates\n",
        "    z = df['Face Shield'].astype(float), # Data to be color-coded\n",
        "    locationmode = 'USA-states', # set of locations match entries in `locations`\n",
        "    colorscale = 'blues',\n",
        "    text=df['text'], # hover text\n",
        "    colorbar_title = \"Face Shields >\",\n",
        "    hoverinfo='text',\n",
        "    marker_line_color='Grey', # line markers between states\n",
        "    marker_opacity=0.8, \n",
        "    zmin=0,\n",
        "    zmax=50000,\n",
        "    marker_line_width=0.5,\n",
        "))\n",
        "\n",
        "fig.update_layout(\n",
        "    title_text='Face Shields Produced+Donated by Boston Scientific - April 26th, 2020',\n",
        "    geo = dict(\n",
        "        scope='usa',\n",
        "        projection=go.layout.geo.Projection(type = 'albers usa'),\n",
        "        showlakes=True, # lakes\n",
        "        lakecolor='rgb(255, 255, 255)'),\n",
        ")\n",
        "\n",
        "fig.show()"
      ],
      "execution_count": 73,
      "outputs": [
        {
          "output_type": "display_data",
          "data": {
            "text/html": [
              "<html>\n",
              "<head><meta charset=\"utf-8\" /></head>\n",
              "<body>\n",
              "    <div>\n",
              "            <script src=\"https://cdnjs.cloudflare.com/ajax/libs/mathjax/2.7.5/MathJax.js?config=TeX-AMS-MML_SVG\"></script><script type=\"text/javascript\">if (window.MathJax) {MathJax.Hub.Config({SVG: {font: \"STIX-Web\"}});}</script>\n",
              "                <script type=\"text/javascript\">window.PlotlyConfig = {MathJaxConfig: 'local'};</script>\n",
              "        <script src=\"https://cdn.plot.ly/plotly-latest.min.js\"></script>    \n",
              "            <div id=\"c0270092-7ff9-4093-9151-26bc2d572692\" class=\"plotly-graph-div\" style=\"height:525px; width:100%;\"></div>\n",
              "            <script type=\"text/javascript\">\n",
              "                \n",
              "                    window.PLOTLYENV=window.PLOTLYENV || {};\n",
              "                    \n",
              "                if (document.getElementById(\"c0270092-7ff9-4093-9151-26bc2d572692\")) {\n",
              "                    Plotly.newPlot(\n",
              "                        'c0270092-7ff9-4093-9151-26bc2d572692',\n",
              "                        [{\"colorbar\": {\"title\": {\"text\": \"Face Shields >\"}}, \"colorscale\": [[0.0, \"rgb(247,251,255)\"], [0.125, \"rgb(222,235,247)\"], [0.25, \"rgb(198,219,239)\"], [0.375, \"rgb(158,202,225)\"], [0.5, \"rgb(107,174,214)\"], [0.625, \"rgb(66,146,198)\"], [0.75, \"rgb(33,113,181)\"], [0.875, \"rgb(8,81,156)\"], [1.0, \"rgb(8,48,107)\"]], \"hoverinfo\": \"text\", \"locationmode\": \"USA-states\", \"locations\": [\"AL\", \"AK\", \"AZ\", \"AR\", \"CA\", \"CO\", \"CT\", \"DE\", \"DC\", \"FL\", \"GA\", \"HI\", \"ID\", \"IL\", \"IN\", \"IA\", \"KS\", \"KY\", \"LA\", \"ME\", \"MD\", \"MA\", \"MI\", \"MN\", \"MS\", \"MO\", \"MT\", \"NE\", \"NV\", \"NH\", \"NJ\", \"NM\", \"NY\", \"NC\", \"ND\", \"OH\", \"OK\", \"OR\", \"PA\", \"RI\", \"SC\", \"SD\", \"TN\", \"TX\", \"UT\", \"VT\", \"VA\", \"WA\", \"WV\", \"WI\", \"WY\", \"PR\"], \"marker\": {\"line\": {\"color\": \"Grey\", \"width\": 0.5}, \"opacity\": 0.8}, \"text\": [\"Alabama<br>Face Shields: 2500<br>\", \"Alaska<br>Face Shields: 0<br>\", \"Arizona<br>Face Shields: 5200<br>\", \"Arkansas<br>Face Shields: 0<br>\", \"California<br>Face Shields: 180300<br>\", \"Colorado<br>Face Shields: 12000<br>\", \"Connecticut<br>Face Shields: 4900<br>\", \"Delaware<br>Face Shields: 12000<br>\", \"District of Columbia<br>Face Shields: 44000<br>\", \"Florida<br>Face Shields: 16000<br>\", \"Georgia<br>Face Shields: 12000<br>\", \"Hawaii<br>Face Shields: 0<br>\", \"Idaho<br>Face Shields: 0<br>\", \"Illinois<br>Face Shields: 79800<br>\", \"Indiana<br>Face Shields: 22000<br>\", \"Iowa<br>Face Shields: 16500<br>\", \"Kansas<br>Face Shields: 1000<br>\", \"Kentucky<br>Face Shields: 0<br>\", \"Louisiana<br>Face Shields: 13800<br>\", \"Maine<br>Face Shields: 0<br>\", \"Maryland<br>Face Shields: 19000<br>\", \"Massachusetts<br>Face Shields: 47900<br>\", \"Michigan<br>Face Shields: 54500<br>\", \"Minnesota<br>Face Shields: 51000<br>\", \"Mississippi<br>Face Shields: 15500<br>\", \"Missouri<br>Face Shields: 27200<br>\", \"Montana<br>Face Shields: 0<br>\", \"Nebraska<br>Face Shields: 24000<br>\", \"Nevada<br>Face Shields: 7500<br>\", \"New Hampshire<br>Face Shields: 2800<br>\", \"New Jersey<br>Face Shields: 43500<br>\", \"New Mexico<br>Face Shields: 0<br>\", \"New York<br>Face Shields: 37800<br>\", \"North Carolina<br>Face Shields: 0<br>\", \"North Dakota<br>Face Shields: 0<br>\", \"Ohio<br>Face Shields: 19000<br>\", \"Oklahoma<br>Face Shields: 10000<br>\", \"Oregon<br>Face Shields: 13000<br>\", \"Pennsylvania<br>Face Shields: 5500<br>\", \"Rhode Island<br>Face Shields: 9000<br>\", \"South Carolina<br>Face Shields: 8000<br>\", \"South Dakota<br>Face Shields: 4000<br>\", \"Tennessee<br>Face Shields: 17000<br>\", \"Texas<br>Face Shields: 46000<br>\", \"Utah<br>Face Shields: 2000<br>\", \"Vermont<br>Face Shields: 0<br>\", \"Virginia<br>Face Shields: 3000<br>\", \"Washington<br>Face Shields: 18000<br>\", \"West Virginia<br>Face Shields: 0<br>\", \"Wisconsin<br>Face Shields: 12000<br>\", \"Wyoming<br>Face Shields: 0<br>\", \"Puerto Rico<br>Face Shields: 51400<br>\"], \"type\": \"choropleth\", \"z\": [2500.0, 0.0, 5200.0, 0.0, 180300.0, 12000.0, 4900.0, 12000.0, 44000.0, 16000.0, 12000.0, 0.0, 0.0, 79800.0, 22000.0, 16500.0, 1000.0, 0.0, 13800.0, 0.0, 19000.0, 47900.0, 54500.0, 51000.0, 15500.0, 27200.0, 0.0, 24000.0, 7500.0, 2800.0, 43500.0, 0.0, 37800.0, 0.0, 0.0, 19000.0, 10000.0, 13000.0, 5500.0, 9000.0, 8000.0, 4000.0, 17000.0, 46000.0, 2000.0, 0.0, 3000.0, 18000.0, 0.0, 12000.0, 0.0, 51400.0], \"zmax\": 50000, \"zmin\": 0}],\n",
              "                        {\"geo\": {\"lakecolor\": \"rgb(255, 255, 255)\", \"projection\": {\"type\": \"albers usa\"}, \"scope\": \"usa\", \"showlakes\": true}, \"template\": {\"data\": {\"bar\": [{\"error_x\": {\"color\": \"#2a3f5f\"}, \"error_y\": {\"color\": \"#2a3f5f\"}, \"marker\": {\"line\": {\"color\": \"#E5ECF6\", \"width\": 0.5}}, \"type\": \"bar\"}], \"barpolar\": [{\"marker\": {\"line\": {\"color\": \"#E5ECF6\", \"width\": 0.5}}, \"type\": \"barpolar\"}], \"carpet\": [{\"aaxis\": {\"endlinecolor\": \"#2a3f5f\", \"gridcolor\": \"white\", \"linecolor\": \"white\", \"minorgridcolor\": \"white\", \"startlinecolor\": \"#2a3f5f\"}, \"baxis\": {\"endlinecolor\": \"#2a3f5f\", \"gridcolor\": \"white\", \"linecolor\": \"white\", \"minorgridcolor\": \"white\", \"startlinecolor\": \"#2a3f5f\"}, \"type\": \"carpet\"}], \"choropleth\": [{\"colorbar\": {\"outlinewidth\": 0, \"ticks\": \"\"}, \"type\": \"choropleth\"}], \"contour\": [{\"colorbar\": {\"outlinewidth\": 0, \"ticks\": \"\"}, \"colorscale\": [[0.0, \"#0d0887\"], [0.1111111111111111, \"#46039f\"], [0.2222222222222222, \"#7201a8\"], [0.3333333333333333, \"#9c179e\"], [0.4444444444444444, \"#bd3786\"], [0.5555555555555556, \"#d8576b\"], [0.6666666666666666, \"#ed7953\"], [0.7777777777777778, \"#fb9f3a\"], [0.8888888888888888, \"#fdca26\"], [1.0, \"#f0f921\"]], \"type\": \"contour\"}], \"contourcarpet\": [{\"colorbar\": {\"outlinewidth\": 0, \"ticks\": \"\"}, \"type\": \"contourcarpet\"}], \"heatmap\": [{\"colorbar\": {\"outlinewidth\": 0, \"ticks\": \"\"}, \"colorscale\": [[0.0, \"#0d0887\"], [0.1111111111111111, \"#46039f\"], [0.2222222222222222, \"#7201a8\"], [0.3333333333333333, \"#9c179e\"], [0.4444444444444444, \"#bd3786\"], [0.5555555555555556, \"#d8576b\"], [0.6666666666666666, \"#ed7953\"], [0.7777777777777778, \"#fb9f3a\"], [0.8888888888888888, \"#fdca26\"], [1.0, \"#f0f921\"]], \"type\": \"heatmap\"}], \"heatmapgl\": [{\"colorbar\": {\"outlinewidth\": 0, \"ticks\": \"\"}, \"colorscale\": [[0.0, \"#0d0887\"], [0.1111111111111111, \"#46039f\"], [0.2222222222222222, \"#7201a8\"], [0.3333333333333333, \"#9c179e\"], [0.4444444444444444, \"#bd3786\"], [0.5555555555555556, \"#d8576b\"], [0.6666666666666666, \"#ed7953\"], [0.7777777777777778, \"#fb9f3a\"], [0.8888888888888888, \"#fdca26\"], [1.0, \"#f0f921\"]], \"type\": \"heatmapgl\"}], \"histogram\": [{\"marker\": {\"colorbar\": {\"outlinewidth\": 0, \"ticks\": \"\"}}, \"type\": \"histogram\"}], \"histogram2d\": [{\"colorbar\": {\"outlinewidth\": 0, \"ticks\": \"\"}, \"colorscale\": [[0.0, \"#0d0887\"], [0.1111111111111111, \"#46039f\"], [0.2222222222222222, \"#7201a8\"], [0.3333333333333333, \"#9c179e\"], [0.4444444444444444, \"#bd3786\"], [0.5555555555555556, \"#d8576b\"], [0.6666666666666666, \"#ed7953\"], [0.7777777777777778, \"#fb9f3a\"], [0.8888888888888888, \"#fdca26\"], [1.0, \"#f0f921\"]], \"type\": \"histogram2d\"}], \"histogram2dcontour\": [{\"colorbar\": {\"outlinewidth\": 0, \"ticks\": \"\"}, \"colorscale\": [[0.0, \"#0d0887\"], [0.1111111111111111, \"#46039f\"], [0.2222222222222222, \"#7201a8\"], [0.3333333333333333, \"#9c179e\"], [0.4444444444444444, \"#bd3786\"], [0.5555555555555556, \"#d8576b\"], [0.6666666666666666, \"#ed7953\"], [0.7777777777777778, \"#fb9f3a\"], [0.8888888888888888, \"#fdca26\"], [1.0, \"#f0f921\"]], \"type\": \"histogram2dcontour\"}], \"mesh3d\": [{\"colorbar\": {\"outlinewidth\": 0, \"ticks\": \"\"}, \"type\": \"mesh3d\"}], \"parcoords\": [{\"line\": {\"colorbar\": {\"outlinewidth\": 0, \"ticks\": \"\"}}, \"type\": \"parcoords\"}], \"pie\": [{\"automargin\": true, \"type\": \"pie\"}], \"scatter\": [{\"marker\": {\"colorbar\": {\"outlinewidth\": 0, \"ticks\": \"\"}}, \"type\": \"scatter\"}], \"scatter3d\": [{\"line\": {\"colorbar\": {\"outlinewidth\": 0, \"ticks\": \"\"}}, \"marker\": {\"colorbar\": {\"outlinewidth\": 0, \"ticks\": \"\"}}, \"type\": \"scatter3d\"}], \"scattercarpet\": [{\"marker\": {\"colorbar\": {\"outlinewidth\": 0, \"ticks\": \"\"}}, \"type\": \"scattercarpet\"}], \"scattergeo\": [{\"marker\": {\"colorbar\": {\"outlinewidth\": 0, \"ticks\": \"\"}}, \"type\": \"scattergeo\"}], \"scattergl\": [{\"marker\": {\"colorbar\": {\"outlinewidth\": 0, \"ticks\": \"\"}}, \"type\": \"scattergl\"}], \"scattermapbox\": [{\"marker\": {\"colorbar\": {\"outlinewidth\": 0, \"ticks\": \"\"}}, \"type\": \"scattermapbox\"}], \"scatterpolar\": [{\"marker\": {\"colorbar\": {\"outlinewidth\": 0, \"ticks\": \"\"}}, \"type\": \"scatterpolar\"}], \"scatterpolargl\": [{\"marker\": {\"colorbar\": {\"outlinewidth\": 0, \"ticks\": \"\"}}, \"type\": \"scatterpolargl\"}], \"scatterternary\": [{\"marker\": {\"colorbar\": {\"outlinewidth\": 0, \"ticks\": \"\"}}, \"type\": \"scatterternary\"}], \"surface\": [{\"colorbar\": {\"outlinewidth\": 0, \"ticks\": \"\"}, \"colorscale\": [[0.0, \"#0d0887\"], [0.1111111111111111, \"#46039f\"], [0.2222222222222222, \"#7201a8\"], [0.3333333333333333, \"#9c179e\"], [0.4444444444444444, \"#bd3786\"], [0.5555555555555556, \"#d8576b\"], [0.6666666666666666, \"#ed7953\"], [0.7777777777777778, \"#fb9f3a\"], [0.8888888888888888, \"#fdca26\"], [1.0, \"#f0f921\"]], \"type\": \"surface\"}], \"table\": [{\"cells\": {\"fill\": {\"color\": \"#EBF0F8\"}, \"line\": {\"color\": \"white\"}}, \"header\": {\"fill\": {\"color\": \"#C8D4E3\"}, \"line\": {\"color\": \"white\"}}, \"type\": \"table\"}]}, \"layout\": {\"annotationdefaults\": {\"arrowcolor\": \"#2a3f5f\", \"arrowhead\": 0, \"arrowwidth\": 1}, \"coloraxis\": {\"colorbar\": {\"outlinewidth\": 0, \"ticks\": \"\"}}, \"colorscale\": {\"diverging\": [[0, \"#8e0152\"], [0.1, \"#c51b7d\"], [0.2, \"#de77ae\"], [0.3, \"#f1b6da\"], [0.4, \"#fde0ef\"], [0.5, \"#f7f7f7\"], [0.6, \"#e6f5d0\"], [0.7, \"#b8e186\"], [0.8, \"#7fbc41\"], [0.9, \"#4d9221\"], [1, \"#276419\"]], \"sequential\": [[0.0, \"#0d0887\"], [0.1111111111111111, \"#46039f\"], [0.2222222222222222, \"#7201a8\"], [0.3333333333333333, \"#9c179e\"], [0.4444444444444444, \"#bd3786\"], [0.5555555555555556, \"#d8576b\"], [0.6666666666666666, \"#ed7953\"], [0.7777777777777778, \"#fb9f3a\"], [0.8888888888888888, \"#fdca26\"], [1.0, \"#f0f921\"]], \"sequentialminus\": [[0.0, \"#0d0887\"], [0.1111111111111111, \"#46039f\"], [0.2222222222222222, \"#7201a8\"], [0.3333333333333333, \"#9c179e\"], [0.4444444444444444, \"#bd3786\"], [0.5555555555555556, \"#d8576b\"], [0.6666666666666666, \"#ed7953\"], [0.7777777777777778, \"#fb9f3a\"], [0.8888888888888888, \"#fdca26\"], [1.0, \"#f0f921\"]]}, \"colorway\": [\"#636efa\", \"#EF553B\", \"#00cc96\", \"#ab63fa\", \"#FFA15A\", \"#19d3f3\", \"#FF6692\", \"#B6E880\", \"#FF97FF\", \"#FECB52\"], \"font\": {\"color\": \"#2a3f5f\"}, \"geo\": {\"bgcolor\": \"white\", \"lakecolor\": \"white\", \"landcolor\": \"#E5ECF6\", \"showlakes\": true, \"showland\": true, \"subunitcolor\": \"white\"}, \"hoverlabel\": {\"align\": \"left\"}, \"hovermode\": \"closest\", \"mapbox\": {\"style\": \"light\"}, \"paper_bgcolor\": \"white\", \"plot_bgcolor\": \"#E5ECF6\", \"polar\": {\"angularaxis\": {\"gridcolor\": \"white\", \"linecolor\": \"white\", \"ticks\": \"\"}, \"bgcolor\": \"#E5ECF6\", \"radialaxis\": {\"gridcolor\": \"white\", \"linecolor\": \"white\", \"ticks\": \"\"}}, \"scene\": {\"xaxis\": {\"backgroundcolor\": \"#E5ECF6\", \"gridcolor\": \"white\", \"gridwidth\": 2, \"linecolor\": \"white\", \"showbackground\": true, \"ticks\": \"\", \"zerolinecolor\": \"white\"}, \"yaxis\": {\"backgroundcolor\": \"#E5ECF6\", \"gridcolor\": \"white\", \"gridwidth\": 2, \"linecolor\": \"white\", \"showbackground\": true, \"ticks\": \"\", \"zerolinecolor\": \"white\"}, \"zaxis\": {\"backgroundcolor\": \"#E5ECF6\", \"gridcolor\": \"white\", \"gridwidth\": 2, \"linecolor\": \"white\", \"showbackground\": true, \"ticks\": \"\", \"zerolinecolor\": \"white\"}}, \"shapedefaults\": {\"line\": {\"color\": \"#2a3f5f\"}}, \"ternary\": {\"aaxis\": {\"gridcolor\": \"white\", \"linecolor\": \"white\", \"ticks\": \"\"}, \"baxis\": {\"gridcolor\": \"white\", \"linecolor\": \"white\", \"ticks\": \"\"}, \"bgcolor\": \"#E5ECF6\", \"caxis\": {\"gridcolor\": \"white\", \"linecolor\": \"white\", \"ticks\": \"\"}}, \"title\": {\"x\": 0.05}, \"xaxis\": {\"automargin\": true, \"gridcolor\": \"white\", \"linecolor\": \"white\", \"ticks\": \"\", \"title\": {\"standoff\": 15}, \"zerolinecolor\": \"white\", \"zerolinewidth\": 2}, \"yaxis\": {\"automargin\": true, \"gridcolor\": \"white\", \"linecolor\": \"white\", \"ticks\": \"\", \"title\": {\"standoff\": 15}, \"zerolinecolor\": \"white\", \"zerolinewidth\": 2}}}, \"title\": {\"text\": \"Face Shields Produced+Donated by Boston Scientific - April 26th, 2020\"}},\n",
              "                        {\"responsive\": true}\n",
              "                    ).then(function(){\n",
              "                            \n",
              "var gd = document.getElementById('c0270092-7ff9-4093-9151-26bc2d572692');\n",
              "var x = new MutationObserver(function (mutations, observer) {{\n",
              "        var display = window.getComputedStyle(gd).display;\n",
              "        if (!display || display === 'none') {{\n",
              "            console.log([gd, 'removed!']);\n",
              "            Plotly.purge(gd);\n",
              "            observer.disconnect();\n",
              "        }}\n",
              "}});\n",
              "\n",
              "// Listen for the removal of the full notebook cells\n",
              "var notebookContainer = gd.closest('#notebook-container');\n",
              "if (notebookContainer) {{\n",
              "    x.observe(notebookContainer, {childList: true});\n",
              "}}\n",
              "\n",
              "// Listen for the clearing of the current output cell\n",
              "var outputEl = gd.closest('.output');\n",
              "if (outputEl) {{\n",
              "    x.observe(outputEl, {childList: true});\n",
              "}}\n",
              "\n",
              "                        })\n",
              "                };\n",
              "                \n",
              "            </script>\n",
              "        </div>\n",
              "</body>\n",
              "</html>"
            ]
          },
          "metadata": {
            "tags": []
          }
        }
      ]
    },
    {
      "cell_type": "markdown",
      "metadata": {
        "id": "3e-5i-ZI0ZUK",
        "colab_type": "text"
      },
      "source": [
        "### Map the normalized face shields"
      ]
    },
    {
      "cell_type": "code",
      "metadata": {
        "id": "ZmsISs3Vvo4E",
        "colab_type": "code",
        "outputId": "c47359f2-fd89-4b96-95fc-877e6b32ed8f",
        "colab": {
          "base_uri": "https://localhost:8080/",
          "height": 542
        }
      },
      "source": [
        "# Make the figure\n",
        "fig = go.Figure(data=go.Choropleth(\n",
        "    locations=merged_df['state_code'], # Spatial coordinates\n",
        "    z = merged_df['normalized_face_shield_per_100k'], # Data to be color-coded\n",
        "    locationmode = 'USA-states', # set of locations match entries in `locations`\n",
        "    colorscale = 'blues',\n",
        "    text=merged_df['text'], # hover text\n",
        "    colorbar_title = \">Shields Per 100k\",\n",
        "    hoverinfo='text',\n",
        "    marker_line_color='Grey', # line markers between states\n",
        "    marker_opacity=0.8, \n",
        "    zmin=0,\n",
        "    zmax=500,\n",
        "    marker_line_width=0.5,\n",
        "))\n",
        "\n",
        "fig.update_layout(\n",
        "    title_text='Face Shields Produced+Donated by Boston Scientific (Normalized to Population) - April 26th, 2020',\n",
        "    geo = dict(\n",
        "        scope='usa',\n",
        "        projection=go.layout.geo.Projection(type = 'albers usa'),\n",
        "        showlakes=True, # lakes\n",
        "        lakecolor='rgb(255, 255, 255)'),\n",
        ")\n",
        "\n",
        "fig.show()"
      ],
      "execution_count": 74,
      "outputs": [
        {
          "output_type": "display_data",
          "data": {
            "text/html": [
              "<html>\n",
              "<head><meta charset=\"utf-8\" /></head>\n",
              "<body>\n",
              "    <div>\n",
              "            <script src=\"https://cdnjs.cloudflare.com/ajax/libs/mathjax/2.7.5/MathJax.js?config=TeX-AMS-MML_SVG\"></script><script type=\"text/javascript\">if (window.MathJax) {MathJax.Hub.Config({SVG: {font: \"STIX-Web\"}});}</script>\n",
              "                <script type=\"text/javascript\">window.PlotlyConfig = {MathJaxConfig: 'local'};</script>\n",
              "        <script src=\"https://cdn.plot.ly/plotly-latest.min.js\"></script>    \n",
              "            <div id=\"e7600a40-fdd1-4808-bed6-c9f242127f4c\" class=\"plotly-graph-div\" style=\"height:525px; width:100%;\"></div>\n",
              "            <script type=\"text/javascript\">\n",
              "                \n",
              "                    window.PLOTLYENV=window.PLOTLYENV || {};\n",
              "                    \n",
              "                if (document.getElementById(\"e7600a40-fdd1-4808-bed6-c9f242127f4c\")) {\n",
              "                    Plotly.newPlot(\n",
              "                        'e7600a40-fdd1-4808-bed6-c9f242127f4c',\n",
              "                        [{\"colorbar\": {\"title\": {\"text\": \">Shields Per 100k\"}}, \"colorscale\": [[0.0, \"rgb(247,251,255)\"], [0.125, \"rgb(222,235,247)\"], [0.25, \"rgb(198,219,239)\"], [0.375, \"rgb(158,202,225)\"], [0.5, \"rgb(107,174,214)\"], [0.625, \"rgb(66,146,198)\"], [0.75, \"rgb(33,113,181)\"], [0.875, \"rgb(8,81,156)\"], [1.0, \"rgb(8,48,107)\"]], \"hoverinfo\": \"text\", \"locationmode\": \"USA-states\", \"locations\": [\"AL\", \"AK\", \"AZ\", \"AR\", \"CA\", \"CO\", \"CT\", \"DE\", \"DC\", \"FL\", \"GA\", \"HI\", \"ID\", \"IL\", \"IN\", \"IA\", \"KS\", \"KY\", \"LA\", \"ME\", \"MD\", \"MA\", \"MI\", \"MN\", \"MS\", \"MO\", \"MT\", \"NE\", \"NV\", \"NH\", \"NJ\", \"NM\", \"NY\", \"NC\", \"ND\", \"OH\", \"OK\", \"OR\", \"PA\", \"RI\", \"SC\", \"SD\", \"TN\", \"TX\", \"UT\", \"VT\", \"VA\", \"WA\", \"WV\", \"WI\", \"WY\", \"PR\"], \"marker\": {\"line\": {\"color\": \"Grey\", \"width\": 0.5}, \"opacity\": 0.8}, \"text\": [\"Alabama<br>Face Shields Per 100k: 51.0<br><br>Population: 4903185<br>Face Shields: 2500<br>\", \"Alaska<br>Face Shields Per 100k: 0.0<br><br>Population: 731545<br>Face Shields: 0<br>\", \"Arizona<br>Face Shields Per 100k: 71.4<br><br>Population: 7278717<br>Face Shields: 5200<br>\", \"Arkansas<br>Face Shields Per 100k: 0.0<br><br>Population: 3017804<br>Face Shields: 0<br>\", \"California<br>Face Shields Per 100k: 456.3<br><br>Population: 39512223<br>Face Shields: 180300<br>\", \"Colorado<br>Face Shields Per 100k: 208.4<br><br>Population: 5758736<br>Face Shields: 12000<br>\", \"Connecticut<br>Face Shields Per 100k: 137.4<br><br>Population: 3565287<br>Face Shields: 4900<br>\", \"Delaware<br>Face Shields Per 100k: 1232.3<br><br>Population: 973764<br>Face Shields: 12000<br>\", \"District of Columbia<br>Face Shields Per 100k: 6234.5<br><br>Population: 705749<br>Face Shields: 44000<br>\", \"Florida<br>Face Shields Per 100k: 74.5<br><br>Population: 21477737<br>Face Shields: 16000<br>\", \"Georgia<br>Face Shields Per 100k: 113.0<br><br>Population: 10617423<br>Face Shields: 12000<br>\", \"Hawaii<br>Face Shields Per 100k: 0.0<br><br>Population: 1415872<br>Face Shields: 0<br>\", \"Idaho<br>Face Shields Per 100k: 0.0<br><br>Population: 1787065<br>Face Shields: 0<br>\", \"Illinois<br>Face Shields Per 100k: 629.7<br><br>Population: 12671821<br>Face Shields: 79800<br>\", \"Indiana<br>Face Shields Per 100k: 326.8<br><br>Population: 6732219<br>Face Shields: 22000<br>\", \"Iowa<br>Face Shields Per 100k: 523.0<br><br>Population: 3155070<br>Face Shields: 16500<br>\", \"Kansas<br>Face Shields Per 100k: 34.3<br><br>Population: 2913314<br>Face Shields: 1000<br>\", \"Kentucky<br>Face Shields Per 100k: 0.0<br><br>Population: 4467673<br>Face Shields: 0<br>\", \"Louisiana<br>Face Shields Per 100k: 296.9<br><br>Population: 4648794<br>Face Shields: 13800<br>\", \"Maine<br>Face Shields Per 100k: 0.0<br><br>Population: 1344212<br>Face Shields: 0<br>\", \"Maryland<br>Face Shields Per 100k: 314.3<br><br>Population: 6045680<br>Face Shields: 19000<br>\", \"Massachusetts<br>Face Shields Per 100k: 695.0<br><br>Population: 6892503<br>Face Shields: 47900<br>\", \"Michigan<br>Face Shields Per 100k: 545.7<br><br>Population: 9986857<br>Face Shields: 54500<br>\", \"Minnesota<br>Face Shields Per 100k: 904.3<br><br>Population: 5639632<br>Face Shields: 51000<br>\", \"Mississippi<br>Face Shields Per 100k: 520.8<br><br>Population: 2976149<br>Face Shields: 15500<br>\", \"Missouri<br>Face Shields Per 100k: 443.2<br><br>Population: 6137428<br>Face Shields: 27200<br>\", \"Montana<br>Face Shields Per 100k: 0.0<br><br>Population: 1068778<br>Face Shields: 0<br>\", \"Nebraska<br>Face Shields Per 100k: 1240.7<br><br>Population: 1934408<br>Face Shields: 24000<br>\", \"Nevada<br>Face Shields Per 100k: 243.5<br><br>Population: 3080156<br>Face Shields: 7500<br>\", \"New Hampshire<br>Face Shields Per 100k: 205.9<br><br>Population: 1359711<br>Face Shields: 2800<br>\", \"New Jersey<br>Face Shields Per 100k: 489.7<br><br>Population: 8882190<br>Face Shields: 43500<br>\", \"New Mexico<br>Face Shields Per 100k: 0.0<br><br>Population: 2096829<br>Face Shields: 0<br>\", \"New York<br>Face Shields Per 100k: 194.3<br><br>Population: 19453561<br>Face Shields: 37800<br>\", \"North Carolina<br>Face Shields Per 100k: 0.0<br><br>Population: 10488084<br>Face Shields: 0<br>\", \"North Dakota<br>Face Shields Per 100k: 0.0<br><br>Population: 762062<br>Face Shields: 0<br>\", \"Ohio<br>Face Shields Per 100k: 162.5<br><br>Population: 11689100<br>Face Shields: 19000<br>\", \"Oklahoma<br>Face Shields Per 100k: 252.7<br><br>Population: 3956971<br>Face Shields: 10000<br>\", \"Oregon<br>Face Shields Per 100k: 308.2<br><br>Population: 4217737<br>Face Shields: 13000<br>\", \"Pennsylvania<br>Face Shields Per 100k: 43.0<br><br>Population: 12801989<br>Face Shields: 5500<br>\", \"Rhode Island<br>Face Shields Per 100k: 849.6<br><br>Population: 1059361<br>Face Shields: 9000<br>\", \"South Carolina<br>Face Shields Per 100k: 155.4<br><br>Population: 5148714<br>Face Shields: 8000<br>\", \"South Dakota<br>Face Shields Per 100k: 452.2<br><br>Population: 884659<br>Face Shields: 4000<br>\", \"Tennessee<br>Face Shields Per 100k: 248.9<br><br>Population: 6829174<br>Face Shields: 17000<br>\", \"Texas<br>Face Shields Per 100k: 158.6<br><br>Population: 28995881<br>Face Shields: 46000<br>\", \"Utah<br>Face Shields Per 100k: 62.4<br><br>Population: 3205958<br>Face Shields: 2000<br>\", \"Vermont<br>Face Shields Per 100k: 0.0<br><br>Population: 623989<br>Face Shields: 0<br>\", \"Virginia<br>Face Shields Per 100k: 35.1<br><br>Population: 8535519<br>Face Shields: 3000<br>\", \"Washington<br>Face Shields Per 100k: 236.4<br><br>Population: 7614893<br>Face Shields: 18000<br>\", \"West Virginia<br>Face Shields Per 100k: 0.0<br><br>Population: 1792147<br>Face Shields: 0<br>\", \"Wisconsin<br>Face Shields Per 100k: 206.1<br><br>Population: 5822434<br>Face Shields: 12000<br>\", \"Wyoming<br>Face Shields Per 100k: 0.0<br><br>Population: 578759<br>Face Shields: 0<br>\", \"Puerto Rico<br>Face Shields Per 100k: 1609.4<br><br>Population: 3193694<br>Face Shields: 51400<br>\"], \"type\": \"choropleth\", \"z\": [51.0, 0.0, 71.4, 0.0, 456.3, 208.4, 137.4, 1232.3, 6234.5, 74.5, 113.0, 0.0, 0.0, 629.7, 326.8, 523.0, 34.3, 0.0, 296.9, 0.0, 314.3, 695.0, 545.7, 904.3, 520.8, 443.2, 0.0, 1240.7, 243.5, 205.9, 489.7, 0.0, 194.3, 0.0, 0.0, 162.5, 252.7, 308.2, 43.0, 849.6, 155.4, 452.2, 248.9, 158.6, 62.4, 0.0, 35.1, 236.4, 0.0, 206.1, 0.0, 1609.4], \"zmax\": 500, \"zmin\": 0}],\n",
              "                        {\"geo\": {\"lakecolor\": \"rgb(255, 255, 255)\", \"projection\": {\"type\": \"albers usa\"}, \"scope\": \"usa\", \"showlakes\": true}, \"template\": {\"data\": {\"bar\": [{\"error_x\": {\"color\": \"#2a3f5f\"}, \"error_y\": {\"color\": \"#2a3f5f\"}, \"marker\": {\"line\": {\"color\": \"#E5ECF6\", \"width\": 0.5}}, \"type\": \"bar\"}], \"barpolar\": [{\"marker\": {\"line\": {\"color\": \"#E5ECF6\", \"width\": 0.5}}, \"type\": \"barpolar\"}], \"carpet\": [{\"aaxis\": {\"endlinecolor\": \"#2a3f5f\", \"gridcolor\": \"white\", \"linecolor\": \"white\", \"minorgridcolor\": \"white\", \"startlinecolor\": \"#2a3f5f\"}, \"baxis\": {\"endlinecolor\": \"#2a3f5f\", \"gridcolor\": \"white\", \"linecolor\": \"white\", \"minorgridcolor\": \"white\", \"startlinecolor\": \"#2a3f5f\"}, \"type\": \"carpet\"}], \"choropleth\": [{\"colorbar\": {\"outlinewidth\": 0, \"ticks\": \"\"}, \"type\": \"choropleth\"}], \"contour\": [{\"colorbar\": {\"outlinewidth\": 0, \"ticks\": \"\"}, \"colorscale\": [[0.0, \"#0d0887\"], [0.1111111111111111, \"#46039f\"], [0.2222222222222222, \"#7201a8\"], [0.3333333333333333, \"#9c179e\"], [0.4444444444444444, \"#bd3786\"], [0.5555555555555556, \"#d8576b\"], [0.6666666666666666, \"#ed7953\"], [0.7777777777777778, \"#fb9f3a\"], [0.8888888888888888, \"#fdca26\"], [1.0, \"#f0f921\"]], \"type\": \"contour\"}], \"contourcarpet\": [{\"colorbar\": {\"outlinewidth\": 0, \"ticks\": \"\"}, \"type\": \"contourcarpet\"}], \"heatmap\": [{\"colorbar\": {\"outlinewidth\": 0, \"ticks\": \"\"}, \"colorscale\": [[0.0, \"#0d0887\"], [0.1111111111111111, \"#46039f\"], [0.2222222222222222, \"#7201a8\"], [0.3333333333333333, \"#9c179e\"], [0.4444444444444444, \"#bd3786\"], [0.5555555555555556, \"#d8576b\"], [0.6666666666666666, \"#ed7953\"], [0.7777777777777778, \"#fb9f3a\"], [0.8888888888888888, \"#fdca26\"], [1.0, \"#f0f921\"]], \"type\": \"heatmap\"}], \"heatmapgl\": [{\"colorbar\": {\"outlinewidth\": 0, \"ticks\": \"\"}, \"colorscale\": [[0.0, \"#0d0887\"], [0.1111111111111111, \"#46039f\"], [0.2222222222222222, \"#7201a8\"], [0.3333333333333333, \"#9c179e\"], [0.4444444444444444, \"#bd3786\"], [0.5555555555555556, \"#d8576b\"], [0.6666666666666666, \"#ed7953\"], [0.7777777777777778, \"#fb9f3a\"], [0.8888888888888888, \"#fdca26\"], [1.0, \"#f0f921\"]], \"type\": \"heatmapgl\"}], \"histogram\": [{\"marker\": {\"colorbar\": {\"outlinewidth\": 0, \"ticks\": \"\"}}, \"type\": \"histogram\"}], \"histogram2d\": [{\"colorbar\": {\"outlinewidth\": 0, \"ticks\": \"\"}, \"colorscale\": [[0.0, \"#0d0887\"], [0.1111111111111111, \"#46039f\"], [0.2222222222222222, \"#7201a8\"], [0.3333333333333333, \"#9c179e\"], [0.4444444444444444, \"#bd3786\"], [0.5555555555555556, \"#d8576b\"], [0.6666666666666666, \"#ed7953\"], [0.7777777777777778, \"#fb9f3a\"], [0.8888888888888888, \"#fdca26\"], [1.0, \"#f0f921\"]], \"type\": \"histogram2d\"}], \"histogram2dcontour\": [{\"colorbar\": {\"outlinewidth\": 0, \"ticks\": \"\"}, \"colorscale\": [[0.0, \"#0d0887\"], [0.1111111111111111, \"#46039f\"], [0.2222222222222222, \"#7201a8\"], [0.3333333333333333, \"#9c179e\"], [0.4444444444444444, \"#bd3786\"], [0.5555555555555556, \"#d8576b\"], [0.6666666666666666, \"#ed7953\"], [0.7777777777777778, \"#fb9f3a\"], [0.8888888888888888, \"#fdca26\"], [1.0, \"#f0f921\"]], \"type\": \"histogram2dcontour\"}], \"mesh3d\": [{\"colorbar\": {\"outlinewidth\": 0, \"ticks\": \"\"}, \"type\": \"mesh3d\"}], \"parcoords\": [{\"line\": {\"colorbar\": {\"outlinewidth\": 0, \"ticks\": \"\"}}, \"type\": \"parcoords\"}], \"pie\": [{\"automargin\": true, \"type\": \"pie\"}], \"scatter\": [{\"marker\": {\"colorbar\": {\"outlinewidth\": 0, \"ticks\": \"\"}}, \"type\": \"scatter\"}], \"scatter3d\": [{\"line\": {\"colorbar\": {\"outlinewidth\": 0, \"ticks\": \"\"}}, \"marker\": {\"colorbar\": {\"outlinewidth\": 0, \"ticks\": \"\"}}, \"type\": \"scatter3d\"}], \"scattercarpet\": [{\"marker\": {\"colorbar\": {\"outlinewidth\": 0, \"ticks\": \"\"}}, \"type\": \"scattercarpet\"}], \"scattergeo\": [{\"marker\": {\"colorbar\": {\"outlinewidth\": 0, \"ticks\": \"\"}}, \"type\": \"scattergeo\"}], \"scattergl\": [{\"marker\": {\"colorbar\": {\"outlinewidth\": 0, \"ticks\": \"\"}}, \"type\": \"scattergl\"}], \"scattermapbox\": [{\"marker\": {\"colorbar\": {\"outlinewidth\": 0, \"ticks\": \"\"}}, \"type\": \"scattermapbox\"}], \"scatterpolar\": [{\"marker\": {\"colorbar\": {\"outlinewidth\": 0, \"ticks\": \"\"}}, \"type\": \"scatterpolar\"}], \"scatterpolargl\": [{\"marker\": {\"colorbar\": {\"outlinewidth\": 0, \"ticks\": \"\"}}, \"type\": \"scatterpolargl\"}], \"scatterternary\": [{\"marker\": {\"colorbar\": {\"outlinewidth\": 0, \"ticks\": \"\"}}, \"type\": \"scatterternary\"}], \"surface\": [{\"colorbar\": {\"outlinewidth\": 0, \"ticks\": \"\"}, \"colorscale\": [[0.0, \"#0d0887\"], [0.1111111111111111, \"#46039f\"], [0.2222222222222222, \"#7201a8\"], [0.3333333333333333, \"#9c179e\"], [0.4444444444444444, \"#bd3786\"], [0.5555555555555556, \"#d8576b\"], [0.6666666666666666, \"#ed7953\"], [0.7777777777777778, \"#fb9f3a\"], [0.8888888888888888, \"#fdca26\"], [1.0, \"#f0f921\"]], \"type\": \"surface\"}], \"table\": [{\"cells\": {\"fill\": {\"color\": \"#EBF0F8\"}, \"line\": {\"color\": \"white\"}}, \"header\": {\"fill\": {\"color\": \"#C8D4E3\"}, \"line\": {\"color\": \"white\"}}, \"type\": \"table\"}]}, \"layout\": {\"annotationdefaults\": {\"arrowcolor\": \"#2a3f5f\", \"arrowhead\": 0, \"arrowwidth\": 1}, \"coloraxis\": {\"colorbar\": {\"outlinewidth\": 0, \"ticks\": \"\"}}, \"colorscale\": {\"diverging\": [[0, \"#8e0152\"], [0.1, \"#c51b7d\"], [0.2, \"#de77ae\"], [0.3, \"#f1b6da\"], [0.4, \"#fde0ef\"], [0.5, \"#f7f7f7\"], [0.6, \"#e6f5d0\"], [0.7, \"#b8e186\"], [0.8, \"#7fbc41\"], [0.9, \"#4d9221\"], [1, \"#276419\"]], \"sequential\": [[0.0, \"#0d0887\"], [0.1111111111111111, \"#46039f\"], [0.2222222222222222, \"#7201a8\"], [0.3333333333333333, \"#9c179e\"], [0.4444444444444444, \"#bd3786\"], [0.5555555555555556, \"#d8576b\"], [0.6666666666666666, \"#ed7953\"], [0.7777777777777778, \"#fb9f3a\"], [0.8888888888888888, \"#fdca26\"], [1.0, \"#f0f921\"]], \"sequentialminus\": [[0.0, \"#0d0887\"], [0.1111111111111111, \"#46039f\"], [0.2222222222222222, \"#7201a8\"], [0.3333333333333333, \"#9c179e\"], [0.4444444444444444, \"#bd3786\"], [0.5555555555555556, \"#d8576b\"], [0.6666666666666666, \"#ed7953\"], [0.7777777777777778, \"#fb9f3a\"], [0.8888888888888888, \"#fdca26\"], [1.0, \"#f0f921\"]]}, \"colorway\": [\"#636efa\", \"#EF553B\", \"#00cc96\", \"#ab63fa\", \"#FFA15A\", \"#19d3f3\", \"#FF6692\", \"#B6E880\", \"#FF97FF\", \"#FECB52\"], \"font\": {\"color\": \"#2a3f5f\"}, \"geo\": {\"bgcolor\": \"white\", \"lakecolor\": \"white\", \"landcolor\": \"#E5ECF6\", \"showlakes\": true, \"showland\": true, \"subunitcolor\": \"white\"}, \"hoverlabel\": {\"align\": \"left\"}, \"hovermode\": \"closest\", \"mapbox\": {\"style\": \"light\"}, \"paper_bgcolor\": \"white\", \"plot_bgcolor\": \"#E5ECF6\", \"polar\": {\"angularaxis\": {\"gridcolor\": \"white\", \"linecolor\": \"white\", \"ticks\": \"\"}, \"bgcolor\": \"#E5ECF6\", \"radialaxis\": {\"gridcolor\": \"white\", \"linecolor\": \"white\", \"ticks\": \"\"}}, \"scene\": {\"xaxis\": {\"backgroundcolor\": \"#E5ECF6\", \"gridcolor\": \"white\", \"gridwidth\": 2, \"linecolor\": \"white\", \"showbackground\": true, \"ticks\": \"\", \"zerolinecolor\": \"white\"}, \"yaxis\": {\"backgroundcolor\": \"#E5ECF6\", \"gridcolor\": \"white\", \"gridwidth\": 2, \"linecolor\": \"white\", \"showbackground\": true, \"ticks\": \"\", \"zerolinecolor\": \"white\"}, \"zaxis\": {\"backgroundcolor\": \"#E5ECF6\", \"gridcolor\": \"white\", \"gridwidth\": 2, \"linecolor\": \"white\", \"showbackground\": true, \"ticks\": \"\", \"zerolinecolor\": \"white\"}}, \"shapedefaults\": {\"line\": {\"color\": \"#2a3f5f\"}}, \"ternary\": {\"aaxis\": {\"gridcolor\": \"white\", \"linecolor\": \"white\", \"ticks\": \"\"}, \"baxis\": {\"gridcolor\": \"white\", \"linecolor\": \"white\", \"ticks\": \"\"}, \"bgcolor\": \"#E5ECF6\", \"caxis\": {\"gridcolor\": \"white\", \"linecolor\": \"white\", \"ticks\": \"\"}}, \"title\": {\"x\": 0.05}, \"xaxis\": {\"automargin\": true, \"gridcolor\": \"white\", \"linecolor\": \"white\", \"ticks\": \"\", \"title\": {\"standoff\": 15}, \"zerolinecolor\": \"white\", \"zerolinewidth\": 2}, \"yaxis\": {\"automargin\": true, \"gridcolor\": \"white\", \"linecolor\": \"white\", \"ticks\": \"\", \"title\": {\"standoff\": 15}, \"zerolinecolor\": \"white\", \"zerolinewidth\": 2}}}, \"title\": {\"text\": \"Face Shields Produced+Donated by Boston Scientific (Normalized to Population) - April 26th, 2020\"}},\n",
              "                        {\"responsive\": true}\n",
              "                    ).then(function(){\n",
              "                            \n",
              "var gd = document.getElementById('e7600a40-fdd1-4808-bed6-c9f242127f4c');\n",
              "var x = new MutationObserver(function (mutations, observer) {{\n",
              "        var display = window.getComputedStyle(gd).display;\n",
              "        if (!display || display === 'none') {{\n",
              "            console.log([gd, 'removed!']);\n",
              "            Plotly.purge(gd);\n",
              "            observer.disconnect();\n",
              "        }}\n",
              "}});\n",
              "\n",
              "// Listen for the removal of the full notebook cells\n",
              "var notebookContainer = gd.closest('#notebook-container');\n",
              "if (notebookContainer) {{\n",
              "    x.observe(notebookContainer, {childList: true});\n",
              "}}\n",
              "\n",
              "// Listen for the clearing of the current output cell\n",
              "var outputEl = gd.closest('.output');\n",
              "if (outputEl) {{\n",
              "    x.observe(outputEl, {childList: true});\n",
              "}}\n",
              "\n",
              "                        })\n",
              "                };\n",
              "                \n",
              "            </script>\n",
              "        </div>\n",
              "</body>\n",
              "</html>"
            ]
          },
          "metadata": {
            "tags": []
          }
        }
      ]
    },
    {
      "cell_type": "markdown",
      "metadata": {
        "id": "dWSNXBilAr4h",
        "colab_type": "text"
      },
      "source": [
        "### Download the figure"
      ]
    },
    {
      "cell_type": "code",
      "metadata": {
        "id": "Fw0QAUl094w8",
        "colab_type": "code",
        "colab": {}
      },
      "source": [
        "# Download the figure\n",
        "go.Figure.write_html(fig, file='N95s Delivered by HHS by April 3rd - 2020.html',\n",
        "                     config={'responsive': True}, include_plotlyjs='cdn')"
      ],
      "execution_count": 0,
      "outputs": []
    },
    {
      "cell_type": "markdown",
      "metadata": {
        "id": "gbVPDWpWB_5F",
        "colab_type": "text"
      },
      "source": [
        "### GOAL: Shields per covid case"
      ]
    },
    {
      "cell_type": "code",
      "metadata": {
        "id": "JE0nBUvXlrTS",
        "colab_type": "code",
        "colab": {}
      },
      "source": [
        "### Download NYTimes State level data "
      ],
      "execution_count": 0,
      "outputs": []
    },
    {
      "cell_type": "code",
      "metadata": {
        "id": "StvJ5ZHVlrZo",
        "colab_type": "code",
        "colab": {}
      },
      "source": [
        "def download_nytimes_data(url, date):\n",
        "    covid_df = pd.read_csv(url)\n",
        "    covid_df = covid_df.loc[covid_df['date'] == date]\n",
        "    return covid_df"
      ],
      "execution_count": 0,
      "outputs": []
    },
    {
      "cell_type": "code",
      "metadata": {
        "id": "-N9WaYZBlrck",
        "colab_type": "code",
        "outputId": "9197c084-bcb0-47e2-abd8-fb7e6529aa15",
        "colab": {
          "base_uri": "https://localhost:8080/",
          "height": 118
        }
      },
      "source": [
        "date = \"2020-05-05\"\n",
        "url = \"https://github.com/nytimes/covid-19-data/raw/master/us-states.csv\"\n",
        "\n",
        "covid_df =  download_nytimes_data(url, date)\n",
        "covid_df.nunique()"
      ],
      "execution_count": 78,
      "outputs": [
        {
          "output_type": "execute_result",
          "data": {
            "text/plain": [
              "date       1\n",
              "state     55\n",
              "fips      55\n",
              "cases     55\n",
              "deaths    53\n",
              "dtype: int64"
            ]
          },
          "metadata": {
            "tags": []
          },
          "execution_count": 78
        }
      ]
    },
    {
      "cell_type": "markdown",
      "metadata": {
        "id": "yuu5Ch9Ml9sC",
        "colab_type": "text"
      },
      "source": [
        "### Process NYtimes data"
      ]
    },
    {
      "cell_type": "code",
      "metadata": {
        "id": "WzXeRFwVl9uU",
        "colab_type": "code",
        "outputId": "b64c03e0-9220-492e-921e-8a3e3f710d28",
        "colab": {
          "base_uri": "https://localhost:8080/",
          "height": 134
        }
      },
      "source": [
        "# Sort values by Face Shields\n",
        "covid_df.sort_values(by=['cases'], ascending=False, inplace=True)\n",
        "\n",
        "covid_df['state_code']=covid_df.apply(\n",
        "    lambda row: (keep_states_only(us_state_abbrev, row['state'])),axis=1\n",
        ")\n",
        "\n",
        "# Remove all commas\n",
        "covid_df = covid_df.replace(',','', regex=True)\n",
        "\n",
        "# dropna\n",
        "covid_df.dropna(inplace=True)\n",
        "\n",
        "# print breakdown\n",
        "covid_df.nunique()"
      ],
      "execution_count": 79,
      "outputs": [
        {
          "output_type": "execute_result",
          "data": {
            "text/plain": [
              "date           1\n",
              "state         55\n",
              "fips          55\n",
              "cases         55\n",
              "deaths        53\n",
              "state_code    55\n",
              "dtype: int64"
            ]
          },
          "metadata": {
            "tags": []
          },
          "execution_count": 79
        }
      ]
    },
    {
      "cell_type": "code",
      "metadata": {
        "id": "0jwxwLtRsFU7",
        "colab_type": "code",
        "colab": {}
      },
      "source": [
        "# TODO: Put all the others in per state\n",
        "covid_df['text'] = covid_df['state'].astype(str) + '<br>' + \\\n",
        "    'Cases: ' + covid_df['cases'].astype(str) + '<br>' + \\\n",
        "    'Deaths: ' + covid_df['deaths'].astype(str) + '<br>'"
      ],
      "execution_count": 0,
      "outputs": []
    },
    {
      "cell_type": "markdown",
      "metadata": {
        "id": "QqREHNmlrpk_",
        "colab_type": "text"
      },
      "source": [
        "### Make the Covid state map"
      ]
    },
    {
      "cell_type": "code",
      "metadata": {
        "id": "oIIcMKGnl9w3",
        "colab_type": "code",
        "outputId": "7273a418-5ab1-4703-da6b-447221007a07",
        "colab": {
          "base_uri": "https://localhost:8080/",
          "height": 542
        }
      },
      "source": [
        "# Make the figure\n",
        "fig = go.Figure(data=go.Choropleth(\n",
        "    locations=covid_df['state_code'], # Spatial coordinates\n",
        "    z = covid_df['cases'].astype(float), # Data to be color-coded\n",
        "    locationmode = 'USA-states', # set of locations match entries in `locations`\n",
        "    colorscale = 'reds',\n",
        "    text=covid_df['text'], # hover text\n",
        "    colorbar_title = \">COVID19 Caes\",\n",
        "    hoverinfo='text',\n",
        "    marker_line_color='Black', # line markers between states\n",
        "    marker_opacity=0.8, \n",
        "    zmin=0,\n",
        "    zmax=100000,\n",
        "    marker_line_width=0.5,\n",
        "))\n",
        "\n",
        "fig.update_layout(\n",
        "    title_text='COVID19 Cases by State - April 26th, 2020',\n",
        "    geo = dict(\n",
        "        scope='usa',\n",
        "        projection=go.layout.geo.Projection(type = 'albers usa'),\n",
        "        showlakes=True, # lakes\n",
        "        lakecolor='rgb(255, 255, 255)'),\n",
        ")\n",
        "\n",
        "fig.show()"
      ],
      "execution_count": 81,
      "outputs": [
        {
          "output_type": "display_data",
          "data": {
            "text/html": [
              "<html>\n",
              "<head><meta charset=\"utf-8\" /></head>\n",
              "<body>\n",
              "    <div>\n",
              "            <script src=\"https://cdnjs.cloudflare.com/ajax/libs/mathjax/2.7.5/MathJax.js?config=TeX-AMS-MML_SVG\"></script><script type=\"text/javascript\">if (window.MathJax) {MathJax.Hub.Config({SVG: {font: \"STIX-Web\"}});}</script>\n",
              "                <script type=\"text/javascript\">window.PlotlyConfig = {MathJaxConfig: 'local'};</script>\n",
              "        <script src=\"https://cdn.plot.ly/plotly-latest.min.js\"></script>    \n",
              "            <div id=\"0571f0c8-7dee-4007-a2ad-7e50503bf6e5\" class=\"plotly-graph-div\" style=\"height:525px; width:100%;\"></div>\n",
              "            <script type=\"text/javascript\">\n",
              "                \n",
              "                    window.PLOTLYENV=window.PLOTLYENV || {};\n",
              "                    \n",
              "                if (document.getElementById(\"0571f0c8-7dee-4007-a2ad-7e50503bf6e5\")) {\n",
              "                    Plotly.newPlot(\n",
              "                        '0571f0c8-7dee-4007-a2ad-7e50503bf6e5',\n",
              "                        [{\"colorbar\": {\"title\": {\"text\": \">COVID19 Caes\"}}, \"colorscale\": [[0.0, \"rgb(255,245,240)\"], [0.125, \"rgb(254,224,210)\"], [0.25, \"rgb(252,187,161)\"], [0.375, \"rgb(252,146,114)\"], [0.5, \"rgb(251,106,74)\"], [0.625, \"rgb(239,59,44)\"], [0.75, \"rgb(203,24,29)\"], [0.875, \"rgb(165,15,21)\"], [1.0, \"rgb(103,0,13)\"]], \"hoverinfo\": \"text\", \"locationmode\": \"USA-states\", \"locations\": [\"NY\", \"NJ\", \"MA\", \"IL\", \"CA\", \"PA\", \"MI\", \"FL\", \"TX\", \"CT\", \"LA\", \"GA\", \"MD\", \"IN\", \"OH\", \"VA\", \"CO\", \"WA\", \"TN\", \"NC\", \"IA\", \"RI\", \"AZ\", \"MO\", \"WI\", \"AL\", \"MS\", \"MN\", \"SC\", \"NE\", \"KY\", \"NV\", \"KS\", \"UT\", \"DE\", \"DC\", \"NM\", \"OK\", \"AR\", \"OR\", \"SD\", \"NH\", \"ID\", \"PR\", \"ND\", \"WV\", \"ME\", \"GU\", \"VT\", \"HI\", \"MT\", \"WY\", \"AK\", \"VI\", \"MP\"], \"marker\": {\"line\": {\"color\": \"Black\", \"width\": 0.5}, \"opacity\": 0.8}, \"text\": [\"New York<br>Cases: 321276<br>Deaths: 19645<br>\", \"New Jersey<br>Cases: 130593<br>Deaths: 8244<br>\", \"Massachusetts<br>Cases: 70271<br>Deaths: 4212<br>\", \"Illinois<br>Cases: 65889<br>Deaths: 2843<br>\", \"California<br>Cases: 58848<br>Deaths: 2386<br>\", \"Pennsylvania<br>Cases: 53967<br>Deaths: 3206<br>\", \"Michigan<br>Cases: 44333<br>Deaths: 4179<br>\", \"Florida<br>Cases: 37431<br>Deaths: 1470<br>\", \"Texas<br>Cases: 34283<br>Deaths: 955<br>\", \"Connecticut<br>Cases: 30621<br>Deaths: 2633<br>\", \"Louisiana<br>Cases: 29996<br>Deaths: 2042<br>\", \"Georgia<br>Cases: 28876<br>Deaths: 1277<br>\", \"Maryland<br>Cases: 27117<br>Deaths: 1290<br>\", \"Indiana<br>Cases: 21033<br>Deaths: 1213<br>\", \"Ohio<br>Cases: 20969<br>Deaths: 1135<br>\", \"Virginia<br>Cases: 20256<br>Deaths: 713<br>\", \"Colorado<br>Cases: 17256<br>Deaths: 901<br>\", \"Washington<br>Cases: 15847<br>Deaths: 863<br>\", \"Tennessee<br>Cases: 13615<br>Deaths: 234<br>\", \"North Carolina<br>Cases: 12283<br>Deaths: 477<br>\", \"Iowa<br>Cases: 10111<br>Deaths: 207<br>\", \"Rhode Island<br>Cases: 9933<br>Deaths: 355<br>\", \"Arizona<br>Cases: 9305<br>Deaths: 395<br>\", \"Missouri<br>Cases: 8919<br>Deaths: 408<br>\", \"Wisconsin<br>Cases: 8566<br>Deaths: 353<br>\", \"Alabama<br>Cases: 8437<br>Deaths: 315<br>\", \"Mississippi<br>Cases: 8207<br>Deaths: 342<br>\", \"Minnesota<br>Cases: 7851<br>Deaths: 455<br>\", \"South Carolina<br>Cases: 6841<br>Deaths: 296<br>\", \"Nebraska<br>Cases: 6446<br>Deaths: 82<br>\", \"Kentucky<br>Cases: 5822<br>Deaths: 278<br>\", \"Nevada<br>Cases: 5665<br>Deaths: 276<br>\", \"Kansas<br>Cases: 5603<br>Deaths: 160<br>\", \"Utah<br>Cases: 5449<br>Deaths: 56<br>\", \"Delaware<br>Cases: 5371<br>Deaths: 187<br>\", \"District of Columbia<br>Cases: 5322<br>Deaths: 264<br>\", \"New Mexico<br>Cases: 4138<br>Deaths: 162<br>\", \"Oklahoma<br>Cases: 4127<br>Deaths: 247<br>\", \"Arkansas<br>Cases: 3525<br>Deaths: 83<br>\", \"Oregon<br>Cases: 2839<br>Deaths: 113<br>\", \"South Dakota<br>Cases: 2721<br>Deaths: 24<br>\", \"New Hampshire<br>Cases: 2636<br>Deaths: 92<br>\", \"Idaho<br>Cases: 1960<br>Deaths: 66<br>\", \"Puerto Rico<br>Cases: 1924<br>Deaths: 56<br>\", \"North Dakota<br>Cases: 1266<br>Deaths: 25<br>\", \"West Virginia<br>Cases: 1242<br>Deaths: 50<br>\", \"Maine<br>Cases: 1226<br>Deaths: 61<br>\", \"Guam<br>Cases: 1114<br>Deaths: 6<br>\", \"Vermont<br>Cases: 907<br>Deaths: 53<br>\", \"Hawaii<br>Cases: 615<br>Deaths: 17<br>\", \"Montana<br>Cases: 456<br>Deaths: 16<br>\", \"Wyoming<br>Cases: 452<br>Deaths: 7<br>\", \"Alaska<br>Cases: 369<br>Deaths: 7<br>\", \"Virgin Islands<br>Cases: 66<br>Deaths: 4<br>\", \"Northern Mariana Islands<br>Cases: 14<br>Deaths: 2<br>\"], \"type\": \"choropleth\", \"z\": [321276.0, 130593.0, 70271.0, 65889.0, 58848.0, 53967.0, 44333.0, 37431.0, 34283.0, 30621.0, 29996.0, 28876.0, 27117.0, 21033.0, 20969.0, 20256.0, 17256.0, 15847.0, 13615.0, 12283.0, 10111.0, 9933.0, 9305.0, 8919.0, 8566.0, 8437.0, 8207.0, 7851.0, 6841.0, 6446.0, 5822.0, 5665.0, 5603.0, 5449.0, 5371.0, 5322.0, 4138.0, 4127.0, 3525.0, 2839.0, 2721.0, 2636.0, 1960.0, 1924.0, 1266.0, 1242.0, 1226.0, 1114.0, 907.0, 615.0, 456.0, 452.0, 369.0, 66.0, 14.0], \"zmax\": 100000, \"zmin\": 0}],\n",
              "                        {\"geo\": {\"lakecolor\": \"rgb(255, 255, 255)\", \"projection\": {\"type\": \"albers usa\"}, \"scope\": \"usa\", \"showlakes\": true}, \"template\": {\"data\": {\"bar\": [{\"error_x\": {\"color\": \"#2a3f5f\"}, \"error_y\": {\"color\": \"#2a3f5f\"}, \"marker\": {\"line\": {\"color\": \"#E5ECF6\", \"width\": 0.5}}, \"type\": \"bar\"}], \"barpolar\": [{\"marker\": {\"line\": {\"color\": \"#E5ECF6\", \"width\": 0.5}}, \"type\": \"barpolar\"}], \"carpet\": [{\"aaxis\": {\"endlinecolor\": \"#2a3f5f\", \"gridcolor\": \"white\", \"linecolor\": \"white\", \"minorgridcolor\": \"white\", \"startlinecolor\": \"#2a3f5f\"}, \"baxis\": {\"endlinecolor\": \"#2a3f5f\", \"gridcolor\": \"white\", \"linecolor\": \"white\", \"minorgridcolor\": \"white\", \"startlinecolor\": \"#2a3f5f\"}, \"type\": \"carpet\"}], \"choropleth\": [{\"colorbar\": {\"outlinewidth\": 0, \"ticks\": \"\"}, \"type\": \"choropleth\"}], \"contour\": [{\"colorbar\": {\"outlinewidth\": 0, \"ticks\": \"\"}, \"colorscale\": [[0.0, \"#0d0887\"], [0.1111111111111111, \"#46039f\"], [0.2222222222222222, \"#7201a8\"], [0.3333333333333333, \"#9c179e\"], [0.4444444444444444, \"#bd3786\"], [0.5555555555555556, \"#d8576b\"], [0.6666666666666666, \"#ed7953\"], [0.7777777777777778, \"#fb9f3a\"], [0.8888888888888888, \"#fdca26\"], [1.0, \"#f0f921\"]], \"type\": \"contour\"}], \"contourcarpet\": [{\"colorbar\": {\"outlinewidth\": 0, \"ticks\": \"\"}, \"type\": \"contourcarpet\"}], \"heatmap\": [{\"colorbar\": {\"outlinewidth\": 0, \"ticks\": \"\"}, \"colorscale\": [[0.0, \"#0d0887\"], [0.1111111111111111, \"#46039f\"], [0.2222222222222222, \"#7201a8\"], [0.3333333333333333, \"#9c179e\"], [0.4444444444444444, \"#bd3786\"], [0.5555555555555556, \"#d8576b\"], [0.6666666666666666, \"#ed7953\"], [0.7777777777777778, \"#fb9f3a\"], [0.8888888888888888, \"#fdca26\"], [1.0, \"#f0f921\"]], \"type\": \"heatmap\"}], \"heatmapgl\": [{\"colorbar\": {\"outlinewidth\": 0, \"ticks\": \"\"}, \"colorscale\": [[0.0, \"#0d0887\"], [0.1111111111111111, \"#46039f\"], [0.2222222222222222, \"#7201a8\"], [0.3333333333333333, \"#9c179e\"], [0.4444444444444444, \"#bd3786\"], [0.5555555555555556, \"#d8576b\"], [0.6666666666666666, \"#ed7953\"], [0.7777777777777778, \"#fb9f3a\"], [0.8888888888888888, \"#fdca26\"], [1.0, \"#f0f921\"]], \"type\": \"heatmapgl\"}], \"histogram\": [{\"marker\": {\"colorbar\": {\"outlinewidth\": 0, \"ticks\": \"\"}}, \"type\": \"histogram\"}], \"histogram2d\": [{\"colorbar\": {\"outlinewidth\": 0, \"ticks\": \"\"}, \"colorscale\": [[0.0, \"#0d0887\"], [0.1111111111111111, \"#46039f\"], [0.2222222222222222, \"#7201a8\"], [0.3333333333333333, \"#9c179e\"], [0.4444444444444444, \"#bd3786\"], [0.5555555555555556, \"#d8576b\"], [0.6666666666666666, \"#ed7953\"], [0.7777777777777778, \"#fb9f3a\"], [0.8888888888888888, \"#fdca26\"], [1.0, \"#f0f921\"]], \"type\": \"histogram2d\"}], \"histogram2dcontour\": [{\"colorbar\": {\"outlinewidth\": 0, \"ticks\": \"\"}, \"colorscale\": [[0.0, \"#0d0887\"], [0.1111111111111111, \"#46039f\"], [0.2222222222222222, \"#7201a8\"], [0.3333333333333333, \"#9c179e\"], [0.4444444444444444, \"#bd3786\"], [0.5555555555555556, \"#d8576b\"], [0.6666666666666666, \"#ed7953\"], [0.7777777777777778, \"#fb9f3a\"], [0.8888888888888888, \"#fdca26\"], [1.0, \"#f0f921\"]], \"type\": \"histogram2dcontour\"}], \"mesh3d\": [{\"colorbar\": {\"outlinewidth\": 0, \"ticks\": \"\"}, \"type\": \"mesh3d\"}], \"parcoords\": [{\"line\": {\"colorbar\": {\"outlinewidth\": 0, \"ticks\": \"\"}}, \"type\": \"parcoords\"}], \"pie\": [{\"automargin\": true, \"type\": \"pie\"}], \"scatter\": [{\"marker\": {\"colorbar\": {\"outlinewidth\": 0, \"ticks\": \"\"}}, \"type\": \"scatter\"}], \"scatter3d\": [{\"line\": {\"colorbar\": {\"outlinewidth\": 0, \"ticks\": \"\"}}, \"marker\": {\"colorbar\": {\"outlinewidth\": 0, \"ticks\": \"\"}}, \"type\": \"scatter3d\"}], \"scattercarpet\": [{\"marker\": {\"colorbar\": {\"outlinewidth\": 0, \"ticks\": \"\"}}, \"type\": \"scattercarpet\"}], \"scattergeo\": [{\"marker\": {\"colorbar\": {\"outlinewidth\": 0, \"ticks\": \"\"}}, \"type\": \"scattergeo\"}], \"scattergl\": [{\"marker\": {\"colorbar\": {\"outlinewidth\": 0, \"ticks\": \"\"}}, \"type\": \"scattergl\"}], \"scattermapbox\": [{\"marker\": {\"colorbar\": {\"outlinewidth\": 0, \"ticks\": \"\"}}, \"type\": \"scattermapbox\"}], \"scatterpolar\": [{\"marker\": {\"colorbar\": {\"outlinewidth\": 0, \"ticks\": \"\"}}, \"type\": \"scatterpolar\"}], \"scatterpolargl\": [{\"marker\": {\"colorbar\": {\"outlinewidth\": 0, \"ticks\": \"\"}}, \"type\": \"scatterpolargl\"}], \"scatterternary\": [{\"marker\": {\"colorbar\": {\"outlinewidth\": 0, \"ticks\": \"\"}}, \"type\": \"scatterternary\"}], \"surface\": [{\"colorbar\": {\"outlinewidth\": 0, \"ticks\": \"\"}, \"colorscale\": [[0.0, \"#0d0887\"], [0.1111111111111111, \"#46039f\"], [0.2222222222222222, \"#7201a8\"], [0.3333333333333333, \"#9c179e\"], [0.4444444444444444, \"#bd3786\"], [0.5555555555555556, \"#d8576b\"], [0.6666666666666666, \"#ed7953\"], [0.7777777777777778, \"#fb9f3a\"], [0.8888888888888888, \"#fdca26\"], [1.0, \"#f0f921\"]], \"type\": \"surface\"}], \"table\": [{\"cells\": {\"fill\": {\"color\": \"#EBF0F8\"}, \"line\": {\"color\": \"white\"}}, \"header\": {\"fill\": {\"color\": \"#C8D4E3\"}, \"line\": {\"color\": \"white\"}}, \"type\": \"table\"}]}, \"layout\": {\"annotationdefaults\": {\"arrowcolor\": \"#2a3f5f\", \"arrowhead\": 0, \"arrowwidth\": 1}, \"coloraxis\": {\"colorbar\": {\"outlinewidth\": 0, \"ticks\": \"\"}}, \"colorscale\": {\"diverging\": [[0, \"#8e0152\"], [0.1, \"#c51b7d\"], [0.2, \"#de77ae\"], [0.3, \"#f1b6da\"], [0.4, \"#fde0ef\"], [0.5, \"#f7f7f7\"], [0.6, \"#e6f5d0\"], [0.7, \"#b8e186\"], [0.8, \"#7fbc41\"], [0.9, \"#4d9221\"], [1, \"#276419\"]], \"sequential\": [[0.0, \"#0d0887\"], [0.1111111111111111, \"#46039f\"], [0.2222222222222222, \"#7201a8\"], [0.3333333333333333, \"#9c179e\"], [0.4444444444444444, \"#bd3786\"], [0.5555555555555556, \"#d8576b\"], [0.6666666666666666, \"#ed7953\"], [0.7777777777777778, \"#fb9f3a\"], [0.8888888888888888, \"#fdca26\"], [1.0, \"#f0f921\"]], \"sequentialminus\": [[0.0, \"#0d0887\"], [0.1111111111111111, \"#46039f\"], [0.2222222222222222, \"#7201a8\"], [0.3333333333333333, \"#9c179e\"], [0.4444444444444444, \"#bd3786\"], [0.5555555555555556, \"#d8576b\"], [0.6666666666666666, \"#ed7953\"], [0.7777777777777778, \"#fb9f3a\"], [0.8888888888888888, \"#fdca26\"], [1.0, \"#f0f921\"]]}, \"colorway\": [\"#636efa\", \"#EF553B\", \"#00cc96\", \"#ab63fa\", \"#FFA15A\", \"#19d3f3\", \"#FF6692\", \"#B6E880\", \"#FF97FF\", \"#FECB52\"], \"font\": {\"color\": \"#2a3f5f\"}, \"geo\": {\"bgcolor\": \"white\", \"lakecolor\": \"white\", \"landcolor\": \"#E5ECF6\", \"showlakes\": true, \"showland\": true, \"subunitcolor\": \"white\"}, \"hoverlabel\": {\"align\": \"left\"}, \"hovermode\": \"closest\", \"mapbox\": {\"style\": \"light\"}, \"paper_bgcolor\": \"white\", \"plot_bgcolor\": \"#E5ECF6\", \"polar\": {\"angularaxis\": {\"gridcolor\": \"white\", \"linecolor\": \"white\", \"ticks\": \"\"}, \"bgcolor\": \"#E5ECF6\", \"radialaxis\": {\"gridcolor\": \"white\", \"linecolor\": \"white\", \"ticks\": \"\"}}, \"scene\": {\"xaxis\": {\"backgroundcolor\": \"#E5ECF6\", \"gridcolor\": \"white\", \"gridwidth\": 2, \"linecolor\": \"white\", \"showbackground\": true, \"ticks\": \"\", \"zerolinecolor\": \"white\"}, \"yaxis\": {\"backgroundcolor\": \"#E5ECF6\", \"gridcolor\": \"white\", \"gridwidth\": 2, \"linecolor\": \"white\", \"showbackground\": true, \"ticks\": \"\", \"zerolinecolor\": \"white\"}, \"zaxis\": {\"backgroundcolor\": \"#E5ECF6\", \"gridcolor\": \"white\", \"gridwidth\": 2, \"linecolor\": \"white\", \"showbackground\": true, \"ticks\": \"\", \"zerolinecolor\": \"white\"}}, \"shapedefaults\": {\"line\": {\"color\": \"#2a3f5f\"}}, \"ternary\": {\"aaxis\": {\"gridcolor\": \"white\", \"linecolor\": \"white\", \"ticks\": \"\"}, \"baxis\": {\"gridcolor\": \"white\", \"linecolor\": \"white\", \"ticks\": \"\"}, \"bgcolor\": \"#E5ECF6\", \"caxis\": {\"gridcolor\": \"white\", \"linecolor\": \"white\", \"ticks\": \"\"}}, \"title\": {\"x\": 0.05}, \"xaxis\": {\"automargin\": true, \"gridcolor\": \"white\", \"linecolor\": \"white\", \"ticks\": \"\", \"title\": {\"standoff\": 15}, \"zerolinecolor\": \"white\", \"zerolinewidth\": 2}, \"yaxis\": {\"automargin\": true, \"gridcolor\": \"white\", \"linecolor\": \"white\", \"ticks\": \"\", \"title\": {\"standoff\": 15}, \"zerolinecolor\": \"white\", \"zerolinewidth\": 2}}}, \"title\": {\"text\": \"COVID19 Cases by State - April 26th, 2020\"}},\n",
              "                        {\"responsive\": true}\n",
              "                    ).then(function(){\n",
              "                            \n",
              "var gd = document.getElementById('0571f0c8-7dee-4007-a2ad-7e50503bf6e5');\n",
              "var x = new MutationObserver(function (mutations, observer) {{\n",
              "        var display = window.getComputedStyle(gd).display;\n",
              "        if (!display || display === 'none') {{\n",
              "            console.log([gd, 'removed!']);\n",
              "            Plotly.purge(gd);\n",
              "            observer.disconnect();\n",
              "        }}\n",
              "}});\n",
              "\n",
              "// Listen for the removal of the full notebook cells\n",
              "var notebookContainer = gd.closest('#notebook-container');\n",
              "if (notebookContainer) {{\n",
              "    x.observe(notebookContainer, {childList: true});\n",
              "}}\n",
              "\n",
              "// Listen for the clearing of the current output cell\n",
              "var outputEl = gd.closest('.output');\n",
              "if (outputEl) {{\n",
              "    x.observe(outputEl, {childList: true});\n",
              "}}\n",
              "\n",
              "                        })\n",
              "                };\n",
              "                \n",
              "            </script>\n",
              "        </div>\n",
              "</body>\n",
              "</html>"
            ]
          },
          "metadata": {
            "tags": []
          }
        }
      ]
    },
    {
      "cell_type": "markdown",
      "metadata": {
        "id": "fGcXMHgCl9zI",
        "colab_type": "text"
      },
      "source": [
        "### Merge nytimes data into boston scientific and population information"
      ]
    },
    {
      "cell_type": "code",
      "metadata": {
        "id": "oobiG2LOl91U",
        "colab_type": "code",
        "outputId": "2154e74a-ff4a-41fc-9171-db693a4c477f",
        "colab": {
          "base_uri": "https://localhost:8080/",
          "height": 290
        }
      },
      "source": [
        "# Inner Join\n",
        "merged_full_df = merged_df.join(\n",
        "    covid_df[['state_code','cases','deaths']].set_index('state_code'),\n",
        "    on='state_code',  how='left')\n",
        "\n",
        "# Remove all commas\n",
        "merged_full_df = merged_full_df.replace(',','', regex=True)\n",
        "\n",
        "# Fill NAs\n",
        "merged_full_df.fillna(0,inplace=True)\n",
        "\n",
        "# Convert to numeric values\n",
        "merged_full_df[['cases','deaths']] = merged_full_df[\n",
        "    ['cases','deaths']].astype(int)\n",
        "\n",
        "# get normalized cases counts\n",
        "merged_full_df['normalized_cases']=merged_full_df.apply(\n",
        "    lambda row: (row['cases'] / row['Population']),axis=1\n",
        ")\n",
        "merged_full_df['normalized_cases_per_100k']=merged_full_df.apply(\n",
        "    lambda row: (row['cases'] / row['Population'] * 100000),axis=1\n",
        ")\n",
        "\n",
        "# KEY LOGIC\n",
        "# Shields donated per covid case\n",
        "merged_full_df['shields_donated_per_covid_case']=merged_full_df.apply(\n",
        "    lambda row: (row['Face Shield'] / row['cases']),axis=1\n",
        ")\n",
        "\n",
        "# round out the normalized columns\n",
        "merged_full_df['normalized_cases'] = merged_full_df['normalized_cases'].round(6)\n",
        "merged_full_df['normalized_cases_per_100k'] = merged_full_df['normalized_cases_per_100k'].round(1)\n",
        "merged_full_df['shields_donated_per_covid_case'] = merged_full_df['shields_donated_per_covid_case'].round(2)\n",
        "\n",
        "\n",
        "\n",
        "# Add text column\n",
        "merged_full_df['text'] = merged_full_df['State'].astype(str) + '<br>' + \\\n",
        "    'Face Shields Per Covid Case: ' + merged_full_df['shields_donated_per_covid_case'].astype(str) + '<br><br>' + \\\n",
        "    'COVID19 Cases: ' + merged_full_df['cases'].astype(str) + '<br>' + \\\n",
        "    'COVID19 Death: ' + merged_full_df['deaths'].astype(str) + '<br>' + \\\n",
        "    'Face Shields: ' + merged_full_df['Face Shield'].astype(str) + '<br>' + \\\n",
        "    'Population: ' + merged_full_df['Population'].astype(str)\n",
        "\n",
        "# Add text column for nomalized Covid19 Cases\n",
        "merged_full_df['text2'] = merged_full_df['State'].astype(str) + '<br>' + \\\n",
        "    'COVID19 Cases Per 100K: ' + merged_full_df['normalized_cases_per_100k'].astype(str) + '<br><br>' + \\\n",
        "    'COVID19 Cases: ' + merged_full_df['cases'].astype(str) + '<br>' + \\\n",
        "    'COVID19 Death: ' + merged_full_df['deaths'].astype(str) + '<br>' + \\\n",
        "    'Face Shields: ' + merged_full_df['Face Shield'].astype(str) + '<br>' + \\\n",
        "    'Face Shields Per Covid Case: ' + merged_full_df['shields_donated_per_covid_case'].astype(str) + '<br>' + \\\n",
        "    'Population: ' + merged_full_df['Population'].astype(str)\n",
        "    \n",
        "\n",
        "# print example out\n",
        "print (len(merged_full_df.index))\n",
        "merged_full_df.head(3)"
      ],
      "execution_count": 82,
      "outputs": [
        {
          "output_type": "stream",
          "text": [
            "52\n"
          ],
          "name": "stdout"
        },
        {
          "output_type": "execute_result",
          "data": {
            "text/html": [
              "<div>\n",
              "<style scoped>\n",
              "    .dataframe tbody tr th:only-of-type {\n",
              "        vertical-align: middle;\n",
              "    }\n",
              "\n",
              "    .dataframe tbody tr th {\n",
              "        vertical-align: top;\n",
              "    }\n",
              "\n",
              "    .dataframe thead th {\n",
              "        text-align: right;\n",
              "    }\n",
              "</style>\n",
              "<table border=\"1\" class=\"dataframe\">\n",
              "  <thead>\n",
              "    <tr style=\"text-align: right;\">\n",
              "      <th></th>\n",
              "      <th>State</th>\n",
              "      <th>Population</th>\n",
              "      <th>state_code</th>\n",
              "      <th>Face Shield</th>\n",
              "      <th>normalized_face_shield</th>\n",
              "      <th>normalized_face_shield_per_100k</th>\n",
              "      <th>text</th>\n",
              "      <th>cases</th>\n",
              "      <th>deaths</th>\n",
              "      <th>normalized_cases</th>\n",
              "      <th>normalized_cases_per_100k</th>\n",
              "      <th>shields_donated_per_covid_case</th>\n",
              "      <th>text2</th>\n",
              "    </tr>\n",
              "  </thead>\n",
              "  <tbody>\n",
              "    <tr>\n",
              "      <th>5</th>\n",
              "      <td>Alabama</td>\n",
              "      <td>4903185</td>\n",
              "      <td>AL</td>\n",
              "      <td>2500</td>\n",
              "      <td>0.000510</td>\n",
              "      <td>51.0</td>\n",
              "      <td>Alabama&lt;br&gt;Face Shields Per Covid Case: 0.3&lt;br...</td>\n",
              "      <td>8437</td>\n",
              "      <td>315</td>\n",
              "      <td>0.001721</td>\n",
              "      <td>172.1</td>\n",
              "      <td>0.30</td>\n",
              "      <td>Alabama&lt;br&gt;COVID19 Cases Per 100K: 172.1&lt;br&gt;&lt;b...</td>\n",
              "    </tr>\n",
              "    <tr>\n",
              "      <th>6</th>\n",
              "      <td>Alaska</td>\n",
              "      <td>731545</td>\n",
              "      <td>AK</td>\n",
              "      <td>0</td>\n",
              "      <td>0.000000</td>\n",
              "      <td>0.0</td>\n",
              "      <td>Alaska&lt;br&gt;Face Shields Per Covid Case: 0.0&lt;br&gt;...</td>\n",
              "      <td>369</td>\n",
              "      <td>7</td>\n",
              "      <td>0.000504</td>\n",
              "      <td>50.4</td>\n",
              "      <td>0.00</td>\n",
              "      <td>Alaska&lt;br&gt;COVID19 Cases Per 100K: 50.4&lt;br&gt;&lt;br&gt;...</td>\n",
              "    </tr>\n",
              "    <tr>\n",
              "      <th>7</th>\n",
              "      <td>Arizona</td>\n",
              "      <td>7278717</td>\n",
              "      <td>AZ</td>\n",
              "      <td>5200</td>\n",
              "      <td>0.000714</td>\n",
              "      <td>71.4</td>\n",
              "      <td>Arizona&lt;br&gt;Face Shields Per Covid Case: 0.56&lt;b...</td>\n",
              "      <td>9305</td>\n",
              "      <td>395</td>\n",
              "      <td>0.001278</td>\n",
              "      <td>127.8</td>\n",
              "      <td>0.56</td>\n",
              "      <td>Arizona&lt;br&gt;COVID19 Cases Per 100K: 127.8&lt;br&gt;&lt;b...</td>\n",
              "    </tr>\n",
              "  </tbody>\n",
              "</table>\n",
              "</div>"
            ],
            "text/plain": [
              "     State  Population state_code  Face Shield  normalized_face_shield  \\\n",
              "5  Alabama     4903185         AL         2500                0.000510   \n",
              "6   Alaska      731545         AK            0                0.000000   \n",
              "7  Arizona     7278717         AZ         5200                0.000714   \n",
              "\n",
              "   normalized_face_shield_per_100k  \\\n",
              "5                             51.0   \n",
              "6                              0.0   \n",
              "7                             71.4   \n",
              "\n",
              "                                                text  cases  deaths  \\\n",
              "5  Alabama<br>Face Shields Per Covid Case: 0.3<br...   8437     315   \n",
              "6  Alaska<br>Face Shields Per Covid Case: 0.0<br>...    369       7   \n",
              "7  Arizona<br>Face Shields Per Covid Case: 0.56<b...   9305     395   \n",
              "\n",
              "   normalized_cases  normalized_cases_per_100k  \\\n",
              "5          0.001721                      172.1   \n",
              "6          0.000504                       50.4   \n",
              "7          0.001278                      127.8   \n",
              "\n",
              "   shields_donated_per_covid_case  \\\n",
              "5                            0.30   \n",
              "6                            0.00   \n",
              "7                            0.56   \n",
              "\n",
              "                                               text2  \n",
              "5  Alabama<br>COVID19 Cases Per 100K: 172.1<br><b...  \n",
              "6  Alaska<br>COVID19 Cases Per 100K: 50.4<br><br>...  \n",
              "7  Arizona<br>COVID19 Cases Per 100K: 127.8<br><b...  "
            ]
          },
          "metadata": {
            "tags": []
          },
          "execution_count": 82
        }
      ]
    },
    {
      "cell_type": "markdown",
      "metadata": {
        "id": "OFEB1HJtJGSE",
        "colab_type": "text"
      },
      "source": [
        "### Plot of normalized cases per 100k people"
      ]
    },
    {
      "cell_type": "code",
      "metadata": {
        "id": "DeMushwmJGoV",
        "colab_type": "code",
        "outputId": "1d71151e-dcac-4cf7-90e3-dab44943cb55",
        "colab": {
          "base_uri": "https://localhost:8080/",
          "height": 542
        }
      },
      "source": [
        "fig = go.Figure(data=go.Choropleth(\n",
        "    locations=merged_full_df['state_code'], # Spatial coordinates\n",
        "    z = merged_full_df['normalized_cases_per_100k'].astype(float), # Data to be color-coded\n",
        "    locationmode = 'USA-states', # set of locations match entries in `locations`\n",
        "    colorscale = 'reds',\n",
        "    text=merged_full_df['text2'], # hover text\n",
        "    colorbar_title = \"COVID19 cases per 100k\",\n",
        "    hoverinfo='text',\n",
        "    marker_line_color='Black', # line markers between states\n",
        "    marker_opacity=0.8, \n",
        "    zmin=0,\n",
        "    zmax=1000,\n",
        "    marker_line_width=0.5,\n",
        "))\n",
        "\n",
        "fig.update_layout(\n",
        "    title_text='COVID19 Cases by State (Normalized to Population) - April 26th, 2020',\n",
        "    geo = dict(\n",
        "        scope='usa',\n",
        "        projection=go.layout.geo.Projection(type = 'albers usa'),\n",
        "        showlakes=True, # lakes\n",
        "        lakecolor='rgb(255, 255, 255)'),\n",
        ")\n",
        "\n",
        "fig.show()"
      ],
      "execution_count": 83,
      "outputs": [
        {
          "output_type": "display_data",
          "data": {
            "text/html": [
              "<html>\n",
              "<head><meta charset=\"utf-8\" /></head>\n",
              "<body>\n",
              "    <div>\n",
              "            <script src=\"https://cdnjs.cloudflare.com/ajax/libs/mathjax/2.7.5/MathJax.js?config=TeX-AMS-MML_SVG\"></script><script type=\"text/javascript\">if (window.MathJax) {MathJax.Hub.Config({SVG: {font: \"STIX-Web\"}});}</script>\n",
              "                <script type=\"text/javascript\">window.PlotlyConfig = {MathJaxConfig: 'local'};</script>\n",
              "        <script src=\"https://cdn.plot.ly/plotly-latest.min.js\"></script>    \n",
              "            <div id=\"118cee36-72b8-4acd-9b14-db8ffc81b4c2\" class=\"plotly-graph-div\" style=\"height:525px; width:100%;\"></div>\n",
              "            <script type=\"text/javascript\">\n",
              "                \n",
              "                    window.PLOTLYENV=window.PLOTLYENV || {};\n",
              "                    \n",
              "                if (document.getElementById(\"118cee36-72b8-4acd-9b14-db8ffc81b4c2\")) {\n",
              "                    Plotly.newPlot(\n",
              "                        '118cee36-72b8-4acd-9b14-db8ffc81b4c2',\n",
              "                        [{\"colorbar\": {\"title\": {\"text\": \"COVID19 cases per 100k\"}}, \"colorscale\": [[0.0, \"rgb(255,245,240)\"], [0.125, \"rgb(254,224,210)\"], [0.25, \"rgb(252,187,161)\"], [0.375, \"rgb(252,146,114)\"], [0.5, \"rgb(251,106,74)\"], [0.625, \"rgb(239,59,44)\"], [0.75, \"rgb(203,24,29)\"], [0.875, \"rgb(165,15,21)\"], [1.0, \"rgb(103,0,13)\"]], \"hoverinfo\": \"text\", \"locationmode\": \"USA-states\", \"locations\": [\"AL\", \"AK\", \"AZ\", \"AR\", \"CA\", \"CO\", \"CT\", \"DE\", \"DC\", \"FL\", \"GA\", \"HI\", \"ID\", \"IL\", \"IN\", \"IA\", \"KS\", \"KY\", \"LA\", \"ME\", \"MD\", \"MA\", \"MI\", \"MN\", \"MS\", \"MO\", \"MT\", \"NE\", \"NV\", \"NH\", \"NJ\", \"NM\", \"NY\", \"NC\", \"ND\", \"OH\", \"OK\", \"OR\", \"PA\", \"RI\", \"SC\", \"SD\", \"TN\", \"TX\", \"UT\", \"VT\", \"VA\", \"WA\", \"WV\", \"WI\", \"WY\", \"PR\"], \"marker\": {\"line\": {\"color\": \"Black\", \"width\": 0.5}, \"opacity\": 0.8}, \"text\": [\"Alabama<br>COVID19 Cases Per 100K: 172.1<br><br>COVID19 Cases: 8437<br>COVID19 Death: 315<br>Face Shields: 2500<br>Face Shields Per Covid Case: 0.3<br>Population: 4903185\", \"Alaska<br>COVID19 Cases Per 100K: 50.4<br><br>COVID19 Cases: 369<br>COVID19 Death: 7<br>Face Shields: 0<br>Face Shields Per Covid Case: 0.0<br>Population: 731545\", \"Arizona<br>COVID19 Cases Per 100K: 127.8<br><br>COVID19 Cases: 9305<br>COVID19 Death: 395<br>Face Shields: 5200<br>Face Shields Per Covid Case: 0.56<br>Population: 7278717\", \"Arkansas<br>COVID19 Cases Per 100K: 116.8<br><br>COVID19 Cases: 3525<br>COVID19 Death: 83<br>Face Shields: 0<br>Face Shields Per Covid Case: 0.0<br>Population: 3017804\", \"California<br>COVID19 Cases Per 100K: 148.9<br><br>COVID19 Cases: 58848<br>COVID19 Death: 2386<br>Face Shields: 180300<br>Face Shields Per Covid Case: 3.06<br>Population: 39512223\", \"Colorado<br>COVID19 Cases Per 100K: 299.6<br><br>COVID19 Cases: 17256<br>COVID19 Death: 901<br>Face Shields: 12000<br>Face Shields Per Covid Case: 0.7<br>Population: 5758736\", \"Connecticut<br>COVID19 Cases Per 100K: 858.9<br><br>COVID19 Cases: 30621<br>COVID19 Death: 2633<br>Face Shields: 4900<br>Face Shields Per Covid Case: 0.16<br>Population: 3565287\", \"Delaware<br>COVID19 Cases Per 100K: 551.6<br><br>COVID19 Cases: 5371<br>COVID19 Death: 187<br>Face Shields: 12000<br>Face Shields Per Covid Case: 2.23<br>Population: 973764\", \"District of Columbia<br>COVID19 Cases Per 100K: 754.1<br><br>COVID19 Cases: 5322<br>COVID19 Death: 264<br>Face Shields: 44000<br>Face Shields Per Covid Case: 8.27<br>Population: 705749\", \"Florida<br>COVID19 Cases Per 100K: 174.3<br><br>COVID19 Cases: 37431<br>COVID19 Death: 1470<br>Face Shields: 16000<br>Face Shields Per Covid Case: 0.43<br>Population: 21477737\", \"Georgia<br>COVID19 Cases Per 100K: 272.0<br><br>COVID19 Cases: 28876<br>COVID19 Death: 1277<br>Face Shields: 12000<br>Face Shields Per Covid Case: 0.42<br>Population: 10617423\", \"Hawaii<br>COVID19 Cases Per 100K: 43.4<br><br>COVID19 Cases: 615<br>COVID19 Death: 17<br>Face Shields: 0<br>Face Shields Per Covid Case: 0.0<br>Population: 1415872\", \"Idaho<br>COVID19 Cases Per 100K: 109.7<br><br>COVID19 Cases: 1960<br>COVID19 Death: 66<br>Face Shields: 0<br>Face Shields Per Covid Case: 0.0<br>Population: 1787065\", \"Illinois<br>COVID19 Cases Per 100K: 520.0<br><br>COVID19 Cases: 65889<br>COVID19 Death: 2843<br>Face Shields: 79800<br>Face Shields Per Covid Case: 1.21<br>Population: 12671821\", \"Indiana<br>COVID19 Cases Per 100K: 312.4<br><br>COVID19 Cases: 21033<br>COVID19 Death: 1213<br>Face Shields: 22000<br>Face Shields Per Covid Case: 1.05<br>Population: 6732219\", \"Iowa<br>COVID19 Cases Per 100K: 320.5<br><br>COVID19 Cases: 10111<br>COVID19 Death: 207<br>Face Shields: 16500<br>Face Shields Per Covid Case: 1.63<br>Population: 3155070\", \"Kansas<br>COVID19 Cases Per 100K: 192.3<br><br>COVID19 Cases: 5603<br>COVID19 Death: 160<br>Face Shields: 1000<br>Face Shields Per Covid Case: 0.18<br>Population: 2913314\", \"Kentucky<br>COVID19 Cases Per 100K: 130.3<br><br>COVID19 Cases: 5822<br>COVID19 Death: 278<br>Face Shields: 0<br>Face Shields Per Covid Case: 0.0<br>Population: 4467673\", \"Louisiana<br>COVID19 Cases Per 100K: 645.2<br><br>COVID19 Cases: 29996<br>COVID19 Death: 2042<br>Face Shields: 13800<br>Face Shields Per Covid Case: 0.46<br>Population: 4648794\", \"Maine<br>COVID19 Cases Per 100K: 91.2<br><br>COVID19 Cases: 1226<br>COVID19 Death: 61<br>Face Shields: 0<br>Face Shields Per Covid Case: 0.0<br>Population: 1344212\", \"Maryland<br>COVID19 Cases Per 100K: 448.5<br><br>COVID19 Cases: 27117<br>COVID19 Death: 1290<br>Face Shields: 19000<br>Face Shields Per Covid Case: 0.7<br>Population: 6045680\", \"Massachusetts<br>COVID19 Cases Per 100K: 1019.5<br><br>COVID19 Cases: 70271<br>COVID19 Death: 4212<br>Face Shields: 47900<br>Face Shields Per Covid Case: 0.68<br>Population: 6892503\", \"Michigan<br>COVID19 Cases Per 100K: 443.9<br><br>COVID19 Cases: 44333<br>COVID19 Death: 4179<br>Face Shields: 54500<br>Face Shields Per Covid Case: 1.23<br>Population: 9986857\", \"Minnesota<br>COVID19 Cases Per 100K: 139.2<br><br>COVID19 Cases: 7851<br>COVID19 Death: 455<br>Face Shields: 51000<br>Face Shields Per Covid Case: 6.5<br>Population: 5639632\", \"Mississippi<br>COVID19 Cases Per 100K: 275.8<br><br>COVID19 Cases: 8207<br>COVID19 Death: 342<br>Face Shields: 15500<br>Face Shields Per Covid Case: 1.89<br>Population: 2976149\", \"Missouri<br>COVID19 Cases Per 100K: 145.3<br><br>COVID19 Cases: 8919<br>COVID19 Death: 408<br>Face Shields: 27200<br>Face Shields Per Covid Case: 3.05<br>Population: 6137428\", \"Montana<br>COVID19 Cases Per 100K: 42.7<br><br>COVID19 Cases: 456<br>COVID19 Death: 16<br>Face Shields: 0<br>Face Shields Per Covid Case: 0.0<br>Population: 1068778\", \"Nebraska<br>COVID19 Cases Per 100K: 333.2<br><br>COVID19 Cases: 6446<br>COVID19 Death: 82<br>Face Shields: 24000<br>Face Shields Per Covid Case: 3.72<br>Population: 1934408\", \"Nevada<br>COVID19 Cases Per 100K: 183.9<br><br>COVID19 Cases: 5665<br>COVID19 Death: 276<br>Face Shields: 7500<br>Face Shields Per Covid Case: 1.32<br>Population: 3080156\", \"New Hampshire<br>COVID19 Cases Per 100K: 193.9<br><br>COVID19 Cases: 2636<br>COVID19 Death: 92<br>Face Shields: 2800<br>Face Shields Per Covid Case: 1.06<br>Population: 1359711\", \"New Jersey<br>COVID19 Cases Per 100K: 1470.3<br><br>COVID19 Cases: 130593<br>COVID19 Death: 8244<br>Face Shields: 43500<br>Face Shields Per Covid Case: 0.33<br>Population: 8882190\", \"New Mexico<br>COVID19 Cases Per 100K: 197.3<br><br>COVID19 Cases: 4138<br>COVID19 Death: 162<br>Face Shields: 0<br>Face Shields Per Covid Case: 0.0<br>Population: 2096829\", \"New York<br>COVID19 Cases Per 100K: 1651.5<br><br>COVID19 Cases: 321276<br>COVID19 Death: 19645<br>Face Shields: 37800<br>Face Shields Per Covid Case: 0.12<br>Population: 19453561\", \"North Carolina<br>COVID19 Cases Per 100K: 117.1<br><br>COVID19 Cases: 12283<br>COVID19 Death: 477<br>Face Shields: 0<br>Face Shields Per Covid Case: 0.0<br>Population: 10488084\", \"North Dakota<br>COVID19 Cases Per 100K: 166.1<br><br>COVID19 Cases: 1266<br>COVID19 Death: 25<br>Face Shields: 0<br>Face Shields Per Covid Case: 0.0<br>Population: 762062\", \"Ohio<br>COVID19 Cases Per 100K: 179.4<br><br>COVID19 Cases: 20969<br>COVID19 Death: 1135<br>Face Shields: 19000<br>Face Shields Per Covid Case: 0.91<br>Population: 11689100\", \"Oklahoma<br>COVID19 Cases Per 100K: 104.3<br><br>COVID19 Cases: 4127<br>COVID19 Death: 247<br>Face Shields: 10000<br>Face Shields Per Covid Case: 2.42<br>Population: 3956971\", \"Oregon<br>COVID19 Cases Per 100K: 67.3<br><br>COVID19 Cases: 2839<br>COVID19 Death: 113<br>Face Shields: 13000<br>Face Shields Per Covid Case: 4.58<br>Population: 4217737\", \"Pennsylvania<br>COVID19 Cases Per 100K: 421.6<br><br>COVID19 Cases: 53967<br>COVID19 Death: 3206<br>Face Shields: 5500<br>Face Shields Per Covid Case: 0.1<br>Population: 12801989\", \"Rhode Island<br>COVID19 Cases Per 100K: 937.6<br><br>COVID19 Cases: 9933<br>COVID19 Death: 355<br>Face Shields: 9000<br>Face Shields Per Covid Case: 0.91<br>Population: 1059361\", \"South Carolina<br>COVID19 Cases Per 100K: 132.9<br><br>COVID19 Cases: 6841<br>COVID19 Death: 296<br>Face Shields: 8000<br>Face Shields Per Covid Case: 1.17<br>Population: 5148714\", \"South Dakota<br>COVID19 Cases Per 100K: 307.6<br><br>COVID19 Cases: 2721<br>COVID19 Death: 24<br>Face Shields: 4000<br>Face Shields Per Covid Case: 1.47<br>Population: 884659\", \"Tennessee<br>COVID19 Cases Per 100K: 199.4<br><br>COVID19 Cases: 13615<br>COVID19 Death: 234<br>Face Shields: 17000<br>Face Shields Per Covid Case: 1.25<br>Population: 6829174\", \"Texas<br>COVID19 Cases Per 100K: 118.2<br><br>COVID19 Cases: 34283<br>COVID19 Death: 955<br>Face Shields: 46000<br>Face Shields Per Covid Case: 1.34<br>Population: 28995881\", \"Utah<br>COVID19 Cases Per 100K: 170.0<br><br>COVID19 Cases: 5449<br>COVID19 Death: 56<br>Face Shields: 2000<br>Face Shields Per Covid Case: 0.37<br>Population: 3205958\", \"Vermont<br>COVID19 Cases Per 100K: 145.4<br><br>COVID19 Cases: 907<br>COVID19 Death: 53<br>Face Shields: 0<br>Face Shields Per Covid Case: 0.0<br>Population: 623989\", \"Virginia<br>COVID19 Cases Per 100K: 237.3<br><br>COVID19 Cases: 20256<br>COVID19 Death: 713<br>Face Shields: 3000<br>Face Shields Per Covid Case: 0.15<br>Population: 8535519\", \"Washington<br>COVID19 Cases Per 100K: 208.1<br><br>COVID19 Cases: 15847<br>COVID19 Death: 863<br>Face Shields: 18000<br>Face Shields Per Covid Case: 1.14<br>Population: 7614893\", \"West Virginia<br>COVID19 Cases Per 100K: 69.3<br><br>COVID19 Cases: 1242<br>COVID19 Death: 50<br>Face Shields: 0<br>Face Shields Per Covid Case: 0.0<br>Population: 1792147\", \"Wisconsin<br>COVID19 Cases Per 100K: 147.1<br><br>COVID19 Cases: 8566<br>COVID19 Death: 353<br>Face Shields: 12000<br>Face Shields Per Covid Case: 1.4<br>Population: 5822434\", \"Wyoming<br>COVID19 Cases Per 100K: 78.1<br><br>COVID19 Cases: 452<br>COVID19 Death: 7<br>Face Shields: 0<br>Face Shields Per Covid Case: 0.0<br>Population: 578759\", \"Puerto Rico<br>COVID19 Cases Per 100K: 60.2<br><br>COVID19 Cases: 1924<br>COVID19 Death: 56<br>Face Shields: 51400<br>Face Shields Per Covid Case: 26.72<br>Population: 3193694\"], \"type\": \"choropleth\", \"z\": [172.1, 50.4, 127.8, 116.8, 148.9, 299.6, 858.9, 551.6, 754.1, 174.3, 272.0, 43.4, 109.7, 520.0, 312.4, 320.5, 192.3, 130.3, 645.2, 91.2, 448.5, 1019.5, 443.9, 139.2, 275.8, 145.3, 42.7, 333.2, 183.9, 193.9, 1470.3, 197.3, 1651.5, 117.1, 166.1, 179.4, 104.3, 67.3, 421.6, 937.6, 132.9, 307.6, 199.4, 118.2, 170.0, 145.4, 237.3, 208.1, 69.3, 147.1, 78.1, 60.2], \"zmax\": 1000, \"zmin\": 0}],\n",
              "                        {\"geo\": {\"lakecolor\": \"rgb(255, 255, 255)\", \"projection\": {\"type\": \"albers usa\"}, \"scope\": \"usa\", \"showlakes\": true}, \"template\": {\"data\": {\"bar\": [{\"error_x\": {\"color\": \"#2a3f5f\"}, \"error_y\": {\"color\": \"#2a3f5f\"}, \"marker\": {\"line\": {\"color\": \"#E5ECF6\", \"width\": 0.5}}, \"type\": \"bar\"}], \"barpolar\": [{\"marker\": {\"line\": {\"color\": \"#E5ECF6\", \"width\": 0.5}}, \"type\": \"barpolar\"}], \"carpet\": [{\"aaxis\": {\"endlinecolor\": \"#2a3f5f\", \"gridcolor\": \"white\", \"linecolor\": \"white\", \"minorgridcolor\": \"white\", \"startlinecolor\": \"#2a3f5f\"}, \"baxis\": {\"endlinecolor\": \"#2a3f5f\", \"gridcolor\": \"white\", \"linecolor\": \"white\", \"minorgridcolor\": \"white\", \"startlinecolor\": \"#2a3f5f\"}, \"type\": \"carpet\"}], \"choropleth\": [{\"colorbar\": {\"outlinewidth\": 0, \"ticks\": \"\"}, \"type\": \"choropleth\"}], \"contour\": [{\"colorbar\": {\"outlinewidth\": 0, \"ticks\": \"\"}, \"colorscale\": [[0.0, \"#0d0887\"], [0.1111111111111111, \"#46039f\"], [0.2222222222222222, \"#7201a8\"], [0.3333333333333333, \"#9c179e\"], [0.4444444444444444, \"#bd3786\"], [0.5555555555555556, \"#d8576b\"], [0.6666666666666666, \"#ed7953\"], [0.7777777777777778, \"#fb9f3a\"], [0.8888888888888888, \"#fdca26\"], [1.0, \"#f0f921\"]], \"type\": \"contour\"}], \"contourcarpet\": [{\"colorbar\": {\"outlinewidth\": 0, \"ticks\": \"\"}, \"type\": \"contourcarpet\"}], \"heatmap\": [{\"colorbar\": {\"outlinewidth\": 0, \"ticks\": \"\"}, \"colorscale\": [[0.0, \"#0d0887\"], [0.1111111111111111, \"#46039f\"], [0.2222222222222222, \"#7201a8\"], [0.3333333333333333, \"#9c179e\"], [0.4444444444444444, \"#bd3786\"], [0.5555555555555556, \"#d8576b\"], [0.6666666666666666, \"#ed7953\"], [0.7777777777777778, \"#fb9f3a\"], [0.8888888888888888, \"#fdca26\"], [1.0, \"#f0f921\"]], \"type\": \"heatmap\"}], \"heatmapgl\": [{\"colorbar\": {\"outlinewidth\": 0, \"ticks\": \"\"}, \"colorscale\": [[0.0, \"#0d0887\"], [0.1111111111111111, \"#46039f\"], [0.2222222222222222, \"#7201a8\"], [0.3333333333333333, \"#9c179e\"], [0.4444444444444444, \"#bd3786\"], [0.5555555555555556, \"#d8576b\"], [0.6666666666666666, \"#ed7953\"], [0.7777777777777778, \"#fb9f3a\"], [0.8888888888888888, \"#fdca26\"], [1.0, \"#f0f921\"]], \"type\": \"heatmapgl\"}], \"histogram\": [{\"marker\": {\"colorbar\": {\"outlinewidth\": 0, \"ticks\": \"\"}}, \"type\": \"histogram\"}], \"histogram2d\": [{\"colorbar\": {\"outlinewidth\": 0, \"ticks\": \"\"}, \"colorscale\": [[0.0, \"#0d0887\"], [0.1111111111111111, \"#46039f\"], [0.2222222222222222, \"#7201a8\"], [0.3333333333333333, \"#9c179e\"], [0.4444444444444444, \"#bd3786\"], [0.5555555555555556, \"#d8576b\"], [0.6666666666666666, \"#ed7953\"], [0.7777777777777778, \"#fb9f3a\"], [0.8888888888888888, \"#fdca26\"], [1.0, \"#f0f921\"]], \"type\": \"histogram2d\"}], \"histogram2dcontour\": [{\"colorbar\": {\"outlinewidth\": 0, \"ticks\": \"\"}, \"colorscale\": [[0.0, \"#0d0887\"], [0.1111111111111111, \"#46039f\"], [0.2222222222222222, \"#7201a8\"], [0.3333333333333333, \"#9c179e\"], [0.4444444444444444, \"#bd3786\"], [0.5555555555555556, \"#d8576b\"], [0.6666666666666666, \"#ed7953\"], [0.7777777777777778, \"#fb9f3a\"], [0.8888888888888888, \"#fdca26\"], [1.0, \"#f0f921\"]], \"type\": \"histogram2dcontour\"}], \"mesh3d\": [{\"colorbar\": {\"outlinewidth\": 0, \"ticks\": \"\"}, \"type\": \"mesh3d\"}], \"parcoords\": [{\"line\": {\"colorbar\": {\"outlinewidth\": 0, \"ticks\": \"\"}}, \"type\": \"parcoords\"}], \"pie\": [{\"automargin\": true, \"type\": \"pie\"}], \"scatter\": [{\"marker\": {\"colorbar\": {\"outlinewidth\": 0, \"ticks\": \"\"}}, \"type\": \"scatter\"}], \"scatter3d\": [{\"line\": {\"colorbar\": {\"outlinewidth\": 0, \"ticks\": \"\"}}, \"marker\": {\"colorbar\": {\"outlinewidth\": 0, \"ticks\": \"\"}}, \"type\": \"scatter3d\"}], \"scattercarpet\": [{\"marker\": {\"colorbar\": {\"outlinewidth\": 0, \"ticks\": \"\"}}, \"type\": \"scattercarpet\"}], \"scattergeo\": [{\"marker\": {\"colorbar\": {\"outlinewidth\": 0, \"ticks\": \"\"}}, \"type\": \"scattergeo\"}], \"scattergl\": [{\"marker\": {\"colorbar\": {\"outlinewidth\": 0, \"ticks\": \"\"}}, \"type\": \"scattergl\"}], \"scattermapbox\": [{\"marker\": {\"colorbar\": {\"outlinewidth\": 0, \"ticks\": \"\"}}, \"type\": \"scattermapbox\"}], \"scatterpolar\": [{\"marker\": {\"colorbar\": {\"outlinewidth\": 0, \"ticks\": \"\"}}, \"type\": \"scatterpolar\"}], \"scatterpolargl\": [{\"marker\": {\"colorbar\": {\"outlinewidth\": 0, \"ticks\": \"\"}}, \"type\": \"scatterpolargl\"}], \"scatterternary\": [{\"marker\": {\"colorbar\": {\"outlinewidth\": 0, \"ticks\": \"\"}}, \"type\": \"scatterternary\"}], \"surface\": [{\"colorbar\": {\"outlinewidth\": 0, \"ticks\": \"\"}, \"colorscale\": [[0.0, \"#0d0887\"], [0.1111111111111111, \"#46039f\"], [0.2222222222222222, \"#7201a8\"], [0.3333333333333333, \"#9c179e\"], [0.4444444444444444, \"#bd3786\"], [0.5555555555555556, \"#d8576b\"], [0.6666666666666666, \"#ed7953\"], [0.7777777777777778, \"#fb9f3a\"], [0.8888888888888888, \"#fdca26\"], [1.0, \"#f0f921\"]], \"type\": \"surface\"}], \"table\": [{\"cells\": {\"fill\": {\"color\": \"#EBF0F8\"}, \"line\": {\"color\": \"white\"}}, \"header\": {\"fill\": {\"color\": \"#C8D4E3\"}, \"line\": {\"color\": \"white\"}}, \"type\": \"table\"}]}, \"layout\": {\"annotationdefaults\": {\"arrowcolor\": \"#2a3f5f\", \"arrowhead\": 0, \"arrowwidth\": 1}, \"coloraxis\": {\"colorbar\": {\"outlinewidth\": 0, \"ticks\": \"\"}}, \"colorscale\": {\"diverging\": [[0, \"#8e0152\"], [0.1, \"#c51b7d\"], [0.2, \"#de77ae\"], [0.3, \"#f1b6da\"], [0.4, \"#fde0ef\"], [0.5, \"#f7f7f7\"], [0.6, \"#e6f5d0\"], [0.7, \"#b8e186\"], [0.8, \"#7fbc41\"], [0.9, \"#4d9221\"], [1, \"#276419\"]], \"sequential\": [[0.0, \"#0d0887\"], [0.1111111111111111, \"#46039f\"], [0.2222222222222222, \"#7201a8\"], [0.3333333333333333, \"#9c179e\"], [0.4444444444444444, \"#bd3786\"], [0.5555555555555556, \"#d8576b\"], [0.6666666666666666, \"#ed7953\"], [0.7777777777777778, \"#fb9f3a\"], [0.8888888888888888, \"#fdca26\"], [1.0, \"#f0f921\"]], \"sequentialminus\": [[0.0, \"#0d0887\"], [0.1111111111111111, \"#46039f\"], [0.2222222222222222, \"#7201a8\"], [0.3333333333333333, \"#9c179e\"], [0.4444444444444444, \"#bd3786\"], [0.5555555555555556, \"#d8576b\"], [0.6666666666666666, \"#ed7953\"], [0.7777777777777778, \"#fb9f3a\"], [0.8888888888888888, \"#fdca26\"], [1.0, \"#f0f921\"]]}, \"colorway\": [\"#636efa\", \"#EF553B\", \"#00cc96\", \"#ab63fa\", \"#FFA15A\", \"#19d3f3\", \"#FF6692\", \"#B6E880\", \"#FF97FF\", \"#FECB52\"], \"font\": {\"color\": \"#2a3f5f\"}, \"geo\": {\"bgcolor\": \"white\", \"lakecolor\": \"white\", \"landcolor\": \"#E5ECF6\", \"showlakes\": true, \"showland\": true, \"subunitcolor\": \"white\"}, \"hoverlabel\": {\"align\": \"left\"}, \"hovermode\": \"closest\", \"mapbox\": {\"style\": \"light\"}, \"paper_bgcolor\": \"white\", \"plot_bgcolor\": \"#E5ECF6\", \"polar\": {\"angularaxis\": {\"gridcolor\": \"white\", \"linecolor\": \"white\", \"ticks\": \"\"}, \"bgcolor\": \"#E5ECF6\", \"radialaxis\": {\"gridcolor\": \"white\", \"linecolor\": \"white\", \"ticks\": \"\"}}, \"scene\": {\"xaxis\": {\"backgroundcolor\": \"#E5ECF6\", \"gridcolor\": \"white\", \"gridwidth\": 2, \"linecolor\": \"white\", \"showbackground\": true, \"ticks\": \"\", \"zerolinecolor\": \"white\"}, \"yaxis\": {\"backgroundcolor\": \"#E5ECF6\", \"gridcolor\": \"white\", \"gridwidth\": 2, \"linecolor\": \"white\", \"showbackground\": true, \"ticks\": \"\", \"zerolinecolor\": \"white\"}, \"zaxis\": {\"backgroundcolor\": \"#E5ECF6\", \"gridcolor\": \"white\", \"gridwidth\": 2, \"linecolor\": \"white\", \"showbackground\": true, \"ticks\": \"\", \"zerolinecolor\": \"white\"}}, \"shapedefaults\": {\"line\": {\"color\": \"#2a3f5f\"}}, \"ternary\": {\"aaxis\": {\"gridcolor\": \"white\", \"linecolor\": \"white\", \"ticks\": \"\"}, \"baxis\": {\"gridcolor\": \"white\", \"linecolor\": \"white\", \"ticks\": \"\"}, \"bgcolor\": \"#E5ECF6\", \"caxis\": {\"gridcolor\": \"white\", \"linecolor\": \"white\", \"ticks\": \"\"}}, \"title\": {\"x\": 0.05}, \"xaxis\": {\"automargin\": true, \"gridcolor\": \"white\", \"linecolor\": \"white\", \"ticks\": \"\", \"title\": {\"standoff\": 15}, \"zerolinecolor\": \"white\", \"zerolinewidth\": 2}, \"yaxis\": {\"automargin\": true, \"gridcolor\": \"white\", \"linecolor\": \"white\", \"ticks\": \"\", \"title\": {\"standoff\": 15}, \"zerolinecolor\": \"white\", \"zerolinewidth\": 2}}}, \"title\": {\"text\": \"COVID19 Cases by State (Normalized to Population) - April 26th, 2020\"}},\n",
              "                        {\"responsive\": true}\n",
              "                    ).then(function(){\n",
              "                            \n",
              "var gd = document.getElementById('118cee36-72b8-4acd-9b14-db8ffc81b4c2');\n",
              "var x = new MutationObserver(function (mutations, observer) {{\n",
              "        var display = window.getComputedStyle(gd).display;\n",
              "        if (!display || display === 'none') {{\n",
              "            console.log([gd, 'removed!']);\n",
              "            Plotly.purge(gd);\n",
              "            observer.disconnect();\n",
              "        }}\n",
              "}});\n",
              "\n",
              "// Listen for the removal of the full notebook cells\n",
              "var notebookContainer = gd.closest('#notebook-container');\n",
              "if (notebookContainer) {{\n",
              "    x.observe(notebookContainer, {childList: true});\n",
              "}}\n",
              "\n",
              "// Listen for the clearing of the current output cell\n",
              "var outputEl = gd.closest('.output');\n",
              "if (outputEl) {{\n",
              "    x.observe(outputEl, {childList: true});\n",
              "}}\n",
              "\n",
              "                        })\n",
              "                };\n",
              "                \n",
              "            </script>\n",
              "        </div>\n",
              "</body>\n",
              "</html>"
            ]
          },
          "metadata": {
            "tags": []
          }
        }
      ]
    },
    {
      "cell_type": "markdown",
      "metadata": {
        "id": "eTeM6PsWHqcL",
        "colab_type": "text"
      },
      "source": [
        "### Plot of face shield need (via shields donated per covid19 case)"
      ]
    },
    {
      "cell_type": "code",
      "metadata": {
        "id": "3k27NhA-Hm2_",
        "colab_type": "code",
        "outputId": "2c5cdc0c-52a8-497d-8f42-eade629b8815",
        "colab": {
          "base_uri": "https://localhost:8080/",
          "height": 542
        }
      },
      "source": [
        "fig = go.Figure(data=go.Choropleth(\n",
        "    locations=merged_full_df['state_code'], # Spatial coordinates\n",
        "    z = merged_full_df['shields_donated_per_covid_case'].astype(float), # Data to be color-coded\n",
        "    locationmode = 'USA-states', # set of locations match entries in `locations`\n",
        "    colorscale = 'viridis',\n",
        "    text=merged_full_df['text'], # hover text\n",
        "    colorbar_title = \"Shields Per COVID19 Case\",\n",
        "    hoverinfo='text',\n",
        "    marker_line_color='Black', # line markers between states\n",
        "    marker_opacity=0.8, \n",
        "    zmin=0,\n",
        "    zmax=5,\n",
        "    marker_line_width=0.5,\n",
        "    reversescale=True\n",
        "))\n",
        "\n",
        "fig.update_layout(\n",
        "    title_text='Shields Donated Per COVID19 Case - April 26th, 2020',\n",
        "    geo = dict(\n",
        "        scope='usa',\n",
        "        projection=go.layout.geo.Projection(type = 'albers usa'),\n",
        "        showlakes=True, # lakes\n",
        "        lakecolor='rgb(255, 255, 255)'),\n",
        ")\n",
        "\n",
        "fig.show()"
      ],
      "execution_count": 84,
      "outputs": [
        {
          "output_type": "display_data",
          "data": {
            "text/html": [
              "<html>\n",
              "<head><meta charset=\"utf-8\" /></head>\n",
              "<body>\n",
              "    <div>\n",
              "            <script src=\"https://cdnjs.cloudflare.com/ajax/libs/mathjax/2.7.5/MathJax.js?config=TeX-AMS-MML_SVG\"></script><script type=\"text/javascript\">if (window.MathJax) {MathJax.Hub.Config({SVG: {font: \"STIX-Web\"}});}</script>\n",
              "                <script type=\"text/javascript\">window.PlotlyConfig = {MathJaxConfig: 'local'};</script>\n",
              "        <script src=\"https://cdn.plot.ly/plotly-latest.min.js\"></script>    \n",
              "            <div id=\"6a212b2d-0271-4a55-a1ce-74c52518cfc7\" class=\"plotly-graph-div\" style=\"height:525px; width:100%;\"></div>\n",
              "            <script type=\"text/javascript\">\n",
              "                \n",
              "                    window.PLOTLYENV=window.PLOTLYENV || {};\n",
              "                    \n",
              "                if (document.getElementById(\"6a212b2d-0271-4a55-a1ce-74c52518cfc7\")) {\n",
              "                    Plotly.newPlot(\n",
              "                        '6a212b2d-0271-4a55-a1ce-74c52518cfc7',\n",
              "                        [{\"colorbar\": {\"title\": {\"text\": \"Shields Per COVID19 Case\"}}, \"colorscale\": [[0.0, \"#440154\"], [0.1111111111111111, \"#482878\"], [0.2222222222222222, \"#3e4989\"], [0.3333333333333333, \"#31688e\"], [0.4444444444444444, \"#26828e\"], [0.5555555555555556, \"#1f9e89\"], [0.6666666666666666, \"#35b779\"], [0.7777777777777778, \"#6ece58\"], [0.8888888888888888, \"#b5de2b\"], [1.0, \"#fde725\"]], \"hoverinfo\": \"text\", \"locationmode\": \"USA-states\", \"locations\": [\"AL\", \"AK\", \"AZ\", \"AR\", \"CA\", \"CO\", \"CT\", \"DE\", \"DC\", \"FL\", \"GA\", \"HI\", \"ID\", \"IL\", \"IN\", \"IA\", \"KS\", \"KY\", \"LA\", \"ME\", \"MD\", \"MA\", \"MI\", \"MN\", \"MS\", \"MO\", \"MT\", \"NE\", \"NV\", \"NH\", \"NJ\", \"NM\", \"NY\", \"NC\", \"ND\", \"OH\", \"OK\", \"OR\", \"PA\", \"RI\", \"SC\", \"SD\", \"TN\", \"TX\", \"UT\", \"VT\", \"VA\", \"WA\", \"WV\", \"WI\", \"WY\", \"PR\"], \"marker\": {\"line\": {\"color\": \"Black\", \"width\": 0.5}, \"opacity\": 0.8}, \"reversescale\": true, \"text\": [\"Alabama<br>Face Shields Per Covid Case: 0.3<br><br>COVID19 Cases: 8437<br>COVID19 Death: 315<br>Face Shields: 2500<br>Population: 4903185\", \"Alaska<br>Face Shields Per Covid Case: 0.0<br><br>COVID19 Cases: 369<br>COVID19 Death: 7<br>Face Shields: 0<br>Population: 731545\", \"Arizona<br>Face Shields Per Covid Case: 0.56<br><br>COVID19 Cases: 9305<br>COVID19 Death: 395<br>Face Shields: 5200<br>Population: 7278717\", \"Arkansas<br>Face Shields Per Covid Case: 0.0<br><br>COVID19 Cases: 3525<br>COVID19 Death: 83<br>Face Shields: 0<br>Population: 3017804\", \"California<br>Face Shields Per Covid Case: 3.06<br><br>COVID19 Cases: 58848<br>COVID19 Death: 2386<br>Face Shields: 180300<br>Population: 39512223\", \"Colorado<br>Face Shields Per Covid Case: 0.7<br><br>COVID19 Cases: 17256<br>COVID19 Death: 901<br>Face Shields: 12000<br>Population: 5758736\", \"Connecticut<br>Face Shields Per Covid Case: 0.16<br><br>COVID19 Cases: 30621<br>COVID19 Death: 2633<br>Face Shields: 4900<br>Population: 3565287\", \"Delaware<br>Face Shields Per Covid Case: 2.23<br><br>COVID19 Cases: 5371<br>COVID19 Death: 187<br>Face Shields: 12000<br>Population: 973764\", \"District of Columbia<br>Face Shields Per Covid Case: 8.27<br><br>COVID19 Cases: 5322<br>COVID19 Death: 264<br>Face Shields: 44000<br>Population: 705749\", \"Florida<br>Face Shields Per Covid Case: 0.43<br><br>COVID19 Cases: 37431<br>COVID19 Death: 1470<br>Face Shields: 16000<br>Population: 21477737\", \"Georgia<br>Face Shields Per Covid Case: 0.42<br><br>COVID19 Cases: 28876<br>COVID19 Death: 1277<br>Face Shields: 12000<br>Population: 10617423\", \"Hawaii<br>Face Shields Per Covid Case: 0.0<br><br>COVID19 Cases: 615<br>COVID19 Death: 17<br>Face Shields: 0<br>Population: 1415872\", \"Idaho<br>Face Shields Per Covid Case: 0.0<br><br>COVID19 Cases: 1960<br>COVID19 Death: 66<br>Face Shields: 0<br>Population: 1787065\", \"Illinois<br>Face Shields Per Covid Case: 1.21<br><br>COVID19 Cases: 65889<br>COVID19 Death: 2843<br>Face Shields: 79800<br>Population: 12671821\", \"Indiana<br>Face Shields Per Covid Case: 1.05<br><br>COVID19 Cases: 21033<br>COVID19 Death: 1213<br>Face Shields: 22000<br>Population: 6732219\", \"Iowa<br>Face Shields Per Covid Case: 1.63<br><br>COVID19 Cases: 10111<br>COVID19 Death: 207<br>Face Shields: 16500<br>Population: 3155070\", \"Kansas<br>Face Shields Per Covid Case: 0.18<br><br>COVID19 Cases: 5603<br>COVID19 Death: 160<br>Face Shields: 1000<br>Population: 2913314\", \"Kentucky<br>Face Shields Per Covid Case: 0.0<br><br>COVID19 Cases: 5822<br>COVID19 Death: 278<br>Face Shields: 0<br>Population: 4467673\", \"Louisiana<br>Face Shields Per Covid Case: 0.46<br><br>COVID19 Cases: 29996<br>COVID19 Death: 2042<br>Face Shields: 13800<br>Population: 4648794\", \"Maine<br>Face Shields Per Covid Case: 0.0<br><br>COVID19 Cases: 1226<br>COVID19 Death: 61<br>Face Shields: 0<br>Population: 1344212\", \"Maryland<br>Face Shields Per Covid Case: 0.7<br><br>COVID19 Cases: 27117<br>COVID19 Death: 1290<br>Face Shields: 19000<br>Population: 6045680\", \"Massachusetts<br>Face Shields Per Covid Case: 0.68<br><br>COVID19 Cases: 70271<br>COVID19 Death: 4212<br>Face Shields: 47900<br>Population: 6892503\", \"Michigan<br>Face Shields Per Covid Case: 1.23<br><br>COVID19 Cases: 44333<br>COVID19 Death: 4179<br>Face Shields: 54500<br>Population: 9986857\", \"Minnesota<br>Face Shields Per Covid Case: 6.5<br><br>COVID19 Cases: 7851<br>COVID19 Death: 455<br>Face Shields: 51000<br>Population: 5639632\", \"Mississippi<br>Face Shields Per Covid Case: 1.89<br><br>COVID19 Cases: 8207<br>COVID19 Death: 342<br>Face Shields: 15500<br>Population: 2976149\", \"Missouri<br>Face Shields Per Covid Case: 3.05<br><br>COVID19 Cases: 8919<br>COVID19 Death: 408<br>Face Shields: 27200<br>Population: 6137428\", \"Montana<br>Face Shields Per Covid Case: 0.0<br><br>COVID19 Cases: 456<br>COVID19 Death: 16<br>Face Shields: 0<br>Population: 1068778\", \"Nebraska<br>Face Shields Per Covid Case: 3.72<br><br>COVID19 Cases: 6446<br>COVID19 Death: 82<br>Face Shields: 24000<br>Population: 1934408\", \"Nevada<br>Face Shields Per Covid Case: 1.32<br><br>COVID19 Cases: 5665<br>COVID19 Death: 276<br>Face Shields: 7500<br>Population: 3080156\", \"New Hampshire<br>Face Shields Per Covid Case: 1.06<br><br>COVID19 Cases: 2636<br>COVID19 Death: 92<br>Face Shields: 2800<br>Population: 1359711\", \"New Jersey<br>Face Shields Per Covid Case: 0.33<br><br>COVID19 Cases: 130593<br>COVID19 Death: 8244<br>Face Shields: 43500<br>Population: 8882190\", \"New Mexico<br>Face Shields Per Covid Case: 0.0<br><br>COVID19 Cases: 4138<br>COVID19 Death: 162<br>Face Shields: 0<br>Population: 2096829\", \"New York<br>Face Shields Per Covid Case: 0.12<br><br>COVID19 Cases: 321276<br>COVID19 Death: 19645<br>Face Shields: 37800<br>Population: 19453561\", \"North Carolina<br>Face Shields Per Covid Case: 0.0<br><br>COVID19 Cases: 12283<br>COVID19 Death: 477<br>Face Shields: 0<br>Population: 10488084\", \"North Dakota<br>Face Shields Per Covid Case: 0.0<br><br>COVID19 Cases: 1266<br>COVID19 Death: 25<br>Face Shields: 0<br>Population: 762062\", \"Ohio<br>Face Shields Per Covid Case: 0.91<br><br>COVID19 Cases: 20969<br>COVID19 Death: 1135<br>Face Shields: 19000<br>Population: 11689100\", \"Oklahoma<br>Face Shields Per Covid Case: 2.42<br><br>COVID19 Cases: 4127<br>COVID19 Death: 247<br>Face Shields: 10000<br>Population: 3956971\", \"Oregon<br>Face Shields Per Covid Case: 4.58<br><br>COVID19 Cases: 2839<br>COVID19 Death: 113<br>Face Shields: 13000<br>Population: 4217737\", \"Pennsylvania<br>Face Shields Per Covid Case: 0.1<br><br>COVID19 Cases: 53967<br>COVID19 Death: 3206<br>Face Shields: 5500<br>Population: 12801989\", \"Rhode Island<br>Face Shields Per Covid Case: 0.91<br><br>COVID19 Cases: 9933<br>COVID19 Death: 355<br>Face Shields: 9000<br>Population: 1059361\", \"South Carolina<br>Face Shields Per Covid Case: 1.17<br><br>COVID19 Cases: 6841<br>COVID19 Death: 296<br>Face Shields: 8000<br>Population: 5148714\", \"South Dakota<br>Face Shields Per Covid Case: 1.47<br><br>COVID19 Cases: 2721<br>COVID19 Death: 24<br>Face Shields: 4000<br>Population: 884659\", \"Tennessee<br>Face Shields Per Covid Case: 1.25<br><br>COVID19 Cases: 13615<br>COVID19 Death: 234<br>Face Shields: 17000<br>Population: 6829174\", \"Texas<br>Face Shields Per Covid Case: 1.34<br><br>COVID19 Cases: 34283<br>COVID19 Death: 955<br>Face Shields: 46000<br>Population: 28995881\", \"Utah<br>Face Shields Per Covid Case: 0.37<br><br>COVID19 Cases: 5449<br>COVID19 Death: 56<br>Face Shields: 2000<br>Population: 3205958\", \"Vermont<br>Face Shields Per Covid Case: 0.0<br><br>COVID19 Cases: 907<br>COVID19 Death: 53<br>Face Shields: 0<br>Population: 623989\", \"Virginia<br>Face Shields Per Covid Case: 0.15<br><br>COVID19 Cases: 20256<br>COVID19 Death: 713<br>Face Shields: 3000<br>Population: 8535519\", \"Washington<br>Face Shields Per Covid Case: 1.14<br><br>COVID19 Cases: 15847<br>COVID19 Death: 863<br>Face Shields: 18000<br>Population: 7614893\", \"West Virginia<br>Face Shields Per Covid Case: 0.0<br><br>COVID19 Cases: 1242<br>COVID19 Death: 50<br>Face Shields: 0<br>Population: 1792147\", \"Wisconsin<br>Face Shields Per Covid Case: 1.4<br><br>COVID19 Cases: 8566<br>COVID19 Death: 353<br>Face Shields: 12000<br>Population: 5822434\", \"Wyoming<br>Face Shields Per Covid Case: 0.0<br><br>COVID19 Cases: 452<br>COVID19 Death: 7<br>Face Shields: 0<br>Population: 578759\", \"Puerto Rico<br>Face Shields Per Covid Case: 26.72<br><br>COVID19 Cases: 1924<br>COVID19 Death: 56<br>Face Shields: 51400<br>Population: 3193694\"], \"type\": \"choropleth\", \"z\": [0.3, 0.0, 0.56, 0.0, 3.06, 0.7, 0.16, 2.23, 8.27, 0.43, 0.42, 0.0, 0.0, 1.21, 1.05, 1.63, 0.18, 0.0, 0.46, 0.0, 0.7, 0.68, 1.23, 6.5, 1.89, 3.05, 0.0, 3.72, 1.32, 1.06, 0.33, 0.0, 0.12, 0.0, 0.0, 0.91, 2.42, 4.58, 0.1, 0.91, 1.17, 1.47, 1.25, 1.34, 0.37, 0.0, 0.15, 1.14, 0.0, 1.4, 0.0, 26.72], \"zmax\": 5, \"zmin\": 0}],\n",
              "                        {\"geo\": {\"lakecolor\": \"rgb(255, 255, 255)\", \"projection\": {\"type\": \"albers usa\"}, \"scope\": \"usa\", \"showlakes\": true}, \"template\": {\"data\": {\"bar\": [{\"error_x\": {\"color\": \"#2a3f5f\"}, \"error_y\": {\"color\": \"#2a3f5f\"}, \"marker\": {\"line\": {\"color\": \"#E5ECF6\", \"width\": 0.5}}, \"type\": \"bar\"}], \"barpolar\": [{\"marker\": {\"line\": {\"color\": \"#E5ECF6\", \"width\": 0.5}}, \"type\": \"barpolar\"}], \"carpet\": [{\"aaxis\": {\"endlinecolor\": \"#2a3f5f\", \"gridcolor\": \"white\", \"linecolor\": \"white\", \"minorgridcolor\": \"white\", \"startlinecolor\": \"#2a3f5f\"}, \"baxis\": {\"endlinecolor\": \"#2a3f5f\", \"gridcolor\": \"white\", \"linecolor\": \"white\", \"minorgridcolor\": \"white\", \"startlinecolor\": \"#2a3f5f\"}, \"type\": \"carpet\"}], \"choropleth\": [{\"colorbar\": {\"outlinewidth\": 0, \"ticks\": \"\"}, \"type\": \"choropleth\"}], \"contour\": [{\"colorbar\": {\"outlinewidth\": 0, \"ticks\": \"\"}, \"colorscale\": [[0.0, \"#0d0887\"], [0.1111111111111111, \"#46039f\"], [0.2222222222222222, \"#7201a8\"], [0.3333333333333333, \"#9c179e\"], [0.4444444444444444, \"#bd3786\"], [0.5555555555555556, \"#d8576b\"], [0.6666666666666666, \"#ed7953\"], [0.7777777777777778, \"#fb9f3a\"], [0.8888888888888888, \"#fdca26\"], [1.0, \"#f0f921\"]], \"type\": \"contour\"}], \"contourcarpet\": [{\"colorbar\": {\"outlinewidth\": 0, \"ticks\": \"\"}, \"type\": \"contourcarpet\"}], \"heatmap\": [{\"colorbar\": {\"outlinewidth\": 0, \"ticks\": \"\"}, \"colorscale\": [[0.0, \"#0d0887\"], [0.1111111111111111, \"#46039f\"], [0.2222222222222222, \"#7201a8\"], [0.3333333333333333, \"#9c179e\"], [0.4444444444444444, \"#bd3786\"], [0.5555555555555556, \"#d8576b\"], [0.6666666666666666, \"#ed7953\"], [0.7777777777777778, \"#fb9f3a\"], [0.8888888888888888, \"#fdca26\"], [1.0, \"#f0f921\"]], \"type\": \"heatmap\"}], \"heatmapgl\": [{\"colorbar\": {\"outlinewidth\": 0, \"ticks\": \"\"}, \"colorscale\": [[0.0, \"#0d0887\"], [0.1111111111111111, \"#46039f\"], [0.2222222222222222, \"#7201a8\"], [0.3333333333333333, \"#9c179e\"], [0.4444444444444444, \"#bd3786\"], [0.5555555555555556, \"#d8576b\"], [0.6666666666666666, \"#ed7953\"], [0.7777777777777778, \"#fb9f3a\"], [0.8888888888888888, \"#fdca26\"], [1.0, \"#f0f921\"]], \"type\": \"heatmapgl\"}], \"histogram\": [{\"marker\": {\"colorbar\": {\"outlinewidth\": 0, \"ticks\": \"\"}}, \"type\": \"histogram\"}], \"histogram2d\": [{\"colorbar\": {\"outlinewidth\": 0, \"ticks\": \"\"}, \"colorscale\": [[0.0, \"#0d0887\"], [0.1111111111111111, \"#46039f\"], [0.2222222222222222, \"#7201a8\"], [0.3333333333333333, \"#9c179e\"], [0.4444444444444444, \"#bd3786\"], [0.5555555555555556, \"#d8576b\"], [0.6666666666666666, \"#ed7953\"], [0.7777777777777778, \"#fb9f3a\"], [0.8888888888888888, \"#fdca26\"], [1.0, \"#f0f921\"]], \"type\": \"histogram2d\"}], \"histogram2dcontour\": [{\"colorbar\": {\"outlinewidth\": 0, \"ticks\": \"\"}, \"colorscale\": [[0.0, \"#0d0887\"], [0.1111111111111111, \"#46039f\"], [0.2222222222222222, \"#7201a8\"], [0.3333333333333333, \"#9c179e\"], [0.4444444444444444, \"#bd3786\"], [0.5555555555555556, \"#d8576b\"], [0.6666666666666666, \"#ed7953\"], [0.7777777777777778, \"#fb9f3a\"], [0.8888888888888888, \"#fdca26\"], [1.0, \"#f0f921\"]], \"type\": \"histogram2dcontour\"}], \"mesh3d\": [{\"colorbar\": {\"outlinewidth\": 0, \"ticks\": \"\"}, \"type\": \"mesh3d\"}], \"parcoords\": [{\"line\": {\"colorbar\": {\"outlinewidth\": 0, \"ticks\": \"\"}}, \"type\": \"parcoords\"}], \"pie\": [{\"automargin\": true, \"type\": \"pie\"}], \"scatter\": [{\"marker\": {\"colorbar\": {\"outlinewidth\": 0, \"ticks\": \"\"}}, \"type\": \"scatter\"}], \"scatter3d\": [{\"line\": {\"colorbar\": {\"outlinewidth\": 0, \"ticks\": \"\"}}, \"marker\": {\"colorbar\": {\"outlinewidth\": 0, \"ticks\": \"\"}}, \"type\": \"scatter3d\"}], \"scattercarpet\": [{\"marker\": {\"colorbar\": {\"outlinewidth\": 0, \"ticks\": \"\"}}, \"type\": \"scattercarpet\"}], \"scattergeo\": [{\"marker\": {\"colorbar\": {\"outlinewidth\": 0, \"ticks\": \"\"}}, \"type\": \"scattergeo\"}], \"scattergl\": [{\"marker\": {\"colorbar\": {\"outlinewidth\": 0, \"ticks\": \"\"}}, \"type\": \"scattergl\"}], \"scattermapbox\": [{\"marker\": {\"colorbar\": {\"outlinewidth\": 0, \"ticks\": \"\"}}, \"type\": \"scattermapbox\"}], \"scatterpolar\": [{\"marker\": {\"colorbar\": {\"outlinewidth\": 0, \"ticks\": \"\"}}, \"type\": \"scatterpolar\"}], \"scatterpolargl\": [{\"marker\": {\"colorbar\": {\"outlinewidth\": 0, \"ticks\": \"\"}}, \"type\": \"scatterpolargl\"}], \"scatterternary\": [{\"marker\": {\"colorbar\": {\"outlinewidth\": 0, \"ticks\": \"\"}}, \"type\": \"scatterternary\"}], \"surface\": [{\"colorbar\": {\"outlinewidth\": 0, \"ticks\": \"\"}, \"colorscale\": [[0.0, \"#0d0887\"], [0.1111111111111111, \"#46039f\"], [0.2222222222222222, \"#7201a8\"], [0.3333333333333333, \"#9c179e\"], [0.4444444444444444, \"#bd3786\"], [0.5555555555555556, \"#d8576b\"], [0.6666666666666666, \"#ed7953\"], [0.7777777777777778, \"#fb9f3a\"], [0.8888888888888888, \"#fdca26\"], [1.0, \"#f0f921\"]], \"type\": \"surface\"}], \"table\": [{\"cells\": {\"fill\": {\"color\": \"#EBF0F8\"}, \"line\": {\"color\": \"white\"}}, \"header\": {\"fill\": {\"color\": \"#C8D4E3\"}, \"line\": {\"color\": \"white\"}}, \"type\": \"table\"}]}, \"layout\": {\"annotationdefaults\": {\"arrowcolor\": \"#2a3f5f\", \"arrowhead\": 0, \"arrowwidth\": 1}, \"coloraxis\": {\"colorbar\": {\"outlinewidth\": 0, \"ticks\": \"\"}}, \"colorscale\": {\"diverging\": [[0, \"#8e0152\"], [0.1, \"#c51b7d\"], [0.2, \"#de77ae\"], [0.3, \"#f1b6da\"], [0.4, \"#fde0ef\"], [0.5, \"#f7f7f7\"], [0.6, \"#e6f5d0\"], [0.7, \"#b8e186\"], [0.8, \"#7fbc41\"], [0.9, \"#4d9221\"], [1, \"#276419\"]], \"sequential\": [[0.0, \"#0d0887\"], [0.1111111111111111, \"#46039f\"], [0.2222222222222222, \"#7201a8\"], [0.3333333333333333, \"#9c179e\"], [0.4444444444444444, \"#bd3786\"], [0.5555555555555556, \"#d8576b\"], [0.6666666666666666, \"#ed7953\"], [0.7777777777777778, \"#fb9f3a\"], [0.8888888888888888, \"#fdca26\"], [1.0, \"#f0f921\"]], \"sequentialminus\": [[0.0, \"#0d0887\"], [0.1111111111111111, \"#46039f\"], [0.2222222222222222, \"#7201a8\"], [0.3333333333333333, \"#9c179e\"], [0.4444444444444444, \"#bd3786\"], [0.5555555555555556, \"#d8576b\"], [0.6666666666666666, \"#ed7953\"], [0.7777777777777778, \"#fb9f3a\"], [0.8888888888888888, \"#fdca26\"], [1.0, \"#f0f921\"]]}, \"colorway\": [\"#636efa\", \"#EF553B\", \"#00cc96\", \"#ab63fa\", \"#FFA15A\", \"#19d3f3\", \"#FF6692\", \"#B6E880\", \"#FF97FF\", \"#FECB52\"], \"font\": {\"color\": \"#2a3f5f\"}, \"geo\": {\"bgcolor\": \"white\", \"lakecolor\": \"white\", \"landcolor\": \"#E5ECF6\", \"showlakes\": true, \"showland\": true, \"subunitcolor\": \"white\"}, \"hoverlabel\": {\"align\": \"left\"}, \"hovermode\": \"closest\", \"mapbox\": {\"style\": \"light\"}, \"paper_bgcolor\": \"white\", \"plot_bgcolor\": \"#E5ECF6\", \"polar\": {\"angularaxis\": {\"gridcolor\": \"white\", \"linecolor\": \"white\", \"ticks\": \"\"}, \"bgcolor\": \"#E5ECF6\", \"radialaxis\": {\"gridcolor\": \"white\", \"linecolor\": \"white\", \"ticks\": \"\"}}, \"scene\": {\"xaxis\": {\"backgroundcolor\": \"#E5ECF6\", \"gridcolor\": \"white\", \"gridwidth\": 2, \"linecolor\": \"white\", \"showbackground\": true, \"ticks\": \"\", \"zerolinecolor\": \"white\"}, \"yaxis\": {\"backgroundcolor\": \"#E5ECF6\", \"gridcolor\": \"white\", \"gridwidth\": 2, \"linecolor\": \"white\", \"showbackground\": true, \"ticks\": \"\", \"zerolinecolor\": \"white\"}, \"zaxis\": {\"backgroundcolor\": \"#E5ECF6\", \"gridcolor\": \"white\", \"gridwidth\": 2, \"linecolor\": \"white\", \"showbackground\": true, \"ticks\": \"\", \"zerolinecolor\": \"white\"}}, \"shapedefaults\": {\"line\": {\"color\": \"#2a3f5f\"}}, \"ternary\": {\"aaxis\": {\"gridcolor\": \"white\", \"linecolor\": \"white\", \"ticks\": \"\"}, \"baxis\": {\"gridcolor\": \"white\", \"linecolor\": \"white\", \"ticks\": \"\"}, \"bgcolor\": \"#E5ECF6\", \"caxis\": {\"gridcolor\": \"white\", \"linecolor\": \"white\", \"ticks\": \"\"}}, \"title\": {\"x\": 0.05}, \"xaxis\": {\"automargin\": true, \"gridcolor\": \"white\", \"linecolor\": \"white\", \"ticks\": \"\", \"title\": {\"standoff\": 15}, \"zerolinecolor\": \"white\", \"zerolinewidth\": 2}, \"yaxis\": {\"automargin\": true, \"gridcolor\": \"white\", \"linecolor\": \"white\", \"ticks\": \"\", \"title\": {\"standoff\": 15}, \"zerolinecolor\": \"white\", \"zerolinewidth\": 2}}}, \"title\": {\"text\": \"Shields Donated Per COVID19 Case - April 26th, 2020\"}},\n",
              "                        {\"responsive\": true}\n",
              "                    ).then(function(){\n",
              "                            \n",
              "var gd = document.getElementById('6a212b2d-0271-4a55-a1ce-74c52518cfc7');\n",
              "var x = new MutationObserver(function (mutations, observer) {{\n",
              "        var display = window.getComputedStyle(gd).display;\n",
              "        if (!display || display === 'none') {{\n",
              "            console.log([gd, 'removed!']);\n",
              "            Plotly.purge(gd);\n",
              "            observer.disconnect();\n",
              "        }}\n",
              "}});\n",
              "\n",
              "// Listen for the removal of the full notebook cells\n",
              "var notebookContainer = gd.closest('#notebook-container');\n",
              "if (notebookContainer) {{\n",
              "    x.observe(notebookContainer, {childList: true});\n",
              "}}\n",
              "\n",
              "// Listen for the clearing of the current output cell\n",
              "var outputEl = gd.closest('.output');\n",
              "if (outputEl) {{\n",
              "    x.observe(outputEl, {childList: true});\n",
              "}}\n",
              "\n",
              "                        })\n",
              "                };\n",
              "                \n",
              "            </script>\n",
              "        </div>\n",
              "</body>\n",
              "</html>"
            ]
          },
          "metadata": {
            "tags": []
          }
        }
      ]
    },
    {
      "cell_type": "markdown",
      "metadata": {
        "id": "wNHjxBAUHm5p",
        "colab_type": "text"
      },
      "source": [
        "### Create priority list for remaining Boston Scientific Face Shields"
      ]
    },
    {
      "cell_type": "code",
      "metadata": {
        "id": "tYunf9ZCHm9Q",
        "colab_type": "code",
        "outputId": "10bcf313-24a8-42ac-937a-24c3fab0671f",
        "colab": {
          "base_uri": "https://localhost:8080/",
          "height": 1000
        }
      },
      "source": [
        "# select columns of interest\n",
        "output_df = merged_full_df[[\n",
        "    'State',\n",
        "    'Face Shield',\n",
        "    'normalized_cases_per_100k',\n",
        "    'shields_donated_per_covid_case']]\t\n",
        "output_df = output_df.rename(columns={\n",
        "    'Face Shield':'Face Shields Donated',\n",
        "    'normalized_cases_per_100k':'COVID19 Cases Per 100K Population',\n",
        "    'shields_donated_per_covid_case': 'Shields Donated Per COVID19 Case'\n",
        "})\n",
        "\n",
        "output_df.sort_values(by=['Shields Donated Per COVID19 Case', \n",
        "    'COVID19 Cases Per 100K Population'], ascending=[True,False],inplace=True)\n",
        "\n",
        "output_df.head(55)"
      ],
      "execution_count": 85,
      "outputs": [
        {
          "output_type": "execute_result",
          "data": {
            "text/html": [
              "<div>\n",
              "<style scoped>\n",
              "    .dataframe tbody tr th:only-of-type {\n",
              "        vertical-align: middle;\n",
              "    }\n",
              "\n",
              "    .dataframe tbody tr th {\n",
              "        vertical-align: top;\n",
              "    }\n",
              "\n",
              "    .dataframe thead th {\n",
              "        text-align: right;\n",
              "    }\n",
              "</style>\n",
              "<table border=\"1\" class=\"dataframe\">\n",
              "  <thead>\n",
              "    <tr style=\"text-align: right;\">\n",
              "      <th></th>\n",
              "      <th>State</th>\n",
              "      <th>Face Shields Donated</th>\n",
              "      <th>COVID19 Cases Per 100K Population</th>\n",
              "      <th>Shields Donated Per COVID19 Case</th>\n",
              "    </tr>\n",
              "  </thead>\n",
              "  <tbody>\n",
              "    <tr>\n",
              "      <th>36</th>\n",
              "      <td>New Mexico</td>\n",
              "      <td>0</td>\n",
              "      <td>197.3</td>\n",
              "      <td>0.00</td>\n",
              "    </tr>\n",
              "    <tr>\n",
              "      <th>39</th>\n",
              "      <td>North Dakota</td>\n",
              "      <td>0</td>\n",
              "      <td>166.1</td>\n",
              "      <td>0.00</td>\n",
              "    </tr>\n",
              "    <tr>\n",
              "      <th>50</th>\n",
              "      <td>Vermont</td>\n",
              "      <td>0</td>\n",
              "      <td>145.4</td>\n",
              "      <td>0.00</td>\n",
              "    </tr>\n",
              "    <tr>\n",
              "      <th>22</th>\n",
              "      <td>Kentucky</td>\n",
              "      <td>0</td>\n",
              "      <td>130.3</td>\n",
              "      <td>0.00</td>\n",
              "    </tr>\n",
              "    <tr>\n",
              "      <th>38</th>\n",
              "      <td>North Carolina</td>\n",
              "      <td>0</td>\n",
              "      <td>117.1</td>\n",
              "      <td>0.00</td>\n",
              "    </tr>\n",
              "    <tr>\n",
              "      <th>8</th>\n",
              "      <td>Arkansas</td>\n",
              "      <td>0</td>\n",
              "      <td>116.8</td>\n",
              "      <td>0.00</td>\n",
              "    </tr>\n",
              "    <tr>\n",
              "      <th>17</th>\n",
              "      <td>Idaho</td>\n",
              "      <td>0</td>\n",
              "      <td>109.7</td>\n",
              "      <td>0.00</td>\n",
              "    </tr>\n",
              "    <tr>\n",
              "      <th>24</th>\n",
              "      <td>Maine</td>\n",
              "      <td>0</td>\n",
              "      <td>91.2</td>\n",
              "      <td>0.00</td>\n",
              "    </tr>\n",
              "    <tr>\n",
              "      <th>55</th>\n",
              "      <td>Wyoming</td>\n",
              "      <td>0</td>\n",
              "      <td>78.1</td>\n",
              "      <td>0.00</td>\n",
              "    </tr>\n",
              "    <tr>\n",
              "      <th>53</th>\n",
              "      <td>West Virginia</td>\n",
              "      <td>0</td>\n",
              "      <td>69.3</td>\n",
              "      <td>0.00</td>\n",
              "    </tr>\n",
              "    <tr>\n",
              "      <th>6</th>\n",
              "      <td>Alaska</td>\n",
              "      <td>0</td>\n",
              "      <td>50.4</td>\n",
              "      <td>0.00</td>\n",
              "    </tr>\n",
              "    <tr>\n",
              "      <th>16</th>\n",
              "      <td>Hawaii</td>\n",
              "      <td>0</td>\n",
              "      <td>43.4</td>\n",
              "      <td>0.00</td>\n",
              "    </tr>\n",
              "    <tr>\n",
              "      <th>31</th>\n",
              "      <td>Montana</td>\n",
              "      <td>0</td>\n",
              "      <td>42.7</td>\n",
              "      <td>0.00</td>\n",
              "    </tr>\n",
              "    <tr>\n",
              "      <th>43</th>\n",
              "      <td>Pennsylvania</td>\n",
              "      <td>5500</td>\n",
              "      <td>421.6</td>\n",
              "      <td>0.10</td>\n",
              "    </tr>\n",
              "    <tr>\n",
              "      <th>37</th>\n",
              "      <td>New York</td>\n",
              "      <td>37800</td>\n",
              "      <td>1651.5</td>\n",
              "      <td>0.12</td>\n",
              "    </tr>\n",
              "    <tr>\n",
              "      <th>51</th>\n",
              "      <td>Virginia</td>\n",
              "      <td>3000</td>\n",
              "      <td>237.3</td>\n",
              "      <td>0.15</td>\n",
              "    </tr>\n",
              "    <tr>\n",
              "      <th>11</th>\n",
              "      <td>Connecticut</td>\n",
              "      <td>4900</td>\n",
              "      <td>858.9</td>\n",
              "      <td>0.16</td>\n",
              "    </tr>\n",
              "    <tr>\n",
              "      <th>21</th>\n",
              "      <td>Kansas</td>\n",
              "      <td>1000</td>\n",
              "      <td>192.3</td>\n",
              "      <td>0.18</td>\n",
              "    </tr>\n",
              "    <tr>\n",
              "      <th>5</th>\n",
              "      <td>Alabama</td>\n",
              "      <td>2500</td>\n",
              "      <td>172.1</td>\n",
              "      <td>0.30</td>\n",
              "    </tr>\n",
              "    <tr>\n",
              "      <th>35</th>\n",
              "      <td>New Jersey</td>\n",
              "      <td>43500</td>\n",
              "      <td>1470.3</td>\n",
              "      <td>0.33</td>\n",
              "    </tr>\n",
              "    <tr>\n",
              "      <th>49</th>\n",
              "      <td>Utah</td>\n",
              "      <td>2000</td>\n",
              "      <td>170.0</td>\n",
              "      <td>0.37</td>\n",
              "    </tr>\n",
              "    <tr>\n",
              "      <th>15</th>\n",
              "      <td>Georgia</td>\n",
              "      <td>12000</td>\n",
              "      <td>272.0</td>\n",
              "      <td>0.42</td>\n",
              "    </tr>\n",
              "    <tr>\n",
              "      <th>14</th>\n",
              "      <td>Florida</td>\n",
              "      <td>16000</td>\n",
              "      <td>174.3</td>\n",
              "      <td>0.43</td>\n",
              "    </tr>\n",
              "    <tr>\n",
              "      <th>23</th>\n",
              "      <td>Louisiana</td>\n",
              "      <td>13800</td>\n",
              "      <td>645.2</td>\n",
              "      <td>0.46</td>\n",
              "    </tr>\n",
              "    <tr>\n",
              "      <th>7</th>\n",
              "      <td>Arizona</td>\n",
              "      <td>5200</td>\n",
              "      <td>127.8</td>\n",
              "      <td>0.56</td>\n",
              "    </tr>\n",
              "    <tr>\n",
              "      <th>26</th>\n",
              "      <td>Massachusetts</td>\n",
              "      <td>47900</td>\n",
              "      <td>1019.5</td>\n",
              "      <td>0.68</td>\n",
              "    </tr>\n",
              "    <tr>\n",
              "      <th>25</th>\n",
              "      <td>Maryland</td>\n",
              "      <td>19000</td>\n",
              "      <td>448.5</td>\n",
              "      <td>0.70</td>\n",
              "    </tr>\n",
              "    <tr>\n",
              "      <th>10</th>\n",
              "      <td>Colorado</td>\n",
              "      <td>12000</td>\n",
              "      <td>299.6</td>\n",
              "      <td>0.70</td>\n",
              "    </tr>\n",
              "    <tr>\n",
              "      <th>44</th>\n",
              "      <td>Rhode Island</td>\n",
              "      <td>9000</td>\n",
              "      <td>937.6</td>\n",
              "      <td>0.91</td>\n",
              "    </tr>\n",
              "    <tr>\n",
              "      <th>40</th>\n",
              "      <td>Ohio</td>\n",
              "      <td>19000</td>\n",
              "      <td>179.4</td>\n",
              "      <td>0.91</td>\n",
              "    </tr>\n",
              "    <tr>\n",
              "      <th>19</th>\n",
              "      <td>Indiana</td>\n",
              "      <td>22000</td>\n",
              "      <td>312.4</td>\n",
              "      <td>1.05</td>\n",
              "    </tr>\n",
              "    <tr>\n",
              "      <th>34</th>\n",
              "      <td>New Hampshire</td>\n",
              "      <td>2800</td>\n",
              "      <td>193.9</td>\n",
              "      <td>1.06</td>\n",
              "    </tr>\n",
              "    <tr>\n",
              "      <th>52</th>\n",
              "      <td>Washington</td>\n",
              "      <td>18000</td>\n",
              "      <td>208.1</td>\n",
              "      <td>1.14</td>\n",
              "    </tr>\n",
              "    <tr>\n",
              "      <th>45</th>\n",
              "      <td>South Carolina</td>\n",
              "      <td>8000</td>\n",
              "      <td>132.9</td>\n",
              "      <td>1.17</td>\n",
              "    </tr>\n",
              "    <tr>\n",
              "      <th>18</th>\n",
              "      <td>Illinois</td>\n",
              "      <td>79800</td>\n",
              "      <td>520.0</td>\n",
              "      <td>1.21</td>\n",
              "    </tr>\n",
              "    <tr>\n",
              "      <th>27</th>\n",
              "      <td>Michigan</td>\n",
              "      <td>54500</td>\n",
              "      <td>443.9</td>\n",
              "      <td>1.23</td>\n",
              "    </tr>\n",
              "    <tr>\n",
              "      <th>47</th>\n",
              "      <td>Tennessee</td>\n",
              "      <td>17000</td>\n",
              "      <td>199.4</td>\n",
              "      <td>1.25</td>\n",
              "    </tr>\n",
              "    <tr>\n",
              "      <th>33</th>\n",
              "      <td>Nevada</td>\n",
              "      <td>7500</td>\n",
              "      <td>183.9</td>\n",
              "      <td>1.32</td>\n",
              "    </tr>\n",
              "    <tr>\n",
              "      <th>48</th>\n",
              "      <td>Texas</td>\n",
              "      <td>46000</td>\n",
              "      <td>118.2</td>\n",
              "      <td>1.34</td>\n",
              "    </tr>\n",
              "    <tr>\n",
              "      <th>54</th>\n",
              "      <td>Wisconsin</td>\n",
              "      <td>12000</td>\n",
              "      <td>147.1</td>\n",
              "      <td>1.40</td>\n",
              "    </tr>\n",
              "    <tr>\n",
              "      <th>46</th>\n",
              "      <td>South Dakota</td>\n",
              "      <td>4000</td>\n",
              "      <td>307.6</td>\n",
              "      <td>1.47</td>\n",
              "    </tr>\n",
              "    <tr>\n",
              "      <th>20</th>\n",
              "      <td>Iowa</td>\n",
              "      <td>16500</td>\n",
              "      <td>320.5</td>\n",
              "      <td>1.63</td>\n",
              "    </tr>\n",
              "    <tr>\n",
              "      <th>29</th>\n",
              "      <td>Mississippi</td>\n",
              "      <td>15500</td>\n",
              "      <td>275.8</td>\n",
              "      <td>1.89</td>\n",
              "    </tr>\n",
              "    <tr>\n",
              "      <th>12</th>\n",
              "      <td>Delaware</td>\n",
              "      <td>12000</td>\n",
              "      <td>551.6</td>\n",
              "      <td>2.23</td>\n",
              "    </tr>\n",
              "    <tr>\n",
              "      <th>41</th>\n",
              "      <td>Oklahoma</td>\n",
              "      <td>10000</td>\n",
              "      <td>104.3</td>\n",
              "      <td>2.42</td>\n",
              "    </tr>\n",
              "    <tr>\n",
              "      <th>30</th>\n",
              "      <td>Missouri</td>\n",
              "      <td>27200</td>\n",
              "      <td>145.3</td>\n",
              "      <td>3.05</td>\n",
              "    </tr>\n",
              "    <tr>\n",
              "      <th>9</th>\n",
              "      <td>California</td>\n",
              "      <td>180300</td>\n",
              "      <td>148.9</td>\n",
              "      <td>3.06</td>\n",
              "    </tr>\n",
              "    <tr>\n",
              "      <th>32</th>\n",
              "      <td>Nebraska</td>\n",
              "      <td>24000</td>\n",
              "      <td>333.2</td>\n",
              "      <td>3.72</td>\n",
              "    </tr>\n",
              "    <tr>\n",
              "      <th>42</th>\n",
              "      <td>Oregon</td>\n",
              "      <td>13000</td>\n",
              "      <td>67.3</td>\n",
              "      <td>4.58</td>\n",
              "    </tr>\n",
              "    <tr>\n",
              "      <th>28</th>\n",
              "      <td>Minnesota</td>\n",
              "      <td>51000</td>\n",
              "      <td>139.2</td>\n",
              "      <td>6.50</td>\n",
              "    </tr>\n",
              "    <tr>\n",
              "      <th>13</th>\n",
              "      <td>District of Columbia</td>\n",
              "      <td>44000</td>\n",
              "      <td>754.1</td>\n",
              "      <td>8.27</td>\n",
              "    </tr>\n",
              "    <tr>\n",
              "      <th>56</th>\n",
              "      <td>Puerto Rico</td>\n",
              "      <td>51400</td>\n",
              "      <td>60.2</td>\n",
              "      <td>26.72</td>\n",
              "    </tr>\n",
              "  </tbody>\n",
              "</table>\n",
              "</div>"
            ],
            "text/plain": [
              "                   State  Face Shields Donated  \\\n",
              "36            New Mexico                     0   \n",
              "39          North Dakota                     0   \n",
              "50               Vermont                     0   \n",
              "22              Kentucky                     0   \n",
              "38        North Carolina                     0   \n",
              "8               Arkansas                     0   \n",
              "17                 Idaho                     0   \n",
              "24                 Maine                     0   \n",
              "55               Wyoming                     0   \n",
              "53         West Virginia                     0   \n",
              "6                 Alaska                     0   \n",
              "16                Hawaii                     0   \n",
              "31               Montana                     0   \n",
              "43          Pennsylvania                  5500   \n",
              "37              New York                 37800   \n",
              "51              Virginia                  3000   \n",
              "11           Connecticut                  4900   \n",
              "21                Kansas                  1000   \n",
              "5                Alabama                  2500   \n",
              "35            New Jersey                 43500   \n",
              "49                  Utah                  2000   \n",
              "15               Georgia                 12000   \n",
              "14               Florida                 16000   \n",
              "23             Louisiana                 13800   \n",
              "7                Arizona                  5200   \n",
              "26         Massachusetts                 47900   \n",
              "25              Maryland                 19000   \n",
              "10              Colorado                 12000   \n",
              "44          Rhode Island                  9000   \n",
              "40                  Ohio                 19000   \n",
              "19               Indiana                 22000   \n",
              "34         New Hampshire                  2800   \n",
              "52            Washington                 18000   \n",
              "45        South Carolina                  8000   \n",
              "18              Illinois                 79800   \n",
              "27              Michigan                 54500   \n",
              "47             Tennessee                 17000   \n",
              "33                Nevada                  7500   \n",
              "48                 Texas                 46000   \n",
              "54             Wisconsin                 12000   \n",
              "46          South Dakota                  4000   \n",
              "20                  Iowa                 16500   \n",
              "29           Mississippi                 15500   \n",
              "12              Delaware                 12000   \n",
              "41              Oklahoma                 10000   \n",
              "30              Missouri                 27200   \n",
              "9             California                180300   \n",
              "32              Nebraska                 24000   \n",
              "42                Oregon                 13000   \n",
              "28             Minnesota                 51000   \n",
              "13  District of Columbia                 44000   \n",
              "56           Puerto Rico                 51400   \n",
              "\n",
              "    COVID19 Cases Per 100K Population  Shields Donated Per COVID19 Case  \n",
              "36                              197.3                              0.00  \n",
              "39                              166.1                              0.00  \n",
              "50                              145.4                              0.00  \n",
              "22                              130.3                              0.00  \n",
              "38                              117.1                              0.00  \n",
              "8                               116.8                              0.00  \n",
              "17                              109.7                              0.00  \n",
              "24                               91.2                              0.00  \n",
              "55                               78.1                              0.00  \n",
              "53                               69.3                              0.00  \n",
              "6                                50.4                              0.00  \n",
              "16                               43.4                              0.00  \n",
              "31                               42.7                              0.00  \n",
              "43                              421.6                              0.10  \n",
              "37                             1651.5                              0.12  \n",
              "51                              237.3                              0.15  \n",
              "11                              858.9                              0.16  \n",
              "21                              192.3                              0.18  \n",
              "5                               172.1                              0.30  \n",
              "35                             1470.3                              0.33  \n",
              "49                              170.0                              0.37  \n",
              "15                              272.0                              0.42  \n",
              "14                              174.3                              0.43  \n",
              "23                              645.2                              0.46  \n",
              "7                               127.8                              0.56  \n",
              "26                             1019.5                              0.68  \n",
              "25                              448.5                              0.70  \n",
              "10                              299.6                              0.70  \n",
              "44                              937.6                              0.91  \n",
              "40                              179.4                              0.91  \n",
              "19                              312.4                              1.05  \n",
              "34                              193.9                              1.06  \n",
              "52                              208.1                              1.14  \n",
              "45                              132.9                              1.17  \n",
              "18                              520.0                              1.21  \n",
              "27                              443.9                              1.23  \n",
              "47                              199.4                              1.25  \n",
              "33                              183.9                              1.32  \n",
              "48                              118.2                              1.34  \n",
              "54                              147.1                              1.40  \n",
              "46                              307.6                              1.47  \n",
              "20                              320.5                              1.63  \n",
              "29                              275.8                              1.89  \n",
              "12                              551.6                              2.23  \n",
              "41                              104.3                              2.42  \n",
              "30                              145.3                              3.05  \n",
              "9                               148.9                              3.06  \n",
              "32                              333.2                              3.72  \n",
              "42                               67.3                              4.58  \n",
              "28                              139.2                              6.50  \n",
              "13                              754.1                              8.27  \n",
              "56                               60.2                             26.72  "
            ]
          },
          "metadata": {
            "tags": []
          },
          "execution_count": 85
        }
      ]
    },
    {
      "cell_type": "markdown",
      "metadata": {
        "id": "Ox2ZRvnTl93y",
        "colab_type": "text"
      },
      "source": [
        "### Create a map with all traces"
      ]
    },
    {
      "cell_type": "code",
      "metadata": {
        "id": "DV_7iMAJPvPw",
        "colab_type": "code",
        "outputId": "b525f09b-0371-4927-a320-fc6c84ce04d3",
        "colab": {
          "base_uri": "https://localhost:8080/",
          "height": 767
        }
      },
      "source": [
        "fig = go.Figure()\n",
        "\n",
        "# First trace\n",
        "fig = fig.add_trace(go.Choropleth(\n",
        "    locations=df['state_code'], # Spatial coordinates\n",
        "    z = df['Face Shield'].astype(float), # Data to be color-coded\n",
        "    locationmode = 'USA-states', # set of locations match entries in `locations`\n",
        "    colorscale = 'blues',\n",
        "    text=df['text'], # hover text\n",
        "    colorbar_title = \"Face Shields >\",\n",
        "    hoverinfo='text',\n",
        "    marker_line_color='Grey', # line markers between states\n",
        "    marker_opacity=0.8, \n",
        "    zmin=0,\n",
        "    zmax=50000,\n",
        "    marker_line_width=0.5,\n",
        "))\n",
        "\n",
        "# Second trace\n",
        "fig = fig.add_trace(go.Choropleth(\n",
        "    locations=merged_full_df['state_code'], # Spatial coordinates\n",
        "    z = merged_full_df['normalized_cases_per_100k'].astype(float), # Data to be color-coded\n",
        "    locationmode = 'USA-states', # set of locations match entries in `locations`\n",
        "    colorscale = 'reds',\n",
        "    text=merged_full_df['text2'], # hover text\n",
        "    colorbar_title = \"COVID19 cases per 100k\",\n",
        "    hoverinfo='text',\n",
        "    marker_line_color='Black', # line markers between states\n",
        "    marker_opacity=0.8, \n",
        "    zmin=0,\n",
        "    zmax=1000,\n",
        "    marker_line_width=0.5,\n",
        "    visible=False\n",
        "))\n",
        "\n",
        "# Third trace\n",
        "fig = fig.add_trace(go.Choropleth(\n",
        "    locations=merged_full_df['state_code'], # Spatial coordinates\n",
        "    z = merged_full_df['shields_donated_per_covid_case'].astype(float), # Data to be color-coded\n",
        "    locationmode = 'USA-states', # set of locations match entries in `locations`\n",
        "    colorscale = 'RdBu',\n",
        "    text=merged_full_df['text'], # hover text\n",
        "    colorbar_title = \"Shields Per COVID19 Case\",\n",
        "    hoverinfo='text',\n",
        "    marker_line_color='Black', # line markers between states\n",
        "    marker_opacity=0.8, \n",
        "    zmin=0,\n",
        "    zmax=2,\n",
        "    marker_line_width=0.5,\n",
        "    visible=False\n",
        "))\n",
        "\n",
        "\n",
        "# Create button list\n",
        "buttons_list=list([\n",
        "    dict(label='Face Shields', method=\"update\",\n",
        "          args=[{\"visible\": ([True,False,False])},\n",
        "                {\"title\": 'Boston Scientific - Face Shields Produced for Donation - 5/6/20'}]),\n",
        "    dict(label='COVID19 Cases', method=\"update\",\n",
        "          args=[{\"visible\": ([False,True,False])},\n",
        "                {\"title\": \"COVID19 Cases per 100,000 Poeple - 5/6/20\"}]),\n",
        "    dict(label='Shields Per COVID19 Case', method=\"update\",\n",
        "          args=[{\"visible\": ([False,False,True])},\n",
        "                {\"title\": \"Boston Scientific - Face Shields Produced Per COVID19 Case - 5/6/20\"}]),\n",
        "    \n",
        "\n",
        "    ])\n",
        "\n",
        "# Add buttons\n",
        "fig.update_layout(\n",
        "    updatemenus=list([\n",
        "        dict(\n",
        "            type = \"buttons\",\n",
        "            active=0,\n",
        "            showactive=True,\n",
        "            direction=\"right\",\n",
        "            pad={\"l\":75,\"t\": -40},\n",
        "            yanchor=\"top\",\n",
        "            xanchor=\"left\",\n",
        "            buttons=buttons_list,\n",
        "        )])\n",
        ")\n",
        "\n",
        "# Update layout\n",
        "fig.update_layout(\n",
        "  title_text='Boston Scientific - 1,000,000 Face Shields Produced for Donation - 5/6/20',\n",
        "  geo = dict(\n",
        "      scope='world', # Sunni suggestion\n",
        "      projection=go.layout.geo.Projection(type = 'albers usa'),\n",
        "      showlakes=True, # lakes\n",
        "      lakecolor='rgb(255, 255, 255)')\n",
        ")\n",
        "\n",
        "# Sunni additions for mobile\n",
        "fig.update_layout(\n",
        "  height= 750,\n",
        "  autosize=True,\n",
        ")\n",
        "\n",
        "# show figure\n",
        "fig.show()\n",
        "\n",
        "# Download the figure From Sunny Mui\n",
        "go.Figure.write_html(fig,\n",
        "    file='index_boston_scientic_face_shields_covid19_cases_normalized.html', \n",
        "    config={'responsive': True}, include_plotlyjs='cdn')"
      ],
      "execution_count": 98,
      "outputs": [
        {
          "output_type": "display_data",
          "data": {
            "text/html": [
              "<html>\n",
              "<head><meta charset=\"utf-8\" /></head>\n",
              "<body>\n",
              "    <div>\n",
              "            <script src=\"https://cdnjs.cloudflare.com/ajax/libs/mathjax/2.7.5/MathJax.js?config=TeX-AMS-MML_SVG\"></script><script type=\"text/javascript\">if (window.MathJax) {MathJax.Hub.Config({SVG: {font: \"STIX-Web\"}});}</script>\n",
              "                <script type=\"text/javascript\">window.PlotlyConfig = {MathJaxConfig: 'local'};</script>\n",
              "        <script src=\"https://cdn.plot.ly/plotly-latest.min.js\"></script>    \n",
              "            <div id=\"8c0d0de8-5633-4091-88e5-121f04717fbe\" class=\"plotly-graph-div\" style=\"height:750px; width:100%;\"></div>\n",
              "            <script type=\"text/javascript\">\n",
              "                \n",
              "                    window.PLOTLYENV=window.PLOTLYENV || {};\n",
              "                    \n",
              "                if (document.getElementById(\"8c0d0de8-5633-4091-88e5-121f04717fbe\")) {\n",
              "                    Plotly.newPlot(\n",
              "                        '8c0d0de8-5633-4091-88e5-121f04717fbe',\n",
              "                        [{\"colorbar\": {\"title\": {\"text\": \"Face Shields >\"}}, \"colorscale\": [[0.0, \"rgb(247,251,255)\"], [0.125, \"rgb(222,235,247)\"], [0.25, \"rgb(198,219,239)\"], [0.375, \"rgb(158,202,225)\"], [0.5, \"rgb(107,174,214)\"], [0.625, \"rgb(66,146,198)\"], [0.75, \"rgb(33,113,181)\"], [0.875, \"rgb(8,81,156)\"], [1.0, \"rgb(8,48,107)\"]], \"hoverinfo\": \"text\", \"locationmode\": \"USA-states\", \"locations\": [\"AL\", \"AK\", \"AZ\", \"AR\", \"CA\", \"CO\", \"CT\", \"DE\", \"DC\", \"FL\", \"GA\", \"HI\", \"ID\", \"IL\", \"IN\", \"IA\", \"KS\", \"KY\", \"LA\", \"ME\", \"MD\", \"MA\", \"MI\", \"MN\", \"MS\", \"MO\", \"MT\", \"NE\", \"NV\", \"NH\", \"NJ\", \"NM\", \"NY\", \"NC\", \"ND\", \"OH\", \"OK\", \"OR\", \"PA\", \"RI\", \"SC\", \"SD\", \"TN\", \"TX\", \"UT\", \"VT\", \"VA\", \"WA\", \"WV\", \"WI\", \"WY\", \"PR\"], \"marker\": {\"line\": {\"color\": \"Grey\", \"width\": 0.5}, \"opacity\": 0.8}, \"text\": [\"Alabama<br>Face Shields: 2500<br>\", \"Alaska<br>Face Shields: 0<br>\", \"Arizona<br>Face Shields: 5200<br>\", \"Arkansas<br>Face Shields: 0<br>\", \"California<br>Face Shields: 180300<br>\", \"Colorado<br>Face Shields: 12000<br>\", \"Connecticut<br>Face Shields: 4900<br>\", \"Delaware<br>Face Shields: 12000<br>\", \"District of Columbia<br>Face Shields: 44000<br>\", \"Florida<br>Face Shields: 16000<br>\", \"Georgia<br>Face Shields: 12000<br>\", \"Hawaii<br>Face Shields: 0<br>\", \"Idaho<br>Face Shields: 0<br>\", \"Illinois<br>Face Shields: 79800<br>\", \"Indiana<br>Face Shields: 22000<br>\", \"Iowa<br>Face Shields: 16500<br>\", \"Kansas<br>Face Shields: 1000<br>\", \"Kentucky<br>Face Shields: 0<br>\", \"Louisiana<br>Face Shields: 13800<br>\", \"Maine<br>Face Shields: 0<br>\", \"Maryland<br>Face Shields: 19000<br>\", \"Massachusetts<br>Face Shields: 47900<br>\", \"Michigan<br>Face Shields: 54500<br>\", \"Minnesota<br>Face Shields: 51000<br>\", \"Mississippi<br>Face Shields: 15500<br>\", \"Missouri<br>Face Shields: 27200<br>\", \"Montana<br>Face Shields: 0<br>\", \"Nebraska<br>Face Shields: 24000<br>\", \"Nevada<br>Face Shields: 7500<br>\", \"New Hampshire<br>Face Shields: 2800<br>\", \"New Jersey<br>Face Shields: 43500<br>\", \"New Mexico<br>Face Shields: 0<br>\", \"New York<br>Face Shields: 37800<br>\", \"North Carolina<br>Face Shields: 0<br>\", \"North Dakota<br>Face Shields: 0<br>\", \"Ohio<br>Face Shields: 19000<br>\", \"Oklahoma<br>Face Shields: 10000<br>\", \"Oregon<br>Face Shields: 13000<br>\", \"Pennsylvania<br>Face Shields: 5500<br>\", \"Rhode Island<br>Face Shields: 9000<br>\", \"South Carolina<br>Face Shields: 8000<br>\", \"South Dakota<br>Face Shields: 4000<br>\", \"Tennessee<br>Face Shields: 17000<br>\", \"Texas<br>Face Shields: 46000<br>\", \"Utah<br>Face Shields: 2000<br>\", \"Vermont<br>Face Shields: 0<br>\", \"Virginia<br>Face Shields: 3000<br>\", \"Washington<br>Face Shields: 18000<br>\", \"West Virginia<br>Face Shields: 0<br>\", \"Wisconsin<br>Face Shields: 12000<br>\", \"Wyoming<br>Face Shields: 0<br>\", \"Puerto Rico<br>Face Shields: 51400<br>\"], \"type\": \"choropleth\", \"z\": [2500.0, 0.0, 5200.0, 0.0, 180300.0, 12000.0, 4900.0, 12000.0, 44000.0, 16000.0, 12000.0, 0.0, 0.0, 79800.0, 22000.0, 16500.0, 1000.0, 0.0, 13800.0, 0.0, 19000.0, 47900.0, 54500.0, 51000.0, 15500.0, 27200.0, 0.0, 24000.0, 7500.0, 2800.0, 43500.0, 0.0, 37800.0, 0.0, 0.0, 19000.0, 10000.0, 13000.0, 5500.0, 9000.0, 8000.0, 4000.0, 17000.0, 46000.0, 2000.0, 0.0, 3000.0, 18000.0, 0.0, 12000.0, 0.0, 51400.0], \"zmax\": 50000, \"zmin\": 0}, {\"colorbar\": {\"title\": {\"text\": \"COVID19 cases per 100k\"}}, \"colorscale\": [[0.0, \"rgb(255,245,240)\"], [0.125, \"rgb(254,224,210)\"], [0.25, \"rgb(252,187,161)\"], [0.375, \"rgb(252,146,114)\"], [0.5, \"rgb(251,106,74)\"], [0.625, \"rgb(239,59,44)\"], [0.75, \"rgb(203,24,29)\"], [0.875, \"rgb(165,15,21)\"], [1.0, \"rgb(103,0,13)\"]], \"hoverinfo\": \"text\", \"locationmode\": \"USA-states\", \"locations\": [\"AL\", \"AK\", \"AZ\", \"AR\", \"CA\", \"CO\", \"CT\", \"DE\", \"DC\", \"FL\", \"GA\", \"HI\", \"ID\", \"IL\", \"IN\", \"IA\", \"KS\", \"KY\", \"LA\", \"ME\", \"MD\", \"MA\", \"MI\", \"MN\", \"MS\", \"MO\", \"MT\", \"NE\", \"NV\", \"NH\", \"NJ\", \"NM\", \"NY\", \"NC\", \"ND\", \"OH\", \"OK\", \"OR\", \"PA\", \"RI\", \"SC\", \"SD\", \"TN\", \"TX\", \"UT\", \"VT\", \"VA\", \"WA\", \"WV\", \"WI\", \"WY\", \"PR\"], \"marker\": {\"line\": {\"color\": \"Black\", \"width\": 0.5}, \"opacity\": 0.8}, \"text\": [\"Alabama<br>COVID19 Cases Per 100K: 172.1<br><br>COVID19 Cases: 8437<br>COVID19 Death: 315<br>Face Shields: 2500<br>Face Shields Per Covid Case: 0.3<br>Population: 4903185\", \"Alaska<br>COVID19 Cases Per 100K: 50.4<br><br>COVID19 Cases: 369<br>COVID19 Death: 7<br>Face Shields: 0<br>Face Shields Per Covid Case: 0.0<br>Population: 731545\", \"Arizona<br>COVID19 Cases Per 100K: 127.8<br><br>COVID19 Cases: 9305<br>COVID19 Death: 395<br>Face Shields: 5200<br>Face Shields Per Covid Case: 0.56<br>Population: 7278717\", \"Arkansas<br>COVID19 Cases Per 100K: 116.8<br><br>COVID19 Cases: 3525<br>COVID19 Death: 83<br>Face Shields: 0<br>Face Shields Per Covid Case: 0.0<br>Population: 3017804\", \"California<br>COVID19 Cases Per 100K: 148.9<br><br>COVID19 Cases: 58848<br>COVID19 Death: 2386<br>Face Shields: 180300<br>Face Shields Per Covid Case: 3.06<br>Population: 39512223\", \"Colorado<br>COVID19 Cases Per 100K: 299.6<br><br>COVID19 Cases: 17256<br>COVID19 Death: 901<br>Face Shields: 12000<br>Face Shields Per Covid Case: 0.7<br>Population: 5758736\", \"Connecticut<br>COVID19 Cases Per 100K: 858.9<br><br>COVID19 Cases: 30621<br>COVID19 Death: 2633<br>Face Shields: 4900<br>Face Shields Per Covid Case: 0.16<br>Population: 3565287\", \"Delaware<br>COVID19 Cases Per 100K: 551.6<br><br>COVID19 Cases: 5371<br>COVID19 Death: 187<br>Face Shields: 12000<br>Face Shields Per Covid Case: 2.23<br>Population: 973764\", \"District of Columbia<br>COVID19 Cases Per 100K: 754.1<br><br>COVID19 Cases: 5322<br>COVID19 Death: 264<br>Face Shields: 44000<br>Face Shields Per Covid Case: 8.27<br>Population: 705749\", \"Florida<br>COVID19 Cases Per 100K: 174.3<br><br>COVID19 Cases: 37431<br>COVID19 Death: 1470<br>Face Shields: 16000<br>Face Shields Per Covid Case: 0.43<br>Population: 21477737\", \"Georgia<br>COVID19 Cases Per 100K: 272.0<br><br>COVID19 Cases: 28876<br>COVID19 Death: 1277<br>Face Shields: 12000<br>Face Shields Per Covid Case: 0.42<br>Population: 10617423\", \"Hawaii<br>COVID19 Cases Per 100K: 43.4<br><br>COVID19 Cases: 615<br>COVID19 Death: 17<br>Face Shields: 0<br>Face Shields Per Covid Case: 0.0<br>Population: 1415872\", \"Idaho<br>COVID19 Cases Per 100K: 109.7<br><br>COVID19 Cases: 1960<br>COVID19 Death: 66<br>Face Shields: 0<br>Face Shields Per Covid Case: 0.0<br>Population: 1787065\", \"Illinois<br>COVID19 Cases Per 100K: 520.0<br><br>COVID19 Cases: 65889<br>COVID19 Death: 2843<br>Face Shields: 79800<br>Face Shields Per Covid Case: 1.21<br>Population: 12671821\", \"Indiana<br>COVID19 Cases Per 100K: 312.4<br><br>COVID19 Cases: 21033<br>COVID19 Death: 1213<br>Face Shields: 22000<br>Face Shields Per Covid Case: 1.05<br>Population: 6732219\", \"Iowa<br>COVID19 Cases Per 100K: 320.5<br><br>COVID19 Cases: 10111<br>COVID19 Death: 207<br>Face Shields: 16500<br>Face Shields Per Covid Case: 1.63<br>Population: 3155070\", \"Kansas<br>COVID19 Cases Per 100K: 192.3<br><br>COVID19 Cases: 5603<br>COVID19 Death: 160<br>Face Shields: 1000<br>Face Shields Per Covid Case: 0.18<br>Population: 2913314\", \"Kentucky<br>COVID19 Cases Per 100K: 130.3<br><br>COVID19 Cases: 5822<br>COVID19 Death: 278<br>Face Shields: 0<br>Face Shields Per Covid Case: 0.0<br>Population: 4467673\", \"Louisiana<br>COVID19 Cases Per 100K: 645.2<br><br>COVID19 Cases: 29996<br>COVID19 Death: 2042<br>Face Shields: 13800<br>Face Shields Per Covid Case: 0.46<br>Population: 4648794\", \"Maine<br>COVID19 Cases Per 100K: 91.2<br><br>COVID19 Cases: 1226<br>COVID19 Death: 61<br>Face Shields: 0<br>Face Shields Per Covid Case: 0.0<br>Population: 1344212\", \"Maryland<br>COVID19 Cases Per 100K: 448.5<br><br>COVID19 Cases: 27117<br>COVID19 Death: 1290<br>Face Shields: 19000<br>Face Shields Per Covid Case: 0.7<br>Population: 6045680\", \"Massachusetts<br>COVID19 Cases Per 100K: 1019.5<br><br>COVID19 Cases: 70271<br>COVID19 Death: 4212<br>Face Shields: 47900<br>Face Shields Per Covid Case: 0.68<br>Population: 6892503\", \"Michigan<br>COVID19 Cases Per 100K: 443.9<br><br>COVID19 Cases: 44333<br>COVID19 Death: 4179<br>Face Shields: 54500<br>Face Shields Per Covid Case: 1.23<br>Population: 9986857\", \"Minnesota<br>COVID19 Cases Per 100K: 139.2<br><br>COVID19 Cases: 7851<br>COVID19 Death: 455<br>Face Shields: 51000<br>Face Shields Per Covid Case: 6.5<br>Population: 5639632\", \"Mississippi<br>COVID19 Cases Per 100K: 275.8<br><br>COVID19 Cases: 8207<br>COVID19 Death: 342<br>Face Shields: 15500<br>Face Shields Per Covid Case: 1.89<br>Population: 2976149\", \"Missouri<br>COVID19 Cases Per 100K: 145.3<br><br>COVID19 Cases: 8919<br>COVID19 Death: 408<br>Face Shields: 27200<br>Face Shields Per Covid Case: 3.05<br>Population: 6137428\", \"Montana<br>COVID19 Cases Per 100K: 42.7<br><br>COVID19 Cases: 456<br>COVID19 Death: 16<br>Face Shields: 0<br>Face Shields Per Covid Case: 0.0<br>Population: 1068778\", \"Nebraska<br>COVID19 Cases Per 100K: 333.2<br><br>COVID19 Cases: 6446<br>COVID19 Death: 82<br>Face Shields: 24000<br>Face Shields Per Covid Case: 3.72<br>Population: 1934408\", \"Nevada<br>COVID19 Cases Per 100K: 183.9<br><br>COVID19 Cases: 5665<br>COVID19 Death: 276<br>Face Shields: 7500<br>Face Shields Per Covid Case: 1.32<br>Population: 3080156\", \"New Hampshire<br>COVID19 Cases Per 100K: 193.9<br><br>COVID19 Cases: 2636<br>COVID19 Death: 92<br>Face Shields: 2800<br>Face Shields Per Covid Case: 1.06<br>Population: 1359711\", \"New Jersey<br>COVID19 Cases Per 100K: 1470.3<br><br>COVID19 Cases: 130593<br>COVID19 Death: 8244<br>Face Shields: 43500<br>Face Shields Per Covid Case: 0.33<br>Population: 8882190\", \"New Mexico<br>COVID19 Cases Per 100K: 197.3<br><br>COVID19 Cases: 4138<br>COVID19 Death: 162<br>Face Shields: 0<br>Face Shields Per Covid Case: 0.0<br>Population: 2096829\", \"New York<br>COVID19 Cases Per 100K: 1651.5<br><br>COVID19 Cases: 321276<br>COVID19 Death: 19645<br>Face Shields: 37800<br>Face Shields Per Covid Case: 0.12<br>Population: 19453561\", \"North Carolina<br>COVID19 Cases Per 100K: 117.1<br><br>COVID19 Cases: 12283<br>COVID19 Death: 477<br>Face Shields: 0<br>Face Shields Per Covid Case: 0.0<br>Population: 10488084\", \"North Dakota<br>COVID19 Cases Per 100K: 166.1<br><br>COVID19 Cases: 1266<br>COVID19 Death: 25<br>Face Shields: 0<br>Face Shields Per Covid Case: 0.0<br>Population: 762062\", \"Ohio<br>COVID19 Cases Per 100K: 179.4<br><br>COVID19 Cases: 20969<br>COVID19 Death: 1135<br>Face Shields: 19000<br>Face Shields Per Covid Case: 0.91<br>Population: 11689100\", \"Oklahoma<br>COVID19 Cases Per 100K: 104.3<br><br>COVID19 Cases: 4127<br>COVID19 Death: 247<br>Face Shields: 10000<br>Face Shields Per Covid Case: 2.42<br>Population: 3956971\", \"Oregon<br>COVID19 Cases Per 100K: 67.3<br><br>COVID19 Cases: 2839<br>COVID19 Death: 113<br>Face Shields: 13000<br>Face Shields Per Covid Case: 4.58<br>Population: 4217737\", \"Pennsylvania<br>COVID19 Cases Per 100K: 421.6<br><br>COVID19 Cases: 53967<br>COVID19 Death: 3206<br>Face Shields: 5500<br>Face Shields Per Covid Case: 0.1<br>Population: 12801989\", \"Rhode Island<br>COVID19 Cases Per 100K: 937.6<br><br>COVID19 Cases: 9933<br>COVID19 Death: 355<br>Face Shields: 9000<br>Face Shields Per Covid Case: 0.91<br>Population: 1059361\", \"South Carolina<br>COVID19 Cases Per 100K: 132.9<br><br>COVID19 Cases: 6841<br>COVID19 Death: 296<br>Face Shields: 8000<br>Face Shields Per Covid Case: 1.17<br>Population: 5148714\", \"South Dakota<br>COVID19 Cases Per 100K: 307.6<br><br>COVID19 Cases: 2721<br>COVID19 Death: 24<br>Face Shields: 4000<br>Face Shields Per Covid Case: 1.47<br>Population: 884659\", \"Tennessee<br>COVID19 Cases Per 100K: 199.4<br><br>COVID19 Cases: 13615<br>COVID19 Death: 234<br>Face Shields: 17000<br>Face Shields Per Covid Case: 1.25<br>Population: 6829174\", \"Texas<br>COVID19 Cases Per 100K: 118.2<br><br>COVID19 Cases: 34283<br>COVID19 Death: 955<br>Face Shields: 46000<br>Face Shields Per Covid Case: 1.34<br>Population: 28995881\", \"Utah<br>COVID19 Cases Per 100K: 170.0<br><br>COVID19 Cases: 5449<br>COVID19 Death: 56<br>Face Shields: 2000<br>Face Shields Per Covid Case: 0.37<br>Population: 3205958\", \"Vermont<br>COVID19 Cases Per 100K: 145.4<br><br>COVID19 Cases: 907<br>COVID19 Death: 53<br>Face Shields: 0<br>Face Shields Per Covid Case: 0.0<br>Population: 623989\", \"Virginia<br>COVID19 Cases Per 100K: 237.3<br><br>COVID19 Cases: 20256<br>COVID19 Death: 713<br>Face Shields: 3000<br>Face Shields Per Covid Case: 0.15<br>Population: 8535519\", \"Washington<br>COVID19 Cases Per 100K: 208.1<br><br>COVID19 Cases: 15847<br>COVID19 Death: 863<br>Face Shields: 18000<br>Face Shields Per Covid Case: 1.14<br>Population: 7614893\", \"West Virginia<br>COVID19 Cases Per 100K: 69.3<br><br>COVID19 Cases: 1242<br>COVID19 Death: 50<br>Face Shields: 0<br>Face Shields Per Covid Case: 0.0<br>Population: 1792147\", \"Wisconsin<br>COVID19 Cases Per 100K: 147.1<br><br>COVID19 Cases: 8566<br>COVID19 Death: 353<br>Face Shields: 12000<br>Face Shields Per Covid Case: 1.4<br>Population: 5822434\", \"Wyoming<br>COVID19 Cases Per 100K: 78.1<br><br>COVID19 Cases: 452<br>COVID19 Death: 7<br>Face Shields: 0<br>Face Shields Per Covid Case: 0.0<br>Population: 578759\", \"Puerto Rico<br>COVID19 Cases Per 100K: 60.2<br><br>COVID19 Cases: 1924<br>COVID19 Death: 56<br>Face Shields: 51400<br>Face Shields Per Covid Case: 26.72<br>Population: 3193694\"], \"type\": \"choropleth\", \"visible\": false, \"z\": [172.1, 50.4, 127.8, 116.8, 148.9, 299.6, 858.9, 551.6, 754.1, 174.3, 272.0, 43.4, 109.7, 520.0, 312.4, 320.5, 192.3, 130.3, 645.2, 91.2, 448.5, 1019.5, 443.9, 139.2, 275.8, 145.3, 42.7, 333.2, 183.9, 193.9, 1470.3, 197.3, 1651.5, 117.1, 166.1, 179.4, 104.3, 67.3, 421.6, 937.6, 132.9, 307.6, 199.4, 118.2, 170.0, 145.4, 237.3, 208.1, 69.3, 147.1, 78.1, 60.2], \"zmax\": 1000, \"zmin\": 0}, {\"colorbar\": {\"title\": {\"text\": \"Shields Per COVID19 Case\"}}, \"colorscale\": [[0.0, \"rgb(103,0,31)\"], [0.1, \"rgb(178,24,43)\"], [0.2, \"rgb(214,96,77)\"], [0.3, \"rgb(244,165,130)\"], [0.4, \"rgb(253,219,199)\"], [0.5, \"rgb(247,247,247)\"], [0.6, \"rgb(209,229,240)\"], [0.7, \"rgb(146,197,222)\"], [0.8, \"rgb(67,147,195)\"], [0.9, \"rgb(33,102,172)\"], [1.0, \"rgb(5,48,97)\"]], \"hoverinfo\": \"text\", \"locationmode\": \"USA-states\", \"locations\": [\"AL\", \"AK\", \"AZ\", \"AR\", \"CA\", \"CO\", \"CT\", \"DE\", \"DC\", \"FL\", \"GA\", \"HI\", \"ID\", \"IL\", \"IN\", \"IA\", \"KS\", \"KY\", \"LA\", \"ME\", \"MD\", \"MA\", \"MI\", \"MN\", \"MS\", \"MO\", \"MT\", \"NE\", \"NV\", \"NH\", \"NJ\", \"NM\", \"NY\", \"NC\", \"ND\", \"OH\", \"OK\", \"OR\", \"PA\", \"RI\", \"SC\", \"SD\", \"TN\", \"TX\", \"UT\", \"VT\", \"VA\", \"WA\", \"WV\", \"WI\", \"WY\", \"PR\"], \"marker\": {\"line\": {\"color\": \"Black\", \"width\": 0.5}, \"opacity\": 0.8}, \"text\": [\"Alabama<br>Face Shields Per Covid Case: 0.3<br><br>COVID19 Cases: 8437<br>COVID19 Death: 315<br>Face Shields: 2500<br>Population: 4903185\", \"Alaska<br>Face Shields Per Covid Case: 0.0<br><br>COVID19 Cases: 369<br>COVID19 Death: 7<br>Face Shields: 0<br>Population: 731545\", \"Arizona<br>Face Shields Per Covid Case: 0.56<br><br>COVID19 Cases: 9305<br>COVID19 Death: 395<br>Face Shields: 5200<br>Population: 7278717\", \"Arkansas<br>Face Shields Per Covid Case: 0.0<br><br>COVID19 Cases: 3525<br>COVID19 Death: 83<br>Face Shields: 0<br>Population: 3017804\", \"California<br>Face Shields Per Covid Case: 3.06<br><br>COVID19 Cases: 58848<br>COVID19 Death: 2386<br>Face Shields: 180300<br>Population: 39512223\", \"Colorado<br>Face Shields Per Covid Case: 0.7<br><br>COVID19 Cases: 17256<br>COVID19 Death: 901<br>Face Shields: 12000<br>Population: 5758736\", \"Connecticut<br>Face Shields Per Covid Case: 0.16<br><br>COVID19 Cases: 30621<br>COVID19 Death: 2633<br>Face Shields: 4900<br>Population: 3565287\", \"Delaware<br>Face Shields Per Covid Case: 2.23<br><br>COVID19 Cases: 5371<br>COVID19 Death: 187<br>Face Shields: 12000<br>Population: 973764\", \"District of Columbia<br>Face Shields Per Covid Case: 8.27<br><br>COVID19 Cases: 5322<br>COVID19 Death: 264<br>Face Shields: 44000<br>Population: 705749\", \"Florida<br>Face Shields Per Covid Case: 0.43<br><br>COVID19 Cases: 37431<br>COVID19 Death: 1470<br>Face Shields: 16000<br>Population: 21477737\", \"Georgia<br>Face Shields Per Covid Case: 0.42<br><br>COVID19 Cases: 28876<br>COVID19 Death: 1277<br>Face Shields: 12000<br>Population: 10617423\", \"Hawaii<br>Face Shields Per Covid Case: 0.0<br><br>COVID19 Cases: 615<br>COVID19 Death: 17<br>Face Shields: 0<br>Population: 1415872\", \"Idaho<br>Face Shields Per Covid Case: 0.0<br><br>COVID19 Cases: 1960<br>COVID19 Death: 66<br>Face Shields: 0<br>Population: 1787065\", \"Illinois<br>Face Shields Per Covid Case: 1.21<br><br>COVID19 Cases: 65889<br>COVID19 Death: 2843<br>Face Shields: 79800<br>Population: 12671821\", \"Indiana<br>Face Shields Per Covid Case: 1.05<br><br>COVID19 Cases: 21033<br>COVID19 Death: 1213<br>Face Shields: 22000<br>Population: 6732219\", \"Iowa<br>Face Shields Per Covid Case: 1.63<br><br>COVID19 Cases: 10111<br>COVID19 Death: 207<br>Face Shields: 16500<br>Population: 3155070\", \"Kansas<br>Face Shields Per Covid Case: 0.18<br><br>COVID19 Cases: 5603<br>COVID19 Death: 160<br>Face Shields: 1000<br>Population: 2913314\", \"Kentucky<br>Face Shields Per Covid Case: 0.0<br><br>COVID19 Cases: 5822<br>COVID19 Death: 278<br>Face Shields: 0<br>Population: 4467673\", \"Louisiana<br>Face Shields Per Covid Case: 0.46<br><br>COVID19 Cases: 29996<br>COVID19 Death: 2042<br>Face Shields: 13800<br>Population: 4648794\", \"Maine<br>Face Shields Per Covid Case: 0.0<br><br>COVID19 Cases: 1226<br>COVID19 Death: 61<br>Face Shields: 0<br>Population: 1344212\", \"Maryland<br>Face Shields Per Covid Case: 0.7<br><br>COVID19 Cases: 27117<br>COVID19 Death: 1290<br>Face Shields: 19000<br>Population: 6045680\", \"Massachusetts<br>Face Shields Per Covid Case: 0.68<br><br>COVID19 Cases: 70271<br>COVID19 Death: 4212<br>Face Shields: 47900<br>Population: 6892503\", \"Michigan<br>Face Shields Per Covid Case: 1.23<br><br>COVID19 Cases: 44333<br>COVID19 Death: 4179<br>Face Shields: 54500<br>Population: 9986857\", \"Minnesota<br>Face Shields Per Covid Case: 6.5<br><br>COVID19 Cases: 7851<br>COVID19 Death: 455<br>Face Shields: 51000<br>Population: 5639632\", \"Mississippi<br>Face Shields Per Covid Case: 1.89<br><br>COVID19 Cases: 8207<br>COVID19 Death: 342<br>Face Shields: 15500<br>Population: 2976149\", \"Missouri<br>Face Shields Per Covid Case: 3.05<br><br>COVID19 Cases: 8919<br>COVID19 Death: 408<br>Face Shields: 27200<br>Population: 6137428\", \"Montana<br>Face Shields Per Covid Case: 0.0<br><br>COVID19 Cases: 456<br>COVID19 Death: 16<br>Face Shields: 0<br>Population: 1068778\", \"Nebraska<br>Face Shields Per Covid Case: 3.72<br><br>COVID19 Cases: 6446<br>COVID19 Death: 82<br>Face Shields: 24000<br>Population: 1934408\", \"Nevada<br>Face Shields Per Covid Case: 1.32<br><br>COVID19 Cases: 5665<br>COVID19 Death: 276<br>Face Shields: 7500<br>Population: 3080156\", \"New Hampshire<br>Face Shields Per Covid Case: 1.06<br><br>COVID19 Cases: 2636<br>COVID19 Death: 92<br>Face Shields: 2800<br>Population: 1359711\", \"New Jersey<br>Face Shields Per Covid Case: 0.33<br><br>COVID19 Cases: 130593<br>COVID19 Death: 8244<br>Face Shields: 43500<br>Population: 8882190\", \"New Mexico<br>Face Shields Per Covid Case: 0.0<br><br>COVID19 Cases: 4138<br>COVID19 Death: 162<br>Face Shields: 0<br>Population: 2096829\", \"New York<br>Face Shields Per Covid Case: 0.12<br><br>COVID19 Cases: 321276<br>COVID19 Death: 19645<br>Face Shields: 37800<br>Population: 19453561\", \"North Carolina<br>Face Shields Per Covid Case: 0.0<br><br>COVID19 Cases: 12283<br>COVID19 Death: 477<br>Face Shields: 0<br>Population: 10488084\", \"North Dakota<br>Face Shields Per Covid Case: 0.0<br><br>COVID19 Cases: 1266<br>COVID19 Death: 25<br>Face Shields: 0<br>Population: 762062\", \"Ohio<br>Face Shields Per Covid Case: 0.91<br><br>COVID19 Cases: 20969<br>COVID19 Death: 1135<br>Face Shields: 19000<br>Population: 11689100\", \"Oklahoma<br>Face Shields Per Covid Case: 2.42<br><br>COVID19 Cases: 4127<br>COVID19 Death: 247<br>Face Shields: 10000<br>Population: 3956971\", \"Oregon<br>Face Shields Per Covid Case: 4.58<br><br>COVID19 Cases: 2839<br>COVID19 Death: 113<br>Face Shields: 13000<br>Population: 4217737\", \"Pennsylvania<br>Face Shields Per Covid Case: 0.1<br><br>COVID19 Cases: 53967<br>COVID19 Death: 3206<br>Face Shields: 5500<br>Population: 12801989\", \"Rhode Island<br>Face Shields Per Covid Case: 0.91<br><br>COVID19 Cases: 9933<br>COVID19 Death: 355<br>Face Shields: 9000<br>Population: 1059361\", \"South Carolina<br>Face Shields Per Covid Case: 1.17<br><br>COVID19 Cases: 6841<br>COVID19 Death: 296<br>Face Shields: 8000<br>Population: 5148714\", \"South Dakota<br>Face Shields Per Covid Case: 1.47<br><br>COVID19 Cases: 2721<br>COVID19 Death: 24<br>Face Shields: 4000<br>Population: 884659\", \"Tennessee<br>Face Shields Per Covid Case: 1.25<br><br>COVID19 Cases: 13615<br>COVID19 Death: 234<br>Face Shields: 17000<br>Population: 6829174\", \"Texas<br>Face Shields Per Covid Case: 1.34<br><br>COVID19 Cases: 34283<br>COVID19 Death: 955<br>Face Shields: 46000<br>Population: 28995881\", \"Utah<br>Face Shields Per Covid Case: 0.37<br><br>COVID19 Cases: 5449<br>COVID19 Death: 56<br>Face Shields: 2000<br>Population: 3205958\", \"Vermont<br>Face Shields Per Covid Case: 0.0<br><br>COVID19 Cases: 907<br>COVID19 Death: 53<br>Face Shields: 0<br>Population: 623989\", \"Virginia<br>Face Shields Per Covid Case: 0.15<br><br>COVID19 Cases: 20256<br>COVID19 Death: 713<br>Face Shields: 3000<br>Population: 8535519\", \"Washington<br>Face Shields Per Covid Case: 1.14<br><br>COVID19 Cases: 15847<br>COVID19 Death: 863<br>Face Shields: 18000<br>Population: 7614893\", \"West Virginia<br>Face Shields Per Covid Case: 0.0<br><br>COVID19 Cases: 1242<br>COVID19 Death: 50<br>Face Shields: 0<br>Population: 1792147\", \"Wisconsin<br>Face Shields Per Covid Case: 1.4<br><br>COVID19 Cases: 8566<br>COVID19 Death: 353<br>Face Shields: 12000<br>Population: 5822434\", \"Wyoming<br>Face Shields Per Covid Case: 0.0<br><br>COVID19 Cases: 452<br>COVID19 Death: 7<br>Face Shields: 0<br>Population: 578759\", \"Puerto Rico<br>Face Shields Per Covid Case: 26.72<br><br>COVID19 Cases: 1924<br>COVID19 Death: 56<br>Face Shields: 51400<br>Population: 3193694\"], \"type\": \"choropleth\", \"visible\": false, \"z\": [0.3, 0.0, 0.56, 0.0, 3.06, 0.7, 0.16, 2.23, 8.27, 0.43, 0.42, 0.0, 0.0, 1.21, 1.05, 1.63, 0.18, 0.0, 0.46, 0.0, 0.7, 0.68, 1.23, 6.5, 1.89, 3.05, 0.0, 3.72, 1.32, 1.06, 0.33, 0.0, 0.12, 0.0, 0.0, 0.91, 2.42, 4.58, 0.1, 0.91, 1.17, 1.47, 1.25, 1.34, 0.37, 0.0, 0.15, 1.14, 0.0, 1.4, 0.0, 26.72], \"zmax\": 2, \"zmin\": 0}],\n",
              "                        {\"autosize\": true, \"geo\": {\"lakecolor\": \"rgb(255, 255, 255)\", \"projection\": {\"type\": \"albers usa\"}, \"scope\": \"world\", \"showlakes\": true}, \"height\": 750, \"template\": {\"data\": {\"bar\": [{\"error_x\": {\"color\": \"#2a3f5f\"}, \"error_y\": {\"color\": \"#2a3f5f\"}, \"marker\": {\"line\": {\"color\": \"#E5ECF6\", \"width\": 0.5}}, \"type\": \"bar\"}], \"barpolar\": [{\"marker\": {\"line\": {\"color\": \"#E5ECF6\", \"width\": 0.5}}, \"type\": \"barpolar\"}], \"carpet\": [{\"aaxis\": {\"endlinecolor\": \"#2a3f5f\", \"gridcolor\": \"white\", \"linecolor\": \"white\", \"minorgridcolor\": \"white\", \"startlinecolor\": \"#2a3f5f\"}, \"baxis\": {\"endlinecolor\": \"#2a3f5f\", \"gridcolor\": \"white\", \"linecolor\": \"white\", \"minorgridcolor\": \"white\", \"startlinecolor\": \"#2a3f5f\"}, \"type\": \"carpet\"}], \"choropleth\": [{\"colorbar\": {\"outlinewidth\": 0, \"ticks\": \"\"}, \"type\": \"choropleth\"}], \"contour\": [{\"colorbar\": {\"outlinewidth\": 0, \"ticks\": \"\"}, \"colorscale\": [[0.0, \"#0d0887\"], [0.1111111111111111, \"#46039f\"], [0.2222222222222222, \"#7201a8\"], [0.3333333333333333, \"#9c179e\"], [0.4444444444444444, \"#bd3786\"], [0.5555555555555556, \"#d8576b\"], [0.6666666666666666, \"#ed7953\"], [0.7777777777777778, \"#fb9f3a\"], [0.8888888888888888, \"#fdca26\"], [1.0, \"#f0f921\"]], \"type\": \"contour\"}], \"contourcarpet\": [{\"colorbar\": {\"outlinewidth\": 0, \"ticks\": \"\"}, \"type\": \"contourcarpet\"}], \"heatmap\": [{\"colorbar\": {\"outlinewidth\": 0, \"ticks\": \"\"}, \"colorscale\": [[0.0, \"#0d0887\"], [0.1111111111111111, \"#46039f\"], [0.2222222222222222, \"#7201a8\"], [0.3333333333333333, \"#9c179e\"], [0.4444444444444444, \"#bd3786\"], [0.5555555555555556, \"#d8576b\"], [0.6666666666666666, \"#ed7953\"], [0.7777777777777778, \"#fb9f3a\"], [0.8888888888888888, \"#fdca26\"], [1.0, \"#f0f921\"]], \"type\": \"heatmap\"}], \"heatmapgl\": [{\"colorbar\": {\"outlinewidth\": 0, \"ticks\": \"\"}, \"colorscale\": [[0.0, \"#0d0887\"], [0.1111111111111111, \"#46039f\"], [0.2222222222222222, \"#7201a8\"], [0.3333333333333333, \"#9c179e\"], [0.4444444444444444, \"#bd3786\"], [0.5555555555555556, \"#d8576b\"], [0.6666666666666666, \"#ed7953\"], [0.7777777777777778, \"#fb9f3a\"], [0.8888888888888888, \"#fdca26\"], [1.0, \"#f0f921\"]], \"type\": \"heatmapgl\"}], \"histogram\": [{\"marker\": {\"colorbar\": {\"outlinewidth\": 0, \"ticks\": \"\"}}, \"type\": \"histogram\"}], \"histogram2d\": [{\"colorbar\": {\"outlinewidth\": 0, \"ticks\": \"\"}, \"colorscale\": [[0.0, \"#0d0887\"], [0.1111111111111111, \"#46039f\"], [0.2222222222222222, \"#7201a8\"], [0.3333333333333333, \"#9c179e\"], [0.4444444444444444, \"#bd3786\"], [0.5555555555555556, \"#d8576b\"], [0.6666666666666666, \"#ed7953\"], [0.7777777777777778, \"#fb9f3a\"], [0.8888888888888888, \"#fdca26\"], [1.0, \"#f0f921\"]], \"type\": \"histogram2d\"}], \"histogram2dcontour\": [{\"colorbar\": {\"outlinewidth\": 0, \"ticks\": \"\"}, \"colorscale\": [[0.0, \"#0d0887\"], [0.1111111111111111, \"#46039f\"], [0.2222222222222222, \"#7201a8\"], [0.3333333333333333, \"#9c179e\"], [0.4444444444444444, \"#bd3786\"], [0.5555555555555556, \"#d8576b\"], [0.6666666666666666, \"#ed7953\"], [0.7777777777777778, \"#fb9f3a\"], [0.8888888888888888, \"#fdca26\"], [1.0, \"#f0f921\"]], \"type\": \"histogram2dcontour\"}], \"mesh3d\": [{\"colorbar\": {\"outlinewidth\": 0, \"ticks\": \"\"}, \"type\": \"mesh3d\"}], \"parcoords\": [{\"line\": {\"colorbar\": {\"outlinewidth\": 0, \"ticks\": \"\"}}, \"type\": \"parcoords\"}], \"pie\": [{\"automargin\": true, \"type\": \"pie\"}], \"scatter\": [{\"marker\": {\"colorbar\": {\"outlinewidth\": 0, \"ticks\": \"\"}}, \"type\": \"scatter\"}], \"scatter3d\": [{\"line\": {\"colorbar\": {\"outlinewidth\": 0, \"ticks\": \"\"}}, \"marker\": {\"colorbar\": {\"outlinewidth\": 0, \"ticks\": \"\"}}, \"type\": \"scatter3d\"}], \"scattercarpet\": [{\"marker\": {\"colorbar\": {\"outlinewidth\": 0, \"ticks\": \"\"}}, \"type\": \"scattercarpet\"}], \"scattergeo\": [{\"marker\": {\"colorbar\": {\"outlinewidth\": 0, \"ticks\": \"\"}}, \"type\": \"scattergeo\"}], \"scattergl\": [{\"marker\": {\"colorbar\": {\"outlinewidth\": 0, \"ticks\": \"\"}}, \"type\": \"scattergl\"}], \"scattermapbox\": [{\"marker\": {\"colorbar\": {\"outlinewidth\": 0, \"ticks\": \"\"}}, \"type\": \"scattermapbox\"}], \"scatterpolar\": [{\"marker\": {\"colorbar\": {\"outlinewidth\": 0, \"ticks\": \"\"}}, \"type\": \"scatterpolar\"}], \"scatterpolargl\": [{\"marker\": {\"colorbar\": {\"outlinewidth\": 0, \"ticks\": \"\"}}, \"type\": \"scatterpolargl\"}], \"scatterternary\": [{\"marker\": {\"colorbar\": {\"outlinewidth\": 0, \"ticks\": \"\"}}, \"type\": \"scatterternary\"}], \"surface\": [{\"colorbar\": {\"outlinewidth\": 0, \"ticks\": \"\"}, \"colorscale\": [[0.0, \"#0d0887\"], [0.1111111111111111, \"#46039f\"], [0.2222222222222222, \"#7201a8\"], [0.3333333333333333, \"#9c179e\"], [0.4444444444444444, \"#bd3786\"], [0.5555555555555556, \"#d8576b\"], [0.6666666666666666, \"#ed7953\"], [0.7777777777777778, \"#fb9f3a\"], [0.8888888888888888, \"#fdca26\"], [1.0, \"#f0f921\"]], \"type\": \"surface\"}], \"table\": [{\"cells\": {\"fill\": {\"color\": \"#EBF0F8\"}, \"line\": {\"color\": \"white\"}}, \"header\": {\"fill\": {\"color\": \"#C8D4E3\"}, \"line\": {\"color\": \"white\"}}, \"type\": \"table\"}]}, \"layout\": {\"annotationdefaults\": {\"arrowcolor\": \"#2a3f5f\", \"arrowhead\": 0, \"arrowwidth\": 1}, \"coloraxis\": {\"colorbar\": {\"outlinewidth\": 0, \"ticks\": \"\"}}, \"colorscale\": {\"diverging\": [[0, \"#8e0152\"], [0.1, \"#c51b7d\"], [0.2, \"#de77ae\"], [0.3, \"#f1b6da\"], [0.4, \"#fde0ef\"], [0.5, \"#f7f7f7\"], [0.6, \"#e6f5d0\"], [0.7, \"#b8e186\"], [0.8, \"#7fbc41\"], [0.9, \"#4d9221\"], [1, \"#276419\"]], \"sequential\": [[0.0, \"#0d0887\"], [0.1111111111111111, \"#46039f\"], [0.2222222222222222, \"#7201a8\"], [0.3333333333333333, \"#9c179e\"], [0.4444444444444444, \"#bd3786\"], [0.5555555555555556, \"#d8576b\"], [0.6666666666666666, \"#ed7953\"], [0.7777777777777778, \"#fb9f3a\"], [0.8888888888888888, \"#fdca26\"], [1.0, \"#f0f921\"]], \"sequentialminus\": [[0.0, \"#0d0887\"], [0.1111111111111111, \"#46039f\"], [0.2222222222222222, \"#7201a8\"], [0.3333333333333333, \"#9c179e\"], [0.4444444444444444, \"#bd3786\"], [0.5555555555555556, \"#d8576b\"], [0.6666666666666666, \"#ed7953\"], [0.7777777777777778, \"#fb9f3a\"], [0.8888888888888888, \"#fdca26\"], [1.0, \"#f0f921\"]]}, \"colorway\": [\"#636efa\", \"#EF553B\", \"#00cc96\", \"#ab63fa\", \"#FFA15A\", \"#19d3f3\", \"#FF6692\", \"#B6E880\", \"#FF97FF\", \"#FECB52\"], \"font\": {\"color\": \"#2a3f5f\"}, \"geo\": {\"bgcolor\": \"white\", \"lakecolor\": \"white\", \"landcolor\": \"#E5ECF6\", \"showlakes\": true, \"showland\": true, \"subunitcolor\": \"white\"}, \"hoverlabel\": {\"align\": \"left\"}, \"hovermode\": \"closest\", \"mapbox\": {\"style\": \"light\"}, \"paper_bgcolor\": \"white\", \"plot_bgcolor\": \"#E5ECF6\", \"polar\": {\"angularaxis\": {\"gridcolor\": \"white\", \"linecolor\": \"white\", \"ticks\": \"\"}, \"bgcolor\": \"#E5ECF6\", \"radialaxis\": {\"gridcolor\": \"white\", \"linecolor\": \"white\", \"ticks\": \"\"}}, \"scene\": {\"xaxis\": {\"backgroundcolor\": \"#E5ECF6\", \"gridcolor\": \"white\", \"gridwidth\": 2, \"linecolor\": \"white\", \"showbackground\": true, \"ticks\": \"\", \"zerolinecolor\": \"white\"}, \"yaxis\": {\"backgroundcolor\": \"#E5ECF6\", \"gridcolor\": \"white\", \"gridwidth\": 2, \"linecolor\": \"white\", \"showbackground\": true, \"ticks\": \"\", \"zerolinecolor\": \"white\"}, \"zaxis\": {\"backgroundcolor\": \"#E5ECF6\", \"gridcolor\": \"white\", \"gridwidth\": 2, \"linecolor\": \"white\", \"showbackground\": true, \"ticks\": \"\", \"zerolinecolor\": \"white\"}}, \"shapedefaults\": {\"line\": {\"color\": \"#2a3f5f\"}}, \"ternary\": {\"aaxis\": {\"gridcolor\": \"white\", \"linecolor\": \"white\", \"ticks\": \"\"}, \"baxis\": {\"gridcolor\": \"white\", \"linecolor\": \"white\", \"ticks\": \"\"}, \"bgcolor\": \"#E5ECF6\", \"caxis\": {\"gridcolor\": \"white\", \"linecolor\": \"white\", \"ticks\": \"\"}}, \"title\": {\"x\": 0.05}, \"xaxis\": {\"automargin\": true, \"gridcolor\": \"white\", \"linecolor\": \"white\", \"ticks\": \"\", \"title\": {\"standoff\": 15}, \"zerolinecolor\": \"white\", \"zerolinewidth\": 2}, \"yaxis\": {\"automargin\": true, \"gridcolor\": \"white\", \"linecolor\": \"white\", \"ticks\": \"\", \"title\": {\"standoff\": 15}, \"zerolinecolor\": \"white\", \"zerolinewidth\": 2}}}, \"title\": {\"text\": \"Boston Scientific - 1,000,000 Face Shields Produced for Donation - 5/6/20\"}, \"updatemenus\": [{\"active\": 0, \"buttons\": [{\"args\": [{\"visible\": [true, false, false]}, {\"title\": \"Boston Scientific - Face Shields Produced for Donation - 5/6/20\"}], \"label\": \"Face Shields\", \"method\": \"update\"}, {\"args\": [{\"visible\": [false, true, false]}, {\"title\": \"COVID19 Cases per 100,000 Poeple - 5/6/20\"}], \"label\": \"COVID19 Cases\", \"method\": \"update\"}, {\"args\": [{\"visible\": [false, false, true]}, {\"title\": \"Boston Scientific - Face Shields Produced Per COVID19 Case - 5/6/20\"}], \"label\": \"Shields Per COVID19 Case\", \"method\": \"update\"}], \"direction\": \"right\", \"pad\": {\"l\": 75, \"t\": -40}, \"showactive\": true, \"type\": \"buttons\", \"xanchor\": \"left\", \"yanchor\": \"top\"}]},\n",
              "                        {\"responsive\": true}\n",
              "                    ).then(function(){\n",
              "                            \n",
              "var gd = document.getElementById('8c0d0de8-5633-4091-88e5-121f04717fbe');\n",
              "var x = new MutationObserver(function (mutations, observer) {{\n",
              "        var display = window.getComputedStyle(gd).display;\n",
              "        if (!display || display === 'none') {{\n",
              "            console.log([gd, 'removed!']);\n",
              "            Plotly.purge(gd);\n",
              "            observer.disconnect();\n",
              "        }}\n",
              "}});\n",
              "\n",
              "// Listen for the removal of the full notebook cells\n",
              "var notebookContainer = gd.closest('#notebook-container');\n",
              "if (notebookContainer) {{\n",
              "    x.observe(notebookContainer, {childList: true});\n",
              "}}\n",
              "\n",
              "// Listen for the clearing of the current output cell\n",
              "var outputEl = gd.closest('.output');\n",
              "if (outputEl) {{\n",
              "    x.observe(outputEl, {childList: true});\n",
              "}}\n",
              "\n",
              "                        })\n",
              "                };\n",
              "                \n",
              "            </script>\n",
              "        </div>\n",
              "</body>\n",
              "</html>"
            ]
          },
          "metadata": {
            "tags": []
          }
        }
      ]
    },
    {
      "cell_type": "code",
      "metadata": {
        "id": "6K6k9DzSb1kE",
        "colab_type": "code",
        "colab": {}
      },
      "source": [
        ""
      ],
      "execution_count": 0,
      "outputs": []
    }
  ]
}